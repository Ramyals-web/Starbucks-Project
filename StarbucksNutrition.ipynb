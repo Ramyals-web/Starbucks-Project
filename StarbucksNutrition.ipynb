{
 "cells": [
  {
   "cell_type": "code",
   "execution_count": 1,
   "id": "b5a8c673-5787-4c6b-a7b2-a55bdd9794a4",
   "metadata": {},
   "outputs": [
    {
     "name": "stdout",
     "output_type": "stream",
     "text": [
      "Requirement already satisfied: ipython-sql in c:\\users\\aconnolly\\appdata\\local\\programs\\python\\python39\\lib\\site-packages (0.4.0)\n",
      "Requirement already satisfied: ipython>=1.0 in c:\\users\\aconnolly\\appdata\\local\\programs\\python\\python39\\lib\\site-packages (from ipython-sql) (7.25.0)\n",
      "Requirement already satisfied: prettytable<1 in c:\\users\\aconnolly\\appdata\\local\\programs\\python\\python39\\lib\\site-packages (from ipython-sql) (0.7.2)\n",
      "Requirement already satisfied: ipython-genutils>=0.1.0 in c:\\users\\aconnolly\\appdata\\local\\programs\\python\\python39\\lib\\site-packages (from ipython-sql) (0.2.0)\n",
      "Requirement already satisfied: sqlalchemy>=0.6.7 in c:\\users\\aconnolly\\appdata\\local\\programs\\python\\python39\\lib\\site-packages (from ipython-sql) (1.4.22)\n",
      "Requirement already satisfied: six in c:\\users\\aconnolly\\appdata\\local\\programs\\python\\python39\\lib\\site-packages (from ipython-sql) (1.16.0)\n",
      "Requirement already satisfied: sqlparse in c:\\users\\aconnolly\\appdata\\local\\programs\\python\\python39\\lib\\site-packages (from ipython-sql) (0.4.2)\n",
      "Requirement already satisfied: backcall in c:\\users\\aconnolly\\appdata\\local\\programs\\python\\python39\\lib\\site-packages (from ipython>=1.0->ipython-sql) (0.2.0)\n",
      "Requirement already satisfied: prompt-toolkit!=3.0.0,!=3.0.1,<3.1.0,>=2.0.0 in c:\\users\\aconnolly\\appdata\\local\\programs\\python\\python39\\lib\\site-packages (from ipython>=1.0->ipython-sql) (3.0.19)\n",
      "Requirement already satisfied: pygments in c:\\users\\aconnolly\\appdata\\local\\programs\\python\\python39\\lib\\site-packages (from ipython>=1.0->ipython-sql) (2.9.0)\n",
      "Requirement already satisfied: colorama in c:\\users\\aconnolly\\appdata\\local\\programs\\python\\python39\\lib\\site-packages (from ipython>=1.0->ipython-sql) (0.4.4)\n",
      "Requirement already satisfied: jedi>=0.16 in c:\\users\\aconnolly\\appdata\\local\\programs\\python\\python39\\lib\\site-packages (from ipython>=1.0->ipython-sql) (0.18.0)\n",
      "Requirement already satisfied: traitlets>=4.2 in c:\\users\\aconnolly\\appdata\\local\\programs\\python\\python39\\lib\\site-packages (from ipython>=1.0->ipython-sql) (5.0.5)\n",
      "Requirement already satisfied: pickleshare in c:\\users\\aconnolly\\appdata\\local\\programs\\python\\python39\\lib\\site-packages (from ipython>=1.0->ipython-sql) (0.7.5)\n",
      "Requirement already satisfied: matplotlib-inline in c:\\users\\aconnolly\\appdata\\local\\programs\\python\\python39\\lib\\site-packages (from ipython>=1.0->ipython-sql) (0.1.2)\n",
      "Requirement already satisfied: setuptools>=18.5 in c:\\users\\aconnolly\\appdata\\local\\programs\\python\\python39\\lib\\site-packages (from ipython>=1.0->ipython-sql) (56.0.0)\n",
      "Requirement already satisfied: decorator in c:\\users\\aconnolly\\appdata\\local\\programs\\python\\python39\\lib\\site-packages (from ipython>=1.0->ipython-sql) (5.0.9)\n",
      "Requirement already satisfied: parso<0.9.0,>=0.8.0 in c:\\users\\aconnolly\\appdata\\local\\programs\\python\\python39\\lib\\site-packages (from jedi>=0.16->ipython>=1.0->ipython-sql) (0.8.2)\n",
      "Requirement already satisfied: wcwidth in c:\\users\\aconnolly\\appdata\\local\\programs\\python\\python39\\lib\\site-packages (from prompt-toolkit!=3.0.0,!=3.0.1,<3.1.0,>=2.0.0->ipython>=1.0->ipython-sql) (0.2.5)\n",
      "Requirement already satisfied: greenlet!=0.4.17 in c:\\users\\aconnolly\\appdata\\local\\programs\\python\\python39\\lib\\site-packages (from sqlalchemy>=0.6.7->ipython-sql) (1.1.0)\n"
     ]
    },
    {
     "name": "stderr",
     "output_type": "stream",
     "text": [
      "WARNING: You are using pip version 21.1.3; however, version 21.2.4 is available.\n",
      "You should consider upgrading via the 'c:\\users\\aconnolly\\appdata\\local\\programs\\python\\python39\\python.exe -m pip install --upgrade pip' command.\n"
     ]
    }
   ],
   "source": [
    "!pip install ipython-sql\n",
    "import pandas as pd\n",
    "import seaborn as sns \n",
    "\n",
    "import numpy as np\n",
    "import matplotlib.pyplot as plt\n",
    "import plotly.express as px\n",
    "from sqlalchemy import create_engine\n",
    "%load_ext sql\n",
    "\n",
    "engine = create_engine('sqlite:///starbucks.db')\n",
    "connection = engine.connect()"
   ]
  },
  {
   "cell_type": "code",
   "execution_count": 2,
   "id": "2583ad99-855a-45d4-821d-21ddad1b785a",
   "metadata": {},
   "outputs": [
    {
     "data": {
      "text/plain": [
       "<sqlalchemy.engine.cursor.LegacyCursorResult at 0x216966c1910>"
      ]
     },
     "execution_count": 2,
     "metadata": {},
     "output_type": "execute_result"
    }
   ],
   "source": [
    "connection.execute('drop table if exists starbucks_nutrition')"
   ]
  },
  {
   "cell_type": "code",
   "execution_count": 25,
   "id": "6de3c453-e8a5-42b9-972a-a254cd47ac0b",
   "metadata": {},
   "outputs": [
    {
     "data": {
      "text/html": [
       "<div>\n",
       "<style scoped>\n",
       "    .dataframe tbody tr th:only-of-type {\n",
       "        vertical-align: middle;\n",
       "    }\n",
       "\n",
       "    .dataframe tbody tr th {\n",
       "        vertical-align: top;\n",
       "    }\n",
       "\n",
       "    .dataframe thead th {\n",
       "        text-align: right;\n",
       "    }\n",
       "</style>\n",
       "<table border=\"1\" class=\"dataframe\">\n",
       "  <thead>\n",
       "    <tr style=\"text-align: right;\">\n",
       "      <th></th>\n",
       "      <th>Beverage_category</th>\n",
       "      <th>Beverage</th>\n",
       "      <th>Beverage_prep</th>\n",
       "      <th>Size</th>\n",
       "      <th>Calories</th>\n",
       "      <th>Total Fat (g)</th>\n",
       "      <th>Trans Fat (g)</th>\n",
       "      <th>Saturated Fat (g)</th>\n",
       "      <th>Sodium (mg)</th>\n",
       "      <th>Total Carbohydrates (g)</th>\n",
       "      <th>Cholesterol (mg)</th>\n",
       "      <th>Dietary Fibre (g)</th>\n",
       "      <th>Sugars (g)</th>\n",
       "      <th>Protein (g)</th>\n",
       "      <th>Vitamin A (% DV)</th>\n",
       "      <th>Vitamin C (% DV)</th>\n",
       "      <th>Calcium (% DV)</th>\n",
       "      <th>Iron (% DV)</th>\n",
       "      <th>Caffeine (mg)</th>\n",
       "    </tr>\n",
       "  </thead>\n",
       "  <tbody>\n",
       "    <tr>\n",
       "      <th>0</th>\n",
       "      <td>Coffee</td>\n",
       "      <td>Brewed Coffee</td>\n",
       "      <td>No milk</td>\n",
       "      <td>Short</td>\n",
       "      <td>3</td>\n",
       "      <td>0.1</td>\n",
       "      <td>0.0</td>\n",
       "      <td>0.0</td>\n",
       "      <td>0</td>\n",
       "      <td>5</td>\n",
       "      <td>0</td>\n",
       "      <td>0</td>\n",
       "      <td>0</td>\n",
       "      <td>0.3</td>\n",
       "      <td>0%</td>\n",
       "      <td>0%</td>\n",
       "      <td>0%</td>\n",
       "      <td>0%</td>\n",
       "      <td>175</td>\n",
       "    </tr>\n",
       "    <tr>\n",
       "      <th>1</th>\n",
       "      <td>Coffee</td>\n",
       "      <td>Brewed Coffee</td>\n",
       "      <td>No milk</td>\n",
       "      <td>Tall</td>\n",
       "      <td>4</td>\n",
       "      <td>0.1</td>\n",
       "      <td>0.0</td>\n",
       "      <td>0.0</td>\n",
       "      <td>0</td>\n",
       "      <td>10</td>\n",
       "      <td>0</td>\n",
       "      <td>0</td>\n",
       "      <td>0</td>\n",
       "      <td>0.5</td>\n",
       "      <td>0%</td>\n",
       "      <td>0%</td>\n",
       "      <td>0%</td>\n",
       "      <td>0%</td>\n",
       "      <td>260</td>\n",
       "    </tr>\n",
       "  </tbody>\n",
       "</table>\n",
       "</div>"
      ],
      "text/plain": [
       "  Beverage_category       Beverage Beverage_prep   Size  Calories  \\\n",
       "0            Coffee  Brewed Coffee       No milk  Short         3   \n",
       "1            Coffee  Brewed Coffee       No milk   Tall         4   \n",
       "\n",
       "   Total Fat (g)  Trans Fat (g)   Saturated Fat (g)   Sodium (mg)  \\\n",
       "0            0.1             0.0                0.0             0   \n",
       "1            0.1             0.0                0.0             0   \n",
       "\n",
       "    Total Carbohydrates (g)   Cholesterol (mg)   Dietary Fibre (g)  \\\n",
       "0                          5                 0                   0   \n",
       "1                         10                 0                   0   \n",
       "\n",
       "    Sugars (g)   Protein (g)  Vitamin A (% DV)  Vitamin C (% DV)  \\\n",
       "0            0            0.3                0%               0%   \n",
       "1            0            0.5                0%               0%   \n",
       "\n",
       "   Calcium (% DV)  Iron (% DV)  Caffeine (mg)  \n",
       "0               0%           0%           175  \n",
       "1               0%           0%           260  "
      ]
     },
     "execution_count": 25,
     "metadata": {},
     "output_type": "execute_result"
    }
   ],
   "source": [
    "df = pd.read_csv('starbucks_nutrition.csv')\n",
    "df.head(2)"
   ]
  },
  {
   "cell_type": "code",
   "execution_count": 4,
   "id": "ea7f3dda-1ad5-41a1-8a60-a5b41f711b36",
   "metadata": {},
   "outputs": [],
   "source": [
    "df.to_sql('starbucks_nutrition', connection, if_exists='replace')"
   ]
  },
  {
   "cell_type": "code",
   "execution_count": 5,
   "id": "a755f974-a5e2-4d08-b396-b394ca0cfad5",
   "metadata": {},
   "outputs": [],
   "source": [
    "%sql sqlite:///starbucks.db"
   ]
  },
  {
   "cell_type": "code",
   "execution_count": 6,
   "id": "013e3605-01e6-4f23-af0e-a14e3da31534",
   "metadata": {},
   "outputs": [
    {
     "name": "stdout",
     "output_type": "stream",
     "text": [
      " * sqlite:///starbucks.db\n",
      "Done.\n"
     ]
    },
    {
     "data": {
      "text/html": [
       "<div>\n",
       "<style scoped>\n",
       "    .dataframe tbody tr th:only-of-type {\n",
       "        vertical-align: middle;\n",
       "    }\n",
       "\n",
       "    .dataframe tbody tr th {\n",
       "        vertical-align: top;\n",
       "    }\n",
       "\n",
       "    .dataframe thead th {\n",
       "        text-align: right;\n",
       "    }\n",
       "</style>\n",
       "<table border=\"1\" class=\"dataframe\">\n",
       "  <thead>\n",
       "    <tr style=\"text-align: right;\">\n",
       "      <th></th>\n",
       "      <th>index</th>\n",
       "      <th>Beverage_category</th>\n",
       "      <th>Beverage</th>\n",
       "      <th>Beverage_prep</th>\n",
       "      <th>Size</th>\n",
       "      <th>Calories</th>\n",
       "      <th>Total Fat (g)</th>\n",
       "      <th>Trans Fat (g)</th>\n",
       "      <th>Saturated Fat (g)</th>\n",
       "      <th>Sodium (mg)</th>\n",
       "      <th>Total Carbohydrates (g)</th>\n",
       "      <th>Cholesterol (mg)</th>\n",
       "      <th>Dietary Fibre (g)</th>\n",
       "      <th>Sugars (g)</th>\n",
       "      <th>Protein (g)</th>\n",
       "      <th>Vitamin A (% DV)</th>\n",
       "      <th>Vitamin C (% DV)</th>\n",
       "      <th>Calcium (% DV)</th>\n",
       "      <th>Iron (% DV)</th>\n",
       "      <th>Caffeine (mg)</th>\n",
       "    </tr>\n",
       "  </thead>\n",
       "  <tbody>\n",
       "    <tr>\n",
       "      <th>0</th>\n",
       "      <td>0</td>\n",
       "      <td>Coffee</td>\n",
       "      <td>Brewed Coffee</td>\n",
       "      <td>No milk</td>\n",
       "      <td>Short</td>\n",
       "      <td>3</td>\n",
       "      <td>0.1</td>\n",
       "      <td>0.0</td>\n",
       "      <td>0.0</td>\n",
       "      <td>0</td>\n",
       "      <td>5</td>\n",
       "      <td>0</td>\n",
       "      <td>0</td>\n",
       "      <td>0</td>\n",
       "      <td>0.3</td>\n",
       "      <td>0%</td>\n",
       "      <td>0%</td>\n",
       "      <td>0%</td>\n",
       "      <td>0%</td>\n",
       "      <td>175</td>\n",
       "    </tr>\n",
       "    <tr>\n",
       "      <th>1</th>\n",
       "      <td>1</td>\n",
       "      <td>Coffee</td>\n",
       "      <td>Brewed Coffee</td>\n",
       "      <td>No milk</td>\n",
       "      <td>Tall</td>\n",
       "      <td>4</td>\n",
       "      <td>0.1</td>\n",
       "      <td>0.0</td>\n",
       "      <td>0.0</td>\n",
       "      <td>0</td>\n",
       "      <td>10</td>\n",
       "      <td>0</td>\n",
       "      <td>0</td>\n",
       "      <td>0</td>\n",
       "      <td>0.5</td>\n",
       "      <td>0%</td>\n",
       "      <td>0%</td>\n",
       "      <td>0%</td>\n",
       "      <td>0%</td>\n",
       "      <td>260</td>\n",
       "    </tr>\n",
       "    <tr>\n",
       "      <th>2</th>\n",
       "      <td>2</td>\n",
       "      <td>Coffee</td>\n",
       "      <td>Brewed Coffee</td>\n",
       "      <td>No milk</td>\n",
       "      <td>Grande</td>\n",
       "      <td>5</td>\n",
       "      <td>0.1</td>\n",
       "      <td>0.0</td>\n",
       "      <td>0.0</td>\n",
       "      <td>0</td>\n",
       "      <td>10</td>\n",
       "      <td>0</td>\n",
       "      <td>0</td>\n",
       "      <td>0</td>\n",
       "      <td>1.0</td>\n",
       "      <td>0%</td>\n",
       "      <td>0%</td>\n",
       "      <td>0%</td>\n",
       "      <td>0%</td>\n",
       "      <td>330</td>\n",
       "    </tr>\n",
       "    <tr>\n",
       "      <th>3</th>\n",
       "      <td>3</td>\n",
       "      <td>Coffee</td>\n",
       "      <td>Brewed Coffee</td>\n",
       "      <td>No milk</td>\n",
       "      <td>Venti</td>\n",
       "      <td>5</td>\n",
       "      <td>0.1</td>\n",
       "      <td>0.0</td>\n",
       "      <td>0.0</td>\n",
       "      <td>0</td>\n",
       "      <td>10</td>\n",
       "      <td>0</td>\n",
       "      <td>0</td>\n",
       "      <td>0</td>\n",
       "      <td>1.0</td>\n",
       "      <td>0%</td>\n",
       "      <td>0%</td>\n",
       "      <td>2%</td>\n",
       "      <td>0%</td>\n",
       "      <td>410</td>\n",
       "    </tr>\n",
       "    <tr>\n",
       "      <th>4</th>\n",
       "      <td>4</td>\n",
       "      <td>Classic Espresso Drinks</td>\n",
       "      <td>Caffè Latte</td>\n",
       "      <td>Nonfat Milk</td>\n",
       "      <td>Short</td>\n",
       "      <td>70</td>\n",
       "      <td>0.1</td>\n",
       "      <td>0.1</td>\n",
       "      <td>0.0</td>\n",
       "      <td>5</td>\n",
       "      <td>75</td>\n",
       "      <td>10</td>\n",
       "      <td>0</td>\n",
       "      <td>9</td>\n",
       "      <td>6.0</td>\n",
       "      <td>10%</td>\n",
       "      <td>0%</td>\n",
       "      <td>20%</td>\n",
       "      <td>0%</td>\n",
       "      <td>75</td>\n",
       "    </tr>\n",
       "  </tbody>\n",
       "</table>\n",
       "</div>"
      ],
      "text/plain": [
       "   index        Beverage_category       Beverage Beverage_prep    Size  \\\n",
       "0      0                   Coffee  Brewed Coffee       No milk   Short   \n",
       "1      1                   Coffee  Brewed Coffee       No milk    Tall   \n",
       "2      2                   Coffee  Brewed Coffee       No milk  Grande   \n",
       "3      3                   Coffee  Brewed Coffee       No milk   Venti   \n",
       "4      4  Classic Espresso Drinks    Caffè Latte   Nonfat Milk   Short   \n",
       "\n",
       "   Calories  Total Fat (g)  Trans Fat (g)   Saturated Fat (g)   Sodium (mg)  \\\n",
       "0         3            0.1             0.0                0.0             0   \n",
       "1         4            0.1             0.0                0.0             0   \n",
       "2         5            0.1             0.0                0.0             0   \n",
       "3         5            0.1             0.0                0.0             0   \n",
       "4        70            0.1             0.1                0.0             5   \n",
       "\n",
       "    Total Carbohydrates (g)   Cholesterol (mg)   Dietary Fibre (g)  \\\n",
       "0                          5                 0                   0   \n",
       "1                         10                 0                   0   \n",
       "2                         10                 0                   0   \n",
       "3                         10                 0                   0   \n",
       "4                         75                10                   0   \n",
       "\n",
       "    Sugars (g)   Protein (g)  Vitamin A (% DV)  Vitamin C (% DV)  \\\n",
       "0            0            0.3                0%               0%   \n",
       "1            0            0.5                0%               0%   \n",
       "2            0            1.0                0%               0%   \n",
       "3            0            1.0                0%               0%   \n",
       "4            9            6.0               10%               0%   \n",
       "\n",
       "   Calcium (% DV)  Iron (% DV)  Caffeine (mg)  \n",
       "0               0%           0%           175  \n",
       "1               0%           0%           260  \n",
       "2               0%           0%           330  \n",
       "3               2%           0%           410  \n",
       "4              20%           0%            75  "
      ]
     },
     "execution_count": 6,
     "metadata": {},
     "output_type": "execute_result"
    }
   ],
   "source": [
    "result = %sql select * from starbucks_nutrition\n",
    "hd = result.DataFrame()\n",
    "hd.head()"
   ]
  },
  {
   "cell_type": "code",
   "execution_count": 28,
   "id": "bed436cc-0d4f-46b4-9452-9ec6698e7336",
   "metadata": {},
   "outputs": [],
   "source": [
    "filtered_keys = [k for k in hd.keys() if k not in ['index', 'Category', 'Beverage', 'Beverage_prep', 'Beverage_category']]\n",
    "min_max_ranges = hd[filtered_keys].groupby('Size').agg(['min', 'max'])"
   ]
  },
  {
   "cell_type": "code",
   "execution_count": 31,
   "id": "88565636-4404-4f98-9ea3-26924a528028",
   "metadata": {},
   "outputs": [
    {
     "ename": "KeyError",
     "evalue": "\"['Dietary Fibre (g)', 'Total Carbohydrates (g)', 'Sodium (mg)', 'Sugars (g)', 'Protein (g)', 'Calcium (% DV)', 'Iron (% DV)', 'Trans Fat (g)', 'Vitamin A (% DV)', 'Total Fat (g)'] not in index\"",
     "output_type": "error",
     "traceback": [
      "\u001b[1;31m---------------------------------------------------------------------------\u001b[0m",
      "\u001b[1;31mKeyError\u001b[0m                                  Traceback (most recent call last)",
      "\u001b[1;32m<ipython-input-31-920afce181f9>\u001b[0m in \u001b[0;36m<module>\u001b[1;34m\u001b[0m\n\u001b[1;32m----> 1\u001b[1;33m \u001b[0mhd\u001b[0m \u001b[1;33m=\u001b[0m \u001b[0mhd\u001b[0m\u001b[1;33m[\u001b[0m\u001b[1;33m[\u001b[0m\u001b[1;34m'index'\u001b[0m\u001b[1;33m,\u001b[0m\u001b[1;34m'Beverage_category'\u001b[0m\u001b[1;33m,\u001b[0m \u001b[1;34m'Beverage'\u001b[0m\u001b[1;33m,\u001b[0m \u001b[1;34m'Beverage_prep'\u001b[0m\u001b[1;33m,\u001b[0m \u001b[1;34m'Size'\u001b[0m\u001b[1;33m,\u001b[0m\u001b[1;34m'Sugars (g)'\u001b[0m\u001b[1;33m,\u001b[0m\u001b[1;34m'Calories'\u001b[0m\u001b[1;33m,\u001b[0m \u001b[1;34m'Total Carbohydrates (g)'\u001b[0m\u001b[1;33m,\u001b[0m\u001b[1;34m'Total Fat (g)'\u001b[0m\u001b[1;33m,\u001b[0m \u001b[1;34m'Trans Fat (g)'\u001b[0m\u001b[1;33m,\u001b[0m \u001b[1;34m'Saturated Fat (g)'\u001b[0m\u001b[1;33m,\u001b[0m\u001b[1;34m'Sodium (mg)'\u001b[0m\u001b[1;33m,\u001b[0m \u001b[1;34m'Cholesterol (mg)'\u001b[0m\u001b[1;33m,\u001b[0m \u001b[1;34m'Dietary Fibre (g)'\u001b[0m\u001b[1;33m,\u001b[0m \u001b[1;34m'Protein (g)'\u001b[0m\u001b[1;33m,\u001b[0m \u001b[1;34m'Vitamin A (% DV)'\u001b[0m\u001b[1;33m,\u001b[0m \u001b[1;34m'Vitamin C (% DV)'\u001b[0m\u001b[1;33m,\u001b[0m \u001b[1;34m'Calcium (% DV)'\u001b[0m\u001b[1;33m,\u001b[0m \u001b[1;34m'Iron (% DV)'\u001b[0m\u001b[1;33m,\u001b[0m \u001b[1;34m'Caffeine (mg)'\u001b[0m\u001b[1;33m]\u001b[0m\u001b[1;33m]\u001b[0m\u001b[1;33m\u001b[0m\u001b[1;33m\u001b[0m\u001b[0m\n\u001b[0m",
      "\u001b[1;32mc:\\users\\aconnolly\\appdata\\local\\programs\\python\\python39\\lib\\site-packages\\pandas\\core\\frame.py\u001b[0m in \u001b[0;36m__getitem__\u001b[1;34m(self, key)\u001b[0m\n\u001b[0;32m   3028\u001b[0m             \u001b[1;32mif\u001b[0m \u001b[0mis_iterator\u001b[0m\u001b[1;33m(\u001b[0m\u001b[0mkey\u001b[0m\u001b[1;33m)\u001b[0m\u001b[1;33m:\u001b[0m\u001b[1;33m\u001b[0m\u001b[1;33m\u001b[0m\u001b[0m\n\u001b[0;32m   3029\u001b[0m                 \u001b[0mkey\u001b[0m \u001b[1;33m=\u001b[0m \u001b[0mlist\u001b[0m\u001b[1;33m(\u001b[0m\u001b[0mkey\u001b[0m\u001b[1;33m)\u001b[0m\u001b[1;33m\u001b[0m\u001b[1;33m\u001b[0m\u001b[0m\n\u001b[1;32m-> 3030\u001b[1;33m             \u001b[0mindexer\u001b[0m \u001b[1;33m=\u001b[0m \u001b[0mself\u001b[0m\u001b[1;33m.\u001b[0m\u001b[0mloc\u001b[0m\u001b[1;33m.\u001b[0m\u001b[0m_get_listlike_indexer\u001b[0m\u001b[1;33m(\u001b[0m\u001b[0mkey\u001b[0m\u001b[1;33m,\u001b[0m \u001b[0maxis\u001b[0m\u001b[1;33m=\u001b[0m\u001b[1;36m1\u001b[0m\u001b[1;33m,\u001b[0m \u001b[0mraise_missing\u001b[0m\u001b[1;33m=\u001b[0m\u001b[1;32mTrue\u001b[0m\u001b[1;33m)\u001b[0m\u001b[1;33m[\u001b[0m\u001b[1;36m1\u001b[0m\u001b[1;33m]\u001b[0m\u001b[1;33m\u001b[0m\u001b[1;33m\u001b[0m\u001b[0m\n\u001b[0m\u001b[0;32m   3031\u001b[0m \u001b[1;33m\u001b[0m\u001b[0m\n\u001b[0;32m   3032\u001b[0m         \u001b[1;31m# take() does not accept boolean indexers\u001b[0m\u001b[1;33m\u001b[0m\u001b[1;33m\u001b[0m\u001b[1;33m\u001b[0m\u001b[0m\n",
      "\u001b[1;32mc:\\users\\aconnolly\\appdata\\local\\programs\\python\\python39\\lib\\site-packages\\pandas\\core\\indexing.py\u001b[0m in \u001b[0;36m_get_listlike_indexer\u001b[1;34m(self, key, axis, raise_missing)\u001b[0m\n\u001b[0;32m   1264\u001b[0m             \u001b[0mkeyarr\u001b[0m\u001b[1;33m,\u001b[0m \u001b[0mindexer\u001b[0m\u001b[1;33m,\u001b[0m \u001b[0mnew_indexer\u001b[0m \u001b[1;33m=\u001b[0m \u001b[0max\u001b[0m\u001b[1;33m.\u001b[0m\u001b[0m_reindex_non_unique\u001b[0m\u001b[1;33m(\u001b[0m\u001b[0mkeyarr\u001b[0m\u001b[1;33m)\u001b[0m\u001b[1;33m\u001b[0m\u001b[1;33m\u001b[0m\u001b[0m\n\u001b[0;32m   1265\u001b[0m \u001b[1;33m\u001b[0m\u001b[0m\n\u001b[1;32m-> 1266\u001b[1;33m         \u001b[0mself\u001b[0m\u001b[1;33m.\u001b[0m\u001b[0m_validate_read_indexer\u001b[0m\u001b[1;33m(\u001b[0m\u001b[0mkeyarr\u001b[0m\u001b[1;33m,\u001b[0m \u001b[0mindexer\u001b[0m\u001b[1;33m,\u001b[0m \u001b[0maxis\u001b[0m\u001b[1;33m,\u001b[0m \u001b[0mraise_missing\u001b[0m\u001b[1;33m=\u001b[0m\u001b[0mraise_missing\u001b[0m\u001b[1;33m)\u001b[0m\u001b[1;33m\u001b[0m\u001b[1;33m\u001b[0m\u001b[0m\n\u001b[0m\u001b[0;32m   1267\u001b[0m         \u001b[1;32mreturn\u001b[0m \u001b[0mkeyarr\u001b[0m\u001b[1;33m,\u001b[0m \u001b[0mindexer\u001b[0m\u001b[1;33m\u001b[0m\u001b[1;33m\u001b[0m\u001b[0m\n\u001b[0;32m   1268\u001b[0m \u001b[1;33m\u001b[0m\u001b[0m\n",
      "\u001b[1;32mc:\\users\\aconnolly\\appdata\\local\\programs\\python\\python39\\lib\\site-packages\\pandas\\core\\indexing.py\u001b[0m in \u001b[0;36m_validate_read_indexer\u001b[1;34m(self, key, indexer, axis, raise_missing)\u001b[0m\n\u001b[0;32m   1314\u001b[0m             \u001b[1;32mif\u001b[0m \u001b[0mraise_missing\u001b[0m\u001b[1;33m:\u001b[0m\u001b[1;33m\u001b[0m\u001b[1;33m\u001b[0m\u001b[0m\n\u001b[0;32m   1315\u001b[0m                 \u001b[0mnot_found\u001b[0m \u001b[1;33m=\u001b[0m \u001b[0mlist\u001b[0m\u001b[1;33m(\u001b[0m\u001b[0mset\u001b[0m\u001b[1;33m(\u001b[0m\u001b[0mkey\u001b[0m\u001b[1;33m)\u001b[0m \u001b[1;33m-\u001b[0m \u001b[0mset\u001b[0m\u001b[1;33m(\u001b[0m\u001b[0max\u001b[0m\u001b[1;33m)\u001b[0m\u001b[1;33m)\u001b[0m\u001b[1;33m\u001b[0m\u001b[1;33m\u001b[0m\u001b[0m\n\u001b[1;32m-> 1316\u001b[1;33m                 \u001b[1;32mraise\u001b[0m \u001b[0mKeyError\u001b[0m\u001b[1;33m(\u001b[0m\u001b[1;34mf\"{not_found} not in index\"\u001b[0m\u001b[1;33m)\u001b[0m\u001b[1;33m\u001b[0m\u001b[1;33m\u001b[0m\u001b[0m\n\u001b[0m\u001b[0;32m   1317\u001b[0m \u001b[1;33m\u001b[0m\u001b[0m\n\u001b[0;32m   1318\u001b[0m             \u001b[0mnot_found\u001b[0m \u001b[1;33m=\u001b[0m \u001b[0mkey\u001b[0m\u001b[1;33m[\u001b[0m\u001b[0mmissing_mask\u001b[0m\u001b[1;33m]\u001b[0m\u001b[1;33m\u001b[0m\u001b[1;33m\u001b[0m\u001b[0m\n",
      "\u001b[1;31mKeyError\u001b[0m: \"['Dietary Fibre (g)', 'Total Carbohydrates (g)', 'Sodium (mg)', 'Sugars (g)', 'Protein (g)', 'Calcium (% DV)', 'Iron (% DV)', 'Trans Fat (g)', 'Vitamin A (% DV)', 'Total Fat (g)'] not in index\""
     ]
    }
   ],
   "source": [
    "# hd = hd[['index','Beverage_category', 'Beverage', 'Beverage_prep', 'Size','Sugars (g)','Calories', 'Total Carbohydrates (g)','Total Fat (g)', 'Trans Fat (g)', 'Saturated Fat (g)','Sodium (mg)', 'Cholesterol (mg)', 'Dietary Fibre (g)', 'Protein (g)', 'Vitamin A (% DV)', 'Vitamin C (% DV)', 'Calcium (% DV)', 'Iron (% DV)', 'Caffeine (mg)']]"
   ]
  },
  {
   "cell_type": "code",
   "execution_count": 8,
   "id": "28002319-f0bd-48e2-869c-c1310989755d",
   "metadata": {},
   "outputs": [
    {
     "data": {
      "text/plain": [
       "Calories                   min       0\n",
       "                           max     400\n",
       " Total Fat (g)             min       0\n",
       "                           max       9\n",
       "Trans Fat (g)              min     0.0\n",
       "                           max     7.0\n",
       "Saturated Fat (g)          min     0.0\n",
       "                           max     0.2\n",
       " Sodium (mg)               min       0\n",
       "                           max      30\n",
       " Total Carbohydrates (g)   min       0\n",
       "                           max     250\n",
       "Cholesterol (mg)           min       0\n",
       "                           max      70\n",
       " Dietary Fibre (g)         min       0\n",
       "                           max       8\n",
       " Sugars (g)                min       0\n",
       "                           max      65\n",
       " Protein (g)               min     0.0\n",
       "                           max    20.0\n",
       "Vitamin A (% DV)           min      0%\n",
       "                           max      8%\n",
       "Vitamin C (% DV)           min      0%\n",
       "                           max     80%\n",
       " Calcium (% DV)            min      0%\n",
       "                           max      8%\n",
       "Iron (% DV)                min      0%\n",
       "                           max      8%\n",
       "Name: Grande, dtype: object"
      ]
     },
     "execution_count": 8,
     "metadata": {},
     "output_type": "execute_result"
    }
   ],
   "source": [
    "min_max_ranges.loc['Grande']"
   ]
  },
  {
   "cell_type": "code",
   "execution_count": 9,
   "id": "e6a5fe51-e896-48e6-a57a-59b71b54c6b9",
   "metadata": {},
   "outputs": [
    {
     "data": {
      "text/html": [
       "<div>\n",
       "<style scoped>\n",
       "    .dataframe tbody tr th:only-of-type {\n",
       "        vertical-align: middle;\n",
       "    }\n",
       "\n",
       "    .dataframe tbody tr th {\n",
       "        vertical-align: top;\n",
       "    }\n",
       "\n",
       "    .dataframe thead th {\n",
       "        text-align: right;\n",
       "    }\n",
       "</style>\n",
       "<table border=\"1\" class=\"dataframe\">\n",
       "  <thead>\n",
       "    <tr style=\"text-align: right;\">\n",
       "      <th></th>\n",
       "      <th></th>\n",
       "      <th>Sugars (g)</th>\n",
       "      <th>Calories</th>\n",
       "    </tr>\n",
       "    <tr>\n",
       "      <th>Beverage_category</th>\n",
       "      <th>Size</th>\n",
       "      <th></th>\n",
       "      <th></th>\n",
       "    </tr>\n",
       "  </thead>\n",
       "  <tbody>\n",
       "    <tr>\n",
       "      <th>Classic Espresso Drinks</th>\n",
       "      <th>Grande</th>\n",
       "      <td>20.0</td>\n",
       "      <td>162.0</td>\n",
       "    </tr>\n",
       "    <tr>\n",
       "      <th>Coffee</th>\n",
       "      <th>Grande</th>\n",
       "      <td>0.0</td>\n",
       "      <td>5.0</td>\n",
       "    </tr>\n",
       "    <tr>\n",
       "      <th>Frappuccino® Blended Coffee</th>\n",
       "      <th>Grande</th>\n",
       "      <td>56.0</td>\n",
       "      <td>272.0</td>\n",
       "    </tr>\n",
       "    <tr>\n",
       "      <th>Frappuccino® Blended Crème</th>\n",
       "      <th>Grande</th>\n",
       "      <td>52.0</td>\n",
       "      <td>242.0</td>\n",
       "    </tr>\n",
       "    <tr>\n",
       "      <th>Frappuccino® Light Blended Coffee</th>\n",
       "      <th>Grande</th>\n",
       "      <td>32.0</td>\n",
       "      <td>160.0</td>\n",
       "    </tr>\n",
       "    <tr>\n",
       "      <th>Shaken Iced Beverages</th>\n",
       "      <th>Grande</th>\n",
       "      <td>24.0</td>\n",
       "      <td>107.0</td>\n",
       "    </tr>\n",
       "    <tr>\n",
       "      <th>Signature Espresso Drinks</th>\n",
       "      <th>Grande</th>\n",
       "      <td>43.0</td>\n",
       "      <td>281.0</td>\n",
       "    </tr>\n",
       "    <tr>\n",
       "      <th>Smoothies</th>\n",
       "      <th>Grande</th>\n",
       "      <td>37.0</td>\n",
       "      <td>282.0</td>\n",
       "    </tr>\n",
       "    <tr>\n",
       "      <th>Tazo® Tea Drinks</th>\n",
       "      <th>Grande</th>\n",
       "      <td>35.0</td>\n",
       "      <td>203.0</td>\n",
       "    </tr>\n",
       "  </tbody>\n",
       "</table>\n",
       "</div>"
      ],
      "text/plain": [
       "                                           Sugars (g)  Calories\n",
       "Beverage_category                 Size                         \n",
       "Classic Espresso Drinks           Grande         20.0     162.0\n",
       "Coffee                            Grande          0.0       5.0\n",
       "Frappuccino® Blended Coffee       Grande         56.0     272.0\n",
       "Frappuccino® Blended Crème        Grande         52.0     242.0\n",
       "Frappuccino® Light Blended Coffee Grande         32.0     160.0\n",
       "Shaken Iced Beverages             Grande         24.0     107.0\n",
       "Signature Espresso Drinks         Grande         43.0     281.0\n",
       "Smoothies                         Grande         37.0     282.0\n",
       "Tazo® Tea Drinks                  Grande         35.0     203.0"
      ]
     },
     "execution_count": 9,
     "metadata": {},
     "output_type": "execute_result"
    }
   ],
   "source": [
    "average_sugar_all_drinks = round(hd[[' Sugars (g)', 'Calories','Size', 'Beverage_category']].groupby(['Beverage_category', 'Size']).mean())\n",
    "grande_beverage=average_sugar_all_drinks.loc[(slice(None), 'Grande'), :]\n",
    "grande_beverage"
   ]
  },
  {
   "cell_type": "code",
   "execution_count": 10,
   "id": "37704261-39c8-4fe5-964e-942fad589ca0",
   "metadata": {},
   "outputs": [
    {
     "data": {
      "text/html": [
       "<div>\n",
       "<style scoped>\n",
       "    .dataframe tbody tr th:only-of-type {\n",
       "        vertical-align: middle;\n",
       "    }\n",
       "\n",
       "    .dataframe tbody tr th {\n",
       "        vertical-align: top;\n",
       "    }\n",
       "\n",
       "    .dataframe thead th {\n",
       "        text-align: right;\n",
       "    }\n",
       "</style>\n",
       "<table border=\"1\" class=\"dataframe\">\n",
       "  <thead>\n",
       "    <tr style=\"text-align: right;\">\n",
       "      <th></th>\n",
       "      <th></th>\n",
       "      <th>Sugar</th>\n",
       "      <th>Calories</th>\n",
       "    </tr>\n",
       "    <tr>\n",
       "      <th>Beverage_category</th>\n",
       "      <th>Size</th>\n",
       "      <th></th>\n",
       "      <th></th>\n",
       "    </tr>\n",
       "  </thead>\n",
       "  <tbody>\n",
       "    <tr>\n",
       "      <th>Classic Espresso Drinks</th>\n",
       "      <th>Grande</th>\n",
       "      <td>20.0</td>\n",
       "      <td>162.0</td>\n",
       "    </tr>\n",
       "    <tr>\n",
       "      <th>Coffee</th>\n",
       "      <th>Grande</th>\n",
       "      <td>0.0</td>\n",
       "      <td>5.0</td>\n",
       "    </tr>\n",
       "    <tr>\n",
       "      <th>Frappuccino® Blended Coffee</th>\n",
       "      <th>Grande</th>\n",
       "      <td>56.0</td>\n",
       "      <td>272.0</td>\n",
       "    </tr>\n",
       "    <tr>\n",
       "      <th>Frappuccino® Blended Crème</th>\n",
       "      <th>Grande</th>\n",
       "      <td>52.0</td>\n",
       "      <td>242.0</td>\n",
       "    </tr>\n",
       "    <tr>\n",
       "      <th>Frappuccino® Light Blended Coffee</th>\n",
       "      <th>Grande</th>\n",
       "      <td>32.0</td>\n",
       "      <td>160.0</td>\n",
       "    </tr>\n",
       "    <tr>\n",
       "      <th>Shaken Iced Beverages</th>\n",
       "      <th>Grande</th>\n",
       "      <td>24.0</td>\n",
       "      <td>107.0</td>\n",
       "    </tr>\n",
       "    <tr>\n",
       "      <th>Signature Espresso Drinks</th>\n",
       "      <th>Grande</th>\n",
       "      <td>43.0</td>\n",
       "      <td>281.0</td>\n",
       "    </tr>\n",
       "    <tr>\n",
       "      <th>Smoothies</th>\n",
       "      <th>Grande</th>\n",
       "      <td>37.0</td>\n",
       "      <td>282.0</td>\n",
       "    </tr>\n",
       "    <tr>\n",
       "      <th>Tazo® Tea Drinks</th>\n",
       "      <th>Grande</th>\n",
       "      <td>35.0</td>\n",
       "      <td>203.0</td>\n",
       "    </tr>\n",
       "  </tbody>\n",
       "</table>\n",
       "</div>"
      ],
      "text/plain": [
       "                                          Sugar  Calories\n",
       "Beverage_category                 Size                   \n",
       "Classic Espresso Drinks           Grande   20.0     162.0\n",
       "Coffee                            Grande    0.0       5.0\n",
       "Frappuccino® Blended Coffee       Grande   56.0     272.0\n",
       "Frappuccino® Blended Crème        Grande   52.0     242.0\n",
       "Frappuccino® Light Blended Coffee Grande   32.0     160.0\n",
       "Shaken Iced Beverages             Grande   24.0     107.0\n",
       "Signature Espresso Drinks         Grande   43.0     281.0\n",
       "Smoothies                         Grande   37.0     282.0\n",
       "Tazo® Tea Drinks                  Grande   35.0     203.0"
      ]
     },
     "execution_count": 10,
     "metadata": {},
     "output_type": "execute_result"
    }
   ],
   "source": [
    "# Rename columns\n",
    "grande_renamed = grande_beverage.rename(columns={\" Sugars (g)\": \"Sugar\"})\n",
    "grande_renamed\n",
    "# grande_renamed.to_csv('grande_renamed_sugar.csv')"
   ]
  },
  {
   "cell_type": "code",
   "execution_count": 52,
   "id": "c829747a-c2ab-4929-bf35-a289d0354d22",
   "metadata": {},
   "outputs": [
    {
     "data": {
      "image/png": "[encoded data removed]",
      "text/plain": [
       "<Figure size 576x432 with 1 Axes>"
      ]
     },
     "metadata": {
      "needs_background": "light"
     },
     "output_type": "display_data"
    }
   ],
   "source": [
    "clrs = ['green' if x <=30 else 'red' for x in grande_renamed['Sugar'] ]\n",
    "# fig = plt.figure()\n",
    "ax = grande_renamed.plot.barh(y=\"Sugar\", rot=0, color=clrs, figsize=(8,6), align=\"center\")\n",
    "for container in ax.containers:\n",
    "    ax.bar_label(container)\n",
    "plt.title(\"Sugar Content across All Beverage Categories\", fontdict=None, loc='center')\n",
    "plt.savefig('sugar.jpg', dpi = 100, bbox_inches='tight') \n",
    "plt.show()"
   ]
  },
  {
   "cell_type": "code",
   "execution_count": 51,
   "id": "4536e50a-15b8-4172-bc19-af542eb2da34",
   "metadata": {},
   "outputs": [
    {
     "data": {
      "text/plain": [
       "<Figure size 432x288 with 0 Axes>"
      ]
     },
     "metadata": {},
     "output_type": "display_data"
    },
    {
     "data": {
      "image/png": "[encoded data removed]",
      "text/plain": [
       "<Figure size 576x432 with 1 Axes>"
      ]
     },
     "metadata": {
      "needs_background": "light"
     },
     "output_type": "display_data"
    }
   ],
   "source": [
    "clrs = ['green' if x <=30 else 'red' for x in grande_renamed['Sugar'] ]\n",
    "fig = plt.figure()\n",
    "ax = grande_renamed.plot.barh(y=\"Calories\", rot=0, color=clrs, figsize=(8,6), align=\"center\")\n",
    "for container in ax.containers:\n",
    "    ax.bar_label(container)\n",
    "plt.title(\"Calories across All Beverage Categories\", fontdict=None, loc='center')\n",
    "plt.savefig('calories.jpg', dpi = 100, bbox_inches='tight') \n",
    "\n",
    "plt.show()"
   ]
  },
  {
   "cell_type": "code",
   "execution_count": 17,
   "id": "5285cc64-8aee-4b6a-8c71-68ef7c9a7da9",
   "metadata": {},
   "outputs": [],
   "source": [
    "# clrs = ['grey' if x <=30 else 'red' for x in grande_renamed['Sugar'] ]\n",
    "# ax = grande_renamed.plot.barh(y=\"Sugar\", rot=0, color=clrs, figsize=(10,10), align=\"center\")\n",
    "# for container in ax.containers:\n",
    "#     ax.bar_label(container)\n",
    "# # fig = plt.figure()\n",
    "# plt.title(\"Sugar Content across All Beverage Categories\", fontdict=None, loc='center')\n",
    "# plt.savefig('sugar.jpg') \n",
    "# plt.show()"
   ]
  },
  {
   "cell_type": "code",
   "execution_count": 18,
   "id": "80edc54d-0499-4dd0-9605-c5e480a5007e",
   "metadata": {},
   "outputs": [
    {
     "data": {
      "text/plain": [
       "242"
      ]
     },
     "execution_count": 18,
     "metadata": {},
     "output_type": "execute_result"
    }
   ],
   "source": [
    "#total numb sugar\n",
    "total_sugar = hd[\" Sugars (g)\"].count()\n",
    "total_sugar"
   ]
  },
  {
   "cell_type": "code",
   "execution_count": 19,
   "id": "5b2e115f-596a-4bf0-94f0-e8534748c26f",
   "metadata": {},
   "outputs": [
    {
     "data": {
      "text/html": [
       "<div>\n",
       "<style scoped>\n",
       "    .dataframe tbody tr th:only-of-type {\n",
       "        vertical-align: middle;\n",
       "    }\n",
       "\n",
       "    .dataframe tbody tr th {\n",
       "        vertical-align: top;\n",
       "    }\n",
       "\n",
       "    .dataframe thead th {\n",
       "        text-align: right;\n",
       "    }\n",
       "</style>\n",
       "<table border=\"1\" class=\"dataframe\">\n",
       "  <thead>\n",
       "    <tr style=\"text-align: right;\">\n",
       "      <th></th>\n",
       "      <th></th>\n",
       "      <th>Sugars (g)</th>\n",
       "    </tr>\n",
       "    <tr>\n",
       "      <th>Beverage_category</th>\n",
       "      <th>Size</th>\n",
       "      <th></th>\n",
       "    </tr>\n",
       "  </thead>\n",
       "  <tbody>\n",
       "    <tr>\n",
       "      <th rowspan=\"3\" valign=\"top\">Classic Espresso Drinks</th>\n",
       "      <th>Doppio</th>\n",
       "      <td>0.000000</td>\n",
       "    </tr>\n",
       "    <tr>\n",
       "      <th>Grande</th>\n",
       "      <td>19.571429</td>\n",
       "    </tr>\n",
       "    <tr>\n",
       "      <th>Short</th>\n",
       "      <td>10.142857</td>\n",
       "    </tr>\n",
       "  </tbody>\n",
       "</table>\n",
       "</div>"
      ],
      "text/plain": [
       "                                 Sugars (g)\n",
       "Beverage_category       Size               \n",
       "Classic Espresso Drinks Doppio     0.000000\n",
       "                        Grande    19.571429\n",
       "                        Short     10.142857"
      ]
     },
     "execution_count": 19,
     "metadata": {},
     "output_type": "execute_result"
    }
   ],
   "source": [
    "average_sugar_all_drinks = hd[[' Sugars (g)', 'Size', 'Beverage_category']].groupby(['Beverage_category', 'Size']).mean()\n",
    "average_sugar_all_drinks.head(3)"
   ]
  },
  {
   "cell_type": "code",
   "execution_count": 20,
   "id": "c26d4a0d-7579-48b7-a351-544a2d25009a",
   "metadata": {},
   "outputs": [
    {
     "data": {
      "text/plain": [
       "71"
      ]
     },
     "execution_count": 20,
     "metadata": {},
     "output_type": "execute_result"
    }
   ],
   "source": [
    "# Calculate the percentage of Beverages with a sugar of 30 grams or greater\n",
    "grande_df = hd[hd['Size'] == 'Grande']\n",
    "bverage_sugar = grande_df[grande_df[\" Sugars (g)\"]>=30]\n",
    "bverage_sugar_prcent=round(len(bverage_sugar)/len(grande_df)*100)\n",
    "bverage_sugar_prcent\n",
    "# 71% of Starbucks drinks of all categories of size Grande exceed daily recommended sugar amount."
   ]
  }
 ],
 "metadata": {
  "kernelspec": {
   "display_name": "Python 3",
   "language": "python",
   "name": "python3"
  },
  "language_info": {
   "codemirror_mode": {
    "name": "ipython",
    "version": 3
   },
   "file_extension": ".py",
   "mimetype": "text/x-python",
   "name": "python",
   "nbconvert_exporter": "python",
   "pygments_lexer": "ipython3",
   "version": "3.9.5"
  }
 },
 "nbformat": 4,
 "nbformat_minor": 5
}
