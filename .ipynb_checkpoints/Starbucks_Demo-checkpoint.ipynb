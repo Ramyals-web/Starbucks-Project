{
 "cells": [
  {
   "cell_type": "code",
   "execution_count": null,
   "id": "7804c92b-f8cb-4eda-b035-bc481216c2d8",
   "metadata": {},
   "outputs": [],
   "source": [
    "import pandas as pd\n",
    "import numpy as np\n",
    "import matplotlib.pyplot as plt\n",
    "import seaborn as sns\n",
    "from sqlalchemy import create_engine"
   ]
  },
  {
   "cell_type": "code",
   "execution_count": null,
   "id": "e9ad340e-68ad-4390-acef-5932421df162",
   "metadata": {},
   "outputs": [],
   "source": [
    "engine=create_engine(\"sqlite:///\"+r\"C:\\Users\\19193\\Documents\\BootCamp\\Is_Starbucks_your_cup_of_coffee\\Starbucks.sqlite\")\n",
    "conn=engine.connect()"
   ]
  },
  {
   "cell_type": "code",
   "execution_count": 33,
   "id": "3270a343-5bed-4f55-b5b9-6e69512f2717",
   "metadata": {},
   "outputs": [
    {
     "data": {
      "text/html": [
       "<div>\n",
       "<style scoped>\n",
       "    .dataframe tbody tr th:only-of-type {\n",
       "        vertical-align: middle;\n",
       "    }\n",
       "\n",
       "    .dataframe tbody tr th {\n",
       "        vertical-align: top;\n",
       "    }\n",
       "\n",
       "    .dataframe thead th {\n",
       "        text-align: right;\n",
       "    }\n",
       "</style>\n",
       "<table border=\"1\" class=\"dataframe\">\n",
       "  <thead>\n",
       "    <tr style=\"text-align: right;\">\n",
       "      <th></th>\n",
       "      <th>gender</th>\n",
       "      <th>age</th>\n",
       "      <th>income</th>\n",
       "    </tr>\n",
       "  </thead>\n",
       "  <tbody>\n",
       "    <tr>\n",
       "      <th>0</th>\n",
       "      <td>NaN</td>\n",
       "      <td>118</td>\n",
       "      <td>NaN</td>\n",
       "    </tr>\n",
       "    <tr>\n",
       "      <th>1</th>\n",
       "      <td>F</td>\n",
       "      <td>55</td>\n",
       "      <td>112000.0</td>\n",
       "    </tr>\n",
       "    <tr>\n",
       "      <th>2</th>\n",
       "      <td>NaN</td>\n",
       "      <td>118</td>\n",
       "      <td>NaN</td>\n",
       "    </tr>\n",
       "    <tr>\n",
       "      <th>3</th>\n",
       "      <td>F</td>\n",
       "      <td>75</td>\n",
       "      <td>100000.0</td>\n",
       "    </tr>\n",
       "    <tr>\n",
       "      <th>4</th>\n",
       "      <td>NaN</td>\n",
       "      <td>118</td>\n",
       "      <td>NaN</td>\n",
       "    </tr>\n",
       "    <tr>\n",
       "      <th>...</th>\n",
       "      <td>...</td>\n",
       "      <td>...</td>\n",
       "      <td>...</td>\n",
       "    </tr>\n",
       "    <tr>\n",
       "      <th>16995</th>\n",
       "      <td>F</td>\n",
       "      <td>45</td>\n",
       "      <td>54000.0</td>\n",
       "    </tr>\n",
       "    <tr>\n",
       "      <th>16996</th>\n",
       "      <td>M</td>\n",
       "      <td>61</td>\n",
       "      <td>72000.0</td>\n",
       "    </tr>\n",
       "    <tr>\n",
       "      <th>16997</th>\n",
       "      <td>M</td>\n",
       "      <td>49</td>\n",
       "      <td>73000.0</td>\n",
       "    </tr>\n",
       "    <tr>\n",
       "      <th>16998</th>\n",
       "      <td>F</td>\n",
       "      <td>83</td>\n",
       "      <td>50000.0</td>\n",
       "    </tr>\n",
       "    <tr>\n",
       "      <th>16999</th>\n",
       "      <td>F</td>\n",
       "      <td>62</td>\n",
       "      <td>82000.0</td>\n",
       "    </tr>\n",
       "  </tbody>\n",
       "</table>\n",
       "<p>17000 rows × 3 columns</p>\n",
       "</div>"
      ],
      "text/plain": [
       "      gender  age    income\n",
       "0        NaN  118       NaN\n",
       "1          F   55  112000.0\n",
       "2        NaN  118       NaN\n",
       "3          F   75  100000.0\n",
       "4        NaN  118       NaN\n",
       "...      ...  ...       ...\n",
       "16995      F   45   54000.0\n",
       "16996      M   61   72000.0\n",
       "16997      M   49   73000.0\n",
       "16998      F   83   50000.0\n",
       "16999      F   62   82000.0\n",
       "\n",
       "[17000 rows x 3 columns]"
      ]
     },
     "execution_count": 33,
     "metadata": {},
     "output_type": "execute_result"
    }
   ],
   "source": [
    "result=pd.read_csv(r\"C:\\Users\\19193\\Documents\\BootCamp\\Is_Starbucks_your_cup_of_coffee\\profile.csv\")\n",
    "result"
   ]
  },
  {
   "cell_type": "code",
   "execution_count": 34,
   "id": "9ce632ac-2710-484d-adce-2420c1c18f12",
   "metadata": {},
   "outputs": [
    {
     "data": {
      "text/plain": [
       "2175"
      ]
     },
     "execution_count": 34,
     "metadata": {},
     "output_type": "execute_result"
    }
   ],
   "source": [
    "result.dtypes\n",
    "result['income'].isnull().sum()\n",
    "result['gender'].isnull().sum()"
   ]
  },
  {
   "cell_type": "code",
   "execution_count": 35,
   "id": "ee8912a2-a569-4a7e-b7ee-d717328a982c",
   "metadata": {},
   "outputs": [],
   "source": [
    "#drop null records where age=118 \n",
    "result.drop(result[result.age==118].index, inplace=True)\n",
    "result.describe()"
   ]
  },
  {
   "cell_type": "code",
   "execution_count": 36,
   "id": "1c870800-640c-439d-9b39-7923aad2d121",
   "metadata": {},
   "outputs": [],
   "source": [
    "#create another variable and code F,M , O\n",
    "result['sex']=result['gender'].replace(['F','M','O'],['Female','Male','Oblivious'])"
   ]
  },
  {
   "cell_type": "code",
   "execution_count": 39,
   "id": "fab837e7-10fe-4997-b859-965349bdb512",
   "metadata": {},
   "outputs": [
    {
     "data": {
      "text/html": [
       "<div>\n",
       "<style scoped>\n",
       "    .dataframe tbody tr th:only-of-type {\n",
       "        vertical-align: middle;\n",
       "    }\n",
       "\n",
       "    .dataframe tbody tr th {\n",
       "        vertical-align: top;\n",
       "    }\n",
       "\n",
       "    .dataframe thead th {\n",
       "        text-align: right;\n",
       "    }\n",
       "</style>\n",
       "<table border=\"1\" class=\"dataframe\">\n",
       "  <thead>\n",
       "    <tr style=\"text-align: right;\">\n",
       "      <th></th>\n",
       "      <th>gender</th>\n",
       "      <th>age</th>\n",
       "      <th>income</th>\n",
       "      <th>sex</th>\n",
       "    </tr>\n",
       "  </thead>\n",
       "  <tbody>\n",
       "    <tr>\n",
       "      <th>1</th>\n",
       "      <td>F</td>\n",
       "      <td>55</td>\n",
       "      <td>112000.0</td>\n",
       "      <td>Female</td>\n",
       "    </tr>\n",
       "    <tr>\n",
       "      <th>3</th>\n",
       "      <td>F</td>\n",
       "      <td>75</td>\n",
       "      <td>100000.0</td>\n",
       "      <td>Female</td>\n",
       "    </tr>\n",
       "    <tr>\n",
       "      <th>5</th>\n",
       "      <td>M</td>\n",
       "      <td>68</td>\n",
       "      <td>70000.0</td>\n",
       "      <td>Male</td>\n",
       "    </tr>\n",
       "    <tr>\n",
       "      <th>8</th>\n",
       "      <td>M</td>\n",
       "      <td>65</td>\n",
       "      <td>53000.0</td>\n",
       "      <td>Male</td>\n",
       "    </tr>\n",
       "    <tr>\n",
       "      <th>12</th>\n",
       "      <td>M</td>\n",
       "      <td>58</td>\n",
       "      <td>51000.0</td>\n",
       "      <td>Male</td>\n",
       "    </tr>\n",
       "    <tr>\n",
       "      <th>...</th>\n",
       "      <td>...</td>\n",
       "      <td>...</td>\n",
       "      <td>...</td>\n",
       "      <td>...</td>\n",
       "    </tr>\n",
       "    <tr>\n",
       "      <th>16950</th>\n",
       "      <td>F</td>\n",
       "      <td>26</td>\n",
       "      <td>65000.0</td>\n",
       "      <td>Female</td>\n",
       "    </tr>\n",
       "    <tr>\n",
       "      <th>16968</th>\n",
       "      <td>M</td>\n",
       "      <td>74</td>\n",
       "      <td>87000.0</td>\n",
       "      <td>Male</td>\n",
       "    </tr>\n",
       "    <tr>\n",
       "      <th>16973</th>\n",
       "      <td>M</td>\n",
       "      <td>30</td>\n",
       "      <td>57000.0</td>\n",
       "      <td>Male</td>\n",
       "    </tr>\n",
       "    <tr>\n",
       "      <th>16986</th>\n",
       "      <td>F</td>\n",
       "      <td>59</td>\n",
       "      <td>63000.0</td>\n",
       "      <td>Female</td>\n",
       "    </tr>\n",
       "    <tr>\n",
       "      <th>16998</th>\n",
       "      <td>F</td>\n",
       "      <td>83</td>\n",
       "      <td>50000.0</td>\n",
       "      <td>Female</td>\n",
       "    </tr>\n",
       "  </tbody>\n",
       "</table>\n",
       "<p>7449 rows × 4 columns</p>\n",
       "</div>"
      ],
      "text/plain": [
       "      gender  age    income     sex\n",
       "1          F   55  112000.0  Female\n",
       "3          F   75  100000.0  Female\n",
       "5          M   68   70000.0    Male\n",
       "8          M   65   53000.0    Male\n",
       "12         M   58   51000.0    Male\n",
       "...      ...  ...       ...     ...\n",
       "16950      F   26   65000.0  Female\n",
       "16968      M   74   87000.0    Male\n",
       "16973      M   30   57000.0    Male\n",
       "16986      F   59   63000.0  Female\n",
       "16998      F   83   50000.0  Female\n",
       "\n",
       "[7449 rows x 4 columns]"
      ]
     },
     "execution_count": 39,
     "metadata": {},
     "output_type": "execute_result"
    }
   ],
   "source": [
    "result=result.drop_duplicates()\n",
    "result"
   ]
  },
  {
   "cell_type": "code",
   "execution_count": 40,
   "id": "d1677f99-b652-4e3e-a955-b537f4a86c45",
   "metadata": {},
   "outputs": [
    {
     "data": {
      "text/plain": [
       "Male         3796\n",
       "Female       3446\n",
       "Oblivious     207\n",
       "Name: sex, dtype: int64"
      ]
     },
     "execution_count": 40,
     "metadata": {},
     "output_type": "execute_result"
    }
   ],
   "source": [
    "#% of sex\n",
    "gender_count=(result['sex'].value_counts())\n",
    "# gender_count *=100/gender_count.sum()\n",
    "gender_count"
   ]
  },
  {
   "cell_type": "code",
   "execution_count": 41,
   "id": "f8f47409-d1c0-40f1-bbd2-1b637d166ed5",
   "metadata": {},
   "outputs": [
    {
     "name": "stderr",
     "output_type": "stream",
     "text": [
      "C:\\Users\\19193\\anaconda3\\lib\\site-packages\\seaborn\\_decorators.py:36: FutureWarning: Pass the following variable as a keyword arg: x. From version 0.12, the only valid positional argument will be `data`, and passing other arguments without an explicit keyword will result in an error or misinterpretation.\n",
      "  warnings.warn(\n"
     ]
    },
    {
     "data": {
      "text/plain": [
       "<AxesSubplot:xlabel='gender', ylabel='count'>"
      ]
     },
     "execution_count": 41,
     "metadata": {},
     "output_type": "execute_result"
    },
    {
     "data": {
      "image/png": "[encoded data removed]",
      "text/plain": [
       "<Figure size 432x288 with 1 Axes>"
      ]
     },
     "metadata": {
      "needs_background": "light"
     },
     "output_type": "display_data"
    }
   ],
   "source": [
    "sns.countplot(result['gender'])"
   ]
  },
  {
   "cell_type": "code",
   "execution_count": 39,
   "id": "672db0cf-74d2-4dfa-abdf-d9ff0f5c3de6",
   "metadata": {},
   "outputs": [
    {
     "data": {
      "image/png": "[encoded data removed]",
      "text/plain": [
       "<Figure size 432x288 with 1 Axes>"
      ]
     },
     "metadata": {
      "needs_background": "light"
     },
     "output_type": "display_data"
    }
   ],
   "source": [
    "# Creates the pie chart based upon the values above\n",
    "# Automatically finds the percentages of each part of the pie chart\n",
    "gender_count.plot(kind=\"bar\", facecolor=\"red\")\n",
    "plt.title(\"Percentage of consumer on basis of gender\")\n",
    "plt.ylabel(\"Percentage(%)\")\n",
    "plt.xlabel(\"Gender\")\n",
    "plt.show()"
   ]
  },
  {
   "cell_type": "code",
   "execution_count": 42,
   "id": "94c5299c-9658-4566-83da-a11b28ccf18d",
   "metadata": {},
   "outputs": [
    {
     "data": {
      "text/plain": [
       "<matplotlib.legend.Legend at 0x224f4fcd6d0>"
      ]
     },
     "execution_count": 42,
     "metadata": {},
     "output_type": "execute_result"
    },
    {
     "data": {
      "image/png": "[encoded data removed]",
      "text/plain": [
       "<Figure size 360x360 with 1 Axes>"
      ]
     },
     "metadata": {},
     "output_type": "display_data"
    }
   ],
   "source": [
    "plt.figure(figsize=[5, 5])\n",
    "pievalues = gender_count\n",
    "piecolors = ['blue', 'orange', 'green']\n",
    "pielabels = ['Female','Male','Oblivious']\n",
    "plt.pie(pievalues, colors=piecolors, labels=pielabels,  autopct='%1.2f%%', counterclock=False, shadow=True)\n",
    "plt.title('Percentage of consumer on basis of gender')\n",
    "plt.legend()"
   ]
  },
  {
   "cell_type": "code",
   "execution_count": 43,
   "id": "e884aef0-6fe8-47b6-8346-fc1bfc896cc4",
   "metadata": {},
   "outputs": [
    {
     "data": {
      "text/plain": [
       "IntervalIndex([[30000, 45000), [45000, 60000), [60000, 75000), [75000, 90000), [90000, 105000), [105000, 120000)],\n",
       "              closed='left',\n",
       "              dtype='interval[int64]')"
      ]
     },
     "execution_count": 43,
     "metadata": {},
     "output_type": "execute_result"
    }
   ],
   "source": [
    "#find the ranges from above look at min /max value for age and income\n",
    "pd.interval_range(start=18, freq=10, end=108, closed='left')\n",
    "pd.interval_range(start=30000, freq=15000, end=120000, closed='left')\n"
   ]
  },
  {
   "cell_type": "code",
   "execution_count": 44,
   "id": "fcc74c59-3475-429d-a729-42b9ce68ee09",
   "metadata": {},
   "outputs": [
    {
     "name": "stderr",
     "output_type": "stream",
     "text": [
      "<ipython-input-44-5c5b6e93c4d1>:4: SettingWithCopyWarning: \n",
      "A value is trying to be set on a copy of a slice from a DataFrame.\n",
      "Try using .loc[row_indexer,col_indexer] = value instead\n",
      "\n",
      "See the caveats in the documentation: https://pandas.pydata.org/pandas-docs/stable/user_guide/indexing.html#returning-a-view-versus-a-copy\n",
      "  result['age_range'] = pd.cut(result.age, bins, labels = labels,include_lowest = True)\n"
     ]
    }
   ],
   "source": [
    "#create a range for ages\n",
    "bins = [18, 30, 40, 50, 60, 70, 80, 90, 120]\n",
    "labels = ['18-29', '30-39', '40-49', '50-59', '60-69', '70-79', '80-90','90+'] \n",
    "result['age_range'] = pd.cut(result.age, bins, labels = labels,include_lowest = True)\n",
    "    "
   ]
  },
  {
   "cell_type": "code",
   "execution_count": 45,
   "id": "23c615a3-5907-4e9f-9ead-13552553eacb",
   "metadata": {},
   "outputs": [
    {
     "data": {
      "text/plain": [
       "50-59    20.284602\n",
       "60-69    18.123238\n",
       "40-49    15.169821\n",
       "70-79    13.639415\n",
       "18-29    11.464626\n",
       "30-39    10.847094\n",
       "80-90     7.853403\n",
       "90+       2.617801\n",
       "Name: age_range, dtype: float64"
      ]
     },
     "execution_count": 45,
     "metadata": {},
     "output_type": "execute_result"
    }
   ],
   "source": [
    "# percentage of age_range\n",
    "age_range_percentage = result['age_range'].value_counts()/len(result['age_range'])*100 # calculates the percentages of all age ranges\n",
    "age_range_percentage"
   ]
  },
  {
   "cell_type": "code",
   "execution_count": 46,
   "id": "4d463860-475f-4f8d-8e8a-845a7b889a92",
   "metadata": {},
   "outputs": [
    {
     "data": {
      "image/png": "[encoded data removed]",
      "text/plain": [
       "<Figure size 432x288 with 1 Axes>"
      ]
     },
     "metadata": {
      "needs_background": "light"
     },
     "output_type": "display_data"
    }
   ],
   "source": [
    "age_range_percentage.plot(kind=\"bar\")\n",
    "plt.title(\"Percentage of customers based on age range\")\n",
    "plt.ylabel(\"Percentage(%)\")\n",
    "plt.xlabel(\"Age range\")\n",
    "plt.show()\n"
   ]
  },
  {
   "cell_type": "code",
   "execution_count": 47,
   "id": "b2b618a1-b9e1-447a-955d-c7b809862d19",
   "metadata": {},
   "outputs": [
    {
     "name": "stderr",
     "output_type": "stream",
     "text": [
      "<ipython-input-47-e991f19f6a8a>:4: SettingWithCopyWarning: \n",
      "A value is trying to be set on a copy of a slice from a DataFrame.\n",
      "Try using .loc[row_indexer,col_indexer] = value instead\n",
      "\n",
      "See the caveats in the documentation: https://pandas.pydata.org/pandas-docs/stable/user_guide/indexing.html#returning-a-view-versus-a-copy\n",
      "  result['income_range'] = pd.cut(result.income, bins=bin_i, labels = labels_i,include_lowest = True)\n"
     ]
    }
   ],
   "source": [
    "#create range for income\n",
    "bin_i=[30000, 45000, 60000, 75000, 90000, 105000, 140000]\n",
    "labels_i=['30000-44999', '45000-59999', '60000-74999', '75000-89999','90000-104999','120000+']\n",
    "result['income_range'] = pd.cut(result.income, bins=bin_i, labels = labels_i,include_lowest = True) "
   ]
  },
  {
   "cell_type": "code",
   "execution_count": 66,
   "id": "e3e8d73d-59ee-4d4b-87cf-c4bd7b369b79",
   "metadata": {},
   "outputs": [
    {
     "data": {
      "text/html": [
       "<div>\n",
       "<style scoped>\n",
       "    .dataframe tbody tr th:only-of-type {\n",
       "        vertical-align: middle;\n",
       "    }\n",
       "\n",
       "    .dataframe tbody tr th {\n",
       "        vertical-align: top;\n",
       "    }\n",
       "\n",
       "    .dataframe thead th {\n",
       "        text-align: right;\n",
       "    }\n",
       "</style>\n",
       "<table border=\"1\" class=\"dataframe\">\n",
       "  <thead>\n",
       "    <tr style=\"text-align: right;\">\n",
       "      <th></th>\n",
       "      <th>gender</th>\n",
       "      <th>age</th>\n",
       "      <th>income</th>\n",
       "      <th>sex</th>\n",
       "      <th>age_range</th>\n",
       "      <th>income_range</th>\n",
       "    </tr>\n",
       "  </thead>\n",
       "  <tbody>\n",
       "    <tr>\n",
       "      <th>1</th>\n",
       "      <td>F</td>\n",
       "      <td>55</td>\n",
       "      <td>112000.0</td>\n",
       "      <td>Female</td>\n",
       "      <td>50-59</td>\n",
       "      <td>120000+</td>\n",
       "    </tr>\n",
       "    <tr>\n",
       "      <th>3</th>\n",
       "      <td>F</td>\n",
       "      <td>75</td>\n",
       "      <td>100000.0</td>\n",
       "      <td>Female</td>\n",
       "      <td>70-79</td>\n",
       "      <td>90000-104999</td>\n",
       "    </tr>\n",
       "    <tr>\n",
       "      <th>5</th>\n",
       "      <td>M</td>\n",
       "      <td>68</td>\n",
       "      <td>70000.0</td>\n",
       "      <td>Male</td>\n",
       "      <td>60-69</td>\n",
       "      <td>60000-74999</td>\n",
       "    </tr>\n",
       "    <tr>\n",
       "      <th>8</th>\n",
       "      <td>M</td>\n",
       "      <td>65</td>\n",
       "      <td>53000.0</td>\n",
       "      <td>Male</td>\n",
       "      <td>60-69</td>\n",
       "      <td>45000-59999</td>\n",
       "    </tr>\n",
       "    <tr>\n",
       "      <th>12</th>\n",
       "      <td>M</td>\n",
       "      <td>58</td>\n",
       "      <td>51000.0</td>\n",
       "      <td>Male</td>\n",
       "      <td>50-59</td>\n",
       "      <td>45000-59999</td>\n",
       "    </tr>\n",
       "  </tbody>\n",
       "</table>\n",
       "</div>"
      ],
      "text/plain": [
       "   gender  age    income     sex age_range  income_range\n",
       "1       F   55  112000.0  Female     50-59       120000+\n",
       "3       F   75  100000.0  Female     70-79  90000-104999\n",
       "5       M   68   70000.0    Male     60-69   60000-74999\n",
       "8       M   65   53000.0    Male     60-69   45000-59999\n",
       "12      M   58   51000.0    Male     50-59   45000-59999"
      ]
     },
     "execution_count": 66,
     "metadata": {},
     "output_type": "execute_result"
    }
   ],
   "source": [
    "result.head()"
   ]
  },
  {
   "cell_type": "code",
   "execution_count": 48,
   "id": "247d18cf-18ce-4a61-8e91-a83a6816e970",
   "metadata": {},
   "outputs": [
    {
     "data": {
      "image/png": "[encoded data removed]",
      "text/plain": [
       "<Figure size 432x288 with 1 Axes>"
      ]
     },
     "metadata": {
      "needs_background": "light"
     },
     "output_type": "display_data"
    }
   ],
   "source": [
    "# countplot plots the count of the number of records by category\n",
    "cnt = sns.countplot(x=\"age_range\", hue=\"sex\", data=result) # plots a bar chart \n",
    "cnt.set(xlabel= \"Age range\", ylabel= \"Count\") # labels axis\n",
    "plt.suptitle(\"Count of age range in relation to gender\"); # title of plot\n",
    "\n"
   ]
  },
  {
   "cell_type": "code",
   "execution_count": 49,
   "id": "6e40dddb-19ac-4304-ad26-aa78cdfeb81a",
   "metadata": {},
   "outputs": [
    {
     "data": {
      "image/png": "[encoded data removed]",
      "text/plain": [
       "<Figure size 432x288 with 1 Axes>"
      ]
     },
     "metadata": {
      "needs_background": "light"
     },
     "output_type": "display_data"
    }
   ],
   "source": [
    "# countplot plots the count of the number of records by category\n",
    "cnt = sns.countplot(x=\"sex\", hue=\"income_range\", data=result) # plots a bar chart \n",
    "cnt.set(xlabel= \"Income range\", ylabel= \"Count of Customer\") # labels axis\n",
    "plt.suptitle(\"Income range on basis of gender\"); # title of plot\n"
   ]
  },
  {
   "cell_type": "code",
   "execution_count": null,
   "id": "b32ce41b-3d16-46bc-8de1-6466b2eebe73",
   "metadata": {},
   "outputs": [],
   "source": []
  },
  {
   "cell_type": "code",
   "execution_count": null,
   "id": "36a088f3-52e9-4fe8-8766-1a10b66d15a6",
   "metadata": {},
   "outputs": [],
   "source": []
  },
  {
   "cell_type": "code",
   "execution_count": null,
   "id": "497d880a-943a-4799-a5ac-857f522088c6",
   "metadata": {},
   "outputs": [],
   "source": []
  },
  {
   "cell_type": "code",
   "execution_count": null,
   "id": "7243a34b-5f5d-4571-bbc1-d9de9f08eff0",
   "metadata": {},
   "outputs": [],
   "source": [
    "\n"
   ]
  },
  {
   "cell_type": "code",
   "execution_count": null,
   "id": "be00eded-ac01-440f-b725-358fe79579ab",
   "metadata": {},
   "outputs": [],
   "source": []
  }
 ],
 "metadata": {
  "kernelspec": {
   "display_name": "Python 3",
   "language": "python",
   "name": "python3"
  },
  "language_info": {
   "codemirror_mode": {
    "name": "ipython",
    "version": 3
   },
   "file_extension": ".py",
   "mimetype": "text/x-python",
   "name": "python",
   "nbconvert_exporter": "python",
   "pygments_lexer": "ipython3",
   "version": "3.8.8"
  }
 },
 "nbformat": 4,
 "nbformat_minor": 5
}
