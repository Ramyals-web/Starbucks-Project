{
 "cells": [
  {
   "cell_type": "code",
   "execution_count": 35,
   "id": "7804c92b-f8cb-4eda-b035-bc481216c2d8",
   "metadata": {},
   "outputs": [],
   "source": [
    "import pandas as pd\n",
    "import dash\n",
    "import numpy as np\n",
    "import matplotlib.pyplot as plt\n",
    "import seaborn as sns\n",
    "from sqlalchemy import create_engine\n",
    "import plotly.express as px"
   ]
  },
  {
   "cell_type": "code",
   "execution_count": 36,
   "id": "e9ad340e-68ad-4390-acef-5932421df162",
   "metadata": {},
   "outputs": [],
   "source": [
    "engine=create_engine(\"sqlite:///\"+r\"C:\\Users\\19193\\Documents\\BootCamp\\Is_Starbucks_your_cup_of_coffee\\Starbucks.sqlite\")\n",
    "conn=engine.connect()"
   ]
  },
  {
   "cell_type": "code",
   "execution_count": 38,
   "id": "3270a343-5bed-4f55-b5b9-6e69512f2717",
   "metadata": {},
   "outputs": [
    {
     "data": {
      "text/html": [
       "<div>\n",
       "<style scoped>\n",
       "    .dataframe tbody tr th:only-of-type {\n",
       "        vertical-align: middle;\n",
       "    }\n",
       "\n",
       "    .dataframe tbody tr th {\n",
       "        vertical-align: top;\n",
       "    }\n",
       "\n",
       "    .dataframe thead th {\n",
       "        text-align: right;\n",
       "    }\n",
       "</style>\n",
       "<table border=\"1\" class=\"dataframe\">\n",
       "  <thead>\n",
       "    <tr style=\"text-align: right;\">\n",
       "      <th></th>\n",
       "      <th>age</th>\n",
       "      <th>income</th>\n",
       "    </tr>\n",
       "  </thead>\n",
       "  <tbody>\n",
       "    <tr>\n",
       "      <th>count</th>\n",
       "      <td>17000.000000</td>\n",
       "      <td>14825.000000</td>\n",
       "    </tr>\n",
       "    <tr>\n",
       "      <th>mean</th>\n",
       "      <td>62.531412</td>\n",
       "      <td>65404.991568</td>\n",
       "    </tr>\n",
       "    <tr>\n",
       "      <th>std</th>\n",
       "      <td>26.738580</td>\n",
       "      <td>21598.299410</td>\n",
       "    </tr>\n",
       "    <tr>\n",
       "      <th>min</th>\n",
       "      <td>18.000000</td>\n",
       "      <td>30000.000000</td>\n",
       "    </tr>\n",
       "    <tr>\n",
       "      <th>25%</th>\n",
       "      <td>45.000000</td>\n",
       "      <td>49000.000000</td>\n",
       "    </tr>\n",
       "    <tr>\n",
       "      <th>50%</th>\n",
       "      <td>58.000000</td>\n",
       "      <td>64000.000000</td>\n",
       "    </tr>\n",
       "    <tr>\n",
       "      <th>75%</th>\n",
       "      <td>73.000000</td>\n",
       "      <td>80000.000000</td>\n",
       "    </tr>\n",
       "    <tr>\n",
       "      <th>max</th>\n",
       "      <td>118.000000</td>\n",
       "      <td>120000.000000</td>\n",
       "    </tr>\n",
       "  </tbody>\n",
       "</table>\n",
       "</div>"
      ],
      "text/plain": [
       "                age         income\n",
       "count  17000.000000   14825.000000\n",
       "mean      62.531412   65404.991568\n",
       "std       26.738580   21598.299410\n",
       "min       18.000000   30000.000000\n",
       "25%       45.000000   49000.000000\n",
       "50%       58.000000   64000.000000\n",
       "75%       73.000000   80000.000000\n",
       "max      118.000000  120000.000000"
      ]
     },
     "execution_count": 38,
     "metadata": {},
     "output_type": "execute_result"
    }
   ],
   "source": [
    "result=pd.read_csv(r\"C:\\Users\\19193\\Documents\\BootCamp\\Is_Starbucks_your_cup_of_coffee\\profile.csv\")\n",
    "result\n",
    "result.describe()"
   ]
  },
  {
   "cell_type": "code",
   "execution_count": 4,
   "id": "9ce632ac-2710-484d-adce-2420c1c18f12",
   "metadata": {},
   "outputs": [
    {
     "data": {
      "text/plain": [
       "2175"
      ]
     },
     "execution_count": 4,
     "metadata": {},
     "output_type": "execute_result"
    }
   ],
   "source": [
    "result.dtypes\n",
    "result['income'].isnull().sum()\n",
    "result['gender'].isnull().sum()"
   ]
  },
  {
   "cell_type": "code",
   "execution_count": 39,
   "id": "ee8912a2-a569-4a7e-b7ee-d717328a982c",
   "metadata": {},
   "outputs": [
    {
     "data": {
      "text/html": [
       "<div>\n",
       "<style scoped>\n",
       "    .dataframe tbody tr th:only-of-type {\n",
       "        vertical-align: middle;\n",
       "    }\n",
       "\n",
       "    .dataframe tbody tr th {\n",
       "        vertical-align: top;\n",
       "    }\n",
       "\n",
       "    .dataframe thead th {\n",
       "        text-align: right;\n",
       "    }\n",
       "</style>\n",
       "<table border=\"1\" class=\"dataframe\">\n",
       "  <thead>\n",
       "    <tr style=\"text-align: right;\">\n",
       "      <th></th>\n",
       "      <th>gender</th>\n",
       "      <th>age</th>\n",
       "      <th>income</th>\n",
       "    </tr>\n",
       "  </thead>\n",
       "  <tbody>\n",
       "    <tr>\n",
       "      <th>1</th>\n",
       "      <td>False</td>\n",
       "      <td>False</td>\n",
       "      <td>False</td>\n",
       "    </tr>\n",
       "    <tr>\n",
       "      <th>3</th>\n",
       "      <td>False</td>\n",
       "      <td>False</td>\n",
       "      <td>False</td>\n",
       "    </tr>\n",
       "    <tr>\n",
       "      <th>5</th>\n",
       "      <td>False</td>\n",
       "      <td>False</td>\n",
       "      <td>False</td>\n",
       "    </tr>\n",
       "    <tr>\n",
       "      <th>8</th>\n",
       "      <td>False</td>\n",
       "      <td>False</td>\n",
       "      <td>False</td>\n",
       "    </tr>\n",
       "    <tr>\n",
       "      <th>12</th>\n",
       "      <td>False</td>\n",
       "      <td>False</td>\n",
       "      <td>False</td>\n",
       "    </tr>\n",
       "    <tr>\n",
       "      <th>...</th>\n",
       "      <td>...</td>\n",
       "      <td>...</td>\n",
       "      <td>...</td>\n",
       "    </tr>\n",
       "    <tr>\n",
       "      <th>16995</th>\n",
       "      <td>False</td>\n",
       "      <td>False</td>\n",
       "      <td>False</td>\n",
       "    </tr>\n",
       "    <tr>\n",
       "      <th>16996</th>\n",
       "      <td>False</td>\n",
       "      <td>False</td>\n",
       "      <td>False</td>\n",
       "    </tr>\n",
       "    <tr>\n",
       "      <th>16997</th>\n",
       "      <td>False</td>\n",
       "      <td>False</td>\n",
       "      <td>False</td>\n",
       "    </tr>\n",
       "    <tr>\n",
       "      <th>16998</th>\n",
       "      <td>False</td>\n",
       "      <td>False</td>\n",
       "      <td>False</td>\n",
       "    </tr>\n",
       "    <tr>\n",
       "      <th>16999</th>\n",
       "      <td>False</td>\n",
       "      <td>False</td>\n",
       "      <td>False</td>\n",
       "    </tr>\n",
       "  </tbody>\n",
       "</table>\n",
       "<p>14825 rows × 3 columns</p>\n",
       "</div>"
      ],
      "text/plain": [
       "       gender    age  income\n",
       "1       False  False   False\n",
       "3       False  False   False\n",
       "5       False  False   False\n",
       "8       False  False   False\n",
       "12      False  False   False\n",
       "...       ...    ...     ...\n",
       "16995   False  False   False\n",
       "16996   False  False   False\n",
       "16997   False  False   False\n",
       "16998   False  False   False\n",
       "16999   False  False   False\n",
       "\n",
       "[14825 rows x 3 columns]"
      ]
     },
     "execution_count": 39,
     "metadata": {},
     "output_type": "execute_result"
    }
   ],
   "source": [
    "#drop null records where age=118 \n",
    "result.drop(result[result.age==118].index, inplace=True)\n",
    "result.describe()\n",
    "result.isnull()"
   ]
  },
  {
   "cell_type": "code",
   "execution_count": 40,
   "id": "1c870800-640c-439d-9b39-7923aad2d121",
   "metadata": {},
   "outputs": [
    {
     "data": {
      "text/html": [
       "<div>\n",
       "<style scoped>\n",
       "    .dataframe tbody tr th:only-of-type {\n",
       "        vertical-align: middle;\n",
       "    }\n",
       "\n",
       "    .dataframe tbody tr th {\n",
       "        vertical-align: top;\n",
       "    }\n",
       "\n",
       "    .dataframe thead th {\n",
       "        text-align: right;\n",
       "    }\n",
       "</style>\n",
       "<table border=\"1\" class=\"dataframe\">\n",
       "  <thead>\n",
       "    <tr style=\"text-align: right;\">\n",
       "      <th></th>\n",
       "      <th>gender</th>\n",
       "      <th>age</th>\n",
       "      <th>income</th>\n",
       "      <th>sex</th>\n",
       "    </tr>\n",
       "  </thead>\n",
       "  <tbody>\n",
       "    <tr>\n",
       "      <th>1</th>\n",
       "      <td>F</td>\n",
       "      <td>55</td>\n",
       "      <td>112000.0</td>\n",
       "      <td>Female</td>\n",
       "    </tr>\n",
       "    <tr>\n",
       "      <th>3</th>\n",
       "      <td>F</td>\n",
       "      <td>75</td>\n",
       "      <td>100000.0</td>\n",
       "      <td>Female</td>\n",
       "    </tr>\n",
       "    <tr>\n",
       "      <th>5</th>\n",
       "      <td>M</td>\n",
       "      <td>68</td>\n",
       "      <td>70000.0</td>\n",
       "      <td>Male</td>\n",
       "    </tr>\n",
       "    <tr>\n",
       "      <th>8</th>\n",
       "      <td>M</td>\n",
       "      <td>65</td>\n",
       "      <td>53000.0</td>\n",
       "      <td>Male</td>\n",
       "    </tr>\n",
       "    <tr>\n",
       "      <th>12</th>\n",
       "      <td>M</td>\n",
       "      <td>58</td>\n",
       "      <td>51000.0</td>\n",
       "      <td>Male</td>\n",
       "    </tr>\n",
       "    <tr>\n",
       "      <th>...</th>\n",
       "      <td>...</td>\n",
       "      <td>...</td>\n",
       "      <td>...</td>\n",
       "      <td>...</td>\n",
       "    </tr>\n",
       "    <tr>\n",
       "      <th>16995</th>\n",
       "      <td>F</td>\n",
       "      <td>45</td>\n",
       "      <td>54000.0</td>\n",
       "      <td>Female</td>\n",
       "    </tr>\n",
       "    <tr>\n",
       "      <th>16996</th>\n",
       "      <td>M</td>\n",
       "      <td>61</td>\n",
       "      <td>72000.0</td>\n",
       "      <td>Male</td>\n",
       "    </tr>\n",
       "    <tr>\n",
       "      <th>16997</th>\n",
       "      <td>M</td>\n",
       "      <td>49</td>\n",
       "      <td>73000.0</td>\n",
       "      <td>Male</td>\n",
       "    </tr>\n",
       "    <tr>\n",
       "      <th>16998</th>\n",
       "      <td>F</td>\n",
       "      <td>83</td>\n",
       "      <td>50000.0</td>\n",
       "      <td>Female</td>\n",
       "    </tr>\n",
       "    <tr>\n",
       "      <th>16999</th>\n",
       "      <td>F</td>\n",
       "      <td>62</td>\n",
       "      <td>82000.0</td>\n",
       "      <td>Female</td>\n",
       "    </tr>\n",
       "  </tbody>\n",
       "</table>\n",
       "<p>14825 rows × 4 columns</p>\n",
       "</div>"
      ],
      "text/plain": [
       "      gender  age    income     sex\n",
       "1          F   55  112000.0  Female\n",
       "3          F   75  100000.0  Female\n",
       "5          M   68   70000.0    Male\n",
       "8          M   65   53000.0    Male\n",
       "12         M   58   51000.0    Male\n",
       "...      ...  ...       ...     ...\n",
       "16995      F   45   54000.0  Female\n",
       "16996      M   61   72000.0    Male\n",
       "16997      M   49   73000.0    Male\n",
       "16998      F   83   50000.0  Female\n",
       "16999      F   62   82000.0  Female\n",
       "\n",
       "[14825 rows x 4 columns]"
      ]
     },
     "execution_count": 40,
     "metadata": {},
     "output_type": "execute_result"
    }
   ],
   "source": [
    "#create another variable and code F,M , O\n",
    "result['sex']=result['gender'].replace(['F','M','O'],['Female','Male','Unknown'])\n",
    "result"
   ]
  },
  {
   "cell_type": "code",
   "execution_count": 41,
   "id": "a0ca857a-8cff-46c9-98dd-ec09a056b6cb",
   "metadata": {},
   "outputs": [
    {
     "data": {
      "text/html": [
       "<div>\n",
       "<style scoped>\n",
       "    .dataframe tbody tr th:only-of-type {\n",
       "        vertical-align: middle;\n",
       "    }\n",
       "\n",
       "    .dataframe tbody tr th {\n",
       "        vertical-align: top;\n",
       "    }\n",
       "\n",
       "    .dataframe thead th {\n",
       "        text-align: right;\n",
       "    }\n",
       "</style>\n",
       "<table border=\"1\" class=\"dataframe\">\n",
       "  <thead>\n",
       "    <tr style=\"text-align: right;\">\n",
       "      <th></th>\n",
       "      <th>age</th>\n",
       "      <th>income</th>\n",
       "      <th>sex</th>\n",
       "    </tr>\n",
       "  </thead>\n",
       "  <tbody>\n",
       "    <tr>\n",
       "      <th>1</th>\n",
       "      <td>55</td>\n",
       "      <td>112000.0</td>\n",
       "      <td>Female</td>\n",
       "    </tr>\n",
       "    <tr>\n",
       "      <th>3</th>\n",
       "      <td>75</td>\n",
       "      <td>100000.0</td>\n",
       "      <td>Female</td>\n",
       "    </tr>\n",
       "    <tr>\n",
       "      <th>5</th>\n",
       "      <td>68</td>\n",
       "      <td>70000.0</td>\n",
       "      <td>Male</td>\n",
       "    </tr>\n",
       "    <tr>\n",
       "      <th>8</th>\n",
       "      <td>65</td>\n",
       "      <td>53000.0</td>\n",
       "      <td>Male</td>\n",
       "    </tr>\n",
       "    <tr>\n",
       "      <th>12</th>\n",
       "      <td>58</td>\n",
       "      <td>51000.0</td>\n",
       "      <td>Male</td>\n",
       "    </tr>\n",
       "    <tr>\n",
       "      <th>...</th>\n",
       "      <td>...</td>\n",
       "      <td>...</td>\n",
       "      <td>...</td>\n",
       "    </tr>\n",
       "    <tr>\n",
       "      <th>16995</th>\n",
       "      <td>45</td>\n",
       "      <td>54000.0</td>\n",
       "      <td>Female</td>\n",
       "    </tr>\n",
       "    <tr>\n",
       "      <th>16996</th>\n",
       "      <td>61</td>\n",
       "      <td>72000.0</td>\n",
       "      <td>Male</td>\n",
       "    </tr>\n",
       "    <tr>\n",
       "      <th>16997</th>\n",
       "      <td>49</td>\n",
       "      <td>73000.0</td>\n",
       "      <td>Male</td>\n",
       "    </tr>\n",
       "    <tr>\n",
       "      <th>16998</th>\n",
       "      <td>83</td>\n",
       "      <td>50000.0</td>\n",
       "      <td>Female</td>\n",
       "    </tr>\n",
       "    <tr>\n",
       "      <th>16999</th>\n",
       "      <td>62</td>\n",
       "      <td>82000.0</td>\n",
       "      <td>Female</td>\n",
       "    </tr>\n",
       "  </tbody>\n",
       "</table>\n",
       "<p>14825 rows × 3 columns</p>\n",
       "</div>"
      ],
      "text/plain": [
       "       age    income     sex\n",
       "1       55  112000.0  Female\n",
       "3       75  100000.0  Female\n",
       "5       68   70000.0    Male\n",
       "8       65   53000.0    Male\n",
       "12      58   51000.0    Male\n",
       "...    ...       ...     ...\n",
       "16995   45   54000.0  Female\n",
       "16996   61   72000.0    Male\n",
       "16997   49   73000.0    Male\n",
       "16998   83   50000.0  Female\n",
       "16999   62   82000.0  Female\n",
       "\n",
       "[14825 rows x 3 columns]"
      ]
     },
     "execution_count": 41,
     "metadata": {},
     "output_type": "execute_result"
    }
   ],
   "source": [
    "#drop column\n",
    "result.drop(['gender'],axis=1)\n"
   ]
  },
  {
   "cell_type": "code",
   "execution_count": 33,
   "id": "fab837e7-10fe-4997-b859-965349bdb512",
   "metadata": {},
   "outputs": [
    {
     "data": {
      "text/html": [
       "<div>\n",
       "<style scoped>\n",
       "    .dataframe tbody tr th:only-of-type {\n",
       "        vertical-align: middle;\n",
       "    }\n",
       "\n",
       "    .dataframe tbody tr th {\n",
       "        vertical-align: top;\n",
       "    }\n",
       "\n",
       "    .dataframe thead th {\n",
       "        text-align: right;\n",
       "    }\n",
       "</style>\n",
       "<table border=\"1\" class=\"dataframe\">\n",
       "  <thead>\n",
       "    <tr style=\"text-align: right;\">\n",
       "      <th></th>\n",
       "      <th>gender</th>\n",
       "      <th>age</th>\n",
       "      <th>income</th>\n",
       "      <th>sex</th>\n",
       "    </tr>\n",
       "  </thead>\n",
       "  <tbody>\n",
       "    <tr>\n",
       "      <th>1</th>\n",
       "      <td>F</td>\n",
       "      <td>55</td>\n",
       "      <td>112000.0</td>\n",
       "      <td>Female</td>\n",
       "    </tr>\n",
       "    <tr>\n",
       "      <th>3</th>\n",
       "      <td>F</td>\n",
       "      <td>75</td>\n",
       "      <td>100000.0</td>\n",
       "      <td>Female</td>\n",
       "    </tr>\n",
       "    <tr>\n",
       "      <th>5</th>\n",
       "      <td>M</td>\n",
       "      <td>68</td>\n",
       "      <td>70000.0</td>\n",
       "      <td>Male</td>\n",
       "    </tr>\n",
       "    <tr>\n",
       "      <th>8</th>\n",
       "      <td>M</td>\n",
       "      <td>65</td>\n",
       "      <td>53000.0</td>\n",
       "      <td>Male</td>\n",
       "    </tr>\n",
       "    <tr>\n",
       "      <th>12</th>\n",
       "      <td>M</td>\n",
       "      <td>58</td>\n",
       "      <td>51000.0</td>\n",
       "      <td>Male</td>\n",
       "    </tr>\n",
       "    <tr>\n",
       "      <th>...</th>\n",
       "      <td>...</td>\n",
       "      <td>...</td>\n",
       "      <td>...</td>\n",
       "      <td>...</td>\n",
       "    </tr>\n",
       "    <tr>\n",
       "      <th>16950</th>\n",
       "      <td>F</td>\n",
       "      <td>26</td>\n",
       "      <td>65000.0</td>\n",
       "      <td>Female</td>\n",
       "    </tr>\n",
       "    <tr>\n",
       "      <th>16968</th>\n",
       "      <td>M</td>\n",
       "      <td>74</td>\n",
       "      <td>87000.0</td>\n",
       "      <td>Male</td>\n",
       "    </tr>\n",
       "    <tr>\n",
       "      <th>16973</th>\n",
       "      <td>M</td>\n",
       "      <td>30</td>\n",
       "      <td>57000.0</td>\n",
       "      <td>Male</td>\n",
       "    </tr>\n",
       "    <tr>\n",
       "      <th>16986</th>\n",
       "      <td>F</td>\n",
       "      <td>59</td>\n",
       "      <td>63000.0</td>\n",
       "      <td>Female</td>\n",
       "    </tr>\n",
       "    <tr>\n",
       "      <th>16998</th>\n",
       "      <td>F</td>\n",
       "      <td>83</td>\n",
       "      <td>50000.0</td>\n",
       "      <td>Female</td>\n",
       "    </tr>\n",
       "  </tbody>\n",
       "</table>\n",
       "<p>7449 rows × 4 columns</p>\n",
       "</div>"
      ],
      "text/plain": [
       "      gender  age    income     sex\n",
       "1          F   55  112000.0  Female\n",
       "3          F   75  100000.0  Female\n",
       "5          M   68   70000.0    Male\n",
       "8          M   65   53000.0    Male\n",
       "12         M   58   51000.0    Male\n",
       "...      ...  ...       ...     ...\n",
       "16950      F   26   65000.0  Female\n",
       "16968      M   74   87000.0    Male\n",
       "16973      M   30   57000.0    Male\n",
       "16986      F   59   63000.0  Female\n",
       "16998      F   83   50000.0  Female\n",
       "\n",
       "[7449 rows x 4 columns]"
      ]
     },
     "execution_count": 33,
     "metadata": {},
     "output_type": "execute_result"
    }
   ],
   "source": [
    "# result=result.drop_duplicates()\n",
    "#result"
   ]
  },
  {
   "cell_type": "code",
   "execution_count": 46,
   "id": "545d58d0-9fa4-4f3c-8618-6e1cdb2fad01",
   "metadata": {},
   "outputs": [
    {
     "data": {
      "application/vnd.plotly.v1+json": {
       "config": {
        "plotlyServerURL": "https://plot.ly"
       },
       "data": [
        {
         "customdata": [
          [
           "Female"
          ],
          [
           "Male"
          ],
          [
           "Unknown"
          ]
         ],
         "domain": {
          "x": [
           0,
           1
          ],
          "y": [
           0,
           1
          ]
         },
         "hole": 0.5,
         "hovertemplate": "Count=%{value}<br>Gender=%{customdata[0]}<extra></extra>",
         "legendgroup": "",
         "marker": {
          "colors": [
           "#636efa",
           "#EF553B",
           "#00cc96"
          ]
         },
         "name": "",
         "showlegend": false,
         "type": "pie",
         "values": [
          6129,
          8484,
          212
         ]
        }
       ],
       "layout": {
        "autosize": true,
        "legend": {
         "tracegroupgap": 0
        },
        "template": {
         "data": {
          "bar": [
           {
            "error_x": {
             "color": "#2a3f5f"
            },
            "error_y": {
             "color": "#2a3f5f"
            },
            "marker": {
             "line": {
              "color": "#E5ECF6",
              "width": 0.5
             },
             "pattern": {
              "fillmode": "overlay",
              "size": 10,
              "solidity": 0.2
             }
            },
            "type": "bar"
           }
          ],
          "barpolar": [
           {
            "marker": {
             "line": {
              "color": "#E5ECF6",
              "width": 0.5
             },
             "pattern": {
              "fillmode": "overlay",
              "size": 10,
              "solidity": 0.2
             }
            },
            "type": "barpolar"
           }
          ],
          "carpet": [
           {
            "aaxis": {
             "endlinecolor": "#2a3f5f",
             "gridcolor": "white",
             "linecolor": "white",
             "minorgridcolor": "white",
             "startlinecolor": "#2a3f5f"
            },
            "baxis": {
             "endlinecolor": "#2a3f5f",
             "gridcolor": "white",
             "linecolor": "white",
             "minorgridcolor": "white",
             "startlinecolor": "#2a3f5f"
            },
            "type": "carpet"
           }
          ],
          "choropleth": [
           {
            "colorbar": {
             "outlinewidth": 0,
             "ticks": ""
            },
            "type": "choropleth"
           }
          ],
          "contour": [
           {
            "colorbar": {
             "outlinewidth": 0,
             "ticks": ""
            },
            "colorscale": [
             [
              0,
              "#0d0887"
             ],
             [
              0.1111111111111111,
              "#46039f"
             ],
             [
              0.2222222222222222,
              "#7201a8"
             ],
             [
              0.3333333333333333,
              "#9c179e"
             ],
             [
              0.4444444444444444,
              "#bd3786"
             ],
             [
              0.5555555555555556,
              "#d8576b"
             ],
             [
              0.6666666666666666,
              "#ed7953"
             ],
             [
              0.7777777777777778,
              "#fb9f3a"
             ],
             [
              0.8888888888888888,
              "#fdca26"
             ],
             [
              1,
              "#f0f921"
             ]
            ],
            "type": "contour"
           }
          ],
          "contourcarpet": [
           {
            "colorbar": {
             "outlinewidth": 0,
             "ticks": ""
            },
            "type": "contourcarpet"
           }
          ],
          "heatmap": [
           {
            "colorbar": {
             "outlinewidth": 0,
             "ticks": ""
            },
            "colorscale": [
             [
              0,
              "#0d0887"
             ],
             [
              0.1111111111111111,
              "#46039f"
             ],
             [
              0.2222222222222222,
              "#7201a8"
             ],
             [
              0.3333333333333333,
              "#9c179e"
             ],
             [
              0.4444444444444444,
              "#bd3786"
             ],
             [
              0.5555555555555556,
              "#d8576b"
             ],
             [
              0.6666666666666666,
              "#ed7953"
             ],
             [
              0.7777777777777778,
              "#fb9f3a"
             ],
             [
              0.8888888888888888,
              "#fdca26"
             ],
             [
              1,
              "#f0f921"
             ]
            ],
            "type": "heatmap"
           }
          ],
          "heatmapgl": [
           {
            "colorbar": {
             "outlinewidth": 0,
             "ticks": ""
            },
            "colorscale": [
             [
              0,
              "#0d0887"
             ],
             [
              0.1111111111111111,
              "#46039f"
             ],
             [
              0.2222222222222222,
              "#7201a8"
             ],
             [
              0.3333333333333333,
              "#9c179e"
             ],
             [
              0.4444444444444444,
              "#bd3786"
             ],
             [
              0.5555555555555556,
              "#d8576b"
             ],
             [
              0.6666666666666666,
              "#ed7953"
             ],
             [
              0.7777777777777778,
              "#fb9f3a"
             ],
             [
              0.8888888888888888,
              "#fdca26"
             ],
             [
              1,
              "#f0f921"
             ]
            ],
            "type": "heatmapgl"
           }
          ],
          "histogram": [
           {
            "marker": {
             "pattern": {
              "fillmode": "overlay",
              "size": 10,
              "solidity": 0.2
             }
            },
            "type": "histogram"
           }
          ],
          "histogram2d": [
           {
            "colorbar": {
             "outlinewidth": 0,
             "ticks": ""
            },
            "colorscale": [
             [
              0,
              "#0d0887"
             ],
             [
              0.1111111111111111,
              "#46039f"
             ],
             [
              0.2222222222222222,
              "#7201a8"
             ],
             [
              0.3333333333333333,
              "#9c179e"
             ],
             [
              0.4444444444444444,
              "#bd3786"
             ],
             [
              0.5555555555555556,
              "#d8576b"
             ],
             [
              0.6666666666666666,
              "#ed7953"
             ],
             [
              0.7777777777777778,
              "#fb9f3a"
             ],
             [
              0.8888888888888888,
              "#fdca26"
             ],
             [
              1,
              "#f0f921"
             ]
            ],
            "type": "histogram2d"
           }
          ],
          "histogram2dcontour": [
           {
            "colorbar": {
             "outlinewidth": 0,
             "ticks": ""
            },
            "colorscale": [
             [
              0,
              "#0d0887"
             ],
             [
              0.1111111111111111,
              "#46039f"
             ],
             [
              0.2222222222222222,
              "#7201a8"
             ],
             [
              0.3333333333333333,
              "#9c179e"
             ],
             [
              0.4444444444444444,
              "#bd3786"
             ],
             [
              0.5555555555555556,
              "#d8576b"
             ],
             [
              0.6666666666666666,
              "#ed7953"
             ],
             [
              0.7777777777777778,
              "#fb9f3a"
             ],
             [
              0.8888888888888888,
              "#fdca26"
             ],
             [
              1,
              "#f0f921"
             ]
            ],
            "type": "histogram2dcontour"
           }
          ],
          "mesh3d": [
           {
            "colorbar": {
             "outlinewidth": 0,
             "ticks": ""
            },
            "type": "mesh3d"
           }
          ],
          "parcoords": [
           {
            "line": {
             "colorbar": {
              "outlinewidth": 0,
              "ticks": ""
             }
            },
            "type": "parcoords"
           }
          ],
          "pie": [
           {
            "automargin": true,
            "type": "pie"
           }
          ],
          "scatter": [
           {
            "marker": {
             "colorbar": {
              "outlinewidth": 0,
              "ticks": ""
             }
            },
            "type": "scatter"
           }
          ],
          "scatter3d": [
           {
            "line": {
             "colorbar": {
              "outlinewidth": 0,
              "ticks": ""
             }
            },
            "marker": {
             "colorbar": {
              "outlinewidth": 0,
              "ticks": ""
             }
            },
            "type": "scatter3d"
           }
          ],
          "scattercarpet": [
           {
            "marker": {
             "colorbar": {
              "outlinewidth": 0,
              "ticks": ""
             }
            },
            "type": "scattercarpet"
           }
          ],
          "scattergeo": [
           {
            "marker": {
             "colorbar": {
              "outlinewidth": 0,
              "ticks": ""
             }
            },
            "type": "scattergeo"
           }
          ],
          "scattergl": [
           {
            "marker": {
             "colorbar": {
              "outlinewidth": 0,
              "ticks": ""
             }
            },
            "type": "scattergl"
           }
          ],
          "scattermapbox": [
           {
            "marker": {
             "colorbar": {
              "outlinewidth": 0,
              "ticks": ""
             }
            },
            "type": "scattermapbox"
           }
          ],
          "scatterpolar": [
           {
            "marker": {
             "colorbar": {
              "outlinewidth": 0,
              "ticks": ""
             }
            },
            "type": "scatterpolar"
           }
          ],
          "scatterpolargl": [
           {
            "marker": {
             "colorbar": {
              "outlinewidth": 0,
              "ticks": ""
             }
            },
            "type": "scatterpolargl"
           }
          ],
          "scatterternary": [
           {
            "marker": {
             "colorbar": {
              "outlinewidth": 0,
              "ticks": ""
             }
            },
            "type": "scatterternary"
           }
          ],
          "surface": [
           {
            "colorbar": {
             "outlinewidth": 0,
             "ticks": ""
            },
            "colorscale": [
             [
              0,
              "#0d0887"
             ],
             [
              0.1111111111111111,
              "#46039f"
             ],
             [
              0.2222222222222222,
              "#7201a8"
             ],
             [
              0.3333333333333333,
              "#9c179e"
             ],
             [
              0.4444444444444444,
              "#bd3786"
             ],
             [
              0.5555555555555556,
              "#d8576b"
             ],
             [
              0.6666666666666666,
              "#ed7953"
             ],
             [
              0.7777777777777778,
              "#fb9f3a"
             ],
             [
              0.8888888888888888,
              "#fdca26"
             ],
             [
              1,
              "#f0f921"
             ]
            ],
            "type": "surface"
           }
          ],
          "table": [
           {
            "cells": {
             "fill": {
              "color": "#EBF0F8"
             },
             "line": {
              "color": "white"
             }
            },
            "header": {
             "fill": {
              "color": "#C8D4E3"
             },
             "line": {
              "color": "white"
             }
            },
            "type": "table"
           }
          ]
         },
         "layout": {
          "annotationdefaults": {
           "arrowcolor": "#2a3f5f",
           "arrowhead": 0,
           "arrowwidth": 1
          },
          "autotypenumbers": "strict",
          "coloraxis": {
           "colorbar": {
            "outlinewidth": 0,
            "ticks": ""
           }
          },
          "colorscale": {
           "diverging": [
            [
             0,
             "#8e0152"
            ],
            [
             0.1,
             "#c51b7d"
            ],
            [
             0.2,
             "#de77ae"
            ],
            [
             0.3,
             "#f1b6da"
            ],
            [
             0.4,
             "#fde0ef"
            ],
            [
             0.5,
             "#f7f7f7"
            ],
            [
             0.6,
             "#e6f5d0"
            ],
            [
             0.7,
             "#b8e186"
            ],
            [
             0.8,
             "#7fbc41"
            ],
            [
             0.9,
             "#4d9221"
            ],
            [
             1,
             "#276419"
            ]
           ],
           "sequential": [
            [
             0,
             "#0d0887"
            ],
            [
             0.1111111111111111,
             "#46039f"
            ],
            [
             0.2222222222222222,
             "#7201a8"
            ],
            [
             0.3333333333333333,
             "#9c179e"
            ],
            [
             0.4444444444444444,
             "#bd3786"
            ],
            [
             0.5555555555555556,
             "#d8576b"
            ],
            [
             0.6666666666666666,
             "#ed7953"
            ],
            [
             0.7777777777777778,
             "#fb9f3a"
            ],
            [
             0.8888888888888888,
             "#fdca26"
            ],
            [
             1,
             "#f0f921"
            ]
           ],
           "sequentialminus": [
            [
             0,
             "#0d0887"
            ],
            [
             0.1111111111111111,
             "#46039f"
            ],
            [
             0.2222222222222222,
             "#7201a8"
            ],
            [
             0.3333333333333333,
             "#9c179e"
            ],
            [
             0.4444444444444444,
             "#bd3786"
            ],
            [
             0.5555555555555556,
             "#d8576b"
            ],
            [
             0.6666666666666666,
             "#ed7953"
            ],
            [
             0.7777777777777778,
             "#fb9f3a"
            ],
            [
             0.8888888888888888,
             "#fdca26"
            ],
            [
             1,
             "#f0f921"
            ]
           ]
          },
          "colorway": [
           "#636efa",
           "#EF553B",
           "#00cc96",
           "#ab63fa",
           "#FFA15A",
           "#19d3f3",
           "#FF6692",
           "#B6E880",
           "#FF97FF",
           "#FECB52"
          ],
          "font": {
           "color": "#2a3f5f"
          },
          "geo": {
           "bgcolor": "white",
           "lakecolor": "white",
           "landcolor": "#E5ECF6",
           "showlakes": true,
           "showland": true,
           "subunitcolor": "white"
          },
          "hoverlabel": {
           "align": "left"
          },
          "hovermode": "closest",
          "mapbox": {
           "style": "light"
          },
          "paper_bgcolor": "white",
          "plot_bgcolor": "#E5ECF6",
          "polar": {
           "angularaxis": {
            "gridcolor": "white",
            "linecolor": "white",
            "ticks": ""
           },
           "bgcolor": "#E5ECF6",
           "radialaxis": {
            "gridcolor": "white",
            "linecolor": "white",
            "ticks": ""
           }
          },
          "scene": {
           "xaxis": {
            "backgroundcolor": "#E5ECF6",
            "gridcolor": "white",
            "gridwidth": 2,
            "linecolor": "white",
            "showbackground": true,
            "ticks": "",
            "zerolinecolor": "white"
           },
           "yaxis": {
            "backgroundcolor": "#E5ECF6",
            "gridcolor": "white",
            "gridwidth": 2,
            "linecolor": "white",
            "showbackground": true,
            "ticks": "",
            "zerolinecolor": "white"
           },
           "zaxis": {
            "backgroundcolor": "#E5ECF6",
            "gridcolor": "white",
            "gridwidth": 2,
            "linecolor": "white",
            "showbackground": true,
            "ticks": "",
            "zerolinecolor": "white"
           }
          },
          "shapedefaults": {
           "line": {
            "color": "#2a3f5f"
           }
          },
          "ternary": {
           "aaxis": {
            "gridcolor": "white",
            "linecolor": "white",
            "ticks": ""
           },
           "baxis": {
            "gridcolor": "white",
            "linecolor": "white",
            "ticks": ""
           },
           "bgcolor": "#E5ECF6",
           "caxis": {
            "gridcolor": "white",
            "linecolor": "white",
            "ticks": ""
           }
          },
          "title": {
           "x": 0.05
          },
          "xaxis": {
           "automargin": true,
           "gridcolor": "white",
           "linecolor": "white",
           "ticks": "",
           "title": {
            "standoff": 15
           },
           "zerolinecolor": "white",
           "zerolinewidth": 2
          },
          "yaxis": {
           "automargin": true,
           "gridcolor": "white",
           "linecolor": "white",
           "ticks": "",
           "title": {
            "standoff": 15
           },
           "zerolinecolor": "white",
           "zerolinewidth": 2
          }
         }
        },
        "title": {
         "text": "Unique Count on basis of Gender"
        }
       }
      },
      "image/png": "[encoded data removed]",
      "text/html": [
       "<div>                            <div id=\"78bd007d-62ee-4d60-955a-bcd6b2a66c96\" class=\"plotly-graph-div\" style=\"height:525px; width:100%;\"></div>            <script type=\"text/javascript\">                require([\"plotly\"], function(Plotly) {                    window.PLOTLYENV=window.PLOTLYENV || {};                                    if (document.getElementById(\"78bd007d-62ee-4d60-955a-bcd6b2a66c96\")) {                    Plotly.newPlot(                        \"78bd007d-62ee-4d60-955a-bcd6b2a66c96\",                        [{\"customdata\":[[\"Female\"],[\"Male\"],[\"Unknown\"]],\"domain\":{\"x\":[0.0,1.0],\"y\":[0.0,1.0]},\"hole\":0.5,\"hovertemplate\":\"Count=%{value}<br>Gender=%{customdata[0]}<extra></extra>\",\"legendgroup\":\"\",\"marker\":{\"colors\":[\"#636efa\",\"#EF553B\",\"#00cc96\"]},\"name\":\"\",\"showlegend\":false,\"type\":\"pie\",\"values\":[6129,8484,212]}],                        {\"legend\":{\"tracegroupgap\":0},\"template\":{\"data\":{\"bar\":[{\"error_x\":{\"color\":\"#2a3f5f\"},\"error_y\":{\"color\":\"#2a3f5f\"},\"marker\":{\"line\":{\"color\":\"#E5ECF6\",\"width\":0.5},\"pattern\":{\"fillmode\":\"overlay\",\"size\":10,\"solidity\":0.2}},\"type\":\"bar\"}],\"barpolar\":[{\"marker\":{\"line\":{\"color\":\"#E5ECF6\",\"width\":0.5},\"pattern\":{\"fillmode\":\"overlay\",\"size\":10,\"solidity\":0.2}},\"type\":\"barpolar\"}],\"carpet\":[{\"aaxis\":{\"endlinecolor\":\"#2a3f5f\",\"gridcolor\":\"white\",\"linecolor\":\"white\",\"minorgridcolor\":\"white\",\"startlinecolor\":\"#2a3f5f\"},\"baxis\":{\"endlinecolor\":\"#2a3f5f\",\"gridcolor\":\"white\",\"linecolor\":\"white\",\"minorgridcolor\":\"white\",\"startlinecolor\":\"#2a3f5f\"},\"type\":\"carpet\"}],\"choropleth\":[{\"colorbar\":{\"outlinewidth\":0,\"ticks\":\"\"},\"type\":\"choropleth\"}],\"contour\":[{\"colorbar\":{\"outlinewidth\":0,\"ticks\":\"\"},\"colorscale\":[[0.0,\"#0d0887\"],[0.1111111111111111,\"#46039f\"],[0.2222222222222222,\"#7201a8\"],[0.3333333333333333,\"#9c179e\"],[0.4444444444444444,\"#bd3786\"],[0.5555555555555556,\"#d8576b\"],[0.6666666666666666,\"#ed7953\"],[0.7777777777777778,\"#fb9f3a\"],[0.8888888888888888,\"#fdca26\"],[1.0,\"#f0f921\"]],\"type\":\"contour\"}],\"contourcarpet\":[{\"colorbar\":{\"outlinewidth\":0,\"ticks\":\"\"},\"type\":\"contourcarpet\"}],\"heatmap\":[{\"colorbar\":{\"outlinewidth\":0,\"ticks\":\"\"},\"colorscale\":[[0.0,\"#0d0887\"],[0.1111111111111111,\"#46039f\"],[0.2222222222222222,\"#7201a8\"],[0.3333333333333333,\"#9c179e\"],[0.4444444444444444,\"#bd3786\"],[0.5555555555555556,\"#d8576b\"],[0.6666666666666666,\"#ed7953\"],[0.7777777777777778,\"#fb9f3a\"],[0.8888888888888888,\"#fdca26\"],[1.0,\"#f0f921\"]],\"type\":\"heatmap\"}],\"heatmapgl\":[{\"colorbar\":{\"outlinewidth\":0,\"ticks\":\"\"},\"colorscale\":[[0.0,\"#0d0887\"],[0.1111111111111111,\"#46039f\"],[0.2222222222222222,\"#7201a8\"],[0.3333333333333333,\"#9c179e\"],[0.4444444444444444,\"#bd3786\"],[0.5555555555555556,\"#d8576b\"],[0.6666666666666666,\"#ed7953\"],[0.7777777777777778,\"#fb9f3a\"],[0.8888888888888888,\"#fdca26\"],[1.0,\"#f0f921\"]],\"type\":\"heatmapgl\"}],\"histogram\":[{\"marker\":{\"pattern\":{\"fillmode\":\"overlay\",\"size\":10,\"solidity\":0.2}},\"type\":\"histogram\"}],\"histogram2d\":[{\"colorbar\":{\"outlinewidth\":0,\"ticks\":\"\"},\"colorscale\":[[0.0,\"#0d0887\"],[0.1111111111111111,\"#46039f\"],[0.2222222222222222,\"#7201a8\"],[0.3333333333333333,\"#9c179e\"],[0.4444444444444444,\"#bd3786\"],[0.5555555555555556,\"#d8576b\"],[0.6666666666666666,\"#ed7953\"],[0.7777777777777778,\"#fb9f3a\"],[0.8888888888888888,\"#fdca26\"],[1.0,\"#f0f921\"]],\"type\":\"histogram2d\"}],\"histogram2dcontour\":[{\"colorbar\":{\"outlinewidth\":0,\"ticks\":\"\"},\"colorscale\":[[0.0,\"#0d0887\"],[0.1111111111111111,\"#46039f\"],[0.2222222222222222,\"#7201a8\"],[0.3333333333333333,\"#9c179e\"],[0.4444444444444444,\"#bd3786\"],[0.5555555555555556,\"#d8576b\"],[0.6666666666666666,\"#ed7953\"],[0.7777777777777778,\"#fb9f3a\"],[0.8888888888888888,\"#fdca26\"],[1.0,\"#f0f921\"]],\"type\":\"histogram2dcontour\"}],\"mesh3d\":[{\"colorbar\":{\"outlinewidth\":0,\"ticks\":\"\"},\"type\":\"mesh3d\"}],\"parcoords\":[{\"line\":{\"colorbar\":{\"outlinewidth\":0,\"ticks\":\"\"}},\"type\":\"parcoords\"}],\"pie\":[{\"automargin\":true,\"type\":\"pie\"}],\"scatter\":[{\"marker\":{\"colorbar\":{\"outlinewidth\":0,\"ticks\":\"\"}},\"type\":\"scatter\"}],\"scatter3d\":[{\"line\":{\"colorbar\":{\"outlinewidth\":0,\"ticks\":\"\"}},\"marker\":{\"colorbar\":{\"outlinewidth\":0,\"ticks\":\"\"}},\"type\":\"scatter3d\"}],\"scattercarpet\":[{\"marker\":{\"colorbar\":{\"outlinewidth\":0,\"ticks\":\"\"}},\"type\":\"scattercarpet\"}],\"scattergeo\":[{\"marker\":{\"colorbar\":{\"outlinewidth\":0,\"ticks\":\"\"}},\"type\":\"scattergeo\"}],\"scattergl\":[{\"marker\":{\"colorbar\":{\"outlinewidth\":0,\"ticks\":\"\"}},\"type\":\"scattergl\"}],\"scattermapbox\":[{\"marker\":{\"colorbar\":{\"outlinewidth\":0,\"ticks\":\"\"}},\"type\":\"scattermapbox\"}],\"scatterpolar\":[{\"marker\":{\"colorbar\":{\"outlinewidth\":0,\"ticks\":\"\"}},\"type\":\"scatterpolar\"}],\"scatterpolargl\":[{\"marker\":{\"colorbar\":{\"outlinewidth\":0,\"ticks\":\"\"}},\"type\":\"scatterpolargl\"}],\"scatterternary\":[{\"marker\":{\"colorbar\":{\"outlinewidth\":0,\"ticks\":\"\"}},\"type\":\"scatterternary\"}],\"surface\":[{\"colorbar\":{\"outlinewidth\":0,\"ticks\":\"\"},\"colorscale\":[[0.0,\"#0d0887\"],[0.1111111111111111,\"#46039f\"],[0.2222222222222222,\"#7201a8\"],[0.3333333333333333,\"#9c179e\"],[0.4444444444444444,\"#bd3786\"],[0.5555555555555556,\"#d8576b\"],[0.6666666666666666,\"#ed7953\"],[0.7777777777777778,\"#fb9f3a\"],[0.8888888888888888,\"#fdca26\"],[1.0,\"#f0f921\"]],\"type\":\"surface\"}],\"table\":[{\"cells\":{\"fill\":{\"color\":\"#EBF0F8\"},\"line\":{\"color\":\"white\"}},\"header\":{\"fill\":{\"color\":\"#C8D4E3\"},\"line\":{\"color\":\"white\"}},\"type\":\"table\"}]},\"layout\":{\"annotationdefaults\":{\"arrowcolor\":\"#2a3f5f\",\"arrowhead\":0,\"arrowwidth\":1},\"autotypenumbers\":\"strict\",\"coloraxis\":{\"colorbar\":{\"outlinewidth\":0,\"ticks\":\"\"}},\"colorscale\":{\"diverging\":[[0,\"#8e0152\"],[0.1,\"#c51b7d\"],[0.2,\"#de77ae\"],[0.3,\"#f1b6da\"],[0.4,\"#fde0ef\"],[0.5,\"#f7f7f7\"],[0.6,\"#e6f5d0\"],[0.7,\"#b8e186\"],[0.8,\"#7fbc41\"],[0.9,\"#4d9221\"],[1,\"#276419\"]],\"sequential\":[[0.0,\"#0d0887\"],[0.1111111111111111,\"#46039f\"],[0.2222222222222222,\"#7201a8\"],[0.3333333333333333,\"#9c179e\"],[0.4444444444444444,\"#bd3786\"],[0.5555555555555556,\"#d8576b\"],[0.6666666666666666,\"#ed7953\"],[0.7777777777777778,\"#fb9f3a\"],[0.8888888888888888,\"#fdca26\"],[1.0,\"#f0f921\"]],\"sequentialminus\":[[0.0,\"#0d0887\"],[0.1111111111111111,\"#46039f\"],[0.2222222222222222,\"#7201a8\"],[0.3333333333333333,\"#9c179e\"],[0.4444444444444444,\"#bd3786\"],[0.5555555555555556,\"#d8576b\"],[0.6666666666666666,\"#ed7953\"],[0.7777777777777778,\"#fb9f3a\"],[0.8888888888888888,\"#fdca26\"],[1.0,\"#f0f921\"]]},\"colorway\":[\"#636efa\",\"#EF553B\",\"#00cc96\",\"#ab63fa\",\"#FFA15A\",\"#19d3f3\",\"#FF6692\",\"#B6E880\",\"#FF97FF\",\"#FECB52\"],\"font\":{\"color\":\"#2a3f5f\"},\"geo\":{\"bgcolor\":\"white\",\"lakecolor\":\"white\",\"landcolor\":\"#E5ECF6\",\"showlakes\":true,\"showland\":true,\"subunitcolor\":\"white\"},\"hoverlabel\":{\"align\":\"left\"},\"hovermode\":\"closest\",\"mapbox\":{\"style\":\"light\"},\"paper_bgcolor\":\"white\",\"plot_bgcolor\":\"#E5ECF6\",\"polar\":{\"angularaxis\":{\"gridcolor\":\"white\",\"linecolor\":\"white\",\"ticks\":\"\"},\"bgcolor\":\"#E5ECF6\",\"radialaxis\":{\"gridcolor\":\"white\",\"linecolor\":\"white\",\"ticks\":\"\"}},\"scene\":{\"xaxis\":{\"backgroundcolor\":\"#E5ECF6\",\"gridcolor\":\"white\",\"gridwidth\":2,\"linecolor\":\"white\",\"showbackground\":true,\"ticks\":\"\",\"zerolinecolor\":\"white\"},\"yaxis\":{\"backgroundcolor\":\"#E5ECF6\",\"gridcolor\":\"white\",\"gridwidth\":2,\"linecolor\":\"white\",\"showbackground\":true,\"ticks\":\"\",\"zerolinecolor\":\"white\"},\"zaxis\":{\"backgroundcolor\":\"#E5ECF6\",\"gridcolor\":\"white\",\"gridwidth\":2,\"linecolor\":\"white\",\"showbackground\":true,\"ticks\":\"\",\"zerolinecolor\":\"white\"}},\"shapedefaults\":{\"line\":{\"color\":\"#2a3f5f\"}},\"ternary\":{\"aaxis\":{\"gridcolor\":\"white\",\"linecolor\":\"white\",\"ticks\":\"\"},\"baxis\":{\"gridcolor\":\"white\",\"linecolor\":\"white\",\"ticks\":\"\"},\"bgcolor\":\"#E5ECF6\",\"caxis\":{\"gridcolor\":\"white\",\"linecolor\":\"white\",\"ticks\":\"\"}},\"title\":{\"x\":0.05},\"xaxis\":{\"automargin\":true,\"gridcolor\":\"white\",\"linecolor\":\"white\",\"ticks\":\"\",\"title\":{\"standoff\":15},\"zerolinecolor\":\"white\",\"zerolinewidth\":2},\"yaxis\":{\"automargin\":true,\"gridcolor\":\"white\",\"linecolor\":\"white\",\"ticks\":\"\",\"title\":{\"standoff\":15},\"zerolinecolor\":\"white\",\"zerolinewidth\":2}}},\"title\":{\"text\":\"Unique Count on basis of Gender\"}},                        {\"responsive\": true}                    ).then(function(){\n",
       "                            \n",
       "var gd = document.getElementById('78bd007d-62ee-4d60-955a-bcd6b2a66c96');\n",
       "var x = new MutationObserver(function (mutations, observer) {{\n",
       "        var display = window.getComputedStyle(gd).display;\n",
       "        if (!display || display === 'none') {{\n",
       "            console.log([gd, 'removed!']);\n",
       "            Plotly.purge(gd);\n",
       "            observer.disconnect();\n",
       "        }}\n",
       "}});\n",
       "\n",
       "// Listen for the removal of the full notebook cells\n",
       "var notebookContainer = gd.closest('#notebook-container');\n",
       "if (notebookContainer) {{\n",
       "    x.observe(notebookContainer, {childList: true});\n",
       "}}\n",
       "\n",
       "// Listen for the clearing of the current output cell\n",
       "var outputEl = gd.closest('.output');\n",
       "if (outputEl) {{\n",
       "    x.observe(outputEl, {childList: true});\n",
       "}}\n",
       "\n",
       "                        })                };                });            </script>        </div>"
      ]
     },
     "metadata": {},
     "output_type": "display_data"
    }
   ],
   "source": [
    "#\n",
    "# Who usually spend more at Starbucks, female or male?\n",
    "sum_t=result.groupby(['sex'], as_index=False)['income'].count().round(0)\n",
    "sum_t.head()\n",
    "\n",
    "\n",
    "fig = px.pie(sum_t, values='income' ,color='sex',title='Consumption on basis of Gender',\n",
    "             labels={\"sex\":\"Gender\", \"income\":\"Count\"},hole=0.5)\n",
    "fig.show()\n",
    "fig.write_html(\"pisexcnt.html\")"
   ]
  },
  {
   "cell_type": "code",
   "execution_count": 48,
   "id": "9c2781fc-0016-47d7-83a2-e9cdd31848b8",
   "metadata": {},
   "outputs": [
    {
     "data": {
      "application/vnd.plotly.v1+json": {
       "config": {
        "plotlyServerURL": "https://plot.ly"
       },
       "data": [
        {
         "customdata": [
          [
           "Female"
          ],
          [
           "Male"
          ],
          [
           "Unknown"
          ]
         ],
         "domain": {
          "x": [
           0,
           1
          ],
          "y": [
           0,
           1
          ]
         },
         "hole": 0.5,
         "hovertemplate": "Average Income=%{value}<br>Gender=%{customdata[0]}<extra></extra>",
         "legendgroup": "",
         "marker": {
          "colors": [
           "#636efa",
           "#EF553B",
           "#00cc96"
          ]
         },
         "name": "",
         "showlegend": false,
         "type": "pie",
         "values": [
          71306,
          61195,
          63288
         ]
        }
       ],
       "layout": {
        "autosize": true,
        "legend": {
         "tracegroupgap": 0
        },
        "template": {
         "data": {
          "bar": [
           {
            "error_x": {
             "color": "#2a3f5f"
            },
            "error_y": {
             "color": "#2a3f5f"
            },
            "marker": {
             "line": {
              "color": "#E5ECF6",
              "width": 0.5
             },
             "pattern": {
              "fillmode": "overlay",
              "size": 10,
              "solidity": 0.2
             }
            },
            "type": "bar"
           }
          ],
          "barpolar": [
           {
            "marker": {
             "line": {
              "color": "#E5ECF6",
              "width": 0.5
             },
             "pattern": {
              "fillmode": "overlay",
              "size": 10,
              "solidity": 0.2
             }
            },
            "type": "barpolar"
           }
          ],
          "carpet": [
           {
            "aaxis": {
             "endlinecolor": "#2a3f5f",
             "gridcolor": "white",
             "linecolor": "white",
             "minorgridcolor": "white",
             "startlinecolor": "#2a3f5f"
            },
            "baxis": {
             "endlinecolor": "#2a3f5f",
             "gridcolor": "white",
             "linecolor": "white",
             "minorgridcolor": "white",
             "startlinecolor": "#2a3f5f"
            },
            "type": "carpet"
           }
          ],
          "choropleth": [
           {
            "colorbar": {
             "outlinewidth": 0,
             "ticks": ""
            },
            "type": "choropleth"
           }
          ],
          "contour": [
           {
            "colorbar": {
             "outlinewidth": 0,
             "ticks": ""
            },
            "colorscale": [
             [
              0,
              "#0d0887"
             ],
             [
              0.1111111111111111,
              "#46039f"
             ],
             [
              0.2222222222222222,
              "#7201a8"
             ],
             [
              0.3333333333333333,
              "#9c179e"
             ],
             [
              0.4444444444444444,
              "#bd3786"
             ],
             [
              0.5555555555555556,
              "#d8576b"
             ],
             [
              0.6666666666666666,
              "#ed7953"
             ],
             [
              0.7777777777777778,
              "#fb9f3a"
             ],
             [
              0.8888888888888888,
              "#fdca26"
             ],
             [
              1,
              "#f0f921"
             ]
            ],
            "type": "contour"
           }
          ],
          "contourcarpet": [
           {
            "colorbar": {
             "outlinewidth": 0,
             "ticks": ""
            },
            "type": "contourcarpet"
           }
          ],
          "heatmap": [
           {
            "colorbar": {
             "outlinewidth": 0,
             "ticks": ""
            },
            "colorscale": [
             [
              0,
              "#0d0887"
             ],
             [
              0.1111111111111111,
              "#46039f"
             ],
             [
              0.2222222222222222,
              "#7201a8"
             ],
             [
              0.3333333333333333,
              "#9c179e"
             ],
             [
              0.4444444444444444,
              "#bd3786"
             ],
             [
              0.5555555555555556,
              "#d8576b"
             ],
             [
              0.6666666666666666,
              "#ed7953"
             ],
             [
              0.7777777777777778,
              "#fb9f3a"
             ],
             [
              0.8888888888888888,
              "#fdca26"
             ],
             [
              1,
              "#f0f921"
             ]
            ],
            "type": "heatmap"
           }
          ],
          "heatmapgl": [
           {
            "colorbar": {
             "outlinewidth": 0,
             "ticks": ""
            },
            "colorscale": [
             [
              0,
              "#0d0887"
             ],
             [
              0.1111111111111111,
              "#46039f"
             ],
             [
              0.2222222222222222,
              "#7201a8"
             ],
             [
              0.3333333333333333,
              "#9c179e"
             ],
             [
              0.4444444444444444,
              "#bd3786"
             ],
             [
              0.5555555555555556,
              "#d8576b"
             ],
             [
              0.6666666666666666,
              "#ed7953"
             ],
             [
              0.7777777777777778,
              "#fb9f3a"
             ],
             [
              0.8888888888888888,
              "#fdca26"
             ],
             [
              1,
              "#f0f921"
             ]
            ],
            "type": "heatmapgl"
           }
          ],
          "histogram": [
           {
            "marker": {
             "pattern": {
              "fillmode": "overlay",
              "size": 10,
              "solidity": 0.2
             }
            },
            "type": "histogram"
           }
          ],
          "histogram2d": [
           {
            "colorbar": {
             "outlinewidth": 0,
             "ticks": ""
            },
            "colorscale": [
             [
              0,
              "#0d0887"
             ],
             [
              0.1111111111111111,
              "#46039f"
             ],
             [
              0.2222222222222222,
              "#7201a8"
             ],
             [
              0.3333333333333333,
              "#9c179e"
             ],
             [
              0.4444444444444444,
              "#bd3786"
             ],
             [
              0.5555555555555556,
              "#d8576b"
             ],
             [
              0.6666666666666666,
              "#ed7953"
             ],
             [
              0.7777777777777778,
              "#fb9f3a"
             ],
             [
              0.8888888888888888,
              "#fdca26"
             ],
             [
              1,
              "#f0f921"
             ]
            ],
            "type": "histogram2d"
           }
          ],
          "histogram2dcontour": [
           {
            "colorbar": {
             "outlinewidth": 0,
             "ticks": ""
            },
            "colorscale": [
             [
              0,
              "#0d0887"
             ],
             [
              0.1111111111111111,
              "#46039f"
             ],
             [
              0.2222222222222222,
              "#7201a8"
             ],
             [
              0.3333333333333333,
              "#9c179e"
             ],
             [
              0.4444444444444444,
              "#bd3786"
             ],
             [
              0.5555555555555556,
              "#d8576b"
             ],
             [
              0.6666666666666666,
              "#ed7953"
             ],
             [
              0.7777777777777778,
              "#fb9f3a"
             ],
             [
              0.8888888888888888,
              "#fdca26"
             ],
             [
              1,
              "#f0f921"
             ]
            ],
            "type": "histogram2dcontour"
           }
          ],
          "mesh3d": [
           {
            "colorbar": {
             "outlinewidth": 0,
             "ticks": ""
            },
            "type": "mesh3d"
           }
          ],
          "parcoords": [
           {
            "line": {
             "colorbar": {
              "outlinewidth": 0,
              "ticks": ""
             }
            },
            "type": "parcoords"
           }
          ],
          "pie": [
           {
            "automargin": true,
            "type": "pie"
           }
          ],
          "scatter": [
           {
            "marker": {
             "colorbar": {
              "outlinewidth": 0,
              "ticks": ""
             }
            },
            "type": "scatter"
           }
          ],
          "scatter3d": [
           {
            "line": {
             "colorbar": {
              "outlinewidth": 0,
              "ticks": ""
             }
            },
            "marker": {
             "colorbar": {
              "outlinewidth": 0,
              "ticks": ""
             }
            },
            "type": "scatter3d"
           }
          ],
          "scattercarpet": [
           {
            "marker": {
             "colorbar": {
              "outlinewidth": 0,
              "ticks": ""
             }
            },
            "type": "scattercarpet"
           }
          ],
          "scattergeo": [
           {
            "marker": {
             "colorbar": {
              "outlinewidth": 0,
              "ticks": ""
             }
            },
            "type": "scattergeo"
           }
          ],
          "scattergl": [
           {
            "marker": {
             "colorbar": {
              "outlinewidth": 0,
              "ticks": ""
             }
            },
            "type": "scattergl"
           }
          ],
          "scattermapbox": [
           {
            "marker": {
             "colorbar": {
              "outlinewidth": 0,
              "ticks": ""
             }
            },
            "type": "scattermapbox"
           }
          ],
          "scatterpolar": [
           {
            "marker": {
             "colorbar": {
              "outlinewidth": 0,
              "ticks": ""
             }
            },
            "type": "scatterpolar"
           }
          ],
          "scatterpolargl": [
           {
            "marker": {
             "colorbar": {
              "outlinewidth": 0,
              "ticks": ""
             }
            },
            "type": "scatterpolargl"
           }
          ],
          "scatterternary": [
           {
            "marker": {
             "colorbar": {
              "outlinewidth": 0,
              "ticks": ""
             }
            },
            "type": "scatterternary"
           }
          ],
          "surface": [
           {
            "colorbar": {
             "outlinewidth": 0,
             "ticks": ""
            },
            "colorscale": [
             [
              0,
              "#0d0887"
             ],
             [
              0.1111111111111111,
              "#46039f"
             ],
             [
              0.2222222222222222,
              "#7201a8"
             ],
             [
              0.3333333333333333,
              "#9c179e"
             ],
             [
              0.4444444444444444,
              "#bd3786"
             ],
             [
              0.5555555555555556,
              "#d8576b"
             ],
             [
              0.6666666666666666,
              "#ed7953"
             ],
             [
              0.7777777777777778,
              "#fb9f3a"
             ],
             [
              0.8888888888888888,
              "#fdca26"
             ],
             [
              1,
              "#f0f921"
             ]
            ],
            "type": "surface"
           }
          ],
          "table": [
           {
            "cells": {
             "fill": {
              "color": "#EBF0F8"
             },
             "line": {
              "color": "white"
             }
            },
            "header": {
             "fill": {
              "color": "#C8D4E3"
             },
             "line": {
              "color": "white"
             }
            },
            "type": "table"
           }
          ]
         },
         "layout": {
          "annotationdefaults": {
           "arrowcolor": "#2a3f5f",
           "arrowhead": 0,
           "arrowwidth": 1
          },
          "autotypenumbers": "strict",
          "coloraxis": {
           "colorbar": {
            "outlinewidth": 0,
            "ticks": ""
           }
          },
          "colorscale": {
           "diverging": [
            [
             0,
             "#8e0152"
            ],
            [
             0.1,
             "#c51b7d"
            ],
            [
             0.2,
             "#de77ae"
            ],
            [
             0.3,
             "#f1b6da"
            ],
            [
             0.4,
             "#fde0ef"
            ],
            [
             0.5,
             "#f7f7f7"
            ],
            [
             0.6,
             "#e6f5d0"
            ],
            [
             0.7,
             "#b8e186"
            ],
            [
             0.8,
             "#7fbc41"
            ],
            [
             0.9,
             "#4d9221"
            ],
            [
             1,
             "#276419"
            ]
           ],
           "sequential": [
            [
             0,
             "#0d0887"
            ],
            [
             0.1111111111111111,
             "#46039f"
            ],
            [
             0.2222222222222222,
             "#7201a8"
            ],
            [
             0.3333333333333333,
             "#9c179e"
            ],
            [
             0.4444444444444444,
             "#bd3786"
            ],
            [
             0.5555555555555556,
             "#d8576b"
            ],
            [
             0.6666666666666666,
             "#ed7953"
            ],
            [
             0.7777777777777778,
             "#fb9f3a"
            ],
            [
             0.8888888888888888,
             "#fdca26"
            ],
            [
             1,
             "#f0f921"
            ]
           ],
           "sequentialminus": [
            [
             0,
             "#0d0887"
            ],
            [
             0.1111111111111111,
             "#46039f"
            ],
            [
             0.2222222222222222,
             "#7201a8"
            ],
            [
             0.3333333333333333,
             "#9c179e"
            ],
            [
             0.4444444444444444,
             "#bd3786"
            ],
            [
             0.5555555555555556,
             "#d8576b"
            ],
            [
             0.6666666666666666,
             "#ed7953"
            ],
            [
             0.7777777777777778,
             "#fb9f3a"
            ],
            [
             0.8888888888888888,
             "#fdca26"
            ],
            [
             1,
             "#f0f921"
            ]
           ]
          },
          "colorway": [
           "#636efa",
           "#EF553B",
           "#00cc96",
           "#ab63fa",
           "#FFA15A",
           "#19d3f3",
           "#FF6692",
           "#B6E880",
           "#FF97FF",
           "#FECB52"
          ],
          "font": {
           "color": "#2a3f5f"
          },
          "geo": {
           "bgcolor": "white",
           "lakecolor": "white",
           "landcolor": "#E5ECF6",
           "showlakes": true,
           "showland": true,
           "subunitcolor": "white"
          },
          "hoverlabel": {
           "align": "left"
          },
          "hovermode": "closest",
          "mapbox": {
           "style": "light"
          },
          "paper_bgcolor": "white",
          "plot_bgcolor": "#E5ECF6",
          "polar": {
           "angularaxis": {
            "gridcolor": "white",
            "linecolor": "white",
            "ticks": ""
           },
           "bgcolor": "#E5ECF6",
           "radialaxis": {
            "gridcolor": "white",
            "linecolor": "white",
            "ticks": ""
           }
          },
          "scene": {
           "xaxis": {
            "backgroundcolor": "#E5ECF6",
            "gridcolor": "white",
            "gridwidth": 2,
            "linecolor": "white",
            "showbackground": true,
            "ticks": "",
            "zerolinecolor": "white"
           },
           "yaxis": {
            "backgroundcolor": "#E5ECF6",
            "gridcolor": "white",
            "gridwidth": 2,
            "linecolor": "white",
            "showbackground": true,
            "ticks": "",
            "zerolinecolor": "white"
           },
           "zaxis": {
            "backgroundcolor": "#E5ECF6",
            "gridcolor": "white",
            "gridwidth": 2,
            "linecolor": "white",
            "showbackground": true,
            "ticks": "",
            "zerolinecolor": "white"
           }
          },
          "shapedefaults": {
           "line": {
            "color": "#2a3f5f"
           }
          },
          "ternary": {
           "aaxis": {
            "gridcolor": "white",
            "linecolor": "white",
            "ticks": ""
           },
           "baxis": {
            "gridcolor": "white",
            "linecolor": "white",
            "ticks": ""
           },
           "bgcolor": "#E5ECF6",
           "caxis": {
            "gridcolor": "white",
            "linecolor": "white",
            "ticks": ""
           }
          },
          "title": {
           "x": 0.05
          },
          "xaxis": {
           "automargin": true,
           "gridcolor": "white",
           "linecolor": "white",
           "ticks": "",
           "title": {
            "standoff": 15
           },
           "zerolinecolor": "white",
           "zerolinewidth": 2
          },
          "yaxis": {
           "automargin": true,
           "gridcolor": "white",
           "linecolor": "white",
           "ticks": "",
           "title": {
            "standoff": 15
           },
           "zerolinecolor": "white",
           "zerolinewidth": 2
          }
         }
        },
        "title": {
         "text": "Average Income of customer per gender"
        }
       }
      },
      "image/png": "[encoded data removed]",
      "text/html": [
       "<div>                            <div id=\"35ab9880-989a-4597-9883-d4ebe90035b5\" class=\"plotly-graph-div\" style=\"height:525px; width:100%;\"></div>            <script type=\"text/javascript\">                require([\"plotly\"], function(Plotly) {                    window.PLOTLYENV=window.PLOTLYENV || {};                                    if (document.getElementById(\"35ab9880-989a-4597-9883-d4ebe90035b5\")) {                    Plotly.newPlot(                        \"35ab9880-989a-4597-9883-d4ebe90035b5\",                        [{\"customdata\":[[\"Female\"],[\"Male\"],[\"Unknown\"]],\"domain\":{\"x\":[0.0,1.0],\"y\":[0.0,1.0]},\"hole\":0.5,\"hovertemplate\":\"Average Income=%{value}<br>Gender=%{customdata[0]}<extra></extra>\",\"legendgroup\":\"\",\"marker\":{\"colors\":[\"#636efa\",\"#EF553B\",\"#00cc96\"]},\"name\":\"\",\"showlegend\":false,\"type\":\"pie\",\"values\":[71306.0,61195.0,63288.0]}],                        {\"legend\":{\"tracegroupgap\":0},\"template\":{\"data\":{\"bar\":[{\"error_x\":{\"color\":\"#2a3f5f\"},\"error_y\":{\"color\":\"#2a3f5f\"},\"marker\":{\"line\":{\"color\":\"#E5ECF6\",\"width\":0.5},\"pattern\":{\"fillmode\":\"overlay\",\"size\":10,\"solidity\":0.2}},\"type\":\"bar\"}],\"barpolar\":[{\"marker\":{\"line\":{\"color\":\"#E5ECF6\",\"width\":0.5},\"pattern\":{\"fillmode\":\"overlay\",\"size\":10,\"solidity\":0.2}},\"type\":\"barpolar\"}],\"carpet\":[{\"aaxis\":{\"endlinecolor\":\"#2a3f5f\",\"gridcolor\":\"white\",\"linecolor\":\"white\",\"minorgridcolor\":\"white\",\"startlinecolor\":\"#2a3f5f\"},\"baxis\":{\"endlinecolor\":\"#2a3f5f\",\"gridcolor\":\"white\",\"linecolor\":\"white\",\"minorgridcolor\":\"white\",\"startlinecolor\":\"#2a3f5f\"},\"type\":\"carpet\"}],\"choropleth\":[{\"colorbar\":{\"outlinewidth\":0,\"ticks\":\"\"},\"type\":\"choropleth\"}],\"contour\":[{\"colorbar\":{\"outlinewidth\":0,\"ticks\":\"\"},\"colorscale\":[[0.0,\"#0d0887\"],[0.1111111111111111,\"#46039f\"],[0.2222222222222222,\"#7201a8\"],[0.3333333333333333,\"#9c179e\"],[0.4444444444444444,\"#bd3786\"],[0.5555555555555556,\"#d8576b\"],[0.6666666666666666,\"#ed7953\"],[0.7777777777777778,\"#fb9f3a\"],[0.8888888888888888,\"#fdca26\"],[1.0,\"#f0f921\"]],\"type\":\"contour\"}],\"contourcarpet\":[{\"colorbar\":{\"outlinewidth\":0,\"ticks\":\"\"},\"type\":\"contourcarpet\"}],\"heatmap\":[{\"colorbar\":{\"outlinewidth\":0,\"ticks\":\"\"},\"colorscale\":[[0.0,\"#0d0887\"],[0.1111111111111111,\"#46039f\"],[0.2222222222222222,\"#7201a8\"],[0.3333333333333333,\"#9c179e\"],[0.4444444444444444,\"#bd3786\"],[0.5555555555555556,\"#d8576b\"],[0.6666666666666666,\"#ed7953\"],[0.7777777777777778,\"#fb9f3a\"],[0.8888888888888888,\"#fdca26\"],[1.0,\"#f0f921\"]],\"type\":\"heatmap\"}],\"heatmapgl\":[{\"colorbar\":{\"outlinewidth\":0,\"ticks\":\"\"},\"colorscale\":[[0.0,\"#0d0887\"],[0.1111111111111111,\"#46039f\"],[0.2222222222222222,\"#7201a8\"],[0.3333333333333333,\"#9c179e\"],[0.4444444444444444,\"#bd3786\"],[0.5555555555555556,\"#d8576b\"],[0.6666666666666666,\"#ed7953\"],[0.7777777777777778,\"#fb9f3a\"],[0.8888888888888888,\"#fdca26\"],[1.0,\"#f0f921\"]],\"type\":\"heatmapgl\"}],\"histogram\":[{\"marker\":{\"pattern\":{\"fillmode\":\"overlay\",\"size\":10,\"solidity\":0.2}},\"type\":\"histogram\"}],\"histogram2d\":[{\"colorbar\":{\"outlinewidth\":0,\"ticks\":\"\"},\"colorscale\":[[0.0,\"#0d0887\"],[0.1111111111111111,\"#46039f\"],[0.2222222222222222,\"#7201a8\"],[0.3333333333333333,\"#9c179e\"],[0.4444444444444444,\"#bd3786\"],[0.5555555555555556,\"#d8576b\"],[0.6666666666666666,\"#ed7953\"],[0.7777777777777778,\"#fb9f3a\"],[0.8888888888888888,\"#fdca26\"],[1.0,\"#f0f921\"]],\"type\":\"histogram2d\"}],\"histogram2dcontour\":[{\"colorbar\":{\"outlinewidth\":0,\"ticks\":\"\"},\"colorscale\":[[0.0,\"#0d0887\"],[0.1111111111111111,\"#46039f\"],[0.2222222222222222,\"#7201a8\"],[0.3333333333333333,\"#9c179e\"],[0.4444444444444444,\"#bd3786\"],[0.5555555555555556,\"#d8576b\"],[0.6666666666666666,\"#ed7953\"],[0.7777777777777778,\"#fb9f3a\"],[0.8888888888888888,\"#fdca26\"],[1.0,\"#f0f921\"]],\"type\":\"histogram2dcontour\"}],\"mesh3d\":[{\"colorbar\":{\"outlinewidth\":0,\"ticks\":\"\"},\"type\":\"mesh3d\"}],\"parcoords\":[{\"line\":{\"colorbar\":{\"outlinewidth\":0,\"ticks\":\"\"}},\"type\":\"parcoords\"}],\"pie\":[{\"automargin\":true,\"type\":\"pie\"}],\"scatter\":[{\"marker\":{\"colorbar\":{\"outlinewidth\":0,\"ticks\":\"\"}},\"type\":\"scatter\"}],\"scatter3d\":[{\"line\":{\"colorbar\":{\"outlinewidth\":0,\"ticks\":\"\"}},\"marker\":{\"colorbar\":{\"outlinewidth\":0,\"ticks\":\"\"}},\"type\":\"scatter3d\"}],\"scattercarpet\":[{\"marker\":{\"colorbar\":{\"outlinewidth\":0,\"ticks\":\"\"}},\"type\":\"scattercarpet\"}],\"scattergeo\":[{\"marker\":{\"colorbar\":{\"outlinewidth\":0,\"ticks\":\"\"}},\"type\":\"scattergeo\"}],\"scattergl\":[{\"marker\":{\"colorbar\":{\"outlinewidth\":0,\"ticks\":\"\"}},\"type\":\"scattergl\"}],\"scattermapbox\":[{\"marker\":{\"colorbar\":{\"outlinewidth\":0,\"ticks\":\"\"}},\"type\":\"scattermapbox\"}],\"scatterpolar\":[{\"marker\":{\"colorbar\":{\"outlinewidth\":0,\"ticks\":\"\"}},\"type\":\"scatterpolar\"}],\"scatterpolargl\":[{\"marker\":{\"colorbar\":{\"outlinewidth\":0,\"ticks\":\"\"}},\"type\":\"scatterpolargl\"}],\"scatterternary\":[{\"marker\":{\"colorbar\":{\"outlinewidth\":0,\"ticks\":\"\"}},\"type\":\"scatterternary\"}],\"surface\":[{\"colorbar\":{\"outlinewidth\":0,\"ticks\":\"\"},\"colorscale\":[[0.0,\"#0d0887\"],[0.1111111111111111,\"#46039f\"],[0.2222222222222222,\"#7201a8\"],[0.3333333333333333,\"#9c179e\"],[0.4444444444444444,\"#bd3786\"],[0.5555555555555556,\"#d8576b\"],[0.6666666666666666,\"#ed7953\"],[0.7777777777777778,\"#fb9f3a\"],[0.8888888888888888,\"#fdca26\"],[1.0,\"#f0f921\"]],\"type\":\"surface\"}],\"table\":[{\"cells\":{\"fill\":{\"color\":\"#EBF0F8\"},\"line\":{\"color\":\"white\"}},\"header\":{\"fill\":{\"color\":\"#C8D4E3\"},\"line\":{\"color\":\"white\"}},\"type\":\"table\"}]},\"layout\":{\"annotationdefaults\":{\"arrowcolor\":\"#2a3f5f\",\"arrowhead\":0,\"arrowwidth\":1},\"autotypenumbers\":\"strict\",\"coloraxis\":{\"colorbar\":{\"outlinewidth\":0,\"ticks\":\"\"}},\"colorscale\":{\"diverging\":[[0,\"#8e0152\"],[0.1,\"#c51b7d\"],[0.2,\"#de77ae\"],[0.3,\"#f1b6da\"],[0.4,\"#fde0ef\"],[0.5,\"#f7f7f7\"],[0.6,\"#e6f5d0\"],[0.7,\"#b8e186\"],[0.8,\"#7fbc41\"],[0.9,\"#4d9221\"],[1,\"#276419\"]],\"sequential\":[[0.0,\"#0d0887\"],[0.1111111111111111,\"#46039f\"],[0.2222222222222222,\"#7201a8\"],[0.3333333333333333,\"#9c179e\"],[0.4444444444444444,\"#bd3786\"],[0.5555555555555556,\"#d8576b\"],[0.6666666666666666,\"#ed7953\"],[0.7777777777777778,\"#fb9f3a\"],[0.8888888888888888,\"#fdca26\"],[1.0,\"#f0f921\"]],\"sequentialminus\":[[0.0,\"#0d0887\"],[0.1111111111111111,\"#46039f\"],[0.2222222222222222,\"#7201a8\"],[0.3333333333333333,\"#9c179e\"],[0.4444444444444444,\"#bd3786\"],[0.5555555555555556,\"#d8576b\"],[0.6666666666666666,\"#ed7953\"],[0.7777777777777778,\"#fb9f3a\"],[0.8888888888888888,\"#fdca26\"],[1.0,\"#f0f921\"]]},\"colorway\":[\"#636efa\",\"#EF553B\",\"#00cc96\",\"#ab63fa\",\"#FFA15A\",\"#19d3f3\",\"#FF6692\",\"#B6E880\",\"#FF97FF\",\"#FECB52\"],\"font\":{\"color\":\"#2a3f5f\"},\"geo\":{\"bgcolor\":\"white\",\"lakecolor\":\"white\",\"landcolor\":\"#E5ECF6\",\"showlakes\":true,\"showland\":true,\"subunitcolor\":\"white\"},\"hoverlabel\":{\"align\":\"left\"},\"hovermode\":\"closest\",\"mapbox\":{\"style\":\"light\"},\"paper_bgcolor\":\"white\",\"plot_bgcolor\":\"#E5ECF6\",\"polar\":{\"angularaxis\":{\"gridcolor\":\"white\",\"linecolor\":\"white\",\"ticks\":\"\"},\"bgcolor\":\"#E5ECF6\",\"radialaxis\":{\"gridcolor\":\"white\",\"linecolor\":\"white\",\"ticks\":\"\"}},\"scene\":{\"xaxis\":{\"backgroundcolor\":\"#E5ECF6\",\"gridcolor\":\"white\",\"gridwidth\":2,\"linecolor\":\"white\",\"showbackground\":true,\"ticks\":\"\",\"zerolinecolor\":\"white\"},\"yaxis\":{\"backgroundcolor\":\"#E5ECF6\",\"gridcolor\":\"white\",\"gridwidth\":2,\"linecolor\":\"white\",\"showbackground\":true,\"ticks\":\"\",\"zerolinecolor\":\"white\"},\"zaxis\":{\"backgroundcolor\":\"#E5ECF6\",\"gridcolor\":\"white\",\"gridwidth\":2,\"linecolor\":\"white\",\"showbackground\":true,\"ticks\":\"\",\"zerolinecolor\":\"white\"}},\"shapedefaults\":{\"line\":{\"color\":\"#2a3f5f\"}},\"ternary\":{\"aaxis\":{\"gridcolor\":\"white\",\"linecolor\":\"white\",\"ticks\":\"\"},\"baxis\":{\"gridcolor\":\"white\",\"linecolor\":\"white\",\"ticks\":\"\"},\"bgcolor\":\"#E5ECF6\",\"caxis\":{\"gridcolor\":\"white\",\"linecolor\":\"white\",\"ticks\":\"\"}},\"title\":{\"x\":0.05},\"xaxis\":{\"automargin\":true,\"gridcolor\":\"white\",\"linecolor\":\"white\",\"ticks\":\"\",\"title\":{\"standoff\":15},\"zerolinecolor\":\"white\",\"zerolinewidth\":2},\"yaxis\":{\"automargin\":true,\"gridcolor\":\"white\",\"linecolor\":\"white\",\"ticks\":\"\",\"title\":{\"standoff\":15},\"zerolinecolor\":\"white\",\"zerolinewidth\":2}}},\"title\":{\"text\":\"Average Income of customer per gender\"}},                        {\"responsive\": true}                    ).then(function(){\n",
       "                            \n",
       "var gd = document.getElementById('35ab9880-989a-4597-9883-d4ebe90035b5');\n",
       "var x = new MutationObserver(function (mutations, observer) {{\n",
       "        var display = window.getComputedStyle(gd).display;\n",
       "        if (!display || display === 'none') {{\n",
       "            console.log([gd, 'removed!']);\n",
       "            Plotly.purge(gd);\n",
       "            observer.disconnect();\n",
       "        }}\n",
       "}});\n",
       "\n",
       "// Listen for the removal of the full notebook cells\n",
       "var notebookContainer = gd.closest('#notebook-container');\n",
       "if (notebookContainer) {{\n",
       "    x.observe(notebookContainer, {childList: true});\n",
       "}}\n",
       "\n",
       "// Listen for the clearing of the current output cell\n",
       "var outputEl = gd.closest('.output');\n",
       "if (outputEl) {{\n",
       "    x.observe(outputEl, {childList: true});\n",
       "}}\n",
       "\n",
       "                        })                };                });            </script>        </div>"
      ]
     },
     "metadata": {},
     "output_type": "display_data"
    }
   ],
   "source": [
    "#\n",
    "# For the customers who spend more; Who makes more income per year?\n",
    "# We can see that, on average, male customers earn less than female customers do in a year. In fact,\n",
    "# female customers earn more than the average income per year for all gender types. While female customers\n",
    "# make, on average, around 71k a year, male customers make, on average, around 61k.\n",
    "avg_i=result.groupby(['sex'], as_index=False)['income'].mean().round(0)\n",
    "\n",
    "fig = px.pie(avg_i, values='income' ,color='sex',title='Average Income of customer per gender',\n",
    "             labels={\"sex\":\"Gender\", \"income\":\"Average Income\"},hole=0.5)\n",
    "\n",
    "\n",
    "# fig.update_traces(textposition='inside')\n",
    "# fig.update_layout(uniformtext_minsize=12, uniformtext_mode='hide')\n",
    "fig.show()\n",
    "fig.write_html(\"avgsexinc.html\")"
   ]
  },
  {
   "cell_type": "code",
   "execution_count": null,
   "id": "57cefc70-e15e-4a69-a450-9e1e40df0e29",
   "metadata": {},
   "outputs": [],
   "source": []
  },
  {
   "cell_type": "code",
   "execution_count": 11,
   "id": "e884aef0-6fe8-47b6-8346-fc1bfc896cc4",
   "metadata": {},
   "outputs": [
    {
     "data": {
      "text/plain": [
       "IntervalIndex([[30000, 45000), [45000, 60000), [60000, 75000), [75000, 90000), [90000, 105000), [105000, 120000)],\n",
       "              closed='left',\n",
       "              dtype='interval[int64]')"
      ]
     },
     "execution_count": 11,
     "metadata": {},
     "output_type": "execute_result"
    }
   ],
   "source": [
    "#find the ranges from above look at min /max value for age and income\n",
    "pd.interval_range(start=18, freq=10, end=108, closed='left')\n",
    "pd.interval_range(start=30000, freq=15000, end=120000, closed='left')\n"
   ]
  },
  {
   "cell_type": "code",
   "execution_count": 51,
   "id": "fcc74c59-3475-429d-a729-42b9ce68ee09",
   "metadata": {},
   "outputs": [
    {
     "data": {
      "text/html": [
       "<div>\n",
       "<style scoped>\n",
       "    .dataframe tbody tr th:only-of-type {\n",
       "        vertical-align: middle;\n",
       "    }\n",
       "\n",
       "    .dataframe tbody tr th {\n",
       "        vertical-align: top;\n",
       "    }\n",
       "\n",
       "    .dataframe thead th {\n",
       "        text-align: right;\n",
       "    }\n",
       "</style>\n",
       "<table border=\"1\" class=\"dataframe\">\n",
       "  <thead>\n",
       "    <tr style=\"text-align: right;\">\n",
       "      <th></th>\n",
       "      <th>gender</th>\n",
       "      <th>age</th>\n",
       "      <th>income</th>\n",
       "      <th>sex</th>\n",
       "      <th>age_range</th>\n",
       "    </tr>\n",
       "  </thead>\n",
       "  <tbody>\n",
       "    <tr>\n",
       "      <th>1</th>\n",
       "      <td>F</td>\n",
       "      <td>55</td>\n",
       "      <td>112000.0</td>\n",
       "      <td>Female</td>\n",
       "      <td>50-59</td>\n",
       "    </tr>\n",
       "    <tr>\n",
       "      <th>3</th>\n",
       "      <td>F</td>\n",
       "      <td>75</td>\n",
       "      <td>100000.0</td>\n",
       "      <td>Female</td>\n",
       "      <td>70-79</td>\n",
       "    </tr>\n",
       "    <tr>\n",
       "      <th>5</th>\n",
       "      <td>M</td>\n",
       "      <td>68</td>\n",
       "      <td>70000.0</td>\n",
       "      <td>Male</td>\n",
       "      <td>60-69</td>\n",
       "    </tr>\n",
       "    <tr>\n",
       "      <th>8</th>\n",
       "      <td>M</td>\n",
       "      <td>65</td>\n",
       "      <td>53000.0</td>\n",
       "      <td>Male</td>\n",
       "      <td>60-69</td>\n",
       "    </tr>\n",
       "    <tr>\n",
       "      <th>12</th>\n",
       "      <td>M</td>\n",
       "      <td>58</td>\n",
       "      <td>51000.0</td>\n",
       "      <td>Male</td>\n",
       "      <td>50-59</td>\n",
       "    </tr>\n",
       "    <tr>\n",
       "      <th>...</th>\n",
       "      <td>...</td>\n",
       "      <td>...</td>\n",
       "      <td>...</td>\n",
       "      <td>...</td>\n",
       "      <td>...</td>\n",
       "    </tr>\n",
       "    <tr>\n",
       "      <th>16995</th>\n",
       "      <td>F</td>\n",
       "      <td>45</td>\n",
       "      <td>54000.0</td>\n",
       "      <td>Female</td>\n",
       "      <td>40-49</td>\n",
       "    </tr>\n",
       "    <tr>\n",
       "      <th>16996</th>\n",
       "      <td>M</td>\n",
       "      <td>61</td>\n",
       "      <td>72000.0</td>\n",
       "      <td>Male</td>\n",
       "      <td>60-69</td>\n",
       "    </tr>\n",
       "    <tr>\n",
       "      <th>16997</th>\n",
       "      <td>M</td>\n",
       "      <td>49</td>\n",
       "      <td>73000.0</td>\n",
       "      <td>Male</td>\n",
       "      <td>40-49</td>\n",
       "    </tr>\n",
       "    <tr>\n",
       "      <th>16998</th>\n",
       "      <td>F</td>\n",
       "      <td>83</td>\n",
       "      <td>50000.0</td>\n",
       "      <td>Female</td>\n",
       "      <td>80-90</td>\n",
       "    </tr>\n",
       "    <tr>\n",
       "      <th>16999</th>\n",
       "      <td>F</td>\n",
       "      <td>62</td>\n",
       "      <td>82000.0</td>\n",
       "      <td>Female</td>\n",
       "      <td>60-69</td>\n",
       "    </tr>\n",
       "  </tbody>\n",
       "</table>\n",
       "<p>14825 rows × 5 columns</p>\n",
       "</div>"
      ],
      "text/plain": [
       "      gender  age    income     sex age_range\n",
       "1          F   55  112000.0  Female     50-59\n",
       "3          F   75  100000.0  Female     70-79\n",
       "5          M   68   70000.0    Male     60-69\n",
       "8          M   65   53000.0    Male     60-69\n",
       "12         M   58   51000.0    Male     50-59\n",
       "...      ...  ...       ...     ...       ...\n",
       "16995      F   45   54000.0  Female     40-49\n",
       "16996      M   61   72000.0    Male     60-69\n",
       "16997      M   49   73000.0    Male     40-49\n",
       "16998      F   83   50000.0  Female     80-90\n",
       "16999      F   62   82000.0  Female     60-69\n",
       "\n",
       "[14825 rows x 5 columns]"
      ]
     },
     "execution_count": 51,
     "metadata": {},
     "output_type": "execute_result"
    }
   ],
   "source": [
    "#create a range for ages\n",
    "bins = [18, 30, 40, 50, 60, 70, 80, 90, 120]\n",
    "labels = ['18-29', '30-39', '40-49', '50-59', '60-69', '70-79', '80-90','90+'] \n",
    "result['age_range'] = pd.cut(result.age, bins, labels = labels,include_lowest = True)\n",
    "result"
   ]
  },
  {
   "cell_type": "code",
   "execution_count": 13,
   "id": "23c615a3-5907-4e9f-9ead-13552553eacb",
   "metadata": {},
   "outputs": [
    {
     "data": {
      "text/plain": [
       "50-59    20.284602\n",
       "60-69    18.123238\n",
       "40-49    15.169821\n",
       "70-79    13.639415\n",
       "18-29    11.464626\n",
       "Name: age_range, dtype: float64"
      ]
     },
     "execution_count": 13,
     "metadata": {},
     "output_type": "execute_result"
    }
   ],
   "source": [
    "# percentage of age_range\n",
    "age_range_percentage = result['age_range'].value_counts()/len(result['age_range'])*100 # calculates the percentages of all age ranges\n",
    "age_range_percentage.head()"
   ]
  },
  {
   "cell_type": "code",
   "execution_count": 14,
   "id": "4d463860-475f-4f8d-8e8a-845a7b889a92",
   "metadata": {},
   "outputs": [
    {
     "data": {
      "image/png": "[encoded data removed]",
      "text/plain": [
       "<Figure size 432x288 with 1 Axes>"
      ]
     },
     "metadata": {
      "needs_background": "light"
     },
     "output_type": "display_data"
    }
   ],
   "source": [
    "age_range_percentage.plot(kind=\"bar\")\n",
    "plt.title(\"Percentage of customers based on age range\")\n",
    "plt.ylabel(\"Percentage(%)\")\n",
    "plt.xlabel(\"Age range\")\n",
    "plt.show()\n",
    "#We can see that, on average, male customers earn less than female customers do in a year. In fact,\n",
    "# female customers earn more than the average income per year for all gender types. While female customers\n",
    "# make, on average, around 71k a year, male customers make, on average, around 61k.\n"
   ]
  },
  {
   "cell_type": "code",
   "execution_count": 52,
   "id": "b2b618a1-b9e1-447a-955d-c7b809862d19",
   "metadata": {},
   "outputs": [],
   "source": [
    "#create range for income\n",
    "bin_i=[30000, 45000, 60000, 75000, 90000, 105000, 140000]\n",
    "labels_i=['30000-44999', '45000-59999', '60000-74999', '75000-89999','90000-104999','120000+']\n",
    "result['income_range'] = pd.cut(result.income, bins=bin_i, labels = labels_i,include_lowest = True) "
   ]
  },
  {
   "cell_type": "code",
   "execution_count": 16,
   "id": "e3e8d73d-59ee-4d4b-87cf-c4bd7b369b79",
   "metadata": {},
   "outputs": [
    {
     "data": {
      "text/html": [
       "<div>\n",
       "<style scoped>\n",
       "    .dataframe tbody tr th:only-of-type {\n",
       "        vertical-align: middle;\n",
       "    }\n",
       "\n",
       "    .dataframe tbody tr th {\n",
       "        vertical-align: top;\n",
       "    }\n",
       "\n",
       "    .dataframe thead th {\n",
       "        text-align: right;\n",
       "    }\n",
       "</style>\n",
       "<table border=\"1\" class=\"dataframe\">\n",
       "  <thead>\n",
       "    <tr style=\"text-align: right;\">\n",
       "      <th></th>\n",
       "      <th>gender</th>\n",
       "      <th>age</th>\n",
       "      <th>income</th>\n",
       "      <th>sex</th>\n",
       "      <th>age_range</th>\n",
       "      <th>income_range</th>\n",
       "    </tr>\n",
       "  </thead>\n",
       "  <tbody>\n",
       "    <tr>\n",
       "      <th>1</th>\n",
       "      <td>F</td>\n",
       "      <td>55</td>\n",
       "      <td>112000.0</td>\n",
       "      <td>Female</td>\n",
       "      <td>50-59</td>\n",
       "      <td>120000+</td>\n",
       "    </tr>\n",
       "    <tr>\n",
       "      <th>3</th>\n",
       "      <td>F</td>\n",
       "      <td>75</td>\n",
       "      <td>100000.0</td>\n",
       "      <td>Female</td>\n",
       "      <td>70-79</td>\n",
       "      <td>90000-104999</td>\n",
       "    </tr>\n",
       "    <tr>\n",
       "      <th>5</th>\n",
       "      <td>M</td>\n",
       "      <td>68</td>\n",
       "      <td>70000.0</td>\n",
       "      <td>Male</td>\n",
       "      <td>60-69</td>\n",
       "      <td>60000-74999</td>\n",
       "    </tr>\n",
       "    <tr>\n",
       "      <th>8</th>\n",
       "      <td>M</td>\n",
       "      <td>65</td>\n",
       "      <td>53000.0</td>\n",
       "      <td>Male</td>\n",
       "      <td>60-69</td>\n",
       "      <td>45000-59999</td>\n",
       "    </tr>\n",
       "    <tr>\n",
       "      <th>12</th>\n",
       "      <td>M</td>\n",
       "      <td>58</td>\n",
       "      <td>51000.0</td>\n",
       "      <td>Male</td>\n",
       "      <td>50-59</td>\n",
       "      <td>45000-59999</td>\n",
       "    </tr>\n",
       "  </tbody>\n",
       "</table>\n",
       "</div>"
      ],
      "text/plain": [
       "   gender  age    income     sex age_range  income_range\n",
       "1       F   55  112000.0  Female     50-59       120000+\n",
       "3       F   75  100000.0  Female     70-79  90000-104999\n",
       "5       M   68   70000.0    Male     60-69   60000-74999\n",
       "8       M   65   53000.0    Male     60-69   45000-59999\n",
       "12      M   58   51000.0    Male     50-59   45000-59999"
      ]
     },
     "execution_count": 16,
     "metadata": {},
     "output_type": "execute_result"
    }
   ],
   "source": [
    "result.head()"
   ]
  },
  {
   "cell_type": "code",
   "execution_count": 17,
   "id": "247d18cf-18ce-4a61-8e91-a83a6816e970",
   "metadata": {},
   "outputs": [
    {
     "data": {
      "image/png": "[encoded data removed]",
      "text/plain": [
       "<Figure size 432x288 with 1 Axes>"
      ]
     },
     "metadata": {
      "needs_background": "light"
     },
     "output_type": "display_data"
    }
   ],
   "source": [
    "# countplot plots the count of the number of records by category\n",
    "cnt = sns.countplot(x=\"age_range\", hue=\"sex\", data=result) # plots a bar chart \n",
    "cnt.set(xlabel= \"Age range\", ylabel= \"Count of Customer\") # labels axis\n",
    "plt.suptitle(\"Count of Age range in relation to gender\"); # title of plot\n"
   ]
  },
  {
   "cell_type": "code",
   "execution_count": 18,
   "id": "96ffe39c-0355-4067-8ae1-ede00c992e85",
   "metadata": {},
   "outputs": [
    {
     "data": {
      "application/vnd.plotly.v1+json": {
       "config": {
        "plotlyServerURL": "https://plot.ly"
       },
       "data": [
        {
         "alignmentgroup": "True",
         "bingroup": "x",
         "hovertemplate": "sex=Female<br>age=%{x}<br>count=%{y}<extra></extra>",
         "legendgroup": "Female",
         "marker": {
          "color": "#636efa",
          "pattern": {
           "shape": ""
          }
         },
         "name": "Female",
         "offsetgroup": "Female",
         "orientation": "v",
         "showlegend": true,
         "type": "histogram",
         "x": [
          55,
          75,
          61,
          62,
          61,
          40,
          78,
          56,
          33,
          46,
          96,
          69,
          26,
          20,
          69,
          54,
          41,
          79,
          66,
          56,
          39,
          78,
          76,
          53,
          53,
          53,
          61,
          67,
          58,
          46,
          73,
          74,
          54,
          70,
          49,
          62,
          89,
          50,
          90,
          68,
          19,
          66,
          72,
          39,
          45,
          57,
          59,
          51,
          64,
          64,
          29,
          89,
          49,
          55,
          69,
          75,
          59,
          39,
          18,
          32,
          60,
          62,
          55,
          51,
          53,
          27,
          74,
          50,
          57,
          58,
          67,
          71,
          69,
          52,
          75,
          54,
          34,
          79,
          58,
          47,
          60,
          74,
          63,
          40,
          79,
          76,
          71,
          77,
          68,
          47,
          78,
          85,
          75,
          76,
          89,
          64,
          66,
          49,
          56,
          69,
          55,
          30,
          74,
          100,
          26,
          56,
          49,
          64,
          48,
          50,
          57,
          66,
          66,
          68,
          42,
          70,
          42,
          53,
          45,
          48,
          54,
          67,
          76,
          55,
          89,
          54,
          73,
          58,
          57,
          39,
          57,
          83,
          35,
          90,
          68,
          24,
          63,
          59,
          61,
          48,
          41,
          83,
          53,
          80,
          63,
          56,
          58,
          63,
          52,
          57,
          56,
          57,
          64,
          36,
          45,
          72,
          79,
          28,
          61,
          41,
          51,
          66,
          65,
          33,
          61,
          44,
          38,
          83,
          63,
          56,
          60,
          60,
          41,
          56,
          48,
          58,
          39,
          53,
          61,
          79,
          60,
          54,
          24,
          58,
          86,
          57,
          49,
          61,
          75,
          62,
          63,
          26,
          50,
          45,
          88,
          50,
          65,
          34,
          65,
          63,
          84,
          55,
          24,
          64,
          66,
          54,
          50,
          80,
          32,
          68,
          66,
          80,
          82,
          45,
          67,
          30,
          53,
          51,
          38,
          52,
          51,
          71,
          65,
          50,
          20,
          49,
          95,
          56,
          52,
          59,
          59,
          62,
          56,
          51,
          47,
          36,
          45,
          18,
          51,
          83,
          69,
          81,
          48,
          41,
          39,
          53,
          93,
          79,
          36,
          39,
          52,
          60,
          49,
          67,
          59,
          68,
          88,
          62,
          44,
          40,
          72,
          71,
          37,
          94,
          65,
          66,
          65,
          54,
          50,
          76,
          56,
          29,
          57,
          74,
          49,
          62,
          54,
          49,
          69,
          52,
          62,
          61,
          22,
          90,
          72,
          69,
          71,
          58,
          58,
          57,
          48,
          66,
          46,
          51,
          67,
          28,
          20,
          58,
          54,
          56,
          56,
          79,
          63,
          70,
          47,
          72,
          58,
          74,
          65,
          56,
          38,
          70,
          64,
          43,
          64,
          50,
          56,
          58,
          73,
          22,
          68,
          68,
          84,
          74,
          49,
          30,
          74,
          55,
          69,
          49,
          91,
          65,
          42,
          53,
          47,
          42,
          60,
          89,
          54,
          53,
          90,
          57,
          37,
          65,
          96,
          62,
          88,
          49,
          49,
          22,
          55,
          52,
          70,
          57,
          62,
          90,
          68,
          43,
          20,
          73,
          69,
          33,
          39,
          51,
          59,
          76,
          64,
          61,
          44,
          72,
          50,
          81,
          44,
          49,
          61,
          38,
          63,
          64,
          33,
          63,
          20,
          83,
          20,
          73,
          24,
          28,
          59,
          81,
          65,
          33,
          52,
          38,
          47,
          55,
          39,
          64,
          69,
          53,
          49,
          38,
          64,
          81,
          47,
          83,
          44,
          22,
          83,
          57,
          29,
          21,
          62,
          70,
          67,
          76,
          100,
          59,
          38,
          20,
          81,
          36,
          61,
          70,
          53,
          59,
          21,
          53,
          63,
          75,
          44,
          39,
          40,
          33,
          76,
          64,
          75,
          58,
          26,
          69,
          26,
          35,
          24,
          48,
          75,
          55,
          79,
          67,
          69,
          72,
          69,
          53,
          81,
          52,
          54,
          56,
          68,
          87,
          49,
          62,
          46,
          61,
          70,
          63,
          30,
          53,
          19,
          44,
          67,
          63,
          51,
          71,
          78,
          81,
          64,
          48,
          54,
          64,
          35,
          86,
          53,
          45,
          81,
          48,
          54,
          88,
          22,
          62,
          60,
          51,
          60,
          55,
          42,
          77,
          58,
          56,
          60,
          67,
          76,
          63,
          64,
          52,
          82,
          63,
          55,
          60,
          67,
          50,
          45,
          60,
          85,
          71,
          63,
          53,
          93,
          24,
          51,
          49,
          37,
          65,
          48,
          82,
          62,
          92,
          61,
          30,
          52,
          35,
          38,
          57,
          50,
          67,
          101,
          28,
          64,
          51,
          54,
          37,
          55,
          61,
          69,
          63,
          63,
          78,
          54,
          87,
          46,
          52,
          100,
          24,
          64,
          49,
          44,
          49,
          50,
          52,
          74,
          57,
          94,
          75,
          77,
          77,
          37,
          57,
          78,
          29,
          61,
          69,
          56,
          71,
          72,
          86,
          38,
          47,
          73,
          40,
          46,
          33,
          40,
          50,
          64,
          23,
          63,
          67,
          65,
          57,
          65,
          67,
          63,
          73,
          75,
          49,
          41,
          81,
          53,
          71,
          67,
          49,
          69,
          58,
          62,
          68,
          48,
          43,
          65,
          69,
          69,
          52,
          53,
          47,
          84,
          36,
          52,
          59,
          54,
          69,
          45,
          75,
          67,
          39,
          30,
          63,
          48,
          32,
          61,
          92,
          70,
          41,
          66,
          72,
          52,
          70,
          23,
          45,
          37,
          55,
          76,
          42,
          62,
          61,
          59,
          37,
          42,
          68,
          63,
          90,
          63,
          58,
          77,
          70,
          35,
          49,
          27,
          74,
          32,
          58,
          22,
          31,
          74,
          59,
          50,
          68,
          70,
          29,
          52,
          49,
          45,
          50,
          23,
          66,
          46,
          87,
          64,
          61,
          52,
          44,
          58,
          65,
          47,
          47,
          57,
          56,
          52,
          66,
          55,
          65,
          59,
          64,
          75,
          43,
          84,
          92,
          68,
          39,
          79,
          68,
          20,
          50,
          22,
          63,
          71,
          91,
          75,
          27,
          57,
          73,
          75,
          65,
          45,
          43,
          74,
          61,
          48,
          45,
          52,
          87,
          51,
          74,
          88,
          89,
          68,
          34,
          56,
          68,
          51,
          58,
          53,
          52,
          70,
          61,
          18,
          88,
          54,
          60,
          68,
          70,
          49,
          43,
          75,
          54,
          41,
          55,
          75,
          48,
          58,
          33,
          19,
          56,
          57,
          67,
          68,
          52,
          85,
          40,
          62,
          76,
          23,
          38,
          93,
          38,
          56,
          55,
          78,
          60,
          72,
          52,
          79,
          44,
          45,
          54,
          21,
          46,
          59,
          71,
          55,
          51,
          76,
          73,
          51,
          62,
          61,
          87,
          59,
          68,
          21,
          66,
          18,
          62,
          35,
          86,
          38,
          90,
          85,
          86,
          70,
          48,
          67,
          39,
          75,
          67,
          32,
          56,
          50,
          34,
          59,
          53,
          80,
          54,
          71,
          62,
          74,
          57,
          48,
          40,
          76,
          62,
          70,
          85,
          59,
          62,
          56,
          27,
          57,
          82,
          43,
          84,
          24,
          63,
          57,
          52,
          73,
          60,
          62,
          70,
          73,
          48,
          74,
          76,
          90,
          56,
          68,
          54,
          73,
          73,
          58,
          42,
          65,
          62,
          61,
          59,
          88,
          54,
          73,
          66,
          45,
          25,
          23,
          79,
          27,
          57,
          51,
          85,
          77,
          59,
          61,
          49,
          37,
          56,
          46,
          65,
          55,
          59,
          49,
          30,
          54,
          36,
          27,
          56,
          36,
          48,
          58,
          65,
          50,
          53,
          53,
          73,
          62,
          58,
          78,
          49,
          63,
          48,
          34,
          72,
          58,
          74,
          31,
          21,
          51,
          52,
          57,
          22,
          52,
          53,
          43,
          55,
          67,
          56,
          61,
          57,
          66,
          65,
          60,
          64,
          82,
          90,
          85,
          55,
          60,
          66,
          65,
          59,
          68,
          55,
          54,
          34,
          74,
          50,
          78,
          46,
          48,
          58,
          62,
          89,
          78,
          81,
          52,
          52,
          19,
          50,
          54,
          79,
          59,
          71,
          51,
          26,
          82,
          78,
          54,
          82,
          65,
          66,
          68,
          68,
          84,
          77,
          26,
          52,
          58,
          51,
          44,
          64,
          29,
          79,
          93,
          38,
          58,
          59,
          44,
          73,
          37,
          71,
          27,
          39,
          93,
          88,
          62,
          80,
          54,
          68,
          29,
          52,
          30,
          37,
          32,
          63,
          42,
          44,
          53,
          48,
          77,
          73,
          60,
          63,
          29,
          77,
          81,
          33,
          46,
          82,
          21,
          76,
          40,
          57,
          44,
          85,
          86,
          72,
          46,
          64,
          73,
          55,
          42,
          47,
          70,
          56,
          64,
          67,
          88,
          58,
          62,
          94,
          58,
          57,
          59,
          53,
          57,
          23,
          54,
          68,
          69,
          39,
          82,
          65,
          59,
          91,
          68,
          71,
          58,
          57,
          55,
          60,
          22,
          37,
          79,
          64,
          63,
          66,
          66,
          75,
          19,
          59,
          70,
          23,
          84,
          43,
          56,
          50,
          19,
          65,
          54,
          52,
          81,
          79,
          80,
          54,
          42,
          52,
          62,
          53,
          50,
          72,
          80,
          55,
          36,
          28,
          59,
          69,
          40,
          77,
          77,
          33,
          41,
          50,
          73,
          57,
          62,
          48,
          64,
          67,
          83,
          65,
          44,
          60,
          57,
          91,
          23,
          52,
          73,
          56,
          64,
          21,
          52,
          46,
          64,
          78,
          54,
          59,
          51,
          69,
          57,
          78,
          69,
          58,
          59,
          73,
          52,
          63,
          77,
          72,
          40,
          63,
          86,
          53,
          53,
          61,
          71,
          78,
          49,
          75,
          47,
          45,
          92,
          73,
          58,
          62,
          91,
          49,
          55,
          63,
          36,
          62,
          35,
          58,
          71,
          48,
          32,
          67,
          39,
          41,
          20,
          73,
          65,
          88,
          53,
          34,
          83,
          43,
          65,
          36,
          54,
          55,
          58,
          60,
          37,
          77,
          62,
          82,
          28,
          56,
          49,
          35,
          45,
          64,
          71,
          22,
          57,
          85,
          92,
          73,
          92,
          65,
          81,
          72,
          79,
          44,
          24,
          48,
          56,
          70,
          84,
          38,
          59,
          47,
          26,
          83,
          90,
          60,
          62,
          50,
          39,
          56,
          61,
          94,
          69,
          51,
          24,
          94,
          26,
          65,
          38,
          55,
          67,
          35,
          53,
          51,
          71,
          54,
          88,
          51,
          86,
          69,
          41,
          78,
          74,
          54,
          53,
          50,
          85,
          62,
          63,
          62,
          72,
          47,
          38,
          41,
          74,
          56,
          42,
          67,
          64,
          83,
          28,
          43,
          59,
          39,
          59,
          28,
          59,
          73,
          63,
          81,
          73,
          74,
          85,
          24,
          40,
          26,
          74,
          42,
          60,
          83,
          47,
          71,
          26,
          61,
          22,
          101,
          60,
          90,
          91,
          78,
          39,
          49,
          43,
          74,
          49,
          72,
          38,
          51,
          58,
          54,
          90,
          89,
          51,
          38,
          64,
          60,
          74,
          46,
          32,
          18,
          66,
          43,
          60,
          47,
          21,
          56,
          86,
          60,
          41,
          51,
          25,
          38,
          70,
          68,
          54,
          41,
          83,
          29,
          88,
          46,
          52,
          64,
          42,
          58,
          70,
          65,
          82,
          69,
          54,
          62,
          80,
          75,
          50,
          60,
          24,
          25,
          56,
          39,
          66,
          84,
          87,
          23,
          27,
          60,
          25,
          49,
          75,
          53,
          58,
          48,
          36,
          53,
          99,
          50,
          32,
          24,
          78,
          38,
          84,
          67,
          86,
          30,
          52,
          72,
          51,
          64,
          65,
          91,
          67,
          67,
          41,
          21,
          30,
          28,
          93,
          59,
          49,
          39,
          87,
          52,
          68,
          37,
          57,
          66,
          81,
          88,
          67,
          74,
          66,
          76,
          73,
          30,
          83,
          28,
          58,
          75,
          97,
          43,
          25,
          20,
          56,
          70,
          63,
          42,
          80,
          62,
          55,
          36,
          62,
          75,
          49,
          26,
          41,
          69,
          72,
          33,
          70,
          69,
          63,
          78,
          43,
          36,
          72,
          80,
          48,
          45,
          35,
          43,
          53,
          57,
          59,
          78,
          59,
          40,
          70,
          51,
          95,
          74,
          60,
          89,
          50,
          80,
          56,
          76,
          84,
          25,
          77,
          60,
          28,
          67,
          83,
          63,
          60,
          83,
          44,
          55,
          34,
          53,
          65,
          22,
          67,
          60,
          43,
          34,
          80,
          42,
          72,
          65,
          61,
          53,
          21,
          51,
          53,
          66,
          80,
          52,
          57,
          65,
          38,
          57,
          50,
          29,
          90,
          85,
          43,
          48,
          87,
          53,
          47,
          50,
          32,
          52,
          45,
          20,
          43,
          67,
          70,
          44,
          66,
          73,
          22,
          90,
          46,
          67,
          95,
          62,
          73,
          40,
          80,
          51,
          50,
          26,
          28,
          68,
          52,
          61,
          66,
          19,
          55,
          35,
          62,
          63,
          90,
          25,
          74,
          66,
          74,
          64,
          33,
          63,
          53,
          88,
          89,
          47,
          43,
          48,
          65,
          51,
          33,
          38,
          36,
          61,
          61,
          77,
          49,
          25,
          88,
          79,
          84,
          86,
          37,
          53,
          55,
          58,
          42,
          23,
          45,
          59,
          74,
          92,
          70,
          68,
          64,
          85,
          31,
          47,
          32,
          45,
          61,
          24,
          53,
          51,
          70,
          30,
          50,
          59,
          67,
          33,
          69,
          29,
          48,
          48,
          72,
          68,
          76,
          29,
          54,
          89,
          62,
          77,
          60,
          67,
          59,
          75,
          74,
          53,
          61,
          84,
          54,
          64,
          62,
          34,
          32,
          70,
          74,
          58,
          80,
          52,
          27,
          75,
          77,
          33,
          69,
          77,
          25,
          80,
          82,
          57,
          48,
          49,
          21,
          64,
          60,
          83,
          62,
          18,
          97,
          30,
          44,
          64,
          47,
          71,
          50,
          51,
          49,
          81,
          51,
          22,
          61,
          25,
          36,
          71,
          72,
          22,
          59,
          46,
          62,
          37,
          33,
          30,
          53,
          62,
          49,
          76,
          39,
          60,
          59,
          56,
          32,
          58,
          71,
          51,
          35,
          65,
          44,
          22,
          82,
          60,
          49,
          66,
          56,
          37,
          75,
          78,
          80,
          74,
          69,
          50,
          79,
          64,
          46,
          83,
          47,
          20,
          19,
          51,
          46,
          70,
          63,
          24,
          94,
          50,
          61,
          40,
          66,
          66,
          74,
          67,
          46,
          80,
          24,
          60,
          53,
          77,
          56,
          70,
          33,
          70,
          69,
          38,
          68,
          58,
          49,
          20,
          34,
          36,
          54,
          57,
          51,
          19,
          53,
          27,
          82,
          21,
          50,
          22,
          56,
          34,
          85,
          48,
          60,
          50,
          43,
          71,
          76,
          37,
          62,
          61,
          71,
          80,
          81,
          68,
          100,
          47,
          73,
          65,
          76,
          40,
          67,
          64,
          46,
          61,
          71,
          71,
          49,
          37,
          41,
          54,
          43,
          65,
          37,
          94,
          82,
          68,
          36,
          47,
          82,
          87,
          53,
          56,
          73,
          46,
          43,
          45,
          47,
          66,
          27,
          31,
          31,
          41,
          47,
          36,
          58,
          58,
          80,
          55,
          26,
          54,
          68,
          30,
          55,
          51,
          58,
          33,
          62,
          47,
          55,
          71,
          67,
          67,
          48,
          71,
          70,
          45,
          56,
          77,
          42,
          31,
          79,
          90,
          51,
          84,
          66,
          41,
          61,
          43,
          70,
          52,
          75,
          36,
          57,
          73,
          71,
          49,
          54,
          46,
          61,
          80,
          62,
          51,
          90,
          65,
          58,
          27,
          81,
          66,
          63,
          72,
          49,
          74,
          34,
          62,
          58,
          75,
          32,
          79,
          19,
          39,
          26,
          74,
          54,
          49,
          27,
          52,
          45,
          39,
          99,
          32,
          75,
          44,
          89,
          48,
          67,
          66,
          75,
          46,
          67,
          68,
          36,
          51,
          56,
          91,
          72,
          81,
          39,
          57,
          68,
          64,
          70,
          92,
          68,
          59,
          62,
          58,
          56,
          64,
          53,
          70,
          52,
          24,
          65,
          33,
          88,
          65,
          40,
          83,
          64,
          90,
          68,
          80,
          45,
          18,
          76,
          45,
          57,
          52,
          55,
          67,
          35,
          73,
          94,
          45,
          37,
          57,
          98,
          45,
          79,
          58,
          26,
          54,
          84,
          56,
          87,
          23,
          89,
          100,
          23,
          58,
          64,
          46,
          73,
          19,
          57,
          50,
          64,
          70,
          67,
          74,
          67,
          79,
          37,
          89,
          43,
          54,
          60,
          28,
          45,
          36,
          85,
          75,
          73,
          44,
          77,
          25,
          55,
          64,
          39,
          18,
          78,
          69,
          64,
          34,
          82,
          41,
          31,
          58,
          87,
          34,
          74,
          20,
          73,
          41,
          63,
          60,
          27,
          56,
          74,
          72,
          53,
          71,
          35,
          65,
          58,
          43,
          100,
          79,
          43,
          44,
          88,
          77,
          57,
          84,
          75,
          50,
          24,
          22,
          59,
          36,
          70,
          61,
          74,
          75,
          78,
          59,
          76,
          51,
          54,
          24,
          77,
          55,
          82,
          84,
          68,
          66,
          60,
          41,
          59,
          41,
          23,
          63,
          40,
          66,
          25,
          41,
          60,
          59,
          73,
          23,
          51,
          21,
          47,
          57,
          64,
          29,
          75,
          60,
          76,
          88,
          67,
          24,
          72,
          54,
          87,
          85,
          70,
          70,
          28,
          71,
          57,
          47,
          43,
          58,
          57,
          44,
          70,
          68,
          49,
          60,
          70,
          44,
          86,
          88,
          82,
          35,
          43,
          86,
          54,
          41,
          71,
          38,
          47,
          75,
          55,
          63,
          54,
          42,
          67,
          70,
          72,
          62,
          95,
          50,
          69,
          29,
          56,
          47,
          77,
          81,
          54,
          61,
          85,
          52,
          36,
          86,
          54,
          47,
          42,
          75,
          66,
          84,
          53,
          69,
          69,
          49,
          48,
          71,
          66,
          78,
          72,
          42,
          62,
          71,
          46,
          32,
          33,
          27,
          67,
          65,
          62,
          52,
          42,
          46,
          57,
          71,
          68,
          57,
          60,
          85,
          52,
          68,
          55,
          90,
          61,
          63,
          31,
          40,
          60,
          22,
          63,
          54,
          48,
          48,
          79,
          24,
          74,
          82,
          30,
          72,
          80,
          67,
          80,
          43,
          57,
          81,
          52,
          57,
          64,
          50,
          88,
          70,
          40,
          74,
          97,
          34,
          83,
          27,
          54,
          84,
          53,
          77,
          95,
          27,
          50,
          55,
          72,
          80,
          32,
          27,
          93,
          62,
          61,
          22,
          41,
          45,
          44,
          59,
          39,
          70,
          90,
          82,
          66,
          60,
          42,
          56,
          88,
          50,
          47,
          44,
          68,
          55,
          65,
          32,
          75,
          20,
          74,
          65,
          48,
          56,
          50,
          67,
          30,
          75,
          72,
          22,
          35,
          67,
          34,
          59,
          40,
          53,
          76,
          69,
          43,
          26,
          31,
          87,
          69,
          92,
          26,
          31,
          51,
          49,
          53,
          77,
          58,
          50,
          59,
          59,
          73,
          41,
          55,
          48,
          30,
          57,
          82,
          39,
          46,
          53,
          49,
          91,
          31,
          37,
          45,
          49,
          61,
          22,
          83,
          61,
          28,
          69,
          47,
          68,
          23,
          64,
          73,
          73,
          48,
          40,
          51,
          18,
          52,
          56,
          24,
          96,
          39,
          82,
          68,
          34,
          35,
          42,
          51,
          61,
          53,
          59,
          42,
          64,
          30,
          54,
          20,
          74,
          82,
          45,
          25,
          61,
          23,
          59,
          81,
          70,
          62,
          42,
          79,
          48,
          26,
          45,
          45,
          81,
          66,
          58,
          67,
          71,
          94,
          50,
          93,
          74,
          22,
          55,
          74,
          68,
          64,
          71,
          40,
          89,
          26,
          57,
          38,
          40,
          37,
          69,
          43,
          66,
          42,
          73,
          76,
          37,
          52,
          55,
          28,
          48,
          58,
          68,
          40,
          91,
          61,
          51,
          91,
          53,
          40,
          75,
          81,
          44,
          78,
          43,
          60,
          88,
          64,
          69,
          79,
          20,
          61,
          42,
          64,
          50,
          34,
          52,
          84,
          71,
          56,
          45,
          82,
          52,
          55,
          49,
          85,
          74,
          72,
          44,
          28,
          61,
          57,
          48,
          77,
          80,
          67,
          46,
          34,
          59,
          42,
          52,
          58,
          81,
          77,
          84,
          87,
          51,
          80,
          59,
          87,
          41,
          63,
          40,
          79,
          21,
          68,
          19,
          76,
          57,
          81,
          25,
          80,
          55,
          34,
          93,
          88,
          56,
          70,
          84,
          64,
          78,
          38,
          71,
          41,
          80,
          39,
          92,
          20,
          53,
          70,
          78,
          92,
          29,
          69,
          54,
          63,
          48,
          69,
          68,
          82,
          76,
          52,
          69,
          75,
          31,
          86,
          71,
          22,
          60,
          55,
          75,
          50,
          27,
          76,
          66,
          21,
          65,
          88,
          60,
          76,
          72,
          46,
          82,
          53,
          34,
          61,
          30,
          75,
          58,
          50,
          62,
          65,
          45,
          81,
          66,
          49,
          25,
          24,
          58,
          65,
          29,
          85,
          24,
          60,
          81,
          51,
          72,
          49,
          63,
          28,
          83,
          40,
          38,
          63,
          24,
          61,
          60,
          54,
          55,
          60,
          58,
          25,
          73,
          44,
          51,
          38,
          86,
          33,
          93,
          49,
          48,
          39,
          32,
          61,
          61,
          83,
          53,
          91,
          55,
          42,
          44,
          55,
          32,
          68,
          96,
          33,
          58,
          88,
          49,
          28,
          73,
          53,
          94,
          41,
          80,
          71,
          54,
          39,
          95,
          19,
          76,
          63,
          33,
          39,
          91,
          50,
          70,
          59,
          69,
          63,
          67,
          52,
          74,
          45,
          53,
          43,
          21,
          58,
          24,
          90,
          63,
          81,
          77,
          46,
          35,
          62,
          63,
          57,
          54,
          83,
          73,
          29,
          30,
          62,
          70,
          59,
          48,
          79,
          72,
          74,
          36,
          45,
          68,
          82,
          69,
          83,
          85,
          58,
          58,
          19,
          59,
          65,
          32,
          25,
          88,
          66,
          92,
          68,
          72,
          26,
          66,
          57,
          44,
          44,
          40,
          49,
          44,
          25,
          69,
          63,
          57,
          50,
          65,
          26,
          75,
          31,
          66,
          61,
          95,
          44,
          58,
          57,
          53,
          88,
          65,
          49,
          46,
          68,
          63,
          57,
          81,
          48,
          81,
          18,
          45,
          21,
          92,
          80,
          66,
          48,
          57,
          80,
          32,
          92,
          36,
          66,
          34,
          65,
          37,
          59,
          59,
          48,
          80,
          38,
          43,
          53,
          45,
          82,
          66,
          32,
          41,
          34,
          62,
          67,
          81,
          41,
          77,
          95,
          60,
          73,
          76,
          26,
          85,
          66,
          60,
          33,
          77,
          27,
          34,
          65,
          79,
          82,
          81,
          64,
          89,
          37,
          75,
          53,
          64,
          66,
          70,
          87,
          52,
          68,
          51,
          24,
          92,
          46,
          79,
          81,
          59,
          63,
          88,
          59,
          21,
          19,
          37,
          67,
          75,
          65,
          49,
          43,
          28,
          35,
          23,
          57,
          26,
          67,
          72,
          81,
          51,
          63,
          44,
          46,
          19,
          58,
          85,
          74,
          83,
          39,
          38,
          94,
          74,
          36,
          29,
          88,
          62,
          37,
          51,
          37,
          56,
          19,
          81,
          84,
          46,
          88,
          48,
          45,
          84,
          42,
          42,
          89,
          28,
          55,
          42,
          60,
          63,
          29,
          71,
          34,
          43,
          83,
          72,
          19,
          65,
          71,
          48,
          31,
          88,
          72,
          70,
          91,
          26,
          23,
          69,
          40,
          52,
          67,
          52,
          74,
          79,
          66,
          77,
          45,
          76,
          59,
          51,
          56,
          59,
          40,
          85,
          44,
          75,
          69,
          83,
          58,
          92,
          71,
          72,
          64,
          87,
          64,
          49,
          37,
          86,
          57,
          95,
          50,
          75,
          71,
          71,
          76,
          58,
          68,
          53,
          25,
          81,
          55,
          46,
          42,
          53,
          61,
          40,
          63,
          28,
          79,
          68,
          76,
          52,
          78,
          64,
          31,
          75,
          60,
          68,
          42,
          74,
          47,
          41,
          85,
          73,
          84,
          32,
          71,
          65,
          62,
          82,
          80,
          43,
          61,
          45,
          71,
          62,
          77,
          87,
          32,
          92,
          71,
          78,
          50,
          62,
          58,
          75,
          45,
          72,
          41,
          78,
          91,
          73,
          63,
          19,
          23,
          28,
          74,
          32,
          48,
          20,
          63,
          64,
          48,
          25,
          36,
          87,
          47,
          54,
          56,
          89,
          74,
          78,
          63,
          95,
          74,
          50,
          83,
          79,
          50,
          80,
          93,
          58,
          43,
          70,
          87,
          69,
          94,
          61,
          34,
          86,
          60,
          59,
          91,
          43,
          42,
          43,
          76,
          59,
          47,
          43,
          28,
          57,
          65,
          81,
          75,
          47,
          91,
          83,
          60,
          81,
          51,
          68,
          45,
          24,
          55,
          61,
          65,
          78,
          66,
          54,
          20,
          72,
          56,
          54,
          39,
          62,
          55,
          94,
          59,
          49,
          70,
          73,
          71,
          50,
          56,
          66,
          65,
          64,
          56,
          39,
          79,
          62,
          44,
          75,
          26,
          23,
          80,
          78,
          21,
          65,
          27,
          72,
          37,
          68,
          78,
          85,
          92,
          56,
          19,
          83,
          48,
          80,
          84,
          34,
          84,
          87,
          40,
          41,
          74,
          21,
          65,
          89,
          80,
          76,
          57,
          58,
          67,
          31,
          57,
          93,
          81,
          22,
          44,
          73,
          60,
          79,
          59,
          78,
          62,
          45,
          50,
          38,
          71,
          37,
          79,
          36,
          49,
          36,
          49,
          52,
          35,
          26,
          70,
          98,
          95,
          86,
          46,
          33,
          81,
          89,
          38,
          82,
          46,
          82,
          89,
          66,
          31,
          25,
          56,
          32,
          95,
          46,
          24,
          55,
          69,
          36,
          40,
          36,
          89,
          70,
          28,
          71,
          53,
          86,
          84,
          60,
          73,
          69,
          50,
          35,
          53,
          29,
          39,
          60,
          57,
          54,
          60,
          39,
          46,
          80,
          89,
          56,
          50,
          60,
          75,
          66,
          80,
          55,
          50,
          20,
          63,
          79,
          25,
          47,
          21,
          38,
          67,
          99,
          31,
          77,
          35,
          78,
          26,
          22,
          78,
          68,
          64,
          34,
          74,
          73,
          20,
          45,
          87,
          84,
          81,
          31,
          44,
          60,
          40,
          55,
          90,
          72,
          78,
          97,
          39,
          30,
          52,
          66,
          62,
          72,
          26,
          84,
          55,
          54,
          27,
          78,
          46,
          75,
          76,
          48,
          71,
          35,
          44,
          96,
          33,
          66,
          87,
          27,
          95,
          81,
          40,
          43,
          82,
          77,
          90,
          55,
          73,
          34,
          55,
          78,
          45,
          40,
          66,
          37,
          47,
          85,
          44,
          21,
          79,
          25,
          51,
          84,
          46,
          65,
          72,
          55,
          72,
          77,
          46,
          51,
          87,
          22,
          29,
          69,
          48,
          60,
          69,
          44,
          39,
          58,
          36,
          51,
          70,
          36,
          90,
          35,
          44,
          28,
          23,
          36,
          41,
          22,
          41,
          29,
          58,
          51,
          54,
          46,
          81,
          95,
          56,
          39,
          71,
          75,
          42,
          76,
          66,
          61,
          96,
          80,
          52,
          60,
          69,
          22,
          55,
          69,
          101,
          84,
          31,
          51,
          20,
          21,
          75,
          59,
          55,
          60,
          38,
          54,
          42,
          86,
          55,
          83,
          37,
          62,
          79,
          19,
          68,
          77,
          76,
          54,
          59,
          92,
          52,
          78,
          77,
          57,
          44,
          21,
          87,
          40,
          88,
          82,
          83,
          60,
          56,
          62,
          48,
          90,
          82,
          68,
          100,
          34,
          81,
          33,
          92,
          68,
          58,
          53,
          97,
          84,
          68,
          93,
          51,
          69,
          91,
          41,
          88,
          92,
          70,
          51,
          85,
          43,
          54,
          73,
          71,
          35,
          74,
          64,
          78,
          66,
          63,
          53,
          21,
          59,
          55,
          46,
          58,
          70,
          60,
          59,
          84,
          20,
          77,
          50,
          37,
          70,
          59,
          18,
          42,
          93,
          37,
          25,
          84,
          37,
          44,
          84,
          26,
          34,
          77,
          27,
          25,
          68,
          25,
          29,
          34,
          74,
          91,
          35,
          30,
          60,
          101,
          29,
          53,
          28,
          52,
          67,
          63,
          54,
          92,
          36,
          42,
          72,
          59,
          55,
          97,
          66,
          65,
          28,
          68,
          46,
          27,
          63,
          59,
          56,
          25,
          47,
          58,
          87,
          95,
          72,
          72,
          30,
          32,
          89,
          58,
          28,
          38,
          52,
          69,
          32,
          18,
          82,
          66,
          25,
          48,
          39,
          71,
          46,
          38,
          49,
          83,
          90,
          86,
          59,
          41,
          80,
          81,
          59,
          44,
          77,
          70,
          56,
          64,
          42,
          86,
          63,
          61,
          61,
          21,
          76,
          85,
          79,
          82,
          75,
          50,
          26,
          46,
          54,
          55,
          70,
          76,
          45,
          54,
          58,
          93,
          79,
          72,
          99,
          63,
          20,
          29,
          46,
          87,
          65,
          94,
          56,
          68,
          85,
          68,
          27,
          86,
          37,
          60,
          100,
          70,
          33,
          39,
          37,
          85,
          92,
          43,
          86,
          65,
          83,
          73,
          33,
          101,
          52,
          72,
          54,
          74,
          73,
          59,
          61,
          68,
          74,
          89,
          51,
          48,
          26,
          59,
          83
         ],
         "xaxis": "x",
         "yaxis": "y"
        },
        {
         "alignmentgroup": "True",
         "bingroup": "x",
         "hovertemplate": "sex=Male<br>age=%{x}<br>count=%{y}<extra></extra>",
         "legendgroup": "Male",
         "marker": {
          "color": "#EF553B",
          "pattern": {
           "shape": ""
          }
         },
         "name": "Male",
         "offsetgroup": "Male",
         "orientation": "v",
         "showlegend": true,
         "type": "histogram",
         "x": [
          68,
          65,
          58,
          26,
          49,
          57,
          64,
          42,
          59,
          67,
          22,
          40,
          56,
          75,
          45,
          61,
          39,
          42,
          45,
          29,
          44,
          63,
          36,
          68,
          75,
          67,
          77,
          76,
          57,
          30,
          59,
          51,
          27,
          40,
          42,
          78,
          64,
          73,
          60,
          45,
          66,
          76,
          52,
          55,
          74,
          18,
          53,
          57,
          71,
          83,
          26,
          43,
          79,
          55,
          45,
          52,
          39,
          77,
          66,
          74,
          47,
          20,
          60,
          65,
          33,
          49,
          68,
          42,
          72,
          67,
          52,
          38,
          22,
          34,
          46,
          85,
          51,
          48,
          52,
          62,
          42,
          55,
          68,
          77,
          35,
          45,
          82,
          40,
          66,
          52,
          68,
          21,
          61,
          24,
          26,
          81,
          62,
          38,
          61,
          50,
          54,
          82,
          64,
          82,
          90,
          44,
          83,
          89,
          68,
          71,
          89,
          63,
          41,
          44,
          25,
          27,
          67,
          37,
          55,
          30,
          51,
          49,
          32,
          30,
          47,
          34,
          58,
          23,
          58,
          72,
          43,
          58,
          43,
          81,
          42,
          75,
          65,
          52,
          50,
          73,
          37,
          65,
          20,
          46,
          24,
          71,
          37,
          52,
          41,
          20,
          43,
          73,
          82,
          48,
          64,
          79,
          51,
          52,
          28,
          69,
          73,
          57,
          58,
          49,
          51,
          74,
          53,
          61,
          41,
          42,
          50,
          60,
          57,
          68,
          56,
          84,
          62,
          63,
          67,
          55,
          40,
          83,
          42,
          58,
          35,
          36,
          53,
          25,
          63,
          43,
          59,
          49,
          42,
          80,
          43,
          54,
          28,
          71,
          20,
          71,
          67,
          51,
          48,
          53,
          25,
          19,
          56,
          44,
          25,
          34,
          44,
          47,
          62,
          66,
          62,
          83,
          43,
          70,
          63,
          77,
          53,
          60,
          69,
          39,
          54,
          50,
          58,
          39,
          24,
          48,
          50,
          45,
          48,
          59,
          43,
          54,
          63,
          47,
          52,
          78,
          43,
          68,
          18,
          74,
          23,
          46,
          51,
          77,
          73,
          47,
          84,
          20,
          35,
          57,
          87,
          61,
          38,
          94,
          59,
          31,
          51,
          68,
          86,
          61,
          55,
          81,
          73,
          63,
          36,
          56,
          75,
          71,
          71,
          61,
          19,
          37,
          22,
          55,
          40,
          61,
          36,
          38,
          45,
          89,
          59,
          22,
          56,
          32,
          55,
          81,
          55,
          49,
          62,
          55,
          58,
          66,
          87,
          55,
          38,
          43,
          43,
          49,
          43,
          40,
          49,
          25,
          71,
          58,
          53,
          46,
          51,
          61,
          60,
          48,
          73,
          31,
          38,
          87,
          42,
          54,
          47,
          75,
          30,
          34,
          43,
          75,
          47,
          31,
          70,
          48,
          37,
          48,
          69,
          66,
          38,
          43,
          43,
          60,
          53,
          77,
          63,
          70,
          38,
          51,
          22,
          72,
          70,
          23,
          38,
          50,
          72,
          43,
          73,
          53,
          45,
          74,
          18,
          82,
          63,
          64,
          66,
          49,
          69,
          48,
          25,
          82,
          80,
          63,
          45,
          61,
          46,
          64,
          69,
          66,
          74,
          62,
          23,
          36,
          75,
          76,
          66,
          33,
          74,
          67,
          86,
          58,
          67,
          58,
          63,
          50,
          63,
          47,
          57,
          79,
          54,
          53,
          42,
          61,
          30,
          59,
          38,
          69,
          31,
          66,
          63,
          47,
          49,
          53,
          33,
          25,
          45,
          56,
          36,
          19,
          69,
          25,
          55,
          69,
          60,
          40,
          65,
          71,
          57,
          51,
          82,
          68,
          42,
          45,
          92,
          45,
          32,
          63,
          60,
          21,
          47,
          25,
          41,
          22,
          45,
          42,
          19,
          33,
          46,
          59,
          73,
          86,
          63,
          63,
          67,
          50,
          53,
          41,
          63,
          53,
          60,
          52,
          28,
          52,
          36,
          28,
          79,
          40,
          54,
          32,
          37,
          66,
          67,
          47,
          31,
          55,
          81,
          43,
          53,
          50,
          58,
          77,
          39,
          61,
          63,
          28,
          46,
          70,
          29,
          98,
          43,
          60,
          76,
          62,
          57,
          60,
          41,
          53,
          19,
          50,
          42,
          56,
          59,
          60,
          56,
          77,
          62,
          79,
          64,
          22,
          79,
          20,
          56,
          37,
          51,
          42,
          48,
          78,
          67,
          74,
          34,
          68,
          20,
          31,
          46,
          53,
          30,
          36,
          42,
          54,
          19,
          72,
          42,
          51,
          85,
          53,
          51,
          26,
          40,
          75,
          40,
          78,
          53,
          49,
          58,
          59,
          66,
          71,
          83,
          52,
          49,
          32,
          56,
          49,
          42,
          55,
          44,
          70,
          62,
          96,
          65,
          26,
          65,
          75,
          25,
          19,
          58,
          58,
          63,
          55,
          58,
          84,
          66,
          66,
          84,
          53,
          64,
          70,
          18,
          30,
          59,
          50,
          76,
          34,
          74,
          56,
          80,
          64,
          22,
          66,
          70,
          52,
          60,
          65,
          24,
          65,
          25,
          76,
          73,
          20,
          66,
          80,
          61,
          55,
          50,
          68,
          65,
          72,
          58,
          72,
          74,
          50,
          35,
          62,
          43,
          40,
          53,
          63,
          71,
          78,
          43,
          67,
          49,
          37,
          41,
          75,
          80,
          19,
          53,
          41,
          66,
          77,
          59,
          43,
          50,
          62,
          64,
          31,
          56,
          51,
          71,
          80,
          29,
          22,
          82,
          62,
          52,
          69,
          63,
          82,
          70,
          57,
          28,
          59,
          38,
          44,
          24,
          76,
          33,
          28,
          42,
          64,
          54,
          28,
          55,
          23,
          83,
          63,
          53,
          61,
          66,
          70,
          45,
          42,
          64,
          70,
          29,
          37,
          59,
          20,
          47,
          37,
          89,
          23,
          55,
          38,
          35,
          32,
          28,
          49,
          82,
          41,
          75,
          54,
          32,
          31,
          24,
          20,
          33,
          60,
          51,
          49,
          63,
          75,
          91,
          57,
          72,
          66,
          37,
          56,
          55,
          36,
          64,
          23,
          67,
          42,
          41,
          82,
          28,
          68,
          80,
          67,
          33,
          71,
          54,
          43,
          51,
          55,
          40,
          33,
          39,
          63,
          52,
          82,
          67,
          66,
          32,
          68,
          81,
          75,
          88,
          24,
          54,
          83,
          59,
          32,
          76,
          43,
          59,
          71,
          61,
          76,
          53,
          51,
          56,
          75,
          35,
          95,
          90,
          67,
          78,
          69,
          54,
          39,
          57,
          25,
          72,
          37,
          53,
          68,
          52,
          48,
          51,
          83,
          40,
          58,
          28,
          34,
          65,
          58,
          70,
          51,
          31,
          72,
          62,
          81,
          77,
          26,
          31,
          54,
          36,
          62,
          23,
          65,
          70,
          89,
          75,
          66,
          65,
          51,
          22,
          76,
          40,
          22,
          60,
          61,
          71,
          79,
          21,
          46,
          77,
          37,
          59,
          27,
          52,
          64,
          39,
          44,
          74,
          57,
          60,
          29,
          54,
          54,
          64,
          18,
          34,
          80,
          33,
          81,
          36,
          30,
          84,
          67,
          21,
          79,
          33,
          26,
          36,
          36,
          74,
          68,
          40,
          86,
          37,
          47,
          50,
          69,
          62,
          85,
          67,
          56,
          69,
          60,
          82,
          20,
          49,
          71,
          24,
          42,
          51,
          41,
          36,
          74,
          64,
          54,
          69,
          58,
          58,
          31,
          54,
          64,
          52,
          68,
          83,
          64,
          65,
          41,
          57,
          58,
          29,
          40,
          57,
          48,
          41,
          47,
          36,
          39,
          59,
          33,
          74,
          75,
          64,
          47,
          82,
          19,
          38,
          56,
          59,
          56,
          40,
          43,
          57,
          26,
          90,
          39,
          77,
          59,
          65,
          74,
          68,
          81,
          27,
          60,
          26,
          53,
          32,
          55,
          45,
          94,
          66,
          67,
          18,
          51,
          61,
          38,
          62,
          21,
          29,
          55,
          50,
          62,
          65,
          81,
          71,
          28,
          46,
          70,
          54,
          48,
          58,
          75,
          70,
          38,
          71,
          25,
          76,
          45,
          42,
          53,
          23,
          67,
          64,
          57,
          43,
          48,
          37,
          52,
          46,
          71,
          92,
          63,
          50,
          70,
          63,
          70,
          40,
          45,
          24,
          71,
          95,
          22,
          20,
          49,
          56,
          60,
          55,
          82,
          67,
          32,
          50,
          61,
          76,
          62,
          51,
          18,
          48,
          46,
          62,
          59,
          43,
          33,
          65,
          87,
          21,
          87,
          41,
          38,
          69,
          52,
          30,
          47,
          19,
          70,
          39,
          26,
          72,
          31,
          38,
          32,
          76,
          89,
          54,
          53,
          36,
          42,
          53,
          54,
          90,
          51,
          77,
          49,
          72,
          23,
          27,
          48,
          31,
          42,
          29,
          67,
          49,
          56,
          83,
          56,
          77,
          36,
          49,
          27,
          34,
          57,
          23,
          73,
          55,
          78,
          83,
          53,
          39,
          29,
          43,
          71,
          27,
          94,
          52,
          63,
          27,
          47,
          66,
          34,
          39,
          40,
          76,
          83,
          58,
          55,
          49,
          68,
          47,
          65,
          78,
          58,
          48,
          28,
          58,
          47,
          41,
          73,
          51,
          55,
          41,
          46,
          74,
          90,
          52,
          84,
          42,
          30,
          64,
          53,
          19,
          35,
          47,
          44,
          45,
          52,
          19,
          22,
          56,
          62,
          58,
          68,
          26,
          51,
          44,
          51,
          39,
          70,
          58,
          33,
          73,
          31,
          62,
          27,
          55,
          48,
          56,
          52,
          24,
          62,
          29,
          66,
          91,
          47,
          53,
          55,
          68,
          53,
          60,
          70,
          69,
          22,
          69,
          49,
          79,
          70,
          60,
          49,
          32,
          41,
          72,
          50,
          25,
          18,
          54,
          48,
          50,
          65,
          43,
          50,
          69,
          53,
          88,
          79,
          41,
          52,
          44,
          49,
          34,
          64,
          51,
          27,
          25,
          70,
          53,
          27,
          59,
          24,
          65,
          54,
          28,
          20,
          43,
          69,
          75,
          46,
          33,
          73,
          26,
          71,
          86,
          39,
          54,
          63,
          69,
          40,
          24,
          54,
          50,
          27,
          41,
          66,
          29,
          53,
          70,
          32,
          66,
          76,
          53,
          78,
          63,
          69,
          40,
          90,
          44,
          62,
          20,
          41,
          19,
          54,
          57,
          57,
          55,
          74,
          18,
          56,
          50,
          62,
          37,
          55,
          85,
          45,
          37,
          72,
          26,
          63,
          50,
          45,
          19,
          32,
          30,
          63,
          79,
          66,
          23,
          77,
          20,
          60,
          36,
          40,
          32,
          36,
          68,
          51,
          20,
          74,
          34,
          44,
          42,
          33,
          37,
          64,
          37,
          57,
          67,
          67,
          28,
          42,
          65,
          65,
          66,
          31,
          52,
          53,
          61,
          62,
          32,
          91,
          39,
          34,
          62,
          33,
          33,
          48,
          74,
          19,
          47,
          69,
          78,
          46,
          93,
          58,
          48,
          48,
          56,
          61,
          65,
          64,
          72,
          54,
          89,
          60,
          52,
          19,
          21,
          45,
          39,
          59,
          66,
          41,
          52,
          53,
          71,
          72,
          76,
          68,
          26,
          21,
          26,
          60,
          90,
          52,
          61,
          76,
          52,
          87,
          72,
          53,
          52,
          18,
          70,
          20,
          59,
          68,
          80,
          68,
          53,
          72,
          50,
          40,
          40,
          59,
          38,
          47,
          90,
          54,
          60,
          82,
          48,
          49,
          74,
          60,
          52,
          31,
          86,
          45,
          41,
          48,
          56,
          55,
          69,
          51,
          26,
          52,
          87,
          63,
          53,
          50,
          92,
          63,
          46,
          58,
          67,
          68,
          55,
          66,
          77,
          54,
          57,
          81,
          78,
          31,
          23,
          76,
          53,
          67,
          73,
          54,
          78,
          34,
          49,
          24,
          59,
          33,
          54,
          75,
          74,
          26,
          79,
          68,
          37,
          35,
          55,
          59,
          54,
          24,
          45,
          18,
          52,
          47,
          32,
          38,
          51,
          60,
          85,
          56,
          42,
          63,
          22,
          47,
          26,
          18,
          20,
          97,
          85,
          39,
          54,
          24,
          74,
          29,
          65,
          29,
          33,
          64,
          64,
          56,
          73,
          52,
          49,
          87,
          58,
          80,
          24,
          88,
          73,
          61,
          56,
          72,
          25,
          50,
          22,
          67,
          45,
          70,
          39,
          44,
          56,
          65,
          62,
          19,
          76,
          67,
          58,
          42,
          27,
          63,
          21,
          70,
          71,
          30,
          36,
          72,
          22,
          45,
          45,
          82,
          82,
          56,
          71,
          72,
          58,
          73,
          42,
          19,
          21,
          57,
          21,
          62,
          48,
          21,
          75,
          56,
          45,
          61,
          44,
          30,
          58,
          35,
          66,
          24,
          25,
          83,
          70,
          52,
          48,
          54,
          19,
          51,
          36,
          62,
          53,
          55,
          62,
          60,
          54,
          64,
          50,
          36,
          61,
          62,
          70,
          83,
          59,
          81,
          43,
          73,
          48,
          49,
          54,
          58,
          57,
          63,
          86,
          62,
          78,
          68,
          42,
          28,
          41,
          61,
          46,
          20,
          28,
          67,
          32,
          24,
          52,
          62,
          48,
          33,
          25,
          47,
          67,
          75,
          89,
          57,
          44,
          38,
          66,
          34,
          43,
          61,
          47,
          41,
          42,
          69,
          48,
          64,
          84,
          23,
          54,
          46,
          32,
          46,
          63,
          57,
          48,
          18,
          47,
          67,
          52,
          43,
          37,
          81,
          52,
          51,
          53,
          31,
          35,
          84,
          40,
          21,
          56,
          50,
          59,
          39,
          76,
          20,
          78,
          24,
          80,
          49,
          46,
          50,
          83,
          37,
          37,
          85,
          44,
          55,
          64,
          74,
          64,
          64,
          38,
          82,
          46,
          88,
          72,
          60,
          64,
          48,
          30,
          69,
          77,
          63,
          61,
          55,
          37,
          22,
          59,
          42,
          52,
          44,
          57,
          63,
          34,
          33,
          37,
          27,
          62,
          62,
          30,
          55,
          53,
          24,
          18,
          53,
          18,
          56,
          45,
          93,
          55,
          91,
          47,
          26,
          22,
          31,
          48,
          73,
          64,
          34,
          49,
          69,
          85,
          34,
          68,
          100,
          55,
          71,
          26,
          72,
          58,
          21,
          65,
          25,
          26,
          26,
          73,
          28,
          54,
          67,
          70,
          60,
          46,
          47,
          35,
          40,
          64,
          83,
          24,
          58,
          76,
          25,
          74,
          76,
          46,
          64,
          20,
          58,
          60,
          62,
          69,
          66,
          56,
          76,
          93,
          49,
          51,
          32,
          61,
          49,
          58,
          62,
          62,
          58,
          50,
          78,
          52,
          43,
          19,
          50,
          92,
          42,
          45,
          60,
          84,
          65,
          42,
          70,
          65,
          48,
          61,
          57,
          41,
          43,
          70,
          59,
          38,
          60,
          39,
          65,
          68,
          58,
          84,
          23,
          78,
          32,
          82,
          74,
          55,
          41,
          70,
          26,
          78,
          59,
          27,
          72,
          50,
          73,
          54,
          69,
          60,
          25,
          66,
          19,
          40,
          54,
          65,
          39,
          29,
          81,
          36,
          36,
          50,
          55,
          28,
          77,
          52,
          59,
          73,
          43,
          39,
          51,
          56,
          70,
          71,
          30,
          29,
          43,
          71,
          62,
          91,
          46,
          42,
          51,
          69,
          25,
          83,
          41,
          50,
          51,
          30,
          18,
          59,
          66,
          55,
          36,
          50,
          44,
          87,
          80,
          33,
          87,
          57,
          64,
          45,
          41,
          66,
          86,
          81,
          52,
          63,
          71,
          76,
          77,
          69,
          63,
          58,
          54,
          84,
          23,
          63,
          37,
          29,
          65,
          44,
          52,
          40,
          26,
          67,
          30,
          79,
          67,
          42,
          48,
          48,
          41,
          36,
          41,
          21,
          65,
          60,
          49,
          61,
          75,
          73,
          55,
          67,
          26,
          56,
          32,
          80,
          55,
          19,
          58,
          54,
          83,
          49,
          73,
          22,
          47,
          27,
          38,
          89,
          29,
          76,
          35,
          49,
          88,
          57,
          53,
          25,
          63,
          20,
          30,
          25,
          26,
          54,
          79,
          28,
          27,
          67,
          70,
          54,
          67,
          32,
          19,
          46,
          70,
          61,
          24,
          40,
          27,
          64,
          44,
          50,
          64,
          27,
          89,
          39,
          59,
          25,
          66,
          22,
          27,
          89,
          60,
          76,
          54,
          26,
          40,
          58,
          79,
          76,
          77,
          70,
          50,
          47,
          47,
          63,
          35,
          80,
          84,
          21,
          64,
          76,
          49,
          67,
          35,
          55,
          41,
          34,
          56,
          21,
          48,
          73,
          76,
          58,
          47,
          37,
          26,
          44,
          37,
          82,
          63,
          60,
          28,
          27,
          48,
          53,
          39,
          66,
          72,
          77,
          70,
          34,
          71,
          73,
          62,
          34,
          41,
          87,
          58,
          47,
          54,
          44,
          39,
          33,
          62,
          51,
          65,
          76,
          56,
          36,
          66,
          69,
          39,
          31,
          46,
          57,
          58,
          49,
          78,
          69,
          63,
          71,
          75,
          38,
          45,
          24,
          32,
          37,
          58,
          34,
          67,
          83,
          44,
          23,
          76,
          34,
          68,
          20,
          24,
          81,
          19,
          30,
          71,
          92,
          43,
          53,
          38,
          22,
          72,
          80,
          42,
          30,
          22,
          34,
          50,
          38,
          22,
          64,
          66,
          54,
          21,
          57,
          39,
          76,
          20,
          58,
          37,
          65,
          65,
          37,
          54,
          78,
          51,
          54,
          67,
          76,
          41,
          64,
          65,
          64,
          51,
          89,
          37,
          80,
          39,
          40,
          42,
          64,
          47,
          53,
          79,
          39,
          20,
          77,
          51,
          72,
          60,
          74,
          37,
          36,
          41,
          66,
          32,
          34,
          57,
          44,
          50,
          55,
          37,
          73,
          54,
          90,
          77,
          34,
          22,
          61,
          80,
          43,
          69,
          28,
          56,
          60,
          43,
          83,
          83,
          52,
          23,
          26,
          46,
          61,
          68,
          56,
          73,
          91,
          43,
          57,
          55,
          94,
          18,
          87,
          69,
          84,
          41,
          46,
          51,
          80,
          45,
          26,
          28,
          62,
          49,
          42,
          63,
          44,
          34,
          25,
          73,
          29,
          72,
          72,
          74,
          67,
          55,
          52,
          67,
          79,
          23,
          79,
          24,
          60,
          40,
          61,
          39,
          42,
          72,
          60,
          32,
          97,
          73,
          41,
          76,
          49,
          60,
          54,
          42,
          57,
          72,
          50,
          46,
          60,
          64,
          52,
          36,
          44,
          44,
          47,
          48,
          67,
          32,
          52,
          32,
          21,
          67,
          70,
          47,
          81,
          35,
          63,
          18,
          49,
          40,
          91,
          35,
          51,
          70,
          82,
          24,
          52,
          75,
          71,
          40,
          58,
          54,
          52,
          38,
          65,
          23,
          62,
          72,
          87,
          49,
          99,
          54,
          68,
          74,
          19,
          59,
          66,
          67,
          33,
          91,
          22,
          20,
          48,
          61,
          51,
          83,
          49,
          49,
          68,
          23,
          49,
          63,
          19,
          33,
          64,
          24,
          92,
          64,
          72,
          38,
          30,
          69,
          79,
          74,
          55,
          64,
          57,
          76,
          64,
          62,
          48,
          83,
          74,
          58,
          61,
          86,
          45,
          70,
          58,
          29,
          35,
          56,
          70,
          31,
          74,
          61,
          59,
          59,
          40,
          45,
          66,
          72,
          54,
          26,
          75,
          64,
          68,
          73,
          59,
          77,
          58,
          66,
          60,
          45,
          48,
          65,
          57,
          66,
          69,
          48,
          74,
          40,
          27,
          61,
          48,
          94,
          76,
          45,
          59,
          60,
          60,
          53,
          30,
          41,
          59,
          47,
          74,
          25,
          30,
          50,
          60,
          62,
          36,
          67,
          25,
          61,
          32,
          88,
          70,
          56,
          71,
          73,
          41,
          75,
          46,
          18,
          78,
          59,
          55,
          42,
          37,
          40,
          21,
          29,
          60,
          49,
          25,
          58,
          61,
          74,
          37,
          76,
          47,
          70,
          57,
          94,
          44,
          64,
          33,
          29,
          60,
          60,
          61,
          59,
          43,
          67,
          80,
          66,
          23,
          44,
          75,
          83,
          56,
          70,
          53,
          76,
          75,
          68,
          36,
          23,
          26,
          26,
          58,
          62,
          71,
          47,
          61,
          77,
          23,
          60,
          52,
          66,
          37,
          60,
          42,
          36,
          45,
          31,
          31,
          57,
          56,
          51,
          38,
          57,
          45,
          18,
          68,
          69,
          43,
          65,
          91,
          77,
          19,
          28,
          30,
          50,
          44,
          51,
          68,
          60,
          56,
          52,
          47,
          84,
          81,
          69,
          51,
          62,
          71,
          49,
          32,
          32,
          45,
          59,
          39,
          32,
          57,
          52,
          82,
          88,
          41,
          57,
          21,
          66,
          88,
          91,
          70,
          46,
          39,
          35,
          45,
          44,
          48,
          36,
          71,
          51,
          44,
          44,
          93,
          97,
          65,
          85,
          89,
          59,
          62,
          75,
          22,
          70,
          46,
          88,
          45,
          63,
          75,
          21,
          46,
          74,
          49,
          43,
          69,
          30,
          77,
          75,
          77,
          37,
          51,
          54,
          61,
          94,
          70,
          76,
          82,
          47,
          69,
          71,
          20,
          21,
          27,
          59,
          74,
          19,
          20,
          36,
          19,
          36,
          72,
          65,
          74,
          50,
          54,
          66,
          20,
          73,
          29,
          66,
          59,
          28,
          86,
          64,
          64,
          41,
          47,
          49,
          69,
          33,
          52,
          51,
          69,
          73,
          80,
          36,
          86,
          49,
          29,
          46,
          44,
          57,
          61,
          56,
          23,
          46,
          58,
          67,
          52,
          66,
          58,
          55,
          22,
          53,
          41,
          42,
          70,
          46,
          61,
          58,
          61,
          46,
          81,
          26,
          40,
          31,
          43,
          26,
          49,
          35,
          25,
          83,
          41,
          59,
          60,
          18,
          34,
          57,
          74,
          73,
          49,
          56,
          74,
          77,
          69,
          54,
          69,
          64,
          40,
          52,
          65,
          73,
          59,
          32,
          44,
          63,
          60,
          21,
          83,
          22,
          35,
          45,
          78,
          46,
          27,
          78,
          75,
          67,
          77,
          57,
          31,
          48,
          37,
          50,
          57,
          62,
          44,
          59,
          82,
          70,
          93,
          51,
          60,
          74,
          58,
          24,
          57,
          29,
          49,
          68,
          58,
          22,
          44,
          25,
          65,
          83,
          48,
          41,
          54,
          82,
          26,
          44,
          18,
          70,
          32,
          21,
          80,
          79,
          20,
          78,
          85,
          84,
          53,
          66,
          54,
          49,
          38,
          45,
          80,
          46,
          67,
          68,
          27,
          55,
          39,
          65,
          85,
          61,
          37,
          39,
          78,
          31,
          54,
          44,
          65,
          81,
          75,
          68,
          67,
          19,
          58,
          57,
          52,
          44,
          21,
          81,
          33,
          51,
          53,
          57,
          54,
          63,
          34,
          87,
          35,
          37,
          65,
          29,
          56,
          53,
          36,
          70,
          56,
          87,
          51,
          78,
          48,
          63,
          66,
          23,
          31,
          35,
          30,
          45,
          40,
          62,
          56,
          58,
          34,
          91,
          56,
          92,
          61,
          55,
          54,
          19,
          45,
          69,
          55,
          59,
          68,
          55,
          29,
          25,
          31,
          54,
          63,
          35,
          43,
          56,
          47,
          24,
          41,
          42,
          21,
          80,
          58,
          57,
          50,
          71,
          69,
          79,
          44,
          75,
          73,
          61,
          69,
          49,
          38,
          46,
          68,
          63,
          44,
          33,
          71,
          68,
          59,
          78,
          36,
          51,
          63,
          74,
          82,
          53,
          40,
          74,
          21,
          74,
          41,
          73,
          66,
          23,
          72,
          47,
          38,
          28,
          57,
          62,
          56,
          42,
          62,
          29,
          72,
          55,
          68,
          27,
          59,
          64,
          25,
          23,
          81,
          80,
          83,
          81,
          38,
          79,
          69,
          23,
          52,
          56,
          39,
          44,
          81,
          41,
          86,
          24,
          35,
          46,
          27,
          27,
          33,
          69,
          51,
          49,
          81,
          56,
          41,
          46,
          49,
          84,
          79,
          27,
          47,
          18,
          67,
          79,
          30,
          45,
          60,
          67,
          77,
          62,
          48,
          43,
          53,
          36,
          70,
          75,
          25,
          29,
          38,
          33,
          34,
          83,
          51,
          70,
          44,
          70,
          45,
          76,
          30,
          83,
          58,
          74,
          79,
          72,
          32,
          51,
          31,
          36,
          47,
          62,
          29,
          84,
          65,
          29,
          30,
          77,
          64,
          80,
          34,
          77,
          63,
          39,
          79,
          55,
          50,
          61,
          46,
          52,
          72,
          41,
          53,
          46,
          66,
          71,
          58,
          65,
          35,
          90,
          44,
          58,
          41,
          85,
          31,
          43,
          56,
          56,
          68,
          69,
          61,
          63,
          51,
          54,
          37,
          71,
          72,
          24,
          60,
          74,
          46,
          74,
          50,
          80,
          48,
          36,
          33,
          40,
          72,
          76,
          46,
          49,
          69,
          80,
          63,
          68,
          26,
          72,
          49,
          94,
          34,
          35,
          65,
          94,
          70,
          39,
          22,
          80,
          66,
          32,
          59,
          53,
          56,
          55,
          30,
          38,
          78,
          86,
          62,
          71,
          57,
          46,
          89,
          65,
          28,
          58,
          58,
          60,
          41,
          38,
          52,
          69,
          72,
          28,
          89,
          53,
          79,
          80,
          98,
          64,
          49,
          38,
          58,
          39,
          31,
          22,
          31,
          23,
          21,
          57,
          69,
          43,
          80,
          21,
          28,
          59,
          51,
          26,
          67,
          69,
          56,
          61,
          50,
          56,
          82,
          71,
          54,
          44,
          91,
          21,
          77,
          82,
          93,
          23,
          21,
          58,
          72,
          86,
          35,
          65,
          47,
          67,
          87,
          71,
          51,
          87,
          43,
          27,
          64,
          21,
          55,
          51,
          38,
          79,
          21,
          47,
          62,
          60,
          90,
          46,
          74,
          52,
          22,
          23,
          45,
          67,
          38,
          77,
          42,
          20,
          46,
          35,
          59,
          39,
          84,
          21,
          87,
          40,
          57,
          44,
          61,
          28,
          52,
          35,
          59,
          76,
          39,
          52,
          71,
          44,
          59,
          65,
          53,
          65,
          52,
          19,
          62,
          91,
          52,
          41,
          51,
          41,
          54,
          67,
          22,
          20,
          68,
          20,
          50,
          88,
          42,
          68,
          80,
          36,
          50,
          27,
          63,
          48,
          21,
          45,
          59,
          79,
          32,
          25,
          73,
          79,
          73,
          71,
          28,
          41,
          50,
          34,
          55,
          78,
          54,
          94,
          28,
          59,
          72,
          40,
          69,
          52,
          57,
          84,
          84,
          87,
          62,
          67,
          73,
          30,
          48,
          45,
          81,
          35,
          22,
          59,
          64,
          71,
          78,
          20,
          58,
          37,
          97,
          42,
          61,
          19,
          22,
          28,
          73,
          41,
          64,
          66,
          56,
          77,
          24,
          70,
          78,
          25,
          27,
          44,
          57,
          29,
          38,
          26,
          72,
          73,
          72,
          50,
          51,
          88,
          77,
          86,
          21,
          24,
          46,
          85,
          18,
          39,
          38,
          62,
          30,
          75,
          90,
          77,
          94,
          69,
          74,
          48,
          50,
          36,
          76,
          68,
          78,
          39,
          47,
          45,
          40,
          51,
          75,
          69,
          68,
          80,
          61,
          53,
          85,
          46,
          53,
          42,
          51,
          25,
          71,
          69,
          33,
          43,
          84,
          60,
          56,
          40,
          92,
          39,
          56,
          62,
          41,
          69,
          55,
          31,
          77,
          54,
          39,
          55,
          66,
          62,
          49,
          79,
          28,
          54,
          43,
          56,
          45,
          71,
          72,
          60,
          23,
          55,
          38,
          76,
          55,
          70,
          45,
          70,
          71,
          46,
          55,
          30,
          64,
          33,
          79,
          89,
          38,
          51,
          58,
          63,
          79,
          77,
          75,
          73,
          52,
          20,
          28,
          55,
          27,
          34,
          34,
          75,
          71,
          32,
          58,
          38,
          78,
          67,
          20,
          54,
          61,
          63,
          45,
          42,
          72,
          27,
          20,
          54,
          27,
          19,
          55,
          81,
          56,
          56,
          43,
          69,
          58,
          70,
          66,
          55,
          23,
          46,
          43,
          50,
          79,
          30,
          62,
          56,
          40,
          38,
          53,
          78,
          55,
          58,
          68,
          48,
          59,
          48,
          53,
          55,
          57,
          83,
          69,
          71,
          57,
          47,
          57,
          73,
          58,
          31,
          41,
          43,
          77,
          47,
          33,
          56,
          39,
          18,
          92,
          50,
          71,
          59,
          73,
          41,
          82,
          86,
          64,
          77,
          54,
          62,
          61,
          68,
          66,
          58,
          29,
          68,
          18,
          95,
          71,
          53,
          35,
          54,
          81,
          31,
          51,
          52,
          67,
          52,
          31,
          57,
          79,
          60,
          85,
          59,
          67,
          91,
          74,
          71,
          88,
          37,
          57,
          85,
          90,
          70,
          43,
          67,
          65,
          94,
          39,
          47,
          53,
          59,
          28,
          47,
          70,
          63,
          32,
          43,
          74,
          45,
          55,
          31,
          31,
          41,
          76,
          91,
          25,
          40,
          86,
          49,
          84,
          33,
          36,
          84,
          23,
          65,
          39,
          55,
          73,
          56,
          33,
          69,
          34,
          27,
          51,
          76,
          52,
          40,
          84,
          81,
          87,
          86,
          44,
          93,
          72,
          70,
          81,
          23,
          94,
          71,
          71,
          59,
          46,
          43,
          52,
          69,
          82,
          20,
          80,
          49,
          33,
          69,
          83,
          32,
          70,
          27,
          57,
          51,
          37,
          62,
          43,
          24,
          75,
          22,
          42,
          66,
          71,
          77,
          32,
          66,
          45,
          97,
          71,
          37,
          79,
          57,
          20,
          19,
          44,
          48,
          60,
          37,
          76,
          79,
          78,
          61,
          76,
          25,
          68,
          88,
          76,
          42,
          18,
          46,
          69,
          90,
          92,
          96,
          75,
          87,
          48,
          28,
          75,
          67,
          56,
          53,
          39,
          62,
          59,
          52,
          21,
          71,
          28,
          55,
          69,
          68,
          85,
          51,
          94,
          50,
          60,
          75,
          31,
          77,
          38,
          61,
          59,
          37,
          78,
          76,
          80,
          20,
          84,
          85,
          70,
          73,
          67,
          52,
          75,
          41,
          81,
          58,
          85,
          49,
          84,
          57,
          84,
          33,
          40,
          77,
          49,
          26,
          71,
          70,
          38,
          37,
          40,
          79,
          31,
          78,
          65,
          72,
          71,
          69,
          73,
          50,
          39,
          98,
          74,
          62,
          76,
          61,
          88,
          72,
          80,
          97,
          79,
          57,
          35,
          21,
          71,
          48,
          73,
          45,
          75,
          36,
          72,
          57,
          68,
          80,
          81,
          40,
          92,
          56,
          84,
          55,
          29,
          83,
          59,
          39,
          80,
          79,
          46,
          61,
          43,
          66,
          85,
          61,
          42,
          41,
          47,
          74,
          48,
          51,
          28,
          73,
          38,
          56,
          48,
          56,
          23,
          64,
          93,
          60,
          85,
          82,
          64,
          74,
          20,
          81,
          63,
          69,
          53,
          44,
          85,
          63,
          30,
          30,
          89,
          48,
          78,
          83,
          86,
          20,
          67,
          21,
          28,
          35,
          59,
          81,
          33,
          82,
          50,
          27,
          38,
          65,
          77,
          49,
          85,
          93,
          72,
          72,
          49,
          80,
          52,
          22,
          60,
          68,
          42,
          71,
          47,
          61,
          27,
          53,
          70,
          78,
          22,
          74,
          61,
          60,
          64,
          91,
          60,
          33,
          68,
          67,
          53,
          25,
          66,
          68,
          78,
          78,
          68,
          38,
          88,
          82,
          20,
          68,
          37,
          37,
          57,
          30,
          26,
          75,
          41,
          73,
          19,
          67,
          72,
          23,
          42,
          100,
          63,
          90,
          23,
          35,
          66,
          42,
          71,
          39,
          24,
          50,
          67,
          29,
          55,
          54,
          82,
          45,
          26,
          80,
          60,
          65,
          23,
          62,
          73,
          75,
          77,
          65,
          86,
          51,
          38,
          62,
          78,
          63,
          91,
          83,
          95,
          18,
          73,
          27,
          61,
          38,
          62,
          52,
          91,
          20,
          47,
          63,
          29,
          32,
          88,
          28,
          37,
          63,
          68,
          82,
          91,
          91,
          77,
          95,
          70,
          55,
          25,
          48,
          66,
          24,
          52,
          40,
          26,
          58,
          34,
          30,
          97,
          55,
          41,
          47,
          44,
          83,
          66,
          71,
          50,
          69,
          81,
          48,
          48,
          73,
          31,
          23,
          53,
          28,
          59,
          71,
          57,
          91,
          64,
          63,
          89,
          39,
          88,
          81,
          78,
          66,
          68,
          27,
          19,
          91,
          81,
          29,
          38,
          72,
          60,
          38,
          57,
          66,
          26,
          73,
          40,
          75,
          87,
          85,
          74,
          30
         ],
         "xaxis": "x",
         "yaxis": "y"
        },
        {
         "alignmentgroup": "True",
         "bingroup": "x",
         "hovertemplate": "sex=Unknown<br>age=%{x}<br>count=%{y}<extra></extra>",
         "legendgroup": "Unknown",
         "marker": {
          "color": "#00cc96",
          "pattern": {
           "shape": ""
          }
         },
         "name": "Unknown",
         "offsetgroup": "Unknown",
         "orientation": "v",
         "showlegend": true,
         "type": "histogram",
         "x": [
          53,
          60,
          49,
          63,
          73,
          48,
          32,
          59,
          74,
          55,
          81,
          35,
          56,
          20,
          47,
          64,
          57,
          35,
          26,
          53,
          76,
          67,
          58,
          42,
          49,
          57,
          46,
          49,
          74,
          75,
          39,
          28,
          62,
          52,
          53,
          20,
          55,
          77,
          40,
          30,
          61,
          55,
          57,
          54,
          59,
          56,
          58,
          70,
          57,
          69,
          57,
          82,
          42,
          68,
          79,
          55,
          61,
          26,
          43,
          32,
          90,
          74,
          59,
          31,
          60,
          38,
          84,
          52,
          45,
          51,
          63,
          80,
          71,
          51,
          56,
          39,
          28,
          58,
          39,
          73,
          77,
          21,
          61,
          92,
          70,
          33,
          42,
          62,
          52,
          71,
          67,
          62,
          60,
          21,
          34,
          47,
          64,
          77,
          75,
          36,
          67,
          52,
          30,
          28,
          53,
          66,
          43,
          22,
          40,
          64,
          53,
          20,
          51,
          24,
          73,
          40,
          46,
          52,
          34,
          41,
          84,
          59,
          41,
          42,
          51,
          100,
          47,
          68,
          76,
          60,
          48,
          66,
          41,
          39,
          55,
          33,
          49,
          53,
          65,
          37,
          67,
          58,
          29,
          48,
          43,
          55,
          40,
          58,
          25,
          44,
          67,
          56,
          49,
          47,
          54,
          68,
          39,
          55,
          89,
          66,
          53,
          59,
          60,
          56,
          39,
          32,
          58,
          77,
          52,
          54,
          21,
          60,
          49,
          69,
          60,
          49,
          67,
          82,
          50,
          43,
          85,
          20,
          68,
          67,
          31,
          38,
          72,
          73,
          48,
          55,
          47,
          73,
          51,
          58,
          52,
          47,
          66,
          63,
          73,
          49,
          89,
          70,
          49,
          76,
          49,
          56,
          60
         ],
         "xaxis": "x",
         "yaxis": "y"
        }
       ],
       "layout": {
        "autosize": true,
        "barmode": "relative",
        "legend": {
         "title": {
          "text": "sex"
         },
         "tracegroupgap": 0
        },
        "margin": {
         "t": 60
        },
        "template": {
         "data": {
          "bar": [
           {
            "error_x": {
             "color": "#2a3f5f"
            },
            "error_y": {
             "color": "#2a3f5f"
            },
            "marker": {
             "line": {
              "color": "#E5ECF6",
              "width": 0.5
             },
             "pattern": {
              "fillmode": "overlay",
              "size": 10,
              "solidity": 0.2
             }
            },
            "type": "bar"
           }
          ],
          "barpolar": [
           {
            "marker": {
             "line": {
              "color": "#E5ECF6",
              "width": 0.5
             },
             "pattern": {
              "fillmode": "overlay",
              "size": 10,
              "solidity": 0.2
             }
            },
            "type": "barpolar"
           }
          ],
          "carpet": [
           {
            "aaxis": {
             "endlinecolor": "#2a3f5f",
             "gridcolor": "white",
             "linecolor": "white",
             "minorgridcolor": "white",
             "startlinecolor": "#2a3f5f"
            },
            "baxis": {
             "endlinecolor": "#2a3f5f",
             "gridcolor": "white",
             "linecolor": "white",
             "minorgridcolor": "white",
             "startlinecolor": "#2a3f5f"
            },
            "type": "carpet"
           }
          ],
          "choropleth": [
           {
            "colorbar": {
             "outlinewidth": 0,
             "ticks": ""
            },
            "type": "choropleth"
           }
          ],
          "contour": [
           {
            "colorbar": {
             "outlinewidth": 0,
             "ticks": ""
            },
            "colorscale": [
             [
              0,
              "#0d0887"
             ],
             [
              0.1111111111111111,
              "#46039f"
             ],
             [
              0.2222222222222222,
              "#7201a8"
             ],
             [
              0.3333333333333333,
              "#9c179e"
             ],
             [
              0.4444444444444444,
              "#bd3786"
             ],
             [
              0.5555555555555556,
              "#d8576b"
             ],
             [
              0.6666666666666666,
              "#ed7953"
             ],
             [
              0.7777777777777778,
              "#fb9f3a"
             ],
             [
              0.8888888888888888,
              "#fdca26"
             ],
             [
              1,
              "#f0f921"
             ]
            ],
            "type": "contour"
           }
          ],
          "contourcarpet": [
           {
            "colorbar": {
             "outlinewidth": 0,
             "ticks": ""
            },
            "type": "contourcarpet"
           }
          ],
          "heatmap": [
           {
            "colorbar": {
             "outlinewidth": 0,
             "ticks": ""
            },
            "colorscale": [
             [
              0,
              "#0d0887"
             ],
             [
              0.1111111111111111,
              "#46039f"
             ],
             [
              0.2222222222222222,
              "#7201a8"
             ],
             [
              0.3333333333333333,
              "#9c179e"
             ],
             [
              0.4444444444444444,
              "#bd3786"
             ],
             [
              0.5555555555555556,
              "#d8576b"
             ],
             [
              0.6666666666666666,
              "#ed7953"
             ],
             [
              0.7777777777777778,
              "#fb9f3a"
             ],
             [
              0.8888888888888888,
              "#fdca26"
             ],
             [
              1,
              "#f0f921"
             ]
            ],
            "type": "heatmap"
           }
          ],
          "heatmapgl": [
           {
            "colorbar": {
             "outlinewidth": 0,
             "ticks": ""
            },
            "colorscale": [
             [
              0,
              "#0d0887"
             ],
             [
              0.1111111111111111,
              "#46039f"
             ],
             [
              0.2222222222222222,
              "#7201a8"
             ],
             [
              0.3333333333333333,
              "#9c179e"
             ],
             [
              0.4444444444444444,
              "#bd3786"
             ],
             [
              0.5555555555555556,
              "#d8576b"
             ],
             [
              0.6666666666666666,
              "#ed7953"
             ],
             [
              0.7777777777777778,
              "#fb9f3a"
             ],
             [
              0.8888888888888888,
              "#fdca26"
             ],
             [
              1,
              "#f0f921"
             ]
            ],
            "type": "heatmapgl"
           }
          ],
          "histogram": [
           {
            "marker": {
             "pattern": {
              "fillmode": "overlay",
              "size": 10,
              "solidity": 0.2
             }
            },
            "type": "histogram"
           }
          ],
          "histogram2d": [
           {
            "colorbar": {
             "outlinewidth": 0,
             "ticks": ""
            },
            "colorscale": [
             [
              0,
              "#0d0887"
             ],
             [
              0.1111111111111111,
              "#46039f"
             ],
             [
              0.2222222222222222,
              "#7201a8"
             ],
             [
              0.3333333333333333,
              "#9c179e"
             ],
             [
              0.4444444444444444,
              "#bd3786"
             ],
             [
              0.5555555555555556,
              "#d8576b"
             ],
             [
              0.6666666666666666,
              "#ed7953"
             ],
             [
              0.7777777777777778,
              "#fb9f3a"
             ],
             [
              0.8888888888888888,
              "#fdca26"
             ],
             [
              1,
              "#f0f921"
             ]
            ],
            "type": "histogram2d"
           }
          ],
          "histogram2dcontour": [
           {
            "colorbar": {
             "outlinewidth": 0,
             "ticks": ""
            },
            "colorscale": [
             [
              0,
              "#0d0887"
             ],
             [
              0.1111111111111111,
              "#46039f"
             ],
             [
              0.2222222222222222,
              "#7201a8"
             ],
             [
              0.3333333333333333,
              "#9c179e"
             ],
             [
              0.4444444444444444,
              "#bd3786"
             ],
             [
              0.5555555555555556,
              "#d8576b"
             ],
             [
              0.6666666666666666,
              "#ed7953"
             ],
             [
              0.7777777777777778,
              "#fb9f3a"
             ],
             [
              0.8888888888888888,
              "#fdca26"
             ],
             [
              1,
              "#f0f921"
             ]
            ],
            "type": "histogram2dcontour"
           }
          ],
          "mesh3d": [
           {
            "colorbar": {
             "outlinewidth": 0,
             "ticks": ""
            },
            "type": "mesh3d"
           }
          ],
          "parcoords": [
           {
            "line": {
             "colorbar": {
              "outlinewidth": 0,
              "ticks": ""
             }
            },
            "type": "parcoords"
           }
          ],
          "pie": [
           {
            "automargin": true,
            "type": "pie"
           }
          ],
          "scatter": [
           {
            "marker": {
             "colorbar": {
              "outlinewidth": 0,
              "ticks": ""
             }
            },
            "type": "scatter"
           }
          ],
          "scatter3d": [
           {
            "line": {
             "colorbar": {
              "outlinewidth": 0,
              "ticks": ""
             }
            },
            "marker": {
             "colorbar": {
              "outlinewidth": 0,
              "ticks": ""
             }
            },
            "type": "scatter3d"
           }
          ],
          "scattercarpet": [
           {
            "marker": {
             "colorbar": {
              "outlinewidth": 0,
              "ticks": ""
             }
            },
            "type": "scattercarpet"
           }
          ],
          "scattergeo": [
           {
            "marker": {
             "colorbar": {
              "outlinewidth": 0,
              "ticks": ""
             }
            },
            "type": "scattergeo"
           }
          ],
          "scattergl": [
           {
            "marker": {
             "colorbar": {
              "outlinewidth": 0,
              "ticks": ""
             }
            },
            "type": "scattergl"
           }
          ],
          "scattermapbox": [
           {
            "marker": {
             "colorbar": {
              "outlinewidth": 0,
              "ticks": ""
             }
            },
            "type": "scattermapbox"
           }
          ],
          "scatterpolar": [
           {
            "marker": {
             "colorbar": {
              "outlinewidth": 0,
              "ticks": ""
             }
            },
            "type": "scatterpolar"
           }
          ],
          "scatterpolargl": [
           {
            "marker": {
             "colorbar": {
              "outlinewidth": 0,
              "ticks": ""
             }
            },
            "type": "scatterpolargl"
           }
          ],
          "scatterternary": [
           {
            "marker": {
             "colorbar": {
              "outlinewidth": 0,
              "ticks": ""
             }
            },
            "type": "scatterternary"
           }
          ],
          "surface": [
           {
            "colorbar": {
             "outlinewidth": 0,
             "ticks": ""
            },
            "colorscale": [
             [
              0,
              "#0d0887"
             ],
             [
              0.1111111111111111,
              "#46039f"
             ],
             [
              0.2222222222222222,
              "#7201a8"
             ],
             [
              0.3333333333333333,
              "#9c179e"
             ],
             [
              0.4444444444444444,
              "#bd3786"
             ],
             [
              0.5555555555555556,
              "#d8576b"
             ],
             [
              0.6666666666666666,
              "#ed7953"
             ],
             [
              0.7777777777777778,
              "#fb9f3a"
             ],
             [
              0.8888888888888888,
              "#fdca26"
             ],
             [
              1,
              "#f0f921"
             ]
            ],
            "type": "surface"
           }
          ],
          "table": [
           {
            "cells": {
             "fill": {
              "color": "#EBF0F8"
             },
             "line": {
              "color": "white"
             }
            },
            "header": {
             "fill": {
              "color": "#C8D4E3"
             },
             "line": {
              "color": "white"
             }
            },
            "type": "table"
           }
          ]
         },
         "layout": {
          "annotationdefaults": {
           "arrowcolor": "#2a3f5f",
           "arrowhead": 0,
           "arrowwidth": 1
          },
          "autotypenumbers": "strict",
          "coloraxis": {
           "colorbar": {
            "outlinewidth": 0,
            "ticks": ""
           }
          },
          "colorscale": {
           "diverging": [
            [
             0,
             "#8e0152"
            ],
            [
             0.1,
             "#c51b7d"
            ],
            [
             0.2,
             "#de77ae"
            ],
            [
             0.3,
             "#f1b6da"
            ],
            [
             0.4,
             "#fde0ef"
            ],
            [
             0.5,
             "#f7f7f7"
            ],
            [
             0.6,
             "#e6f5d0"
            ],
            [
             0.7,
             "#b8e186"
            ],
            [
             0.8,
             "#7fbc41"
            ],
            [
             0.9,
             "#4d9221"
            ],
            [
             1,
             "#276419"
            ]
           ],
           "sequential": [
            [
             0,
             "#0d0887"
            ],
            [
             0.1111111111111111,
             "#46039f"
            ],
            [
             0.2222222222222222,
             "#7201a8"
            ],
            [
             0.3333333333333333,
             "#9c179e"
            ],
            [
             0.4444444444444444,
             "#bd3786"
            ],
            [
             0.5555555555555556,
             "#d8576b"
            ],
            [
             0.6666666666666666,
             "#ed7953"
            ],
            [
             0.7777777777777778,
             "#fb9f3a"
            ],
            [
             0.8888888888888888,
             "#fdca26"
            ],
            [
             1,
             "#f0f921"
            ]
           ],
           "sequentialminus": [
            [
             0,
             "#0d0887"
            ],
            [
             0.1111111111111111,
             "#46039f"
            ],
            [
             0.2222222222222222,
             "#7201a8"
            ],
            [
             0.3333333333333333,
             "#9c179e"
            ],
            [
             0.4444444444444444,
             "#bd3786"
            ],
            [
             0.5555555555555556,
             "#d8576b"
            ],
            [
             0.6666666666666666,
             "#ed7953"
            ],
            [
             0.7777777777777778,
             "#fb9f3a"
            ],
            [
             0.8888888888888888,
             "#fdca26"
            ],
            [
             1,
             "#f0f921"
            ]
           ]
          },
          "colorway": [
           "#636efa",
           "#EF553B",
           "#00cc96",
           "#ab63fa",
           "#FFA15A",
           "#19d3f3",
           "#FF6692",
           "#B6E880",
           "#FF97FF",
           "#FECB52"
          ],
          "font": {
           "color": "#2a3f5f"
          },
          "geo": {
           "bgcolor": "white",
           "lakecolor": "white",
           "landcolor": "#E5ECF6",
           "showlakes": true,
           "showland": true,
           "subunitcolor": "white"
          },
          "hoverlabel": {
           "align": "left"
          },
          "hovermode": "closest",
          "mapbox": {
           "style": "light"
          },
          "paper_bgcolor": "white",
          "plot_bgcolor": "#E5ECF6",
          "polar": {
           "angularaxis": {
            "gridcolor": "white",
            "linecolor": "white",
            "ticks": ""
           },
           "bgcolor": "#E5ECF6",
           "radialaxis": {
            "gridcolor": "white",
            "linecolor": "white",
            "ticks": ""
           }
          },
          "scene": {
           "xaxis": {
            "backgroundcolor": "#E5ECF6",
            "gridcolor": "white",
            "gridwidth": 2,
            "linecolor": "white",
            "showbackground": true,
            "ticks": "",
            "zerolinecolor": "white"
           },
           "yaxis": {
            "backgroundcolor": "#E5ECF6",
            "gridcolor": "white",
            "gridwidth": 2,
            "linecolor": "white",
            "showbackground": true,
            "ticks": "",
            "zerolinecolor": "white"
           },
           "zaxis": {
            "backgroundcolor": "#E5ECF6",
            "gridcolor": "white",
            "gridwidth": 2,
            "linecolor": "white",
            "showbackground": true,
            "ticks": "",
            "zerolinecolor": "white"
           }
          },
          "shapedefaults": {
           "line": {
            "color": "#2a3f5f"
           }
          },
          "ternary": {
           "aaxis": {
            "gridcolor": "white",
            "linecolor": "white",
            "ticks": ""
           },
           "baxis": {
            "gridcolor": "white",
            "linecolor": "white",
            "ticks": ""
           },
           "bgcolor": "#E5ECF6",
           "caxis": {
            "gridcolor": "white",
            "linecolor": "white",
            "ticks": ""
           }
          },
          "title": {
           "x": 0.05
          },
          "xaxis": {
           "automargin": true,
           "gridcolor": "white",
           "linecolor": "white",
           "ticks": "",
           "title": {
            "standoff": 15
           },
           "zerolinecolor": "white",
           "zerolinewidth": 2
          },
          "yaxis": {
           "automargin": true,
           "gridcolor": "white",
           "linecolor": "white",
           "ticks": "",
           "title": {
            "standoff": 15
           },
           "zerolinecolor": "white",
           "zerolinewidth": 2
          }
         }
        },
        "xaxis": {
         "anchor": "y",
         "autorange": true,
         "domain": [
          0,
          1
         ],
         "range": [
          17.5,
          101.5
         ],
         "title": {
          "text": "age"
         },
         "type": "linear"
        },
        "yaxis": {
         "anchor": "x",
         "autorange": true,
         "domain": [
          0,
          1
         ],
         "range": [
          0,
          335.7894736842105
         ],
         "title": {
          "text": "count"
         }
        }
       }
      },
      "image/png": "[encoded data removed]",
      "text/html": [
       "<div>                            <div id=\"6de27715-d561-469e-9c2c-f189c93d3098\" class=\"plotly-graph-div\" style=\"height:525px; width:100%;\"></div>            <script type=\"text/javascript\">                require([\"plotly\"], function(Plotly) {                    window.PLOTLYENV=window.PLOTLYENV || {};                                    if (document.getElementById(\"6de27715-d561-469e-9c2c-f189c93d3098\")) {                    Plotly.newPlot(                        \"6de27715-d561-469e-9c2c-f189c93d3098\",                        [{\"alignmentgroup\":\"True\",\"bingroup\":\"x\",\"hovertemplate\":\"sex=Female<br>age=%{x}<br>count=%{y}<extra></extra>\",\"legendgroup\":\"Female\",\"marker\":{\"color\":\"#636efa\",\"pattern\":{\"shape\":\"\"}},\"name\":\"Female\",\"offsetgroup\":\"Female\",\"orientation\":\"v\",\"showlegend\":true,\"type\":\"histogram\",\"x\":[55,75,61,62,61,40,78,56,33,46,96,69,26,20,69,54,41,79,66,56,39,78,76,53,53,53,61,67,58,46,73,74,54,70,49,62,89,50,90,68,19,66,72,39,45,57,59,51,64,64,29,89,49,55,69,75,59,39,18,32,60,62,55,51,53,27,74,50,57,58,67,71,69,52,75,54,34,79,58,47,60,74,63,40,79,76,71,77,68,47,78,85,75,76,89,64,66,49,56,69,55,30,74,100,26,56,49,64,48,50,57,66,66,68,42,70,42,53,45,48,54,67,76,55,89,54,73,58,57,39,57,83,35,90,68,24,63,59,61,48,41,83,53,80,63,56,58,63,52,57,56,57,64,36,45,72,79,28,61,41,51,66,65,33,61,44,38,83,63,56,60,60,41,56,48,58,39,53,61,79,60,54,24,58,86,57,49,61,75,62,63,26,50,45,88,50,65,34,65,63,84,55,24,64,66,54,50,80,32,68,66,80,82,45,67,30,53,51,38,52,51,71,65,50,20,49,95,56,52,59,59,62,56,51,47,36,45,18,51,83,69,81,48,41,39,53,93,79,36,39,52,60,49,67,59,68,88,62,44,40,72,71,37,94,65,66,65,54,50,76,56,29,57,74,49,62,54,49,69,52,62,61,22,90,72,69,71,58,58,57,48,66,46,51,67,28,20,58,54,56,56,79,63,70,47,72,58,74,65,56,38,70,64,43,64,50,56,58,73,22,68,68,84,74,49,30,74,55,69,49,91,65,42,53,47,42,60,89,54,53,90,57,37,65,96,62,88,49,49,22,55,52,70,57,62,90,68,43,20,73,69,33,39,51,59,76,64,61,44,72,50,81,44,49,61,38,63,64,33,63,20,83,20,73,24,28,59,81,65,33,52,38,47,55,39,64,69,53,49,38,64,81,47,83,44,22,83,57,29,21,62,70,67,76,100,59,38,20,81,36,61,70,53,59,21,53,63,75,44,39,40,33,76,64,75,58,26,69,26,35,24,48,75,55,79,67,69,72,69,53,81,52,54,56,68,87,49,62,46,61,70,63,30,53,19,44,67,63,51,71,78,81,64,48,54,64,35,86,53,45,81,48,54,88,22,62,60,51,60,55,42,77,58,56,60,67,76,63,64,52,82,63,55,60,67,50,45,60,85,71,63,53,93,24,51,49,37,65,48,82,62,92,61,30,52,35,38,57,50,67,101,28,64,51,54,37,55,61,69,63,63,78,54,87,46,52,100,24,64,49,44,49,50,52,74,57,94,75,77,77,37,57,78,29,61,69,56,71,72,86,38,47,73,40,46,33,40,50,64,23,63,67,65,57,65,67,63,73,75,49,41,81,53,71,67,49,69,58,62,68,48,43,65,69,69,52,53,47,84,36,52,59,54,69,45,75,67,39,30,63,48,32,61,92,70,41,66,72,52,70,23,45,37,55,76,42,62,61,59,37,42,68,63,90,63,58,77,70,35,49,27,74,32,58,22,31,74,59,50,68,70,29,52,49,45,50,23,66,46,87,64,61,52,44,58,65,47,47,57,56,52,66,55,65,59,64,75,43,84,92,68,39,79,68,20,50,22,63,71,91,75,27,57,73,75,65,45,43,74,61,48,45,52,87,51,74,88,89,68,34,56,68,51,58,53,52,70,61,18,88,54,60,68,70,49,43,75,54,41,55,75,48,58,33,19,56,57,67,68,52,85,40,62,76,23,38,93,38,56,55,78,60,72,52,79,44,45,54,21,46,59,71,55,51,76,73,51,62,61,87,59,68,21,66,18,62,35,86,38,90,85,86,70,48,67,39,75,67,32,56,50,34,59,53,80,54,71,62,74,57,48,40,76,62,70,85,59,62,56,27,57,82,43,84,24,63,57,52,73,60,62,70,73,48,74,76,90,56,68,54,73,73,58,42,65,62,61,59,88,54,73,66,45,25,23,79,27,57,51,85,77,59,61,49,37,56,46,65,55,59,49,30,54,36,27,56,36,48,58,65,50,53,53,73,62,58,78,49,63,48,34,72,58,74,31,21,51,52,57,22,52,53,43,55,67,56,61,57,66,65,60,64,82,90,85,55,60,66,65,59,68,55,54,34,74,50,78,46,48,58,62,89,78,81,52,52,19,50,54,79,59,71,51,26,82,78,54,82,65,66,68,68,84,77,26,52,58,51,44,64,29,79,93,38,58,59,44,73,37,71,27,39,93,88,62,80,54,68,29,52,30,37,32,63,42,44,53,48,77,73,60,63,29,77,81,33,46,82,21,76,40,57,44,85,86,72,46,64,73,55,42,47,70,56,64,67,88,58,62,94,58,57,59,53,57,23,54,68,69,39,82,65,59,91,68,71,58,57,55,60,22,37,79,64,63,66,66,75,19,59,70,23,84,43,56,50,19,65,54,52,81,79,80,54,42,52,62,53,50,72,80,55,36,28,59,69,40,77,77,33,41,50,73,57,62,48,64,67,83,65,44,60,57,91,23,52,73,56,64,21,52,46,64,78,54,59,51,69,57,78,69,58,59,73,52,63,77,72,40,63,86,53,53,61,71,78,49,75,47,45,92,73,58,62,91,49,55,63,36,62,35,58,71,48,32,67,39,41,20,73,65,88,53,34,83,43,65,36,54,55,58,60,37,77,62,82,28,56,49,35,45,64,71,22,57,85,92,73,92,65,81,72,79,44,24,48,56,70,84,38,59,47,26,83,90,60,62,50,39,56,61,94,69,51,24,94,26,65,38,55,67,35,53,51,71,54,88,51,86,69,41,78,74,54,53,50,85,62,63,62,72,47,38,41,74,56,42,67,64,83,28,43,59,39,59,28,59,73,63,81,73,74,85,24,40,26,74,42,60,83,47,71,26,61,22,101,60,90,91,78,39,49,43,74,49,72,38,51,58,54,90,89,51,38,64,60,74,46,32,18,66,43,60,47,21,56,86,60,41,51,25,38,70,68,54,41,83,29,88,46,52,64,42,58,70,65,82,69,54,62,80,75,50,60,24,25,56,39,66,84,87,23,27,60,25,49,75,53,58,48,36,53,99,50,32,24,78,38,84,67,86,30,52,72,51,64,65,91,67,67,41,21,30,28,93,59,49,39,87,52,68,37,57,66,81,88,67,74,66,76,73,30,83,28,58,75,97,43,25,20,56,70,63,42,80,62,55,36,62,75,49,26,41,69,72,33,70,69,63,78,43,36,72,80,48,45,35,43,53,57,59,78,59,40,70,51,95,74,60,89,50,80,56,76,84,25,77,60,28,67,83,63,60,83,44,55,34,53,65,22,67,60,43,34,80,42,72,65,61,53,21,51,53,66,80,52,57,65,38,57,50,29,90,85,43,48,87,53,47,50,32,52,45,20,43,67,70,44,66,73,22,90,46,67,95,62,73,40,80,51,50,26,28,68,52,61,66,19,55,35,62,63,90,25,74,66,74,64,33,63,53,88,89,47,43,48,65,51,33,38,36,61,61,77,49,25,88,79,84,86,37,53,55,58,42,23,45,59,74,92,70,68,64,85,31,47,32,45,61,24,53,51,70,30,50,59,67,33,69,29,48,48,72,68,76,29,54,89,62,77,60,67,59,75,74,53,61,84,54,64,62,34,32,70,74,58,80,52,27,75,77,33,69,77,25,80,82,57,48,49,21,64,60,83,62,18,97,30,44,64,47,71,50,51,49,81,51,22,61,25,36,71,72,22,59,46,62,37,33,30,53,62,49,76,39,60,59,56,32,58,71,51,35,65,44,22,82,60,49,66,56,37,75,78,80,74,69,50,79,64,46,83,47,20,19,51,46,70,63,24,94,50,61,40,66,66,74,67,46,80,24,60,53,77,56,70,33,70,69,38,68,58,49,20,34,36,54,57,51,19,53,27,82,21,50,22,56,34,85,48,60,50,43,71,76,37,62,61,71,80,81,68,100,47,73,65,76,40,67,64,46,61,71,71,49,37,41,54,43,65,37,94,82,68,36,47,82,87,53,56,73,46,43,45,47,66,27,31,31,41,47,36,58,58,80,55,26,54,68,30,55,51,58,33,62,47,55,71,67,67,48,71,70,45,56,77,42,31,79,90,51,84,66,41,61,43,70,52,75,36,57,73,71,49,54,46,61,80,62,51,90,65,58,27,81,66,63,72,49,74,34,62,58,75,32,79,19,39,26,74,54,49,27,52,45,39,99,32,75,44,89,48,67,66,75,46,67,68,36,51,56,91,72,81,39,57,68,64,70,92,68,59,62,58,56,64,53,70,52,24,65,33,88,65,40,83,64,90,68,80,45,18,76,45,57,52,55,67,35,73,94,45,37,57,98,45,79,58,26,54,84,56,87,23,89,100,23,58,64,46,73,19,57,50,64,70,67,74,67,79,37,89,43,54,60,28,45,36,85,75,73,44,77,25,55,64,39,18,78,69,64,34,82,41,31,58,87,34,74,20,73,41,63,60,27,56,74,72,53,71,35,65,58,43,100,79,43,44,88,77,57,84,75,50,24,22,59,36,70,61,74,75,78,59,76,51,54,24,77,55,82,84,68,66,60,41,59,41,23,63,40,66,25,41,60,59,73,23,51,21,47,57,64,29,75,60,76,88,67,24,72,54,87,85,70,70,28,71,57,47,43,58,57,44,70,68,49,60,70,44,86,88,82,35,43,86,54,41,71,38,47,75,55,63,54,42,67,70,72,62,95,50,69,29,56,47,77,81,54,61,85,52,36,86,54,47,42,75,66,84,53,69,69,49,48,71,66,78,72,42,62,71,46,32,33,27,67,65,62,52,42,46,57,71,68,57,60,85,52,68,55,90,61,63,31,40,60,22,63,54,48,48,79,24,74,82,30,72,80,67,80,43,57,81,52,57,64,50,88,70,40,74,97,34,83,27,54,84,53,77,95,27,50,55,72,80,32,27,93,62,61,22,41,45,44,59,39,70,90,82,66,60,42,56,88,50,47,44,68,55,65,32,75,20,74,65,48,56,50,67,30,75,72,22,35,67,34,59,40,53,76,69,43,26,31,87,69,92,26,31,51,49,53,77,58,50,59,59,73,41,55,48,30,57,82,39,46,53,49,91,31,37,45,49,61,22,83,61,28,69,47,68,23,64,73,73,48,40,51,18,52,56,24,96,39,82,68,34,35,42,51,61,53,59,42,64,30,54,20,74,82,45,25,61,23,59,81,70,62,42,79,48,26,45,45,81,66,58,67,71,94,50,93,74,22,55,74,68,64,71,40,89,26,57,38,40,37,69,43,66,42,73,76,37,52,55,28,48,58,68,40,91,61,51,91,53,40,75,81,44,78,43,60,88,64,69,79,20,61,42,64,50,34,52,84,71,56,45,82,52,55,49,85,74,72,44,28,61,57,48,77,80,67,46,34,59,42,52,58,81,77,84,87,51,80,59,87,41,63,40,79,21,68,19,76,57,81,25,80,55,34,93,88,56,70,84,64,78,38,71,41,80,39,92,20,53,70,78,92,29,69,54,63,48,69,68,82,76,52,69,75,31,86,71,22,60,55,75,50,27,76,66,21,65,88,60,76,72,46,82,53,34,61,30,75,58,50,62,65,45,81,66,49,25,24,58,65,29,85,24,60,81,51,72,49,63,28,83,40,38,63,24,61,60,54,55,60,58,25,73,44,51,38,86,33,93,49,48,39,32,61,61,83,53,91,55,42,44,55,32,68,96,33,58,88,49,28,73,53,94,41,80,71,54,39,95,19,76,63,33,39,91,50,70,59,69,63,67,52,74,45,53,43,21,58,24,90,63,81,77,46,35,62,63,57,54,83,73,29,30,62,70,59,48,79,72,74,36,45,68,82,69,83,85,58,58,19,59,65,32,25,88,66,92,68,72,26,66,57,44,44,40,49,44,25,69,63,57,50,65,26,75,31,66,61,95,44,58,57,53,88,65,49,46,68,63,57,81,48,81,18,45,21,92,80,66,48,57,80,32,92,36,66,34,65,37,59,59,48,80,38,43,53,45,82,66,32,41,34,62,67,81,41,77,95,60,73,76,26,85,66,60,33,77,27,34,65,79,82,81,64,89,37,75,53,64,66,70,87,52,68,51,24,92,46,79,81,59,63,88,59,21,19,37,67,75,65,49,43,28,35,23,57,26,67,72,81,51,63,44,46,19,58,85,74,83,39,38,94,74,36,29,88,62,37,51,37,56,19,81,84,46,88,48,45,84,42,42,89,28,55,42,60,63,29,71,34,43,83,72,19,65,71,48,31,88,72,70,91,26,23,69,40,52,67,52,74,79,66,77,45,76,59,51,56,59,40,85,44,75,69,83,58,92,71,72,64,87,64,49,37,86,57,95,50,75,71,71,76,58,68,53,25,81,55,46,42,53,61,40,63,28,79,68,76,52,78,64,31,75,60,68,42,74,47,41,85,73,84,32,71,65,62,82,80,43,61,45,71,62,77,87,32,92,71,78,50,62,58,75,45,72,41,78,91,73,63,19,23,28,74,32,48,20,63,64,48,25,36,87,47,54,56,89,74,78,63,95,74,50,83,79,50,80,93,58,43,70,87,69,94,61,34,86,60,59,91,43,42,43,76,59,47,43,28,57,65,81,75,47,91,83,60,81,51,68,45,24,55,61,65,78,66,54,20,72,56,54,39,62,55,94,59,49,70,73,71,50,56,66,65,64,56,39,79,62,44,75,26,23,80,78,21,65,27,72,37,68,78,85,92,56,19,83,48,80,84,34,84,87,40,41,74,21,65,89,80,76,57,58,67,31,57,93,81,22,44,73,60,79,59,78,62,45,50,38,71,37,79,36,49,36,49,52,35,26,70,98,95,86,46,33,81,89,38,82,46,82,89,66,31,25,56,32,95,46,24,55,69,36,40,36,89,70,28,71,53,86,84,60,73,69,50,35,53,29,39,60,57,54,60,39,46,80,89,56,50,60,75,66,80,55,50,20,63,79,25,47,21,38,67,99,31,77,35,78,26,22,78,68,64,34,74,73,20,45,87,84,81,31,44,60,40,55,90,72,78,97,39,30,52,66,62,72,26,84,55,54,27,78,46,75,76,48,71,35,44,96,33,66,87,27,95,81,40,43,82,77,90,55,73,34,55,78,45,40,66,37,47,85,44,21,79,25,51,84,46,65,72,55,72,77,46,51,87,22,29,69,48,60,69,44,39,58,36,51,70,36,90,35,44,28,23,36,41,22,41,29,58,51,54,46,81,95,56,39,71,75,42,76,66,61,96,80,52,60,69,22,55,69,101,84,31,51,20,21,75,59,55,60,38,54,42,86,55,83,37,62,79,19,68,77,76,54,59,92,52,78,77,57,44,21,87,40,88,82,83,60,56,62,48,90,82,68,100,34,81,33,92,68,58,53,97,84,68,93,51,69,91,41,88,92,70,51,85,43,54,73,71,35,74,64,78,66,63,53,21,59,55,46,58,70,60,59,84,20,77,50,37,70,59,18,42,93,37,25,84,37,44,84,26,34,77,27,25,68,25,29,34,74,91,35,30,60,101,29,53,28,52,67,63,54,92,36,42,72,59,55,97,66,65,28,68,46,27,63,59,56,25,47,58,87,95,72,72,30,32,89,58,28,38,52,69,32,18,82,66,25,48,39,71,46,38,49,83,90,86,59,41,80,81,59,44,77,70,56,64,42,86,63,61,61,21,76,85,79,82,75,50,26,46,54,55,70,76,45,54,58,93,79,72,99,63,20,29,46,87,65,94,56,68,85,68,27,86,37,60,100,70,33,39,37,85,92,43,86,65,83,73,33,101,52,72,54,74,73,59,61,68,74,89,51,48,26,59,83],\"xaxis\":\"x\",\"yaxis\":\"y\"},{\"alignmentgroup\":\"True\",\"bingroup\":\"x\",\"hovertemplate\":\"sex=Male<br>age=%{x}<br>count=%{y}<extra></extra>\",\"legendgroup\":\"Male\",\"marker\":{\"color\":\"#EF553B\",\"pattern\":{\"shape\":\"\"}},\"name\":\"Male\",\"offsetgroup\":\"Male\",\"orientation\":\"v\",\"showlegend\":true,\"type\":\"histogram\",\"x\":[68,65,58,26,49,57,64,42,59,67,22,40,56,75,45,61,39,42,45,29,44,63,36,68,75,67,77,76,57,30,59,51,27,40,42,78,64,73,60,45,66,76,52,55,74,18,53,57,71,83,26,43,79,55,45,52,39,77,66,74,47,20,60,65,33,49,68,42,72,67,52,38,22,34,46,85,51,48,52,62,42,55,68,77,35,45,82,40,66,52,68,21,61,24,26,81,62,38,61,50,54,82,64,82,90,44,83,89,68,71,89,63,41,44,25,27,67,37,55,30,51,49,32,30,47,34,58,23,58,72,43,58,43,81,42,75,65,52,50,73,37,65,20,46,24,71,37,52,41,20,43,73,82,48,64,79,51,52,28,69,73,57,58,49,51,74,53,61,41,42,50,60,57,68,56,84,62,63,67,55,40,83,42,58,35,36,53,25,63,43,59,49,42,80,43,54,28,71,20,71,67,51,48,53,25,19,56,44,25,34,44,47,62,66,62,83,43,70,63,77,53,60,69,39,54,50,58,39,24,48,50,45,48,59,43,54,63,47,52,78,43,68,18,74,23,46,51,77,73,47,84,20,35,57,87,61,38,94,59,31,51,68,86,61,55,81,73,63,36,56,75,71,71,61,19,37,22,55,40,61,36,38,45,89,59,22,56,32,55,81,55,49,62,55,58,66,87,55,38,43,43,49,43,40,49,25,71,58,53,46,51,61,60,48,73,31,38,87,42,54,47,75,30,34,43,75,47,31,70,48,37,48,69,66,38,43,43,60,53,77,63,70,38,51,22,72,70,23,38,50,72,43,73,53,45,74,18,82,63,64,66,49,69,48,25,82,80,63,45,61,46,64,69,66,74,62,23,36,75,76,66,33,74,67,86,58,67,58,63,50,63,47,57,79,54,53,42,61,30,59,38,69,31,66,63,47,49,53,33,25,45,56,36,19,69,25,55,69,60,40,65,71,57,51,82,68,42,45,92,45,32,63,60,21,47,25,41,22,45,42,19,33,46,59,73,86,63,63,67,50,53,41,63,53,60,52,28,52,36,28,79,40,54,32,37,66,67,47,31,55,81,43,53,50,58,77,39,61,63,28,46,70,29,98,43,60,76,62,57,60,41,53,19,50,42,56,59,60,56,77,62,79,64,22,79,20,56,37,51,42,48,78,67,74,34,68,20,31,46,53,30,36,42,54,19,72,42,51,85,53,51,26,40,75,40,78,53,49,58,59,66,71,83,52,49,32,56,49,42,55,44,70,62,96,65,26,65,75,25,19,58,58,63,55,58,84,66,66,84,53,64,70,18,30,59,50,76,34,74,56,80,64,22,66,70,52,60,65,24,65,25,76,73,20,66,80,61,55,50,68,65,72,58,72,74,50,35,62,43,40,53,63,71,78,43,67,49,37,41,75,80,19,53,41,66,77,59,43,50,62,64,31,56,51,71,80,29,22,82,62,52,69,63,82,70,57,28,59,38,44,24,76,33,28,42,64,54,28,55,23,83,63,53,61,66,70,45,42,64,70,29,37,59,20,47,37,89,23,55,38,35,32,28,49,82,41,75,54,32,31,24,20,33,60,51,49,63,75,91,57,72,66,37,56,55,36,64,23,67,42,41,82,28,68,80,67,33,71,54,43,51,55,40,33,39,63,52,82,67,66,32,68,81,75,88,24,54,83,59,32,76,43,59,71,61,76,53,51,56,75,35,95,90,67,78,69,54,39,57,25,72,37,53,68,52,48,51,83,40,58,28,34,65,58,70,51,31,72,62,81,77,26,31,54,36,62,23,65,70,89,75,66,65,51,22,76,40,22,60,61,71,79,21,46,77,37,59,27,52,64,39,44,74,57,60,29,54,54,64,18,34,80,33,81,36,30,84,67,21,79,33,26,36,36,74,68,40,86,37,47,50,69,62,85,67,56,69,60,82,20,49,71,24,42,51,41,36,74,64,54,69,58,58,31,54,64,52,68,83,64,65,41,57,58,29,40,57,48,41,47,36,39,59,33,74,75,64,47,82,19,38,56,59,56,40,43,57,26,90,39,77,59,65,74,68,81,27,60,26,53,32,55,45,94,66,67,18,51,61,38,62,21,29,55,50,62,65,81,71,28,46,70,54,48,58,75,70,38,71,25,76,45,42,53,23,67,64,57,43,48,37,52,46,71,92,63,50,70,63,70,40,45,24,71,95,22,20,49,56,60,55,82,67,32,50,61,76,62,51,18,48,46,62,59,43,33,65,87,21,87,41,38,69,52,30,47,19,70,39,26,72,31,38,32,76,89,54,53,36,42,53,54,90,51,77,49,72,23,27,48,31,42,29,67,49,56,83,56,77,36,49,27,34,57,23,73,55,78,83,53,39,29,43,71,27,94,52,63,27,47,66,34,39,40,76,83,58,55,49,68,47,65,78,58,48,28,58,47,41,73,51,55,41,46,74,90,52,84,42,30,64,53,19,35,47,44,45,52,19,22,56,62,58,68,26,51,44,51,39,70,58,33,73,31,62,27,55,48,56,52,24,62,29,66,91,47,53,55,68,53,60,70,69,22,69,49,79,70,60,49,32,41,72,50,25,18,54,48,50,65,43,50,69,53,88,79,41,52,44,49,34,64,51,27,25,70,53,27,59,24,65,54,28,20,43,69,75,46,33,73,26,71,86,39,54,63,69,40,24,54,50,27,41,66,29,53,70,32,66,76,53,78,63,69,40,90,44,62,20,41,19,54,57,57,55,74,18,56,50,62,37,55,85,45,37,72,26,63,50,45,19,32,30,63,79,66,23,77,20,60,36,40,32,36,68,51,20,74,34,44,42,33,37,64,37,57,67,67,28,42,65,65,66,31,52,53,61,62,32,91,39,34,62,33,33,48,74,19,47,69,78,46,93,58,48,48,56,61,65,64,72,54,89,60,52,19,21,45,39,59,66,41,52,53,71,72,76,68,26,21,26,60,90,52,61,76,52,87,72,53,52,18,70,20,59,68,80,68,53,72,50,40,40,59,38,47,90,54,60,82,48,49,74,60,52,31,86,45,41,48,56,55,69,51,26,52,87,63,53,50,92,63,46,58,67,68,55,66,77,54,57,81,78,31,23,76,53,67,73,54,78,34,49,24,59,33,54,75,74,26,79,68,37,35,55,59,54,24,45,18,52,47,32,38,51,60,85,56,42,63,22,47,26,18,20,97,85,39,54,24,74,29,65,29,33,64,64,56,73,52,49,87,58,80,24,88,73,61,56,72,25,50,22,67,45,70,39,44,56,65,62,19,76,67,58,42,27,63,21,70,71,30,36,72,22,45,45,82,82,56,71,72,58,73,42,19,21,57,21,62,48,21,75,56,45,61,44,30,58,35,66,24,25,83,70,52,48,54,19,51,36,62,53,55,62,60,54,64,50,36,61,62,70,83,59,81,43,73,48,49,54,58,57,63,86,62,78,68,42,28,41,61,46,20,28,67,32,24,52,62,48,33,25,47,67,75,89,57,44,38,66,34,43,61,47,41,42,69,48,64,84,23,54,46,32,46,63,57,48,18,47,67,52,43,37,81,52,51,53,31,35,84,40,21,56,50,59,39,76,20,78,24,80,49,46,50,83,37,37,85,44,55,64,74,64,64,38,82,46,88,72,60,64,48,30,69,77,63,61,55,37,22,59,42,52,44,57,63,34,33,37,27,62,62,30,55,53,24,18,53,18,56,45,93,55,91,47,26,22,31,48,73,64,34,49,69,85,34,68,100,55,71,26,72,58,21,65,25,26,26,73,28,54,67,70,60,46,47,35,40,64,83,24,58,76,25,74,76,46,64,20,58,60,62,69,66,56,76,93,49,51,32,61,49,58,62,62,58,50,78,52,43,19,50,92,42,45,60,84,65,42,70,65,48,61,57,41,43,70,59,38,60,39,65,68,58,84,23,78,32,82,74,55,41,70,26,78,59,27,72,50,73,54,69,60,25,66,19,40,54,65,39,29,81,36,36,50,55,28,77,52,59,73,43,39,51,56,70,71,30,29,43,71,62,91,46,42,51,69,25,83,41,50,51,30,18,59,66,55,36,50,44,87,80,33,87,57,64,45,41,66,86,81,52,63,71,76,77,69,63,58,54,84,23,63,37,29,65,44,52,40,26,67,30,79,67,42,48,48,41,36,41,21,65,60,49,61,75,73,55,67,26,56,32,80,55,19,58,54,83,49,73,22,47,27,38,89,29,76,35,49,88,57,53,25,63,20,30,25,26,54,79,28,27,67,70,54,67,32,19,46,70,61,24,40,27,64,44,50,64,27,89,39,59,25,66,22,27,89,60,76,54,26,40,58,79,76,77,70,50,47,47,63,35,80,84,21,64,76,49,67,35,55,41,34,56,21,48,73,76,58,47,37,26,44,37,82,63,60,28,27,48,53,39,66,72,77,70,34,71,73,62,34,41,87,58,47,54,44,39,33,62,51,65,76,56,36,66,69,39,31,46,57,58,49,78,69,63,71,75,38,45,24,32,37,58,34,67,83,44,23,76,34,68,20,24,81,19,30,71,92,43,53,38,22,72,80,42,30,22,34,50,38,22,64,66,54,21,57,39,76,20,58,37,65,65,37,54,78,51,54,67,76,41,64,65,64,51,89,37,80,39,40,42,64,47,53,79,39,20,77,51,72,60,74,37,36,41,66,32,34,57,44,50,55,37,73,54,90,77,34,22,61,80,43,69,28,56,60,43,83,83,52,23,26,46,61,68,56,73,91,43,57,55,94,18,87,69,84,41,46,51,80,45,26,28,62,49,42,63,44,34,25,73,29,72,72,74,67,55,52,67,79,23,79,24,60,40,61,39,42,72,60,32,97,73,41,76,49,60,54,42,57,72,50,46,60,64,52,36,44,44,47,48,67,32,52,32,21,67,70,47,81,35,63,18,49,40,91,35,51,70,82,24,52,75,71,40,58,54,52,38,65,23,62,72,87,49,99,54,68,74,19,59,66,67,33,91,22,20,48,61,51,83,49,49,68,23,49,63,19,33,64,24,92,64,72,38,30,69,79,74,55,64,57,76,64,62,48,83,74,58,61,86,45,70,58,29,35,56,70,31,74,61,59,59,40,45,66,72,54,26,75,64,68,73,59,77,58,66,60,45,48,65,57,66,69,48,74,40,27,61,48,94,76,45,59,60,60,53,30,41,59,47,74,25,30,50,60,62,36,67,25,61,32,88,70,56,71,73,41,75,46,18,78,59,55,42,37,40,21,29,60,49,25,58,61,74,37,76,47,70,57,94,44,64,33,29,60,60,61,59,43,67,80,66,23,44,75,83,56,70,53,76,75,68,36,23,26,26,58,62,71,47,61,77,23,60,52,66,37,60,42,36,45,31,31,57,56,51,38,57,45,18,68,69,43,65,91,77,19,28,30,50,44,51,68,60,56,52,47,84,81,69,51,62,71,49,32,32,45,59,39,32,57,52,82,88,41,57,21,66,88,91,70,46,39,35,45,44,48,36,71,51,44,44,93,97,65,85,89,59,62,75,22,70,46,88,45,63,75,21,46,74,49,43,69,30,77,75,77,37,51,54,61,94,70,76,82,47,69,71,20,21,27,59,74,19,20,36,19,36,72,65,74,50,54,66,20,73,29,66,59,28,86,64,64,41,47,49,69,33,52,51,69,73,80,36,86,49,29,46,44,57,61,56,23,46,58,67,52,66,58,55,22,53,41,42,70,46,61,58,61,46,81,26,40,31,43,26,49,35,25,83,41,59,60,18,34,57,74,73,49,56,74,77,69,54,69,64,40,52,65,73,59,32,44,63,60,21,83,22,35,45,78,46,27,78,75,67,77,57,31,48,37,50,57,62,44,59,82,70,93,51,60,74,58,24,57,29,49,68,58,22,44,25,65,83,48,41,54,82,26,44,18,70,32,21,80,79,20,78,85,84,53,66,54,49,38,45,80,46,67,68,27,55,39,65,85,61,37,39,78,31,54,44,65,81,75,68,67,19,58,57,52,44,21,81,33,51,53,57,54,63,34,87,35,37,65,29,56,53,36,70,56,87,51,78,48,63,66,23,31,35,30,45,40,62,56,58,34,91,56,92,61,55,54,19,45,69,55,59,68,55,29,25,31,54,63,35,43,56,47,24,41,42,21,80,58,57,50,71,69,79,44,75,73,61,69,49,38,46,68,63,44,33,71,68,59,78,36,51,63,74,82,53,40,74,21,74,41,73,66,23,72,47,38,28,57,62,56,42,62,29,72,55,68,27,59,64,25,23,81,80,83,81,38,79,69,23,52,56,39,44,81,41,86,24,35,46,27,27,33,69,51,49,81,56,41,46,49,84,79,27,47,18,67,79,30,45,60,67,77,62,48,43,53,36,70,75,25,29,38,33,34,83,51,70,44,70,45,76,30,83,58,74,79,72,32,51,31,36,47,62,29,84,65,29,30,77,64,80,34,77,63,39,79,55,50,61,46,52,72,41,53,46,66,71,58,65,35,90,44,58,41,85,31,43,56,56,68,69,61,63,51,54,37,71,72,24,60,74,46,74,50,80,48,36,33,40,72,76,46,49,69,80,63,68,26,72,49,94,34,35,65,94,70,39,22,80,66,32,59,53,56,55,30,38,78,86,62,71,57,46,89,65,28,58,58,60,41,38,52,69,72,28,89,53,79,80,98,64,49,38,58,39,31,22,31,23,21,57,69,43,80,21,28,59,51,26,67,69,56,61,50,56,82,71,54,44,91,21,77,82,93,23,21,58,72,86,35,65,47,67,87,71,51,87,43,27,64,21,55,51,38,79,21,47,62,60,90,46,74,52,22,23,45,67,38,77,42,20,46,35,59,39,84,21,87,40,57,44,61,28,52,35,59,76,39,52,71,44,59,65,53,65,52,19,62,91,52,41,51,41,54,67,22,20,68,20,50,88,42,68,80,36,50,27,63,48,21,45,59,79,32,25,73,79,73,71,28,41,50,34,55,78,54,94,28,59,72,40,69,52,57,84,84,87,62,67,73,30,48,45,81,35,22,59,64,71,78,20,58,37,97,42,61,19,22,28,73,41,64,66,56,77,24,70,78,25,27,44,57,29,38,26,72,73,72,50,51,88,77,86,21,24,46,85,18,39,38,62,30,75,90,77,94,69,74,48,50,36,76,68,78,39,47,45,40,51,75,69,68,80,61,53,85,46,53,42,51,25,71,69,33,43,84,60,56,40,92,39,56,62,41,69,55,31,77,54,39,55,66,62,49,79,28,54,43,56,45,71,72,60,23,55,38,76,55,70,45,70,71,46,55,30,64,33,79,89,38,51,58,63,79,77,75,73,52,20,28,55,27,34,34,75,71,32,58,38,78,67,20,54,61,63,45,42,72,27,20,54,27,19,55,81,56,56,43,69,58,70,66,55,23,46,43,50,79,30,62,56,40,38,53,78,55,58,68,48,59,48,53,55,57,83,69,71,57,47,57,73,58,31,41,43,77,47,33,56,39,18,92,50,71,59,73,41,82,86,64,77,54,62,61,68,66,58,29,68,18,95,71,53,35,54,81,31,51,52,67,52,31,57,79,60,85,59,67,91,74,71,88,37,57,85,90,70,43,67,65,94,39,47,53,59,28,47,70,63,32,43,74,45,55,31,31,41,76,91,25,40,86,49,84,33,36,84,23,65,39,55,73,56,33,69,34,27,51,76,52,40,84,81,87,86,44,93,72,70,81,23,94,71,71,59,46,43,52,69,82,20,80,49,33,69,83,32,70,27,57,51,37,62,43,24,75,22,42,66,71,77,32,66,45,97,71,37,79,57,20,19,44,48,60,37,76,79,78,61,76,25,68,88,76,42,18,46,69,90,92,96,75,87,48,28,75,67,56,53,39,62,59,52,21,71,28,55,69,68,85,51,94,50,60,75,31,77,38,61,59,37,78,76,80,20,84,85,70,73,67,52,75,41,81,58,85,49,84,57,84,33,40,77,49,26,71,70,38,37,40,79,31,78,65,72,71,69,73,50,39,98,74,62,76,61,88,72,80,97,79,57,35,21,71,48,73,45,75,36,72,57,68,80,81,40,92,56,84,55,29,83,59,39,80,79,46,61,43,66,85,61,42,41,47,74,48,51,28,73,38,56,48,56,23,64,93,60,85,82,64,74,20,81,63,69,53,44,85,63,30,30,89,48,78,83,86,20,67,21,28,35,59,81,33,82,50,27,38,65,77,49,85,93,72,72,49,80,52,22,60,68,42,71,47,61,27,53,70,78,22,74,61,60,64,91,60,33,68,67,53,25,66,68,78,78,68,38,88,82,20,68,37,37,57,30,26,75,41,73,19,67,72,23,42,100,63,90,23,35,66,42,71,39,24,50,67,29,55,54,82,45,26,80,60,65,23,62,73,75,77,65,86,51,38,62,78,63,91,83,95,18,73,27,61,38,62,52,91,20,47,63,29,32,88,28,37,63,68,82,91,91,77,95,70,55,25,48,66,24,52,40,26,58,34,30,97,55,41,47,44,83,66,71,50,69,81,48,48,73,31,23,53,28,59,71,57,91,64,63,89,39,88,81,78,66,68,27,19,91,81,29,38,72,60,38,57,66,26,73,40,75,87,85,74,30],\"xaxis\":\"x\",\"yaxis\":\"y\"},{\"alignmentgroup\":\"True\",\"bingroup\":\"x\",\"hovertemplate\":\"sex=Unknown<br>age=%{x}<br>count=%{y}<extra></extra>\",\"legendgroup\":\"Unknown\",\"marker\":{\"color\":\"#00cc96\",\"pattern\":{\"shape\":\"\"}},\"name\":\"Unknown\",\"offsetgroup\":\"Unknown\",\"orientation\":\"v\",\"showlegend\":true,\"type\":\"histogram\",\"x\":[53,60,49,63,73,48,32,59,74,55,81,35,56,20,47,64,57,35,26,53,76,67,58,42,49,57,46,49,74,75,39,28,62,52,53,20,55,77,40,30,61,55,57,54,59,56,58,70,57,69,57,82,42,68,79,55,61,26,43,32,90,74,59,31,60,38,84,52,45,51,63,80,71,51,56,39,28,58,39,73,77,21,61,92,70,33,42,62,52,71,67,62,60,21,34,47,64,77,75,36,67,52,30,28,53,66,43,22,40,64,53,20,51,24,73,40,46,52,34,41,84,59,41,42,51,100,47,68,76,60,48,66,41,39,55,33,49,53,65,37,67,58,29,48,43,55,40,58,25,44,67,56,49,47,54,68,39,55,89,66,53,59,60,56,39,32,58,77,52,54,21,60,49,69,60,49,67,82,50,43,85,20,68,67,31,38,72,73,48,55,47,73,51,58,52,47,66,63,73,49,89,70,49,76,49,56,60],\"xaxis\":\"x\",\"yaxis\":\"y\"}],                        {\"barmode\":\"relative\",\"legend\":{\"title\":{\"text\":\"sex\"},\"tracegroupgap\":0},\"margin\":{\"t\":60},\"template\":{\"data\":{\"bar\":[{\"error_x\":{\"color\":\"#2a3f5f\"},\"error_y\":{\"color\":\"#2a3f5f\"},\"marker\":{\"line\":{\"color\":\"#E5ECF6\",\"width\":0.5},\"pattern\":{\"fillmode\":\"overlay\",\"size\":10,\"solidity\":0.2}},\"type\":\"bar\"}],\"barpolar\":[{\"marker\":{\"line\":{\"color\":\"#E5ECF6\",\"width\":0.5},\"pattern\":{\"fillmode\":\"overlay\",\"size\":10,\"solidity\":0.2}},\"type\":\"barpolar\"}],\"carpet\":[{\"aaxis\":{\"endlinecolor\":\"#2a3f5f\",\"gridcolor\":\"white\",\"linecolor\":\"white\",\"minorgridcolor\":\"white\",\"startlinecolor\":\"#2a3f5f\"},\"baxis\":{\"endlinecolor\":\"#2a3f5f\",\"gridcolor\":\"white\",\"linecolor\":\"white\",\"minorgridcolor\":\"white\",\"startlinecolor\":\"#2a3f5f\"},\"type\":\"carpet\"}],\"choropleth\":[{\"colorbar\":{\"outlinewidth\":0,\"ticks\":\"\"},\"type\":\"choropleth\"}],\"contour\":[{\"colorbar\":{\"outlinewidth\":0,\"ticks\":\"\"},\"colorscale\":[[0.0,\"#0d0887\"],[0.1111111111111111,\"#46039f\"],[0.2222222222222222,\"#7201a8\"],[0.3333333333333333,\"#9c179e\"],[0.4444444444444444,\"#bd3786\"],[0.5555555555555556,\"#d8576b\"],[0.6666666666666666,\"#ed7953\"],[0.7777777777777778,\"#fb9f3a\"],[0.8888888888888888,\"#fdca26\"],[1.0,\"#f0f921\"]],\"type\":\"contour\"}],\"contourcarpet\":[{\"colorbar\":{\"outlinewidth\":0,\"ticks\":\"\"},\"type\":\"contourcarpet\"}],\"heatmap\":[{\"colorbar\":{\"outlinewidth\":0,\"ticks\":\"\"},\"colorscale\":[[0.0,\"#0d0887\"],[0.1111111111111111,\"#46039f\"],[0.2222222222222222,\"#7201a8\"],[0.3333333333333333,\"#9c179e\"],[0.4444444444444444,\"#bd3786\"],[0.5555555555555556,\"#d8576b\"],[0.6666666666666666,\"#ed7953\"],[0.7777777777777778,\"#fb9f3a\"],[0.8888888888888888,\"#fdca26\"],[1.0,\"#f0f921\"]],\"type\":\"heatmap\"}],\"heatmapgl\":[{\"colorbar\":{\"outlinewidth\":0,\"ticks\":\"\"},\"colorscale\":[[0.0,\"#0d0887\"],[0.1111111111111111,\"#46039f\"],[0.2222222222222222,\"#7201a8\"],[0.3333333333333333,\"#9c179e\"],[0.4444444444444444,\"#bd3786\"],[0.5555555555555556,\"#d8576b\"],[0.6666666666666666,\"#ed7953\"],[0.7777777777777778,\"#fb9f3a\"],[0.8888888888888888,\"#fdca26\"],[1.0,\"#f0f921\"]],\"type\":\"heatmapgl\"}],\"histogram\":[{\"marker\":{\"pattern\":{\"fillmode\":\"overlay\",\"size\":10,\"solidity\":0.2}},\"type\":\"histogram\"}],\"histogram2d\":[{\"colorbar\":{\"outlinewidth\":0,\"ticks\":\"\"},\"colorscale\":[[0.0,\"#0d0887\"],[0.1111111111111111,\"#46039f\"],[0.2222222222222222,\"#7201a8\"],[0.3333333333333333,\"#9c179e\"],[0.4444444444444444,\"#bd3786\"],[0.5555555555555556,\"#d8576b\"],[0.6666666666666666,\"#ed7953\"],[0.7777777777777778,\"#fb9f3a\"],[0.8888888888888888,\"#fdca26\"],[1.0,\"#f0f921\"]],\"type\":\"histogram2d\"}],\"histogram2dcontour\":[{\"colorbar\":{\"outlinewidth\":0,\"ticks\":\"\"},\"colorscale\":[[0.0,\"#0d0887\"],[0.1111111111111111,\"#46039f\"],[0.2222222222222222,\"#7201a8\"],[0.3333333333333333,\"#9c179e\"],[0.4444444444444444,\"#bd3786\"],[0.5555555555555556,\"#d8576b\"],[0.6666666666666666,\"#ed7953\"],[0.7777777777777778,\"#fb9f3a\"],[0.8888888888888888,\"#fdca26\"],[1.0,\"#f0f921\"]],\"type\":\"histogram2dcontour\"}],\"mesh3d\":[{\"colorbar\":{\"outlinewidth\":0,\"ticks\":\"\"},\"type\":\"mesh3d\"}],\"parcoords\":[{\"line\":{\"colorbar\":{\"outlinewidth\":0,\"ticks\":\"\"}},\"type\":\"parcoords\"}],\"pie\":[{\"automargin\":true,\"type\":\"pie\"}],\"scatter\":[{\"marker\":{\"colorbar\":{\"outlinewidth\":0,\"ticks\":\"\"}},\"type\":\"scatter\"}],\"scatter3d\":[{\"line\":{\"colorbar\":{\"outlinewidth\":0,\"ticks\":\"\"}},\"marker\":{\"colorbar\":{\"outlinewidth\":0,\"ticks\":\"\"}},\"type\":\"scatter3d\"}],\"scattercarpet\":[{\"marker\":{\"colorbar\":{\"outlinewidth\":0,\"ticks\":\"\"}},\"type\":\"scattercarpet\"}],\"scattergeo\":[{\"marker\":{\"colorbar\":{\"outlinewidth\":0,\"ticks\":\"\"}},\"type\":\"scattergeo\"}],\"scattergl\":[{\"marker\":{\"colorbar\":{\"outlinewidth\":0,\"ticks\":\"\"}},\"type\":\"scattergl\"}],\"scattermapbox\":[{\"marker\":{\"colorbar\":{\"outlinewidth\":0,\"ticks\":\"\"}},\"type\":\"scattermapbox\"}],\"scatterpolar\":[{\"marker\":{\"colorbar\":{\"outlinewidth\":0,\"ticks\":\"\"}},\"type\":\"scatterpolar\"}],\"scatterpolargl\":[{\"marker\":{\"colorbar\":{\"outlinewidth\":0,\"ticks\":\"\"}},\"type\":\"scatterpolargl\"}],\"scatterternary\":[{\"marker\":{\"colorbar\":{\"outlinewidth\":0,\"ticks\":\"\"}},\"type\":\"scatterternary\"}],\"surface\":[{\"colorbar\":{\"outlinewidth\":0,\"ticks\":\"\"},\"colorscale\":[[0.0,\"#0d0887\"],[0.1111111111111111,\"#46039f\"],[0.2222222222222222,\"#7201a8\"],[0.3333333333333333,\"#9c179e\"],[0.4444444444444444,\"#bd3786\"],[0.5555555555555556,\"#d8576b\"],[0.6666666666666666,\"#ed7953\"],[0.7777777777777778,\"#fb9f3a\"],[0.8888888888888888,\"#fdca26\"],[1.0,\"#f0f921\"]],\"type\":\"surface\"}],\"table\":[{\"cells\":{\"fill\":{\"color\":\"#EBF0F8\"},\"line\":{\"color\":\"white\"}},\"header\":{\"fill\":{\"color\":\"#C8D4E3\"},\"line\":{\"color\":\"white\"}},\"type\":\"table\"}]},\"layout\":{\"annotationdefaults\":{\"arrowcolor\":\"#2a3f5f\",\"arrowhead\":0,\"arrowwidth\":1},\"autotypenumbers\":\"strict\",\"coloraxis\":{\"colorbar\":{\"outlinewidth\":0,\"ticks\":\"\"}},\"colorscale\":{\"diverging\":[[0,\"#8e0152\"],[0.1,\"#c51b7d\"],[0.2,\"#de77ae\"],[0.3,\"#f1b6da\"],[0.4,\"#fde0ef\"],[0.5,\"#f7f7f7\"],[0.6,\"#e6f5d0\"],[0.7,\"#b8e186\"],[0.8,\"#7fbc41\"],[0.9,\"#4d9221\"],[1,\"#276419\"]],\"sequential\":[[0.0,\"#0d0887\"],[0.1111111111111111,\"#46039f\"],[0.2222222222222222,\"#7201a8\"],[0.3333333333333333,\"#9c179e\"],[0.4444444444444444,\"#bd3786\"],[0.5555555555555556,\"#d8576b\"],[0.6666666666666666,\"#ed7953\"],[0.7777777777777778,\"#fb9f3a\"],[0.8888888888888888,\"#fdca26\"],[1.0,\"#f0f921\"]],\"sequentialminus\":[[0.0,\"#0d0887\"],[0.1111111111111111,\"#46039f\"],[0.2222222222222222,\"#7201a8\"],[0.3333333333333333,\"#9c179e\"],[0.4444444444444444,\"#bd3786\"],[0.5555555555555556,\"#d8576b\"],[0.6666666666666666,\"#ed7953\"],[0.7777777777777778,\"#fb9f3a\"],[0.8888888888888888,\"#fdca26\"],[1.0,\"#f0f921\"]]},\"colorway\":[\"#636efa\",\"#EF553B\",\"#00cc96\",\"#ab63fa\",\"#FFA15A\",\"#19d3f3\",\"#FF6692\",\"#B6E880\",\"#FF97FF\",\"#FECB52\"],\"font\":{\"color\":\"#2a3f5f\"},\"geo\":{\"bgcolor\":\"white\",\"lakecolor\":\"white\",\"landcolor\":\"#E5ECF6\",\"showlakes\":true,\"showland\":true,\"subunitcolor\":\"white\"},\"hoverlabel\":{\"align\":\"left\"},\"hovermode\":\"closest\",\"mapbox\":{\"style\":\"light\"},\"paper_bgcolor\":\"white\",\"plot_bgcolor\":\"#E5ECF6\",\"polar\":{\"angularaxis\":{\"gridcolor\":\"white\",\"linecolor\":\"white\",\"ticks\":\"\"},\"bgcolor\":\"#E5ECF6\",\"radialaxis\":{\"gridcolor\":\"white\",\"linecolor\":\"white\",\"ticks\":\"\"}},\"scene\":{\"xaxis\":{\"backgroundcolor\":\"#E5ECF6\",\"gridcolor\":\"white\",\"gridwidth\":2,\"linecolor\":\"white\",\"showbackground\":true,\"ticks\":\"\",\"zerolinecolor\":\"white\"},\"yaxis\":{\"backgroundcolor\":\"#E5ECF6\",\"gridcolor\":\"white\",\"gridwidth\":2,\"linecolor\":\"white\",\"showbackground\":true,\"ticks\":\"\",\"zerolinecolor\":\"white\"},\"zaxis\":{\"backgroundcolor\":\"#E5ECF6\",\"gridcolor\":\"white\",\"gridwidth\":2,\"linecolor\":\"white\",\"showbackground\":true,\"ticks\":\"\",\"zerolinecolor\":\"white\"}},\"shapedefaults\":{\"line\":{\"color\":\"#2a3f5f\"}},\"ternary\":{\"aaxis\":{\"gridcolor\":\"white\",\"linecolor\":\"white\",\"ticks\":\"\"},\"baxis\":{\"gridcolor\":\"white\",\"linecolor\":\"white\",\"ticks\":\"\"},\"bgcolor\":\"#E5ECF6\",\"caxis\":{\"gridcolor\":\"white\",\"linecolor\":\"white\",\"ticks\":\"\"}},\"title\":{\"x\":0.05},\"xaxis\":{\"automargin\":true,\"gridcolor\":\"white\",\"linecolor\":\"white\",\"ticks\":\"\",\"title\":{\"standoff\":15},\"zerolinecolor\":\"white\",\"zerolinewidth\":2},\"yaxis\":{\"automargin\":true,\"gridcolor\":\"white\",\"linecolor\":\"white\",\"ticks\":\"\",\"title\":{\"standoff\":15},\"zerolinecolor\":\"white\",\"zerolinewidth\":2}}},\"xaxis\":{\"anchor\":\"y\",\"domain\":[0.0,1.0],\"title\":{\"text\":\"age\"}},\"yaxis\":{\"anchor\":\"x\",\"domain\":[0.0,1.0],\"title\":{\"text\":\"count\"}}},                        {\"responsive\": true}                    ).then(function(){\n",
       "                            \n",
       "var gd = document.getElementById('6de27715-d561-469e-9c2c-f189c93d3098');\n",
       "var x = new MutationObserver(function (mutations, observer) {{\n",
       "        var display = window.getComputedStyle(gd).display;\n",
       "        if (!display || display === 'none') {{\n",
       "            console.log([gd, 'removed!']);\n",
       "            Plotly.purge(gd);\n",
       "            observer.disconnect();\n",
       "        }}\n",
       "}});\n",
       "\n",
       "// Listen for the removal of the full notebook cells\n",
       "var notebookContainer = gd.closest('#notebook-container');\n",
       "if (notebookContainer) {{\n",
       "    x.observe(notebookContainer, {childList: true});\n",
       "}}\n",
       "\n",
       "// Listen for the clearing of the current output cell\n",
       "var outputEl = gd.closest('.output');\n",
       "if (outputEl) {{\n",
       "    x.observe(outputEl, {childList: true});\n",
       "}}\n",
       "\n",
       "                        })                };                });            </script>        </div>"
      ]
     },
     "metadata": {},
     "output_type": "display_data"
    }
   ],
   "source": [
    "result.sort_values(\n",
    " by=\"age\",\n",
    "ascending=False\n",
    ")\n",
    "fig = px.histogram(result, x='age',color='sex')\n",
    "fig.show()"
   ]
  },
  {
   "cell_type": "code",
   "execution_count": 19,
   "id": "6e40dddb-19ac-4304-ad26-aa78cdfeb81a",
   "metadata": {},
   "outputs": [
    {
     "data": {
      "image/png": "[encoded data removed]",
      "text/plain": [
       "<Figure size 432x288 with 1 Axes>"
      ]
     },
     "metadata": {
      "needs_background": "light"
     },
     "output_type": "display_data"
    }
   ],
   "source": [
    "# countplot plots the count of the number of records by category\n",
    "cnt = sns.countplot(x=\"sex\", hue=\"income_range\", data=result) # plots a bar chart \n",
    "cnt.set(xlabel= \"Income range\", ylabel= \"Count of Consumption\") # labels axis\n",
    "plt.suptitle(\"Income range/Count on basis of gender\"); # title of plot\n"
   ]
  },
  {
   "cell_type": "code",
   "execution_count": 20,
   "id": "b32ce41b-3d16-46bc-8de1-6466b2eebe73",
   "metadata": {},
   "outputs": [
    {
     "data": {
      "image/png": "[encoded data removed]",
      "text/plain": [
       "<Figure size 432x288 with 1 Axes>"
      ]
     },
     "metadata": {
      "needs_background": "light"
     },
     "output_type": "display_data"
    }
   ],
   "source": [
    "cnt = sns.countplot(x=\"age_range\", hue=\"sex\", data=result) # plots a bar chart \n",
    "cnt.set(xlabel= \"Age range\", ylabel= \"Count\") # labels axis\n",
    "plt.suptitle(\"Count of age range in relation to gender\"); # title of plot"
   ]
  },
  {
   "cell_type": "code",
   "execution_count": 53,
   "id": "36a088f3-52e9-4fe8-8766-1a10b66d15a6",
   "metadata": {},
   "outputs": [
    {
     "data": {
      "application/vnd.plotly.v1+json": {
       "config": {
        "plotlyServerURL": "https://plot.ly"
       },
       "data": [
        {
         "alignmentgroup": "True",
         "hovertemplate": "Gender=Female<br>Age Ranges=%{x}<br>Count=%{y}<extra></extra>",
         "legendgroup": "Female",
         "marker": {
          "color": "#636efa",
          "pattern": {
           "shape": ""
          }
         },
         "name": "Female",
         "offsetgroup": "Female",
         "orientation": "v",
         "showlegend": true,
         "textposition": "auto",
         "type": "bar",
         "x": [
          "18-29",
          "30-39",
          "40-49",
          "50-59",
          "60-69",
          "70-79",
          "80-90",
          "90+"
         ],
         "xaxis": "x",
         "y": [
          478,
          522,
          898,
          1574,
          1327,
          771,
          423,
          136
         ],
         "yaxis": "y"
        },
        {
         "alignmentgroup": "True",
         "hovertemplate": "Gender=Male<br>Age Ranges=%{x}<br>Count=%{y}<extra></extra>",
         "legendgroup": "Male",
         "marker": {
          "color": "#EF553B",
          "pattern": {
           "shape": ""
          }
         },
         "name": "Male",
         "offsetgroup": "Male",
         "orientation": "v",
         "showlegend": true,
         "textposition": "auto",
         "type": "bar",
         "x": [
          "18-29",
          "30-39",
          "40-49",
          "50-59",
          "60-69",
          "70-79",
          "80-90",
          "90+"
         ],
         "xaxis": "x",
         "y": [
          1209,
          1049,
          1457,
          1953,
          1549,
          852,
          334,
          81
         ],
         "yaxis": "y"
        },
        {
         "alignmentgroup": "True",
         "hovertemplate": "Gender=Unknown<br>Age Ranges=%{x}<br>Count=%{y}<extra></extra>",
         "legendgroup": "Unknown",
         "marker": {
          "color": "#00cc96",
          "pattern": {
           "shape": ""
          }
         },
         "name": "Unknown",
         "offsetgroup": "Unknown",
         "orientation": "v",
         "showlegend": true,
         "textposition": "auto",
         "type": "bar",
         "x": [
          "18-29",
          "30-39",
          "40-49",
          "50-59",
          "60-69",
          "70-79",
          "80-90",
          "90+"
         ],
         "xaxis": "x",
         "y": [
          18,
          26,
          36,
          63,
          34,
          23,
          10,
          2
         ],
         "yaxis": "y"
        }
       ],
       "layout": {
        "autosize": true,
        "barmode": "relative",
        "legend": {
         "title": {
          "text": "Gender"
         },
         "tracegroupgap": 0
        },
        "template": {
         "data": {
          "bar": [
           {
            "error_x": {
             "color": "#2a3f5f"
            },
            "error_y": {
             "color": "#2a3f5f"
            },
            "marker": {
             "line": {
              "color": "#E5ECF6",
              "width": 0.5
             },
             "pattern": {
              "fillmode": "overlay",
              "size": 10,
              "solidity": 0.2
             }
            },
            "type": "bar"
           }
          ],
          "barpolar": [
           {
            "marker": {
             "line": {
              "color": "#E5ECF6",
              "width": 0.5
             },
             "pattern": {
              "fillmode": "overlay",
              "size": 10,
              "solidity": 0.2
             }
            },
            "type": "barpolar"
           }
          ],
          "carpet": [
           {
            "aaxis": {
             "endlinecolor": "#2a3f5f",
             "gridcolor": "white",
             "linecolor": "white",
             "minorgridcolor": "white",
             "startlinecolor": "#2a3f5f"
            },
            "baxis": {
             "endlinecolor": "#2a3f5f",
             "gridcolor": "white",
             "linecolor": "white",
             "minorgridcolor": "white",
             "startlinecolor": "#2a3f5f"
            },
            "type": "carpet"
           }
          ],
          "choropleth": [
           {
            "colorbar": {
             "outlinewidth": 0,
             "ticks": ""
            },
            "type": "choropleth"
           }
          ],
          "contour": [
           {
            "colorbar": {
             "outlinewidth": 0,
             "ticks": ""
            },
            "colorscale": [
             [
              0,
              "#0d0887"
             ],
             [
              0.1111111111111111,
              "#46039f"
             ],
             [
              0.2222222222222222,
              "#7201a8"
             ],
             [
              0.3333333333333333,
              "#9c179e"
             ],
             [
              0.4444444444444444,
              "#bd3786"
             ],
             [
              0.5555555555555556,
              "#d8576b"
             ],
             [
              0.6666666666666666,
              "#ed7953"
             ],
             [
              0.7777777777777778,
              "#fb9f3a"
             ],
             [
              0.8888888888888888,
              "#fdca26"
             ],
             [
              1,
              "#f0f921"
             ]
            ],
            "type": "contour"
           }
          ],
          "contourcarpet": [
           {
            "colorbar": {
             "outlinewidth": 0,
             "ticks": ""
            },
            "type": "contourcarpet"
           }
          ],
          "heatmap": [
           {
            "colorbar": {
             "outlinewidth": 0,
             "ticks": ""
            },
            "colorscale": [
             [
              0,
              "#0d0887"
             ],
             [
              0.1111111111111111,
              "#46039f"
             ],
             [
              0.2222222222222222,
              "#7201a8"
             ],
             [
              0.3333333333333333,
              "#9c179e"
             ],
             [
              0.4444444444444444,
              "#bd3786"
             ],
             [
              0.5555555555555556,
              "#d8576b"
             ],
             [
              0.6666666666666666,
              "#ed7953"
             ],
             [
              0.7777777777777778,
              "#fb9f3a"
             ],
             [
              0.8888888888888888,
              "#fdca26"
             ],
             [
              1,
              "#f0f921"
             ]
            ],
            "type": "heatmap"
           }
          ],
          "heatmapgl": [
           {
            "colorbar": {
             "outlinewidth": 0,
             "ticks": ""
            },
            "colorscale": [
             [
              0,
              "#0d0887"
             ],
             [
              0.1111111111111111,
              "#46039f"
             ],
             [
              0.2222222222222222,
              "#7201a8"
             ],
             [
              0.3333333333333333,
              "#9c179e"
             ],
             [
              0.4444444444444444,
              "#bd3786"
             ],
             [
              0.5555555555555556,
              "#d8576b"
             ],
             [
              0.6666666666666666,
              "#ed7953"
             ],
             [
              0.7777777777777778,
              "#fb9f3a"
             ],
             [
              0.8888888888888888,
              "#fdca26"
             ],
             [
              1,
              "#f0f921"
             ]
            ],
            "type": "heatmapgl"
           }
          ],
          "histogram": [
           {
            "marker": {
             "pattern": {
              "fillmode": "overlay",
              "size": 10,
              "solidity": 0.2
             }
            },
            "type": "histogram"
           }
          ],
          "histogram2d": [
           {
            "colorbar": {
             "outlinewidth": 0,
             "ticks": ""
            },
            "colorscale": [
             [
              0,
              "#0d0887"
             ],
             [
              0.1111111111111111,
              "#46039f"
             ],
             [
              0.2222222222222222,
              "#7201a8"
             ],
             [
              0.3333333333333333,
              "#9c179e"
             ],
             [
              0.4444444444444444,
              "#bd3786"
             ],
             [
              0.5555555555555556,
              "#d8576b"
             ],
             [
              0.6666666666666666,
              "#ed7953"
             ],
             [
              0.7777777777777778,
              "#fb9f3a"
             ],
             [
              0.8888888888888888,
              "#fdca26"
             ],
             [
              1,
              "#f0f921"
             ]
            ],
            "type": "histogram2d"
           }
          ],
          "histogram2dcontour": [
           {
            "colorbar": {
             "outlinewidth": 0,
             "ticks": ""
            },
            "colorscale": [
             [
              0,
              "#0d0887"
             ],
             [
              0.1111111111111111,
              "#46039f"
             ],
             [
              0.2222222222222222,
              "#7201a8"
             ],
             [
              0.3333333333333333,
              "#9c179e"
             ],
             [
              0.4444444444444444,
              "#bd3786"
             ],
             [
              0.5555555555555556,
              "#d8576b"
             ],
             [
              0.6666666666666666,
              "#ed7953"
             ],
             [
              0.7777777777777778,
              "#fb9f3a"
             ],
             [
              0.8888888888888888,
              "#fdca26"
             ],
             [
              1,
              "#f0f921"
             ]
            ],
            "type": "histogram2dcontour"
           }
          ],
          "mesh3d": [
           {
            "colorbar": {
             "outlinewidth": 0,
             "ticks": ""
            },
            "type": "mesh3d"
           }
          ],
          "parcoords": [
           {
            "line": {
             "colorbar": {
              "outlinewidth": 0,
              "ticks": ""
             }
            },
            "type": "parcoords"
           }
          ],
          "pie": [
           {
            "automargin": true,
            "type": "pie"
           }
          ],
          "scatter": [
           {
            "marker": {
             "colorbar": {
              "outlinewidth": 0,
              "ticks": ""
             }
            },
            "type": "scatter"
           }
          ],
          "scatter3d": [
           {
            "line": {
             "colorbar": {
              "outlinewidth": 0,
              "ticks": ""
             }
            },
            "marker": {
             "colorbar": {
              "outlinewidth": 0,
              "ticks": ""
             }
            },
            "type": "scatter3d"
           }
          ],
          "scattercarpet": [
           {
            "marker": {
             "colorbar": {
              "outlinewidth": 0,
              "ticks": ""
             }
            },
            "type": "scattercarpet"
           }
          ],
          "scattergeo": [
           {
            "marker": {
             "colorbar": {
              "outlinewidth": 0,
              "ticks": ""
             }
            },
            "type": "scattergeo"
           }
          ],
          "scattergl": [
           {
            "marker": {
             "colorbar": {
              "outlinewidth": 0,
              "ticks": ""
             }
            },
            "type": "scattergl"
           }
          ],
          "scattermapbox": [
           {
            "marker": {
             "colorbar": {
              "outlinewidth": 0,
              "ticks": ""
             }
            },
            "type": "scattermapbox"
           }
          ],
          "scatterpolar": [
           {
            "marker": {
             "colorbar": {
              "outlinewidth": 0,
              "ticks": ""
             }
            },
            "type": "scatterpolar"
           }
          ],
          "scatterpolargl": [
           {
            "marker": {
             "colorbar": {
              "outlinewidth": 0,
              "ticks": ""
             }
            },
            "type": "scatterpolargl"
           }
          ],
          "scatterternary": [
           {
            "marker": {
             "colorbar": {
              "outlinewidth": 0,
              "ticks": ""
             }
            },
            "type": "scatterternary"
           }
          ],
          "surface": [
           {
            "colorbar": {
             "outlinewidth": 0,
             "ticks": ""
            },
            "colorscale": [
             [
              0,
              "#0d0887"
             ],
             [
              0.1111111111111111,
              "#46039f"
             ],
             [
              0.2222222222222222,
              "#7201a8"
             ],
             [
              0.3333333333333333,
              "#9c179e"
             ],
             [
              0.4444444444444444,
              "#bd3786"
             ],
             [
              0.5555555555555556,
              "#d8576b"
             ],
             [
              0.6666666666666666,
              "#ed7953"
             ],
             [
              0.7777777777777778,
              "#fb9f3a"
             ],
             [
              0.8888888888888888,
              "#fdca26"
             ],
             [
              1,
              "#f0f921"
             ]
            ],
            "type": "surface"
           }
          ],
          "table": [
           {
            "cells": {
             "fill": {
              "color": "#EBF0F8"
             },
             "line": {
              "color": "white"
             }
            },
            "header": {
             "fill": {
              "color": "#C8D4E3"
             },
             "line": {
              "color": "white"
             }
            },
            "type": "table"
           }
          ]
         },
         "layout": {
          "annotationdefaults": {
           "arrowcolor": "#2a3f5f",
           "arrowhead": 0,
           "arrowwidth": 1
          },
          "autotypenumbers": "strict",
          "coloraxis": {
           "colorbar": {
            "outlinewidth": 0,
            "ticks": ""
           }
          },
          "colorscale": {
           "diverging": [
            [
             0,
             "#8e0152"
            ],
            [
             0.1,
             "#c51b7d"
            ],
            [
             0.2,
             "#de77ae"
            ],
            [
             0.3,
             "#f1b6da"
            ],
            [
             0.4,
             "#fde0ef"
            ],
            [
             0.5,
             "#f7f7f7"
            ],
            [
             0.6,
             "#e6f5d0"
            ],
            [
             0.7,
             "#b8e186"
            ],
            [
             0.8,
             "#7fbc41"
            ],
            [
             0.9,
             "#4d9221"
            ],
            [
             1,
             "#276419"
            ]
           ],
           "sequential": [
            [
             0,
             "#0d0887"
            ],
            [
             0.1111111111111111,
             "#46039f"
            ],
            [
             0.2222222222222222,
             "#7201a8"
            ],
            [
             0.3333333333333333,
             "#9c179e"
            ],
            [
             0.4444444444444444,
             "#bd3786"
            ],
            [
             0.5555555555555556,
             "#d8576b"
            ],
            [
             0.6666666666666666,
             "#ed7953"
            ],
            [
             0.7777777777777778,
             "#fb9f3a"
            ],
            [
             0.8888888888888888,
             "#fdca26"
            ],
            [
             1,
             "#f0f921"
            ]
           ],
           "sequentialminus": [
            [
             0,
             "#0d0887"
            ],
            [
             0.1111111111111111,
             "#46039f"
            ],
            [
             0.2222222222222222,
             "#7201a8"
            ],
            [
             0.3333333333333333,
             "#9c179e"
            ],
            [
             0.4444444444444444,
             "#bd3786"
            ],
            [
             0.5555555555555556,
             "#d8576b"
            ],
            [
             0.6666666666666666,
             "#ed7953"
            ],
            [
             0.7777777777777778,
             "#fb9f3a"
            ],
            [
             0.8888888888888888,
             "#fdca26"
            ],
            [
             1,
             "#f0f921"
            ]
           ]
          },
          "colorway": [
           "#636efa",
           "#EF553B",
           "#00cc96",
           "#ab63fa",
           "#FFA15A",
           "#19d3f3",
           "#FF6692",
           "#B6E880",
           "#FF97FF",
           "#FECB52"
          ],
          "font": {
           "color": "#2a3f5f"
          },
          "geo": {
           "bgcolor": "white",
           "lakecolor": "white",
           "landcolor": "#E5ECF6",
           "showlakes": true,
           "showland": true,
           "subunitcolor": "white"
          },
          "hoverlabel": {
           "align": "left"
          },
          "hovermode": "closest",
          "mapbox": {
           "style": "light"
          },
          "paper_bgcolor": "white",
          "plot_bgcolor": "#E5ECF6",
          "polar": {
           "angularaxis": {
            "gridcolor": "white",
            "linecolor": "white",
            "ticks": ""
           },
           "bgcolor": "#E5ECF6",
           "radialaxis": {
            "gridcolor": "white",
            "linecolor": "white",
            "ticks": ""
           }
          },
          "scene": {
           "xaxis": {
            "backgroundcolor": "#E5ECF6",
            "gridcolor": "white",
            "gridwidth": 2,
            "linecolor": "white",
            "showbackground": true,
            "ticks": "",
            "zerolinecolor": "white"
           },
           "yaxis": {
            "backgroundcolor": "#E5ECF6",
            "gridcolor": "white",
            "gridwidth": 2,
            "linecolor": "white",
            "showbackground": true,
            "ticks": "",
            "zerolinecolor": "white"
           },
           "zaxis": {
            "backgroundcolor": "#E5ECF6",
            "gridcolor": "white",
            "gridwidth": 2,
            "linecolor": "white",
            "showbackground": true,
            "ticks": "",
            "zerolinecolor": "white"
           }
          },
          "shapedefaults": {
           "line": {
            "color": "#2a3f5f"
           }
          },
          "ternary": {
           "aaxis": {
            "gridcolor": "white",
            "linecolor": "white",
            "ticks": ""
           },
           "baxis": {
            "gridcolor": "white",
            "linecolor": "white",
            "ticks": ""
           },
           "bgcolor": "#E5ECF6",
           "caxis": {
            "gridcolor": "white",
            "linecolor": "white",
            "ticks": ""
           }
          },
          "title": {
           "x": 0.05
          },
          "xaxis": {
           "automargin": true,
           "gridcolor": "white",
           "linecolor": "white",
           "ticks": "",
           "title": {
            "standoff": 15
           },
           "zerolinecolor": "white",
           "zerolinewidth": 2
          },
          "yaxis": {
           "automargin": true,
           "gridcolor": "white",
           "linecolor": "white",
           "ticks": "",
           "title": {
            "standoff": 15
           },
           "zerolinecolor": "white",
           "zerolinewidth": 2
          }
         }
        },
        "title": {
         "text": "Count of customer by age and gender"
        },
        "xaxis": {
         "anchor": "y",
         "autorange": true,
         "domain": [
          0,
          1
         ],
         "range": [
          -0.5,
          7.5
         ],
         "title": {
          "text": "Age Ranges"
         },
         "type": "category"
        },
        "yaxis": {
         "anchor": "x",
         "autorange": true,
         "domain": [
          0,
          1
         ],
         "range": [
          0,
          3778.9473684210525
         ],
         "title": {
          "text": "Count"
         },
         "type": "linear"
        }
       }
      },
      "image/png": "[encoded data removed]",
      "text/html": [
       "<div>                            <div id=\"1f6d4f23-fc77-4239-85c3-08593a5164ea\" class=\"plotly-graph-div\" style=\"height:525px; width:100%;\"></div>            <script type=\"text/javascript\">                require([\"plotly\"], function(Plotly) {                    window.PLOTLYENV=window.PLOTLYENV || {};                                    if (document.getElementById(\"1f6d4f23-fc77-4239-85c3-08593a5164ea\")) {                    Plotly.newPlot(                        \"1f6d4f23-fc77-4239-85c3-08593a5164ea\",                        [{\"alignmentgroup\":\"True\",\"hovertemplate\":\"Gender=Female<br>Age Ranges=%{x}<br>Count=%{y}<extra></extra>\",\"legendgroup\":\"Female\",\"marker\":{\"color\":\"#636efa\",\"pattern\":{\"shape\":\"\"}},\"name\":\"Female\",\"offsetgroup\":\"Female\",\"orientation\":\"v\",\"showlegend\":true,\"textposition\":\"auto\",\"type\":\"bar\",\"x\":[\"18-29\",\"30-39\",\"40-49\",\"50-59\",\"60-69\",\"70-79\",\"80-90\",\"90+\"],\"xaxis\":\"x\",\"y\":[478,522,898,1574,1327,771,423,136],\"yaxis\":\"y\"},{\"alignmentgroup\":\"True\",\"hovertemplate\":\"Gender=Male<br>Age Ranges=%{x}<br>Count=%{y}<extra></extra>\",\"legendgroup\":\"Male\",\"marker\":{\"color\":\"#EF553B\",\"pattern\":{\"shape\":\"\"}},\"name\":\"Male\",\"offsetgroup\":\"Male\",\"orientation\":\"v\",\"showlegend\":true,\"textposition\":\"auto\",\"type\":\"bar\",\"x\":[\"18-29\",\"30-39\",\"40-49\",\"50-59\",\"60-69\",\"70-79\",\"80-90\",\"90+\"],\"xaxis\":\"x\",\"y\":[1209,1049,1457,1953,1549,852,334,81],\"yaxis\":\"y\"},{\"alignmentgroup\":\"True\",\"hovertemplate\":\"Gender=Unknown<br>Age Ranges=%{x}<br>Count=%{y}<extra></extra>\",\"legendgroup\":\"Unknown\",\"marker\":{\"color\":\"#00cc96\",\"pattern\":{\"shape\":\"\"}},\"name\":\"Unknown\",\"offsetgroup\":\"Unknown\",\"orientation\":\"v\",\"showlegend\":true,\"textposition\":\"auto\",\"type\":\"bar\",\"x\":[\"18-29\",\"30-39\",\"40-49\",\"50-59\",\"60-69\",\"70-79\",\"80-90\",\"90+\"],\"xaxis\":\"x\",\"y\":[18,26,36,63,34,23,10,2],\"yaxis\":\"y\"}],                        {\"barmode\":\"relative\",\"legend\":{\"title\":{\"text\":\"Gender\"},\"tracegroupgap\":0},\"template\":{\"data\":{\"bar\":[{\"error_x\":{\"color\":\"#2a3f5f\"},\"error_y\":{\"color\":\"#2a3f5f\"},\"marker\":{\"line\":{\"color\":\"#E5ECF6\",\"width\":0.5},\"pattern\":{\"fillmode\":\"overlay\",\"size\":10,\"solidity\":0.2}},\"type\":\"bar\"}],\"barpolar\":[{\"marker\":{\"line\":{\"color\":\"#E5ECF6\",\"width\":0.5},\"pattern\":{\"fillmode\":\"overlay\",\"size\":10,\"solidity\":0.2}},\"type\":\"barpolar\"}],\"carpet\":[{\"aaxis\":{\"endlinecolor\":\"#2a3f5f\",\"gridcolor\":\"white\",\"linecolor\":\"white\",\"minorgridcolor\":\"white\",\"startlinecolor\":\"#2a3f5f\"},\"baxis\":{\"endlinecolor\":\"#2a3f5f\",\"gridcolor\":\"white\",\"linecolor\":\"white\",\"minorgridcolor\":\"white\",\"startlinecolor\":\"#2a3f5f\"},\"type\":\"carpet\"}],\"choropleth\":[{\"colorbar\":{\"outlinewidth\":0,\"ticks\":\"\"},\"type\":\"choropleth\"}],\"contour\":[{\"colorbar\":{\"outlinewidth\":0,\"ticks\":\"\"},\"colorscale\":[[0.0,\"#0d0887\"],[0.1111111111111111,\"#46039f\"],[0.2222222222222222,\"#7201a8\"],[0.3333333333333333,\"#9c179e\"],[0.4444444444444444,\"#bd3786\"],[0.5555555555555556,\"#d8576b\"],[0.6666666666666666,\"#ed7953\"],[0.7777777777777778,\"#fb9f3a\"],[0.8888888888888888,\"#fdca26\"],[1.0,\"#f0f921\"]],\"type\":\"contour\"}],\"contourcarpet\":[{\"colorbar\":{\"outlinewidth\":0,\"ticks\":\"\"},\"type\":\"contourcarpet\"}],\"heatmap\":[{\"colorbar\":{\"outlinewidth\":0,\"ticks\":\"\"},\"colorscale\":[[0.0,\"#0d0887\"],[0.1111111111111111,\"#46039f\"],[0.2222222222222222,\"#7201a8\"],[0.3333333333333333,\"#9c179e\"],[0.4444444444444444,\"#bd3786\"],[0.5555555555555556,\"#d8576b\"],[0.6666666666666666,\"#ed7953\"],[0.7777777777777778,\"#fb9f3a\"],[0.8888888888888888,\"#fdca26\"],[1.0,\"#f0f921\"]],\"type\":\"heatmap\"}],\"heatmapgl\":[{\"colorbar\":{\"outlinewidth\":0,\"ticks\":\"\"},\"colorscale\":[[0.0,\"#0d0887\"],[0.1111111111111111,\"#46039f\"],[0.2222222222222222,\"#7201a8\"],[0.3333333333333333,\"#9c179e\"],[0.4444444444444444,\"#bd3786\"],[0.5555555555555556,\"#d8576b\"],[0.6666666666666666,\"#ed7953\"],[0.7777777777777778,\"#fb9f3a\"],[0.8888888888888888,\"#fdca26\"],[1.0,\"#f0f921\"]],\"type\":\"heatmapgl\"}],\"histogram\":[{\"marker\":{\"pattern\":{\"fillmode\":\"overlay\",\"size\":10,\"solidity\":0.2}},\"type\":\"histogram\"}],\"histogram2d\":[{\"colorbar\":{\"outlinewidth\":0,\"ticks\":\"\"},\"colorscale\":[[0.0,\"#0d0887\"],[0.1111111111111111,\"#46039f\"],[0.2222222222222222,\"#7201a8\"],[0.3333333333333333,\"#9c179e\"],[0.4444444444444444,\"#bd3786\"],[0.5555555555555556,\"#d8576b\"],[0.6666666666666666,\"#ed7953\"],[0.7777777777777778,\"#fb9f3a\"],[0.8888888888888888,\"#fdca26\"],[1.0,\"#f0f921\"]],\"type\":\"histogram2d\"}],\"histogram2dcontour\":[{\"colorbar\":{\"outlinewidth\":0,\"ticks\":\"\"},\"colorscale\":[[0.0,\"#0d0887\"],[0.1111111111111111,\"#46039f\"],[0.2222222222222222,\"#7201a8\"],[0.3333333333333333,\"#9c179e\"],[0.4444444444444444,\"#bd3786\"],[0.5555555555555556,\"#d8576b\"],[0.6666666666666666,\"#ed7953\"],[0.7777777777777778,\"#fb9f3a\"],[0.8888888888888888,\"#fdca26\"],[1.0,\"#f0f921\"]],\"type\":\"histogram2dcontour\"}],\"mesh3d\":[{\"colorbar\":{\"outlinewidth\":0,\"ticks\":\"\"},\"type\":\"mesh3d\"}],\"parcoords\":[{\"line\":{\"colorbar\":{\"outlinewidth\":0,\"ticks\":\"\"}},\"type\":\"parcoords\"}],\"pie\":[{\"automargin\":true,\"type\":\"pie\"}],\"scatter\":[{\"marker\":{\"colorbar\":{\"outlinewidth\":0,\"ticks\":\"\"}},\"type\":\"scatter\"}],\"scatter3d\":[{\"line\":{\"colorbar\":{\"outlinewidth\":0,\"ticks\":\"\"}},\"marker\":{\"colorbar\":{\"outlinewidth\":0,\"ticks\":\"\"}},\"type\":\"scatter3d\"}],\"scattercarpet\":[{\"marker\":{\"colorbar\":{\"outlinewidth\":0,\"ticks\":\"\"}},\"type\":\"scattercarpet\"}],\"scattergeo\":[{\"marker\":{\"colorbar\":{\"outlinewidth\":0,\"ticks\":\"\"}},\"type\":\"scattergeo\"}],\"scattergl\":[{\"marker\":{\"colorbar\":{\"outlinewidth\":0,\"ticks\":\"\"}},\"type\":\"scattergl\"}],\"scattermapbox\":[{\"marker\":{\"colorbar\":{\"outlinewidth\":0,\"ticks\":\"\"}},\"type\":\"scattermapbox\"}],\"scatterpolar\":[{\"marker\":{\"colorbar\":{\"outlinewidth\":0,\"ticks\":\"\"}},\"type\":\"scatterpolar\"}],\"scatterpolargl\":[{\"marker\":{\"colorbar\":{\"outlinewidth\":0,\"ticks\":\"\"}},\"type\":\"scatterpolargl\"}],\"scatterternary\":[{\"marker\":{\"colorbar\":{\"outlinewidth\":0,\"ticks\":\"\"}},\"type\":\"scatterternary\"}],\"surface\":[{\"colorbar\":{\"outlinewidth\":0,\"ticks\":\"\"},\"colorscale\":[[0.0,\"#0d0887\"],[0.1111111111111111,\"#46039f\"],[0.2222222222222222,\"#7201a8\"],[0.3333333333333333,\"#9c179e\"],[0.4444444444444444,\"#bd3786\"],[0.5555555555555556,\"#d8576b\"],[0.6666666666666666,\"#ed7953\"],[0.7777777777777778,\"#fb9f3a\"],[0.8888888888888888,\"#fdca26\"],[1.0,\"#f0f921\"]],\"type\":\"surface\"}],\"table\":[{\"cells\":{\"fill\":{\"color\":\"#EBF0F8\"},\"line\":{\"color\":\"white\"}},\"header\":{\"fill\":{\"color\":\"#C8D4E3\"},\"line\":{\"color\":\"white\"}},\"type\":\"table\"}]},\"layout\":{\"annotationdefaults\":{\"arrowcolor\":\"#2a3f5f\",\"arrowhead\":0,\"arrowwidth\":1},\"autotypenumbers\":\"strict\",\"coloraxis\":{\"colorbar\":{\"outlinewidth\":0,\"ticks\":\"\"}},\"colorscale\":{\"diverging\":[[0,\"#8e0152\"],[0.1,\"#c51b7d\"],[0.2,\"#de77ae\"],[0.3,\"#f1b6da\"],[0.4,\"#fde0ef\"],[0.5,\"#f7f7f7\"],[0.6,\"#e6f5d0\"],[0.7,\"#b8e186\"],[0.8,\"#7fbc41\"],[0.9,\"#4d9221\"],[1,\"#276419\"]],\"sequential\":[[0.0,\"#0d0887\"],[0.1111111111111111,\"#46039f\"],[0.2222222222222222,\"#7201a8\"],[0.3333333333333333,\"#9c179e\"],[0.4444444444444444,\"#bd3786\"],[0.5555555555555556,\"#d8576b\"],[0.6666666666666666,\"#ed7953\"],[0.7777777777777778,\"#fb9f3a\"],[0.8888888888888888,\"#fdca26\"],[1.0,\"#f0f921\"]],\"sequentialminus\":[[0.0,\"#0d0887\"],[0.1111111111111111,\"#46039f\"],[0.2222222222222222,\"#7201a8\"],[0.3333333333333333,\"#9c179e\"],[0.4444444444444444,\"#bd3786\"],[0.5555555555555556,\"#d8576b\"],[0.6666666666666666,\"#ed7953\"],[0.7777777777777778,\"#fb9f3a\"],[0.8888888888888888,\"#fdca26\"],[1.0,\"#f0f921\"]]},\"colorway\":[\"#636efa\",\"#EF553B\",\"#00cc96\",\"#ab63fa\",\"#FFA15A\",\"#19d3f3\",\"#FF6692\",\"#B6E880\",\"#FF97FF\",\"#FECB52\"],\"font\":{\"color\":\"#2a3f5f\"},\"geo\":{\"bgcolor\":\"white\",\"lakecolor\":\"white\",\"landcolor\":\"#E5ECF6\",\"showlakes\":true,\"showland\":true,\"subunitcolor\":\"white\"},\"hoverlabel\":{\"align\":\"left\"},\"hovermode\":\"closest\",\"mapbox\":{\"style\":\"light\"},\"paper_bgcolor\":\"white\",\"plot_bgcolor\":\"#E5ECF6\",\"polar\":{\"angularaxis\":{\"gridcolor\":\"white\",\"linecolor\":\"white\",\"ticks\":\"\"},\"bgcolor\":\"#E5ECF6\",\"radialaxis\":{\"gridcolor\":\"white\",\"linecolor\":\"white\",\"ticks\":\"\"}},\"scene\":{\"xaxis\":{\"backgroundcolor\":\"#E5ECF6\",\"gridcolor\":\"white\",\"gridwidth\":2,\"linecolor\":\"white\",\"showbackground\":true,\"ticks\":\"\",\"zerolinecolor\":\"white\"},\"yaxis\":{\"backgroundcolor\":\"#E5ECF6\",\"gridcolor\":\"white\",\"gridwidth\":2,\"linecolor\":\"white\",\"showbackground\":true,\"ticks\":\"\",\"zerolinecolor\":\"white\"},\"zaxis\":{\"backgroundcolor\":\"#E5ECF6\",\"gridcolor\":\"white\",\"gridwidth\":2,\"linecolor\":\"white\",\"showbackground\":true,\"ticks\":\"\",\"zerolinecolor\":\"white\"}},\"shapedefaults\":{\"line\":{\"color\":\"#2a3f5f\"}},\"ternary\":{\"aaxis\":{\"gridcolor\":\"white\",\"linecolor\":\"white\",\"ticks\":\"\"},\"baxis\":{\"gridcolor\":\"white\",\"linecolor\":\"white\",\"ticks\":\"\"},\"bgcolor\":\"#E5ECF6\",\"caxis\":{\"gridcolor\":\"white\",\"linecolor\":\"white\",\"ticks\":\"\"}},\"title\":{\"x\":0.05},\"xaxis\":{\"automargin\":true,\"gridcolor\":\"white\",\"linecolor\":\"white\",\"ticks\":\"\",\"title\":{\"standoff\":15},\"zerolinecolor\":\"white\",\"zerolinewidth\":2},\"yaxis\":{\"automargin\":true,\"gridcolor\":\"white\",\"linecolor\":\"white\",\"ticks\":\"\",\"title\":{\"standoff\":15},\"zerolinecolor\":\"white\",\"zerolinewidth\":2}}},\"title\":{\"text\":\"Count of customer by age and gender\"},\"xaxis\":{\"anchor\":\"y\",\"domain\":[0.0,1.0],\"title\":{\"text\":\"Age Ranges\"}},\"yaxis\":{\"anchor\":\"x\",\"domain\":[0.0,1.0],\"title\":{\"text\":\"Count\"}}},                        {\"responsive\": true}                    ).then(function(){\n",
       "                            \n",
       "var gd = document.getElementById('1f6d4f23-fc77-4239-85c3-08593a5164ea');\n",
       "var x = new MutationObserver(function (mutations, observer) {{\n",
       "        var display = window.getComputedStyle(gd).display;\n",
       "        if (!display || display === 'none') {{\n",
       "            console.log([gd, 'removed!']);\n",
       "            Plotly.purge(gd);\n",
       "            observer.disconnect();\n",
       "        }}\n",
       "}});\n",
       "\n",
       "// Listen for the removal of the full notebook cells\n",
       "var notebookContainer = gd.closest('#notebook-container');\n",
       "if (notebookContainer) {{\n",
       "    x.observe(notebookContainer, {childList: true});\n",
       "}}\n",
       "\n",
       "// Listen for the clearing of the current output cell\n",
       "var outputEl = gd.closest('.output');\n",
       "if (outputEl) {{\n",
       "    x.observe(outputEl, {childList: true});\n",
       "}}\n",
       "\n",
       "                        })                };                });            </script>        </div>"
      ]
     },
     "metadata": {},
     "output_type": "display_data"
    }
   ],
   "source": [
    "#get count on basis of age_range and sex;\n",
    "#Who usually spend more at Starbucks, female or male?\n",
    "group = result.groupby(['age_range', 'sex'])\n",
    "  \n",
    "# size of group to count observations\n",
    "group = group.size()\n",
    "group.head()\n",
    "  \n",
    "# make a column name \n",
    "grp=group.reset_index(name='count')\n",
    "\n",
    "\n",
    "fig = px.bar(grp, x=\"age_range\", y=\"count\", color=\"sex\", title=\"Count of customer by age and gender\",\n",
    "    labels={ \"sex\": \"Gender\",  \"age_range\": \"Age Ranges\", \"count\": \"Count\"})\n",
    "fig.show()\n",
    "fig.write_html(\"agerange_sex.html\")"
   ]
  },
  {
   "cell_type": "code",
   "execution_count": null,
   "id": "b142e9f5-2dc2-4364-b50e-fee2b0df5a6b",
   "metadata": {},
   "outputs": [],
   "source": []
  },
  {
   "cell_type": "code",
   "execution_count": 22,
   "id": "497d880a-943a-4799-a5ac-857f522088c6",
   "metadata": {},
   "outputs": [
    {
     "data": {
      "application/vnd.plotly.v1+json": {
       "config": {
        "plotlyServerURL": "https://plot.ly"
       },
       "data": [
        {
         "alignmentgroup": "True",
         "hovertemplate": "Gender=Female<br>Age Range=%{x}<br>Count=%{y}<extra></extra>",
         "legendgroup": "Female",
         "marker": {
          "color": "#636efa",
          "pattern": {
           "shape": ""
          }
         },
         "name": "Female",
         "offsetgroup": "Female",
         "orientation": "v",
         "showlegend": true,
         "textposition": "auto",
         "type": "bar",
         "x": [
          "18-29",
          "30-39",
          "40-49",
          "50-59",
          "60-69",
          "70-79",
          "80-90",
          "90+"
         ],
         "xaxis": "x",
         "y": [
          327,
          328,
          496,
          715,
          652,
          488,
          323,
          117
         ],
         "yaxis": "y"
        },
        {
         "alignmentgroup": "True",
         "hovertemplate": "Gender=Male<br>Age Range=%{x}<br>Count=%{y}<extra></extra>",
         "legendgroup": "Male",
         "marker": {
          "color": "#EF553B",
          "pattern": {
           "shape": ""
          }
         },
         "name": "Male",
         "offsetgroup": "Male",
         "orientation": "v",
         "showlegend": true,
         "textposition": "auto",
         "type": "bar",
         "x": [
          "18-29",
          "30-39",
          "40-49",
          "50-59",
          "60-69",
          "70-79",
          "80-90",
          "90+"
         ],
         "xaxis": "x2",
         "y": [
          509,
          455,
          598,
          735,
          665,
          505,
          253,
          76
         ],
         "yaxis": "y2"
        },
        {
         "alignmentgroup": "True",
         "hovertemplate": "Gender=Unknown<br>Age Range=%{x}<br>Count=%{y}<extra></extra>",
         "legendgroup": "Unknown",
         "marker": {
          "color": "#00cc96",
          "pattern": {
           "shape": ""
          }
         },
         "name": "Unknown",
         "offsetgroup": "Unknown",
         "orientation": "v",
         "showlegend": true,
         "textposition": "auto",
         "type": "bar",
         "x": [
          "18-29",
          "30-39",
          "40-49",
          "50-59",
          "60-69",
          "70-79",
          "80-90",
          "90+"
         ],
         "xaxis": "x3",
         "y": [
          18,
          25,
          36,
          61,
          33,
          23,
          9,
          2
         ],
         "yaxis": "y3"
        }
       ],
       "layout": {
        "annotations": [
         {
          "font": {},
          "showarrow": false,
          "text": "Gender=Female",
          "x": 0.15999999999999998,
          "xanchor": "center",
          "xref": "paper",
          "y": 1,
          "yanchor": "bottom",
          "yref": "paper"
         },
         {
          "font": {},
          "showarrow": false,
          "text": "Gender=Male",
          "x": 0.49999999999999994,
          "xanchor": "center",
          "xref": "paper",
          "y": 1,
          "yanchor": "bottom",
          "yref": "paper"
         },
         {
          "font": {},
          "showarrow": false,
          "text": "Gender=Unknown",
          "x": 0.8399999999999999,
          "xanchor": "center",
          "xref": "paper",
          "y": 1,
          "yanchor": "bottom",
          "yref": "paper"
         }
        ],
        "autosize": true,
        "barmode": "group",
        "legend": {
         "title": {
          "text": "Gender"
         },
         "tracegroupgap": 0
        },
        "template": {
         "data": {
          "bar": [
           {
            "error_x": {
             "color": "#2a3f5f"
            },
            "error_y": {
             "color": "#2a3f5f"
            },
            "marker": {
             "line": {
              "color": "#E5ECF6",
              "width": 0.5
             },
             "pattern": {
              "fillmode": "overlay",
              "size": 10,
              "solidity": 0.2
             }
            },
            "type": "bar"
           }
          ],
          "barpolar": [
           {
            "marker": {
             "line": {
              "color": "#E5ECF6",
              "width": 0.5
             },
             "pattern": {
              "fillmode": "overlay",
              "size": 10,
              "solidity": 0.2
             }
            },
            "type": "barpolar"
           }
          ],
          "carpet": [
           {
            "aaxis": {
             "endlinecolor": "#2a3f5f",
             "gridcolor": "white",
             "linecolor": "white",
             "minorgridcolor": "white",
             "startlinecolor": "#2a3f5f"
            },
            "baxis": {
             "endlinecolor": "#2a3f5f",
             "gridcolor": "white",
             "linecolor": "white",
             "minorgridcolor": "white",
             "startlinecolor": "#2a3f5f"
            },
            "type": "carpet"
           }
          ],
          "choropleth": [
           {
            "colorbar": {
             "outlinewidth": 0,
             "ticks": ""
            },
            "type": "choropleth"
           }
          ],
          "contour": [
           {
            "colorbar": {
             "outlinewidth": 0,
             "ticks": ""
            },
            "colorscale": [
             [
              0,
              "#0d0887"
             ],
             [
              0.1111111111111111,
              "#46039f"
             ],
             [
              0.2222222222222222,
              "#7201a8"
             ],
             [
              0.3333333333333333,
              "#9c179e"
             ],
             [
              0.4444444444444444,
              "#bd3786"
             ],
             [
              0.5555555555555556,
              "#d8576b"
             ],
             [
              0.6666666666666666,
              "#ed7953"
             ],
             [
              0.7777777777777778,
              "#fb9f3a"
             ],
             [
              0.8888888888888888,
              "#fdca26"
             ],
             [
              1,
              "#f0f921"
             ]
            ],
            "type": "contour"
           }
          ],
          "contourcarpet": [
           {
            "colorbar": {
             "outlinewidth": 0,
             "ticks": ""
            },
            "type": "contourcarpet"
           }
          ],
          "heatmap": [
           {
            "colorbar": {
             "outlinewidth": 0,
             "ticks": ""
            },
            "colorscale": [
             [
              0,
              "#0d0887"
             ],
             [
              0.1111111111111111,
              "#46039f"
             ],
             [
              0.2222222222222222,
              "#7201a8"
             ],
             [
              0.3333333333333333,
              "#9c179e"
             ],
             [
              0.4444444444444444,
              "#bd3786"
             ],
             [
              0.5555555555555556,
              "#d8576b"
             ],
             [
              0.6666666666666666,
              "#ed7953"
             ],
             [
              0.7777777777777778,
              "#fb9f3a"
             ],
             [
              0.8888888888888888,
              "#fdca26"
             ],
             [
              1,
              "#f0f921"
             ]
            ],
            "type": "heatmap"
           }
          ],
          "heatmapgl": [
           {
            "colorbar": {
             "outlinewidth": 0,
             "ticks": ""
            },
            "colorscale": [
             [
              0,
              "#0d0887"
             ],
             [
              0.1111111111111111,
              "#46039f"
             ],
             [
              0.2222222222222222,
              "#7201a8"
             ],
             [
              0.3333333333333333,
              "#9c179e"
             ],
             [
              0.4444444444444444,
              "#bd3786"
             ],
             [
              0.5555555555555556,
              "#d8576b"
             ],
             [
              0.6666666666666666,
              "#ed7953"
             ],
             [
              0.7777777777777778,
              "#fb9f3a"
             ],
             [
              0.8888888888888888,
              "#fdca26"
             ],
             [
              1,
              "#f0f921"
             ]
            ],
            "type": "heatmapgl"
           }
          ],
          "histogram": [
           {
            "marker": {
             "pattern": {
              "fillmode": "overlay",
              "size": 10,
              "solidity": 0.2
             }
            },
            "type": "histogram"
           }
          ],
          "histogram2d": [
           {
            "colorbar": {
             "outlinewidth": 0,
             "ticks": ""
            },
            "colorscale": [
             [
              0,
              "#0d0887"
             ],
             [
              0.1111111111111111,
              "#46039f"
             ],
             [
              0.2222222222222222,
              "#7201a8"
             ],
             [
              0.3333333333333333,
              "#9c179e"
             ],
             [
              0.4444444444444444,
              "#bd3786"
             ],
             [
              0.5555555555555556,
              "#d8576b"
             ],
             [
              0.6666666666666666,
              "#ed7953"
             ],
             [
              0.7777777777777778,
              "#fb9f3a"
             ],
             [
              0.8888888888888888,
              "#fdca26"
             ],
             [
              1,
              "#f0f921"
             ]
            ],
            "type": "histogram2d"
           }
          ],
          "histogram2dcontour": [
           {
            "colorbar": {
             "outlinewidth": 0,
             "ticks": ""
            },
            "colorscale": [
             [
              0,
              "#0d0887"
             ],
             [
              0.1111111111111111,
              "#46039f"
             ],
             [
              0.2222222222222222,
              "#7201a8"
             ],
             [
              0.3333333333333333,
              "#9c179e"
             ],
             [
              0.4444444444444444,
              "#bd3786"
             ],
             [
              0.5555555555555556,
              "#d8576b"
             ],
             [
              0.6666666666666666,
              "#ed7953"
             ],
             [
              0.7777777777777778,
              "#fb9f3a"
             ],
             [
              0.8888888888888888,
              "#fdca26"
             ],
             [
              1,
              "#f0f921"
             ]
            ],
            "type": "histogram2dcontour"
           }
          ],
          "mesh3d": [
           {
            "colorbar": {
             "outlinewidth": 0,
             "ticks": ""
            },
            "type": "mesh3d"
           }
          ],
          "parcoords": [
           {
            "line": {
             "colorbar": {
              "outlinewidth": 0,
              "ticks": ""
             }
            },
            "type": "parcoords"
           }
          ],
          "pie": [
           {
            "automargin": true,
            "type": "pie"
           }
          ],
          "scatter": [
           {
            "marker": {
             "colorbar": {
              "outlinewidth": 0,
              "ticks": ""
             }
            },
            "type": "scatter"
           }
          ],
          "scatter3d": [
           {
            "line": {
             "colorbar": {
              "outlinewidth": 0,
              "ticks": ""
             }
            },
            "marker": {
             "colorbar": {
              "outlinewidth": 0,
              "ticks": ""
             }
            },
            "type": "scatter3d"
           }
          ],
          "scattercarpet": [
           {
            "marker": {
             "colorbar": {
              "outlinewidth": 0,
              "ticks": ""
             }
            },
            "type": "scattercarpet"
           }
          ],
          "scattergeo": [
           {
            "marker": {
             "colorbar": {
              "outlinewidth": 0,
              "ticks": ""
             }
            },
            "type": "scattergeo"
           }
          ],
          "scattergl": [
           {
            "marker": {
             "colorbar": {
              "outlinewidth": 0,
              "ticks": ""
             }
            },
            "type": "scattergl"
           }
          ],
          "scattermapbox": [
           {
            "marker": {
             "colorbar": {
              "outlinewidth": 0,
              "ticks": ""
             }
            },
            "type": "scattermapbox"
           }
          ],
          "scatterpolar": [
           {
            "marker": {
             "colorbar": {
              "outlinewidth": 0,
              "ticks": ""
             }
            },
            "type": "scatterpolar"
           }
          ],
          "scatterpolargl": [
           {
            "marker": {
             "colorbar": {
              "outlinewidth": 0,
              "ticks": ""
             }
            },
            "type": "scatterpolargl"
           }
          ],
          "scatterternary": [
           {
            "marker": {
             "colorbar": {
              "outlinewidth": 0,
              "ticks": ""
             }
            },
            "type": "scatterternary"
           }
          ],
          "surface": [
           {
            "colorbar": {
             "outlinewidth": 0,
             "ticks": ""
            },
            "colorscale": [
             [
              0,
              "#0d0887"
             ],
             [
              0.1111111111111111,
              "#46039f"
             ],
             [
              0.2222222222222222,
              "#7201a8"
             ],
             [
              0.3333333333333333,
              "#9c179e"
             ],
             [
              0.4444444444444444,
              "#bd3786"
             ],
             [
              0.5555555555555556,
              "#d8576b"
             ],
             [
              0.6666666666666666,
              "#ed7953"
             ],
             [
              0.7777777777777778,
              "#fb9f3a"
             ],
             [
              0.8888888888888888,
              "#fdca26"
             ],
             [
              1,
              "#f0f921"
             ]
            ],
            "type": "surface"
           }
          ],
          "table": [
           {
            "cells": {
             "fill": {
              "color": "#EBF0F8"
             },
             "line": {
              "color": "white"
             }
            },
            "header": {
             "fill": {
              "color": "#C8D4E3"
             },
             "line": {
              "color": "white"
             }
            },
            "type": "table"
           }
          ]
         },
         "layout": {
          "annotationdefaults": {
           "arrowcolor": "#2a3f5f",
           "arrowhead": 0,
           "arrowwidth": 1
          },
          "autotypenumbers": "strict",
          "coloraxis": {
           "colorbar": {
            "outlinewidth": 0,
            "ticks": ""
           }
          },
          "colorscale": {
           "diverging": [
            [
             0,
             "#8e0152"
            ],
            [
             0.1,
             "#c51b7d"
            ],
            [
             0.2,
             "#de77ae"
            ],
            [
             0.3,
             "#f1b6da"
            ],
            [
             0.4,
             "#fde0ef"
            ],
            [
             0.5,
             "#f7f7f7"
            ],
            [
             0.6,
             "#e6f5d0"
            ],
            [
             0.7,
             "#b8e186"
            ],
            [
             0.8,
             "#7fbc41"
            ],
            [
             0.9,
             "#4d9221"
            ],
            [
             1,
             "#276419"
            ]
           ],
           "sequential": [
            [
             0,
             "#0d0887"
            ],
            [
             0.1111111111111111,
             "#46039f"
            ],
            [
             0.2222222222222222,
             "#7201a8"
            ],
            [
             0.3333333333333333,
             "#9c179e"
            ],
            [
             0.4444444444444444,
             "#bd3786"
            ],
            [
             0.5555555555555556,
             "#d8576b"
            ],
            [
             0.6666666666666666,
             "#ed7953"
            ],
            [
             0.7777777777777778,
             "#fb9f3a"
            ],
            [
             0.8888888888888888,
             "#fdca26"
            ],
            [
             1,
             "#f0f921"
            ]
           ],
           "sequentialminus": [
            [
             0,
             "#0d0887"
            ],
            [
             0.1111111111111111,
             "#46039f"
            ],
            [
             0.2222222222222222,
             "#7201a8"
            ],
            [
             0.3333333333333333,
             "#9c179e"
            ],
            [
             0.4444444444444444,
             "#bd3786"
            ],
            [
             0.5555555555555556,
             "#d8576b"
            ],
            [
             0.6666666666666666,
             "#ed7953"
            ],
            [
             0.7777777777777778,
             "#fb9f3a"
            ],
            [
             0.8888888888888888,
             "#fdca26"
            ],
            [
             1,
             "#f0f921"
            ]
           ]
          },
          "colorway": [
           "#636efa",
           "#EF553B",
           "#00cc96",
           "#ab63fa",
           "#FFA15A",
           "#19d3f3",
           "#FF6692",
           "#B6E880",
           "#FF97FF",
           "#FECB52"
          ],
          "font": {
           "color": "#2a3f5f"
          },
          "geo": {
           "bgcolor": "white",
           "lakecolor": "white",
           "landcolor": "#E5ECF6",
           "showlakes": true,
           "showland": true,
           "subunitcolor": "white"
          },
          "hoverlabel": {
           "align": "left"
          },
          "hovermode": "closest",
          "mapbox": {
           "style": "light"
          },
          "paper_bgcolor": "white",
          "plot_bgcolor": "#E5ECF6",
          "polar": {
           "angularaxis": {
            "gridcolor": "white",
            "linecolor": "white",
            "ticks": ""
           },
           "bgcolor": "#E5ECF6",
           "radialaxis": {
            "gridcolor": "white",
            "linecolor": "white",
            "ticks": ""
           }
          },
          "scene": {
           "xaxis": {
            "backgroundcolor": "#E5ECF6",
            "gridcolor": "white",
            "gridwidth": 2,
            "linecolor": "white",
            "showbackground": true,
            "ticks": "",
            "zerolinecolor": "white"
           },
           "yaxis": {
            "backgroundcolor": "#E5ECF6",
            "gridcolor": "white",
            "gridwidth": 2,
            "linecolor": "white",
            "showbackground": true,
            "ticks": "",
            "zerolinecolor": "white"
           },
           "zaxis": {
            "backgroundcolor": "#E5ECF6",
            "gridcolor": "white",
            "gridwidth": 2,
            "linecolor": "white",
            "showbackground": true,
            "ticks": "",
            "zerolinecolor": "white"
           }
          },
          "shapedefaults": {
           "line": {
            "color": "#2a3f5f"
           }
          },
          "ternary": {
           "aaxis": {
            "gridcolor": "white",
            "linecolor": "white",
            "ticks": ""
           },
           "baxis": {
            "gridcolor": "white",
            "linecolor": "white",
            "ticks": ""
           },
           "bgcolor": "#E5ECF6",
           "caxis": {
            "gridcolor": "white",
            "linecolor": "white",
            "ticks": ""
           }
          },
          "title": {
           "x": 0.05
          },
          "xaxis": {
           "automargin": true,
           "gridcolor": "white",
           "linecolor": "white",
           "ticks": "",
           "title": {
            "standoff": 15
           },
           "zerolinecolor": "white",
           "zerolinewidth": 2
          },
          "yaxis": {
           "automargin": true,
           "gridcolor": "white",
           "linecolor": "white",
           "ticks": "",
           "title": {
            "standoff": 15
           },
           "zerolinecolor": "white",
           "zerolinewidth": 2
          }
         }
        },
        "title": {
         "text": "Consumption on basis of Gender and Age"
        },
        "xaxis": {
         "anchor": "y",
         "autorange": true,
         "domain": [
          0,
          0.31999999999999995
         ],
         "range": [
          -0.5,
          7.5
         ],
         "title": {
          "text": "Age Range"
         },
         "type": "category"
        },
        "xaxis2": {
         "anchor": "y2",
         "autorange": true,
         "domain": [
          0.33999999999999997,
          0.6599999999999999
         ],
         "matches": "x",
         "range": [
          -0.5,
          7.5
         ],
         "title": {
          "text": "Age Range"
         },
         "type": "category"
        },
        "xaxis3": {
         "anchor": "y3",
         "autorange": true,
         "domain": [
          0.6799999999999999,
          0.9999999999999999
         ],
         "matches": "x",
         "range": [
          -0.5,
          7.5
         ],
         "title": {
          "text": "Age Range"
         },
         "type": "category"
        },
        "yaxis": {
         "anchor": "x",
         "autorange": true,
         "domain": [
          0,
          1
         ],
         "range": [
          0,
          773.6842105263158
         ],
         "title": {
          "text": "Count"
         },
         "type": "linear"
        },
        "yaxis2": {
         "anchor": "x2",
         "autorange": true,
         "domain": [
          0,
          1
         ],
         "matches": "y",
         "range": [
          0,
          773.6842105263158
         ],
         "showticklabels": false,
         "type": "linear"
        },
        "yaxis3": {
         "anchor": "x3",
         "autorange": true,
         "domain": [
          0,
          1
         ],
         "matches": "y",
         "range": [
          0,
          773.6842105263158
         ],
         "showticklabels": false,
         "type": "linear"
        }
       }
      },
      "image/png": "[encoded data removed]",
      "text/html": [
       "<div>                            <div id=\"73ee221e-c47f-446e-a1b9-0d7398a13f58\" class=\"plotly-graph-div\" style=\"height:700px; width:100%;\"></div>            <script type=\"text/javascript\">                require([\"plotly\"], function(Plotly) {                    window.PLOTLYENV=window.PLOTLYENV || {};                                    if (document.getElementById(\"73ee221e-c47f-446e-a1b9-0d7398a13f58\")) {                    Plotly.newPlot(                        \"73ee221e-c47f-446e-a1b9-0d7398a13f58\",                        [{\"alignmentgroup\":\"True\",\"hovertemplate\":\"Gender=Female<br>Age Range=%{x}<br>Count=%{y}<extra></extra>\",\"legendgroup\":\"Female\",\"marker\":{\"color\":\"#636efa\",\"pattern\":{\"shape\":\"\"}},\"name\":\"Female\",\"offsetgroup\":\"Female\",\"orientation\":\"v\",\"showlegend\":true,\"textposition\":\"auto\",\"type\":\"bar\",\"x\":[\"18-29\",\"30-39\",\"40-49\",\"50-59\",\"60-69\",\"70-79\",\"80-90\",\"90+\"],\"xaxis\":\"x\",\"y\":[327,328,496,715,652,488,323,117],\"yaxis\":\"y\"},{\"alignmentgroup\":\"True\",\"hovertemplate\":\"Gender=Male<br>Age Range=%{x}<br>Count=%{y}<extra></extra>\",\"legendgroup\":\"Male\",\"marker\":{\"color\":\"#EF553B\",\"pattern\":{\"shape\":\"\"}},\"name\":\"Male\",\"offsetgroup\":\"Male\",\"orientation\":\"v\",\"showlegend\":true,\"textposition\":\"auto\",\"type\":\"bar\",\"x\":[\"18-29\",\"30-39\",\"40-49\",\"50-59\",\"60-69\",\"70-79\",\"80-90\",\"90+\"],\"xaxis\":\"x2\",\"y\":[509,455,598,735,665,505,253,76],\"yaxis\":\"y2\"},{\"alignmentgroup\":\"True\",\"hovertemplate\":\"Gender=Unknown<br>Age Range=%{x}<br>Count=%{y}<extra></extra>\",\"legendgroup\":\"Unknown\",\"marker\":{\"color\":\"#00cc96\",\"pattern\":{\"shape\":\"\"}},\"name\":\"Unknown\",\"offsetgroup\":\"Unknown\",\"orientation\":\"v\",\"showlegend\":true,\"textposition\":\"auto\",\"type\":\"bar\",\"x\":[\"18-29\",\"30-39\",\"40-49\",\"50-59\",\"60-69\",\"70-79\",\"80-90\",\"90+\"],\"xaxis\":\"x3\",\"y\":[18,25,36,61,33,23,9,2],\"yaxis\":\"y3\"}],                        {\"annotations\":[{\"font\":{},\"showarrow\":false,\"text\":\"Gender=Female\",\"x\":0.15999999999999998,\"xanchor\":\"center\",\"xref\":\"paper\",\"y\":1.0,\"yanchor\":\"bottom\",\"yref\":\"paper\"},{\"font\":{},\"showarrow\":false,\"text\":\"Gender=Male\",\"x\":0.49999999999999994,\"xanchor\":\"center\",\"xref\":\"paper\",\"y\":1.0,\"yanchor\":\"bottom\",\"yref\":\"paper\"},{\"font\":{},\"showarrow\":false,\"text\":\"Gender=Unknown\",\"x\":0.8399999999999999,\"xanchor\":\"center\",\"xref\":\"paper\",\"y\":1.0,\"yanchor\":\"bottom\",\"yref\":\"paper\"}],\"barmode\":\"group\",\"height\":700,\"legend\":{\"title\":{\"text\":\"Gender\"},\"tracegroupgap\":0},\"template\":{\"data\":{\"bar\":[{\"error_x\":{\"color\":\"#2a3f5f\"},\"error_y\":{\"color\":\"#2a3f5f\"},\"marker\":{\"line\":{\"color\":\"#E5ECF6\",\"width\":0.5},\"pattern\":{\"fillmode\":\"overlay\",\"size\":10,\"solidity\":0.2}},\"type\":\"bar\"}],\"barpolar\":[{\"marker\":{\"line\":{\"color\":\"#E5ECF6\",\"width\":0.5},\"pattern\":{\"fillmode\":\"overlay\",\"size\":10,\"solidity\":0.2}},\"type\":\"barpolar\"}],\"carpet\":[{\"aaxis\":{\"endlinecolor\":\"#2a3f5f\",\"gridcolor\":\"white\",\"linecolor\":\"white\",\"minorgridcolor\":\"white\",\"startlinecolor\":\"#2a3f5f\"},\"baxis\":{\"endlinecolor\":\"#2a3f5f\",\"gridcolor\":\"white\",\"linecolor\":\"white\",\"minorgridcolor\":\"white\",\"startlinecolor\":\"#2a3f5f\"},\"type\":\"carpet\"}],\"choropleth\":[{\"colorbar\":{\"outlinewidth\":0,\"ticks\":\"\"},\"type\":\"choropleth\"}],\"contour\":[{\"colorbar\":{\"outlinewidth\":0,\"ticks\":\"\"},\"colorscale\":[[0.0,\"#0d0887\"],[0.1111111111111111,\"#46039f\"],[0.2222222222222222,\"#7201a8\"],[0.3333333333333333,\"#9c179e\"],[0.4444444444444444,\"#bd3786\"],[0.5555555555555556,\"#d8576b\"],[0.6666666666666666,\"#ed7953\"],[0.7777777777777778,\"#fb9f3a\"],[0.8888888888888888,\"#fdca26\"],[1.0,\"#f0f921\"]],\"type\":\"contour\"}],\"contourcarpet\":[{\"colorbar\":{\"outlinewidth\":0,\"ticks\":\"\"},\"type\":\"contourcarpet\"}],\"heatmap\":[{\"colorbar\":{\"outlinewidth\":0,\"ticks\":\"\"},\"colorscale\":[[0.0,\"#0d0887\"],[0.1111111111111111,\"#46039f\"],[0.2222222222222222,\"#7201a8\"],[0.3333333333333333,\"#9c179e\"],[0.4444444444444444,\"#bd3786\"],[0.5555555555555556,\"#d8576b\"],[0.6666666666666666,\"#ed7953\"],[0.7777777777777778,\"#fb9f3a\"],[0.8888888888888888,\"#fdca26\"],[1.0,\"#f0f921\"]],\"type\":\"heatmap\"}],\"heatmapgl\":[{\"colorbar\":{\"outlinewidth\":0,\"ticks\":\"\"},\"colorscale\":[[0.0,\"#0d0887\"],[0.1111111111111111,\"#46039f\"],[0.2222222222222222,\"#7201a8\"],[0.3333333333333333,\"#9c179e\"],[0.4444444444444444,\"#bd3786\"],[0.5555555555555556,\"#d8576b\"],[0.6666666666666666,\"#ed7953\"],[0.7777777777777778,\"#fb9f3a\"],[0.8888888888888888,\"#fdca26\"],[1.0,\"#f0f921\"]],\"type\":\"heatmapgl\"}],\"histogram\":[{\"marker\":{\"pattern\":{\"fillmode\":\"overlay\",\"size\":10,\"solidity\":0.2}},\"type\":\"histogram\"}],\"histogram2d\":[{\"colorbar\":{\"outlinewidth\":0,\"ticks\":\"\"},\"colorscale\":[[0.0,\"#0d0887\"],[0.1111111111111111,\"#46039f\"],[0.2222222222222222,\"#7201a8\"],[0.3333333333333333,\"#9c179e\"],[0.4444444444444444,\"#bd3786\"],[0.5555555555555556,\"#d8576b\"],[0.6666666666666666,\"#ed7953\"],[0.7777777777777778,\"#fb9f3a\"],[0.8888888888888888,\"#fdca26\"],[1.0,\"#f0f921\"]],\"type\":\"histogram2d\"}],\"histogram2dcontour\":[{\"colorbar\":{\"outlinewidth\":0,\"ticks\":\"\"},\"colorscale\":[[0.0,\"#0d0887\"],[0.1111111111111111,\"#46039f\"],[0.2222222222222222,\"#7201a8\"],[0.3333333333333333,\"#9c179e\"],[0.4444444444444444,\"#bd3786\"],[0.5555555555555556,\"#d8576b\"],[0.6666666666666666,\"#ed7953\"],[0.7777777777777778,\"#fb9f3a\"],[0.8888888888888888,\"#fdca26\"],[1.0,\"#f0f921\"]],\"type\":\"histogram2dcontour\"}],\"mesh3d\":[{\"colorbar\":{\"outlinewidth\":0,\"ticks\":\"\"},\"type\":\"mesh3d\"}],\"parcoords\":[{\"line\":{\"colorbar\":{\"outlinewidth\":0,\"ticks\":\"\"}},\"type\":\"parcoords\"}],\"pie\":[{\"automargin\":true,\"type\":\"pie\"}],\"scatter\":[{\"marker\":{\"colorbar\":{\"outlinewidth\":0,\"ticks\":\"\"}},\"type\":\"scatter\"}],\"scatter3d\":[{\"line\":{\"colorbar\":{\"outlinewidth\":0,\"ticks\":\"\"}},\"marker\":{\"colorbar\":{\"outlinewidth\":0,\"ticks\":\"\"}},\"type\":\"scatter3d\"}],\"scattercarpet\":[{\"marker\":{\"colorbar\":{\"outlinewidth\":0,\"ticks\":\"\"}},\"type\":\"scattercarpet\"}],\"scattergeo\":[{\"marker\":{\"colorbar\":{\"outlinewidth\":0,\"ticks\":\"\"}},\"type\":\"scattergeo\"}],\"scattergl\":[{\"marker\":{\"colorbar\":{\"outlinewidth\":0,\"ticks\":\"\"}},\"type\":\"scattergl\"}],\"scattermapbox\":[{\"marker\":{\"colorbar\":{\"outlinewidth\":0,\"ticks\":\"\"}},\"type\":\"scattermapbox\"}],\"scatterpolar\":[{\"marker\":{\"colorbar\":{\"outlinewidth\":0,\"ticks\":\"\"}},\"type\":\"scatterpolar\"}],\"scatterpolargl\":[{\"marker\":{\"colorbar\":{\"outlinewidth\":0,\"ticks\":\"\"}},\"type\":\"scatterpolargl\"}],\"scatterternary\":[{\"marker\":{\"colorbar\":{\"outlinewidth\":0,\"ticks\":\"\"}},\"type\":\"scatterternary\"}],\"surface\":[{\"colorbar\":{\"outlinewidth\":0,\"ticks\":\"\"},\"colorscale\":[[0.0,\"#0d0887\"],[0.1111111111111111,\"#46039f\"],[0.2222222222222222,\"#7201a8\"],[0.3333333333333333,\"#9c179e\"],[0.4444444444444444,\"#bd3786\"],[0.5555555555555556,\"#d8576b\"],[0.6666666666666666,\"#ed7953\"],[0.7777777777777778,\"#fb9f3a\"],[0.8888888888888888,\"#fdca26\"],[1.0,\"#f0f921\"]],\"type\":\"surface\"}],\"table\":[{\"cells\":{\"fill\":{\"color\":\"#EBF0F8\"},\"line\":{\"color\":\"white\"}},\"header\":{\"fill\":{\"color\":\"#C8D4E3\"},\"line\":{\"color\":\"white\"}},\"type\":\"table\"}]},\"layout\":{\"annotationdefaults\":{\"arrowcolor\":\"#2a3f5f\",\"arrowhead\":0,\"arrowwidth\":1},\"autotypenumbers\":\"strict\",\"coloraxis\":{\"colorbar\":{\"outlinewidth\":0,\"ticks\":\"\"}},\"colorscale\":{\"diverging\":[[0,\"#8e0152\"],[0.1,\"#c51b7d\"],[0.2,\"#de77ae\"],[0.3,\"#f1b6da\"],[0.4,\"#fde0ef\"],[0.5,\"#f7f7f7\"],[0.6,\"#e6f5d0\"],[0.7,\"#b8e186\"],[0.8,\"#7fbc41\"],[0.9,\"#4d9221\"],[1,\"#276419\"]],\"sequential\":[[0.0,\"#0d0887\"],[0.1111111111111111,\"#46039f\"],[0.2222222222222222,\"#7201a8\"],[0.3333333333333333,\"#9c179e\"],[0.4444444444444444,\"#bd3786\"],[0.5555555555555556,\"#d8576b\"],[0.6666666666666666,\"#ed7953\"],[0.7777777777777778,\"#fb9f3a\"],[0.8888888888888888,\"#fdca26\"],[1.0,\"#f0f921\"]],\"sequentialminus\":[[0.0,\"#0d0887\"],[0.1111111111111111,\"#46039f\"],[0.2222222222222222,\"#7201a8\"],[0.3333333333333333,\"#9c179e\"],[0.4444444444444444,\"#bd3786\"],[0.5555555555555556,\"#d8576b\"],[0.6666666666666666,\"#ed7953\"],[0.7777777777777778,\"#fb9f3a\"],[0.8888888888888888,\"#fdca26\"],[1.0,\"#f0f921\"]]},\"colorway\":[\"#636efa\",\"#EF553B\",\"#00cc96\",\"#ab63fa\",\"#FFA15A\",\"#19d3f3\",\"#FF6692\",\"#B6E880\",\"#FF97FF\",\"#FECB52\"],\"font\":{\"color\":\"#2a3f5f\"},\"geo\":{\"bgcolor\":\"white\",\"lakecolor\":\"white\",\"landcolor\":\"#E5ECF6\",\"showlakes\":true,\"showland\":true,\"subunitcolor\":\"white\"},\"hoverlabel\":{\"align\":\"left\"},\"hovermode\":\"closest\",\"mapbox\":{\"style\":\"light\"},\"paper_bgcolor\":\"white\",\"plot_bgcolor\":\"#E5ECF6\",\"polar\":{\"angularaxis\":{\"gridcolor\":\"white\",\"linecolor\":\"white\",\"ticks\":\"\"},\"bgcolor\":\"#E5ECF6\",\"radialaxis\":{\"gridcolor\":\"white\",\"linecolor\":\"white\",\"ticks\":\"\"}},\"scene\":{\"xaxis\":{\"backgroundcolor\":\"#E5ECF6\",\"gridcolor\":\"white\",\"gridwidth\":2,\"linecolor\":\"white\",\"showbackground\":true,\"ticks\":\"\",\"zerolinecolor\":\"white\"},\"yaxis\":{\"backgroundcolor\":\"#E5ECF6\",\"gridcolor\":\"white\",\"gridwidth\":2,\"linecolor\":\"white\",\"showbackground\":true,\"ticks\":\"\",\"zerolinecolor\":\"white\"},\"zaxis\":{\"backgroundcolor\":\"#E5ECF6\",\"gridcolor\":\"white\",\"gridwidth\":2,\"linecolor\":\"white\",\"showbackground\":true,\"ticks\":\"\",\"zerolinecolor\":\"white\"}},\"shapedefaults\":{\"line\":{\"color\":\"#2a3f5f\"}},\"ternary\":{\"aaxis\":{\"gridcolor\":\"white\",\"linecolor\":\"white\",\"ticks\":\"\"},\"baxis\":{\"gridcolor\":\"white\",\"linecolor\":\"white\",\"ticks\":\"\"},\"bgcolor\":\"#E5ECF6\",\"caxis\":{\"gridcolor\":\"white\",\"linecolor\":\"white\",\"ticks\":\"\"}},\"title\":{\"x\":0.05},\"xaxis\":{\"automargin\":true,\"gridcolor\":\"white\",\"linecolor\":\"white\",\"ticks\":\"\",\"title\":{\"standoff\":15},\"zerolinecolor\":\"white\",\"zerolinewidth\":2},\"yaxis\":{\"automargin\":true,\"gridcolor\":\"white\",\"linecolor\":\"white\",\"ticks\":\"\",\"title\":{\"standoff\":15},\"zerolinecolor\":\"white\",\"zerolinewidth\":2}}},\"title\":{\"text\":\"Consumption on basis of Gender and Age\"},\"xaxis\":{\"anchor\":\"y\",\"domain\":[0.0,0.31999999999999995],\"title\":{\"text\":\"Age Range\"}},\"xaxis2\":{\"anchor\":\"y2\",\"domain\":[0.33999999999999997,0.6599999999999999],\"matches\":\"x\",\"title\":{\"text\":\"Age Range\"}},\"xaxis3\":{\"anchor\":\"y3\",\"domain\":[0.6799999999999999,0.9999999999999999],\"matches\":\"x\",\"title\":{\"text\":\"Age Range\"}},\"yaxis\":{\"anchor\":\"x\",\"domain\":[0.0,1.0],\"title\":{\"text\":\"Count\"}},\"yaxis2\":{\"anchor\":\"x2\",\"domain\":[0.0,1.0],\"matches\":\"y\",\"showticklabels\":false},\"yaxis3\":{\"anchor\":\"x3\",\"domain\":[0.0,1.0],\"matches\":\"y\",\"showticklabels\":false}},                        {\"responsive\": true}                    ).then(function(){\n",
       "                            \n",
       "var gd = document.getElementById('73ee221e-c47f-446e-a1b9-0d7398a13f58');\n",
       "var x = new MutationObserver(function (mutations, observer) {{\n",
       "        var display = window.getComputedStyle(gd).display;\n",
       "        if (!display || display === 'none') {{\n",
       "            console.log([gd, 'removed!']);\n",
       "            Plotly.purge(gd);\n",
       "            observer.disconnect();\n",
       "        }}\n",
       "}});\n",
       "\n",
       "// Listen for the removal of the full notebook cells\n",
       "var notebookContainer = gd.closest('#notebook-container');\n",
       "if (notebookContainer) {{\n",
       "    x.observe(notebookContainer, {childList: true});\n",
       "}}\n",
       "\n",
       "// Listen for the clearing of the current output cell\n",
       "var outputEl = gd.closest('.output');\n",
       "if (outputEl) {{\n",
       "    x.observe(outputEl, {childList: true});\n",
       "}}\n",
       "\n",
       "                        })                };                });            </script>        </div>"
      ]
     },
     "metadata": {},
     "output_type": "display_data"
    }
   ],
   "source": [
    "fig = px.bar(grp, x=\"age_range\", color=\"sex\",\n",
    "             y='count',\n",
    "             title=\"Consumption on basis of Gender and Age\",\n",
    "             barmode='group',\n",
    "             height=700,\n",
    "             facet_col=\"sex\",\n",
    "             labels={\"sex\":\"Gender\", \"count\":\"Count\",\"age_range\":\"Age Range\"}\n",
    "            )\n",
    "\n",
    "fig.show()\n",
    "fig.write_html(\"IndGenAge.html\")"
   ]
  },
  {
   "cell_type": "code",
   "execution_count": 55,
   "id": "7243a34b-5f5d-4571-bbc1-d9de9f08eff0",
   "metadata": {},
   "outputs": [
    {
     "data": {
      "application/vnd.plotly.v1+json": {
       "config": {
        "plotlyServerURL": "https://plot.ly"
       },
       "data": [
        {
         "alignmentgroup": "True",
         "hovertemplate": "Gender=Female<br>Age Range=%{x}<br>Count=%{y}<extra></extra>",
         "legendgroup": "Female",
         "marker": {
          "color": "#636efa",
          "pattern": {
           "shape": ""
          }
         },
         "name": "Female",
         "offsetgroup": "Female",
         "orientation": "v",
         "showlegend": true,
         "textposition": "auto",
         "type": "bar",
         "x": [
          "18-29",
          "30-39",
          "40-49",
          "50-59",
          "60-69",
          "70-79",
          "80-90",
          "90+"
         ],
         "xaxis": "x",
         "y": [
          478,
          522,
          898,
          1574,
          1327,
          771,
          423,
          136
         ],
         "yaxis": "y"
        },
        {
         "alignmentgroup": "True",
         "hovertemplate": "Gender=Male<br>Age Range=%{x}<br>Count=%{y}<extra></extra>",
         "legendgroup": "Male",
         "marker": {
          "color": "#EF553B",
          "pattern": {
           "shape": ""
          }
         },
         "name": "Male",
         "offsetgroup": "Male",
         "orientation": "v",
         "showlegend": true,
         "textposition": "auto",
         "type": "bar",
         "x": [
          "18-29",
          "30-39",
          "40-49",
          "50-59",
          "60-69",
          "70-79",
          "80-90",
          "90+"
         ],
         "xaxis": "x",
         "y": [
          1209,
          1049,
          1457,
          1953,
          1549,
          852,
          334,
          81
         ],
         "yaxis": "y"
        },
        {
         "alignmentgroup": "True",
         "hovertemplate": "Gender=Unknown<br>Age Range=%{x}<br>Count=%{y}<extra></extra>",
         "legendgroup": "Unknown",
         "marker": {
          "color": "#00cc96",
          "pattern": {
           "shape": ""
          }
         },
         "name": "Unknown",
         "offsetgroup": "Unknown",
         "orientation": "v",
         "showlegend": true,
         "textposition": "auto",
         "type": "bar",
         "x": [
          "18-29",
          "30-39",
          "40-49",
          "50-59",
          "60-69",
          "70-79",
          "80-90",
          "90+"
         ],
         "xaxis": "x",
         "y": [
          18,
          26,
          36,
          63,
          34,
          23,
          10,
          2
         ],
         "yaxis": "y"
        }
       ],
       "layout": {
        "autosize": true,
        "barmode": "group",
        "legend": {
         "title": {
          "text": "Gender"
         },
         "tracegroupgap": 0
        },
        "template": {
         "data": {
          "bar": [
           {
            "error_x": {
             "color": "#2a3f5f"
            },
            "error_y": {
             "color": "#2a3f5f"
            },
            "marker": {
             "line": {
              "color": "#E5ECF6",
              "width": 0.5
             },
             "pattern": {
              "fillmode": "overlay",
              "size": 10,
              "solidity": 0.2
             }
            },
            "type": "bar"
           }
          ],
          "barpolar": [
           {
            "marker": {
             "line": {
              "color": "#E5ECF6",
              "width": 0.5
             },
             "pattern": {
              "fillmode": "overlay",
              "size": 10,
              "solidity": 0.2
             }
            },
            "type": "barpolar"
           }
          ],
          "carpet": [
           {
            "aaxis": {
             "endlinecolor": "#2a3f5f",
             "gridcolor": "white",
             "linecolor": "white",
             "minorgridcolor": "white",
             "startlinecolor": "#2a3f5f"
            },
            "baxis": {
             "endlinecolor": "#2a3f5f",
             "gridcolor": "white",
             "linecolor": "white",
             "minorgridcolor": "white",
             "startlinecolor": "#2a3f5f"
            },
            "type": "carpet"
           }
          ],
          "choropleth": [
           {
            "colorbar": {
             "outlinewidth": 0,
             "ticks": ""
            },
            "type": "choropleth"
           }
          ],
          "contour": [
           {
            "colorbar": {
             "outlinewidth": 0,
             "ticks": ""
            },
            "colorscale": [
             [
              0,
              "#0d0887"
             ],
             [
              0.1111111111111111,
              "#46039f"
             ],
             [
              0.2222222222222222,
              "#7201a8"
             ],
             [
              0.3333333333333333,
              "#9c179e"
             ],
             [
              0.4444444444444444,
              "#bd3786"
             ],
             [
              0.5555555555555556,
              "#d8576b"
             ],
             [
              0.6666666666666666,
              "#ed7953"
             ],
             [
              0.7777777777777778,
              "#fb9f3a"
             ],
             [
              0.8888888888888888,
              "#fdca26"
             ],
             [
              1,
              "#f0f921"
             ]
            ],
            "type": "contour"
           }
          ],
          "contourcarpet": [
           {
            "colorbar": {
             "outlinewidth": 0,
             "ticks": ""
            },
            "type": "contourcarpet"
           }
          ],
          "heatmap": [
           {
            "colorbar": {
             "outlinewidth": 0,
             "ticks": ""
            },
            "colorscale": [
             [
              0,
              "#0d0887"
             ],
             [
              0.1111111111111111,
              "#46039f"
             ],
             [
              0.2222222222222222,
              "#7201a8"
             ],
             [
              0.3333333333333333,
              "#9c179e"
             ],
             [
              0.4444444444444444,
              "#bd3786"
             ],
             [
              0.5555555555555556,
              "#d8576b"
             ],
             [
              0.6666666666666666,
              "#ed7953"
             ],
             [
              0.7777777777777778,
              "#fb9f3a"
             ],
             [
              0.8888888888888888,
              "#fdca26"
             ],
             [
              1,
              "#f0f921"
             ]
            ],
            "type": "heatmap"
           }
          ],
          "heatmapgl": [
           {
            "colorbar": {
             "outlinewidth": 0,
             "ticks": ""
            },
            "colorscale": [
             [
              0,
              "#0d0887"
             ],
             [
              0.1111111111111111,
              "#46039f"
             ],
             [
              0.2222222222222222,
              "#7201a8"
             ],
             [
              0.3333333333333333,
              "#9c179e"
             ],
             [
              0.4444444444444444,
              "#bd3786"
             ],
             [
              0.5555555555555556,
              "#d8576b"
             ],
             [
              0.6666666666666666,
              "#ed7953"
             ],
             [
              0.7777777777777778,
              "#fb9f3a"
             ],
             [
              0.8888888888888888,
              "#fdca26"
             ],
             [
              1,
              "#f0f921"
             ]
            ],
            "type": "heatmapgl"
           }
          ],
          "histogram": [
           {
            "marker": {
             "pattern": {
              "fillmode": "overlay",
              "size": 10,
              "solidity": 0.2
             }
            },
            "type": "histogram"
           }
          ],
          "histogram2d": [
           {
            "colorbar": {
             "outlinewidth": 0,
             "ticks": ""
            },
            "colorscale": [
             [
              0,
              "#0d0887"
             ],
             [
              0.1111111111111111,
              "#46039f"
             ],
             [
              0.2222222222222222,
              "#7201a8"
             ],
             [
              0.3333333333333333,
              "#9c179e"
             ],
             [
              0.4444444444444444,
              "#bd3786"
             ],
             [
              0.5555555555555556,
              "#d8576b"
             ],
             [
              0.6666666666666666,
              "#ed7953"
             ],
             [
              0.7777777777777778,
              "#fb9f3a"
             ],
             [
              0.8888888888888888,
              "#fdca26"
             ],
             [
              1,
              "#f0f921"
             ]
            ],
            "type": "histogram2d"
           }
          ],
          "histogram2dcontour": [
           {
            "colorbar": {
             "outlinewidth": 0,
             "ticks": ""
            },
            "colorscale": [
             [
              0,
              "#0d0887"
             ],
             [
              0.1111111111111111,
              "#46039f"
             ],
             [
              0.2222222222222222,
              "#7201a8"
             ],
             [
              0.3333333333333333,
              "#9c179e"
             ],
             [
              0.4444444444444444,
              "#bd3786"
             ],
             [
              0.5555555555555556,
              "#d8576b"
             ],
             [
              0.6666666666666666,
              "#ed7953"
             ],
             [
              0.7777777777777778,
              "#fb9f3a"
             ],
             [
              0.8888888888888888,
              "#fdca26"
             ],
             [
              1,
              "#f0f921"
             ]
            ],
            "type": "histogram2dcontour"
           }
          ],
          "mesh3d": [
           {
            "colorbar": {
             "outlinewidth": 0,
             "ticks": ""
            },
            "type": "mesh3d"
           }
          ],
          "parcoords": [
           {
            "line": {
             "colorbar": {
              "outlinewidth": 0,
              "ticks": ""
             }
            },
            "type": "parcoords"
           }
          ],
          "pie": [
           {
            "automargin": true,
            "type": "pie"
           }
          ],
          "scatter": [
           {
            "marker": {
             "colorbar": {
              "outlinewidth": 0,
              "ticks": ""
             }
            },
            "type": "scatter"
           }
          ],
          "scatter3d": [
           {
            "line": {
             "colorbar": {
              "outlinewidth": 0,
              "ticks": ""
             }
            },
            "marker": {
             "colorbar": {
              "outlinewidth": 0,
              "ticks": ""
             }
            },
            "type": "scatter3d"
           }
          ],
          "scattercarpet": [
           {
            "marker": {
             "colorbar": {
              "outlinewidth": 0,
              "ticks": ""
             }
            },
            "type": "scattercarpet"
           }
          ],
          "scattergeo": [
           {
            "marker": {
             "colorbar": {
              "outlinewidth": 0,
              "ticks": ""
             }
            },
            "type": "scattergeo"
           }
          ],
          "scattergl": [
           {
            "marker": {
             "colorbar": {
              "outlinewidth": 0,
              "ticks": ""
             }
            },
            "type": "scattergl"
           }
          ],
          "scattermapbox": [
           {
            "marker": {
             "colorbar": {
              "outlinewidth": 0,
              "ticks": ""
             }
            },
            "type": "scattermapbox"
           }
          ],
          "scatterpolar": [
           {
            "marker": {
             "colorbar": {
              "outlinewidth": 0,
              "ticks": ""
             }
            },
            "type": "scatterpolar"
           }
          ],
          "scatterpolargl": [
           {
            "marker": {
             "colorbar": {
              "outlinewidth": 0,
              "ticks": ""
             }
            },
            "type": "scatterpolargl"
           }
          ],
          "scatterternary": [
           {
            "marker": {
             "colorbar": {
              "outlinewidth": 0,
              "ticks": ""
             }
            },
            "type": "scatterternary"
           }
          ],
          "surface": [
           {
            "colorbar": {
             "outlinewidth": 0,
             "ticks": ""
            },
            "colorscale": [
             [
              0,
              "#0d0887"
             ],
             [
              0.1111111111111111,
              "#46039f"
             ],
             [
              0.2222222222222222,
              "#7201a8"
             ],
             [
              0.3333333333333333,
              "#9c179e"
             ],
             [
              0.4444444444444444,
              "#bd3786"
             ],
             [
              0.5555555555555556,
              "#d8576b"
             ],
             [
              0.6666666666666666,
              "#ed7953"
             ],
             [
              0.7777777777777778,
              "#fb9f3a"
             ],
             [
              0.8888888888888888,
              "#fdca26"
             ],
             [
              1,
              "#f0f921"
             ]
            ],
            "type": "surface"
           }
          ],
          "table": [
           {
            "cells": {
             "fill": {
              "color": "#EBF0F8"
             },
             "line": {
              "color": "white"
             }
            },
            "header": {
             "fill": {
              "color": "#C8D4E3"
             },
             "line": {
              "color": "white"
             }
            },
            "type": "table"
           }
          ]
         },
         "layout": {
          "annotationdefaults": {
           "arrowcolor": "#2a3f5f",
           "arrowhead": 0,
           "arrowwidth": 1
          },
          "autotypenumbers": "strict",
          "coloraxis": {
           "colorbar": {
            "outlinewidth": 0,
            "ticks": ""
           }
          },
          "colorscale": {
           "diverging": [
            [
             0,
             "#8e0152"
            ],
            [
             0.1,
             "#c51b7d"
            ],
            [
             0.2,
             "#de77ae"
            ],
            [
             0.3,
             "#f1b6da"
            ],
            [
             0.4,
             "#fde0ef"
            ],
            [
             0.5,
             "#f7f7f7"
            ],
            [
             0.6,
             "#e6f5d0"
            ],
            [
             0.7,
             "#b8e186"
            ],
            [
             0.8,
             "#7fbc41"
            ],
            [
             0.9,
             "#4d9221"
            ],
            [
             1,
             "#276419"
            ]
           ],
           "sequential": [
            [
             0,
             "#0d0887"
            ],
            [
             0.1111111111111111,
             "#46039f"
            ],
            [
             0.2222222222222222,
             "#7201a8"
            ],
            [
             0.3333333333333333,
             "#9c179e"
            ],
            [
             0.4444444444444444,
             "#bd3786"
            ],
            [
             0.5555555555555556,
             "#d8576b"
            ],
            [
             0.6666666666666666,
             "#ed7953"
            ],
            [
             0.7777777777777778,
             "#fb9f3a"
            ],
            [
             0.8888888888888888,
             "#fdca26"
            ],
            [
             1,
             "#f0f921"
            ]
           ],
           "sequentialminus": [
            [
             0,
             "#0d0887"
            ],
            [
             0.1111111111111111,
             "#46039f"
            ],
            [
             0.2222222222222222,
             "#7201a8"
            ],
            [
             0.3333333333333333,
             "#9c179e"
            ],
            [
             0.4444444444444444,
             "#bd3786"
            ],
            [
             0.5555555555555556,
             "#d8576b"
            ],
            [
             0.6666666666666666,
             "#ed7953"
            ],
            [
             0.7777777777777778,
             "#fb9f3a"
            ],
            [
             0.8888888888888888,
             "#fdca26"
            ],
            [
             1,
             "#f0f921"
            ]
           ]
          },
          "colorway": [
           "#636efa",
           "#EF553B",
           "#00cc96",
           "#ab63fa",
           "#FFA15A",
           "#19d3f3",
           "#FF6692",
           "#B6E880",
           "#FF97FF",
           "#FECB52"
          ],
          "font": {
           "color": "#2a3f5f"
          },
          "geo": {
           "bgcolor": "white",
           "lakecolor": "white",
           "landcolor": "#E5ECF6",
           "showlakes": true,
           "showland": true,
           "subunitcolor": "white"
          },
          "hoverlabel": {
           "align": "left"
          },
          "hovermode": "closest",
          "mapbox": {
           "style": "light"
          },
          "paper_bgcolor": "white",
          "plot_bgcolor": "#E5ECF6",
          "polar": {
           "angularaxis": {
            "gridcolor": "white",
            "linecolor": "white",
            "ticks": ""
           },
           "bgcolor": "#E5ECF6",
           "radialaxis": {
            "gridcolor": "white",
            "linecolor": "white",
            "ticks": ""
           }
          },
          "scene": {
           "xaxis": {
            "backgroundcolor": "#E5ECF6",
            "gridcolor": "white",
            "gridwidth": 2,
            "linecolor": "white",
            "showbackground": true,
            "ticks": "",
            "zerolinecolor": "white"
           },
           "yaxis": {
            "backgroundcolor": "#E5ECF6",
            "gridcolor": "white",
            "gridwidth": 2,
            "linecolor": "white",
            "showbackground": true,
            "ticks": "",
            "zerolinecolor": "white"
           },
           "zaxis": {
            "backgroundcolor": "#E5ECF6",
            "gridcolor": "white",
            "gridwidth": 2,
            "linecolor": "white",
            "showbackground": true,
            "ticks": "",
            "zerolinecolor": "white"
           }
          },
          "shapedefaults": {
           "line": {
            "color": "#2a3f5f"
           }
          },
          "ternary": {
           "aaxis": {
            "gridcolor": "white",
            "linecolor": "white",
            "ticks": ""
           },
           "baxis": {
            "gridcolor": "white",
            "linecolor": "white",
            "ticks": ""
           },
           "bgcolor": "#E5ECF6",
           "caxis": {
            "gridcolor": "white",
            "linecolor": "white",
            "ticks": ""
           }
          },
          "title": {
           "x": 0.05
          },
          "xaxis": {
           "automargin": true,
           "gridcolor": "white",
           "linecolor": "white",
           "ticks": "",
           "title": {
            "standoff": 15
           },
           "zerolinecolor": "white",
           "zerolinewidth": 2
          },
          "yaxis": {
           "automargin": true,
           "gridcolor": "white",
           "linecolor": "white",
           "ticks": "",
           "title": {
            "standoff": 15
           },
           "zerolinecolor": "white",
           "zerolinewidth": 2
          }
         }
        },
        "title": {
         "text": "Consumption by Age and gender"
        },
        "xaxis": {
         "anchor": "y",
         "autorange": true,
         "domain": [
          0,
          1
         ],
         "range": [
          -0.5,
          7.5
         ],
         "title": {
          "text": "Age Range"
         },
         "type": "category"
        },
        "yaxis": {
         "anchor": "x",
         "autorange": true,
         "domain": [
          0,
          1
         ],
         "range": [
          0,
          2055.7894736842104
         ],
         "title": {
          "text": "Count"
         },
         "type": "linear"
        }
       }
      },
      "image/png": "[encoded data removed]",
      "text/html": [
       "<div>                            <div id=\"ed28b642-b690-473c-9748-41be0ff73464\" class=\"plotly-graph-div\" style=\"height:525px; width:100%;\"></div>            <script type=\"text/javascript\">                require([\"plotly\"], function(Plotly) {                    window.PLOTLYENV=window.PLOTLYENV || {};                                    if (document.getElementById(\"ed28b642-b690-473c-9748-41be0ff73464\")) {                    Plotly.newPlot(                        \"ed28b642-b690-473c-9748-41be0ff73464\",                        [{\"alignmentgroup\":\"True\",\"hovertemplate\":\"Gender=Female<br>Age Range=%{x}<br>Count=%{y}<extra></extra>\",\"legendgroup\":\"Female\",\"marker\":{\"color\":\"#636efa\",\"pattern\":{\"shape\":\"\"}},\"name\":\"Female\",\"offsetgroup\":\"Female\",\"orientation\":\"v\",\"showlegend\":true,\"textposition\":\"auto\",\"type\":\"bar\",\"x\":[\"18-29\",\"30-39\",\"40-49\",\"50-59\",\"60-69\",\"70-79\",\"80-90\",\"90+\"],\"xaxis\":\"x\",\"y\":[478,522,898,1574,1327,771,423,136],\"yaxis\":\"y\"},{\"alignmentgroup\":\"True\",\"hovertemplate\":\"Gender=Male<br>Age Range=%{x}<br>Count=%{y}<extra></extra>\",\"legendgroup\":\"Male\",\"marker\":{\"color\":\"#EF553B\",\"pattern\":{\"shape\":\"\"}},\"name\":\"Male\",\"offsetgroup\":\"Male\",\"orientation\":\"v\",\"showlegend\":true,\"textposition\":\"auto\",\"type\":\"bar\",\"x\":[\"18-29\",\"30-39\",\"40-49\",\"50-59\",\"60-69\",\"70-79\",\"80-90\",\"90+\"],\"xaxis\":\"x\",\"y\":[1209,1049,1457,1953,1549,852,334,81],\"yaxis\":\"y\"},{\"alignmentgroup\":\"True\",\"hovertemplate\":\"Gender=Unknown<br>Age Range=%{x}<br>Count=%{y}<extra></extra>\",\"legendgroup\":\"Unknown\",\"marker\":{\"color\":\"#00cc96\",\"pattern\":{\"shape\":\"\"}},\"name\":\"Unknown\",\"offsetgroup\":\"Unknown\",\"orientation\":\"v\",\"showlegend\":true,\"textposition\":\"auto\",\"type\":\"bar\",\"x\":[\"18-29\",\"30-39\",\"40-49\",\"50-59\",\"60-69\",\"70-79\",\"80-90\",\"90+\"],\"xaxis\":\"x\",\"y\":[18,26,36,63,34,23,10,2],\"yaxis\":\"y\"}],                        {\"barmode\":\"group\",\"legend\":{\"title\":{\"text\":\"Gender\"},\"tracegroupgap\":0},\"template\":{\"data\":{\"bar\":[{\"error_x\":{\"color\":\"#2a3f5f\"},\"error_y\":{\"color\":\"#2a3f5f\"},\"marker\":{\"line\":{\"color\":\"#E5ECF6\",\"width\":0.5},\"pattern\":{\"fillmode\":\"overlay\",\"size\":10,\"solidity\":0.2}},\"type\":\"bar\"}],\"barpolar\":[{\"marker\":{\"line\":{\"color\":\"#E5ECF6\",\"width\":0.5},\"pattern\":{\"fillmode\":\"overlay\",\"size\":10,\"solidity\":0.2}},\"type\":\"barpolar\"}],\"carpet\":[{\"aaxis\":{\"endlinecolor\":\"#2a3f5f\",\"gridcolor\":\"white\",\"linecolor\":\"white\",\"minorgridcolor\":\"white\",\"startlinecolor\":\"#2a3f5f\"},\"baxis\":{\"endlinecolor\":\"#2a3f5f\",\"gridcolor\":\"white\",\"linecolor\":\"white\",\"minorgridcolor\":\"white\",\"startlinecolor\":\"#2a3f5f\"},\"type\":\"carpet\"}],\"choropleth\":[{\"colorbar\":{\"outlinewidth\":0,\"ticks\":\"\"},\"type\":\"choropleth\"}],\"contour\":[{\"colorbar\":{\"outlinewidth\":0,\"ticks\":\"\"},\"colorscale\":[[0.0,\"#0d0887\"],[0.1111111111111111,\"#46039f\"],[0.2222222222222222,\"#7201a8\"],[0.3333333333333333,\"#9c179e\"],[0.4444444444444444,\"#bd3786\"],[0.5555555555555556,\"#d8576b\"],[0.6666666666666666,\"#ed7953\"],[0.7777777777777778,\"#fb9f3a\"],[0.8888888888888888,\"#fdca26\"],[1.0,\"#f0f921\"]],\"type\":\"contour\"}],\"contourcarpet\":[{\"colorbar\":{\"outlinewidth\":0,\"ticks\":\"\"},\"type\":\"contourcarpet\"}],\"heatmap\":[{\"colorbar\":{\"outlinewidth\":0,\"ticks\":\"\"},\"colorscale\":[[0.0,\"#0d0887\"],[0.1111111111111111,\"#46039f\"],[0.2222222222222222,\"#7201a8\"],[0.3333333333333333,\"#9c179e\"],[0.4444444444444444,\"#bd3786\"],[0.5555555555555556,\"#d8576b\"],[0.6666666666666666,\"#ed7953\"],[0.7777777777777778,\"#fb9f3a\"],[0.8888888888888888,\"#fdca26\"],[1.0,\"#f0f921\"]],\"type\":\"heatmap\"}],\"heatmapgl\":[{\"colorbar\":{\"outlinewidth\":0,\"ticks\":\"\"},\"colorscale\":[[0.0,\"#0d0887\"],[0.1111111111111111,\"#46039f\"],[0.2222222222222222,\"#7201a8\"],[0.3333333333333333,\"#9c179e\"],[0.4444444444444444,\"#bd3786\"],[0.5555555555555556,\"#d8576b\"],[0.6666666666666666,\"#ed7953\"],[0.7777777777777778,\"#fb9f3a\"],[0.8888888888888888,\"#fdca26\"],[1.0,\"#f0f921\"]],\"type\":\"heatmapgl\"}],\"histogram\":[{\"marker\":{\"pattern\":{\"fillmode\":\"overlay\",\"size\":10,\"solidity\":0.2}},\"type\":\"histogram\"}],\"histogram2d\":[{\"colorbar\":{\"outlinewidth\":0,\"ticks\":\"\"},\"colorscale\":[[0.0,\"#0d0887\"],[0.1111111111111111,\"#46039f\"],[0.2222222222222222,\"#7201a8\"],[0.3333333333333333,\"#9c179e\"],[0.4444444444444444,\"#bd3786\"],[0.5555555555555556,\"#d8576b\"],[0.6666666666666666,\"#ed7953\"],[0.7777777777777778,\"#fb9f3a\"],[0.8888888888888888,\"#fdca26\"],[1.0,\"#f0f921\"]],\"type\":\"histogram2d\"}],\"histogram2dcontour\":[{\"colorbar\":{\"outlinewidth\":0,\"ticks\":\"\"},\"colorscale\":[[0.0,\"#0d0887\"],[0.1111111111111111,\"#46039f\"],[0.2222222222222222,\"#7201a8\"],[0.3333333333333333,\"#9c179e\"],[0.4444444444444444,\"#bd3786\"],[0.5555555555555556,\"#d8576b\"],[0.6666666666666666,\"#ed7953\"],[0.7777777777777778,\"#fb9f3a\"],[0.8888888888888888,\"#fdca26\"],[1.0,\"#f0f921\"]],\"type\":\"histogram2dcontour\"}],\"mesh3d\":[{\"colorbar\":{\"outlinewidth\":0,\"ticks\":\"\"},\"type\":\"mesh3d\"}],\"parcoords\":[{\"line\":{\"colorbar\":{\"outlinewidth\":0,\"ticks\":\"\"}},\"type\":\"parcoords\"}],\"pie\":[{\"automargin\":true,\"type\":\"pie\"}],\"scatter\":[{\"marker\":{\"colorbar\":{\"outlinewidth\":0,\"ticks\":\"\"}},\"type\":\"scatter\"}],\"scatter3d\":[{\"line\":{\"colorbar\":{\"outlinewidth\":0,\"ticks\":\"\"}},\"marker\":{\"colorbar\":{\"outlinewidth\":0,\"ticks\":\"\"}},\"type\":\"scatter3d\"}],\"scattercarpet\":[{\"marker\":{\"colorbar\":{\"outlinewidth\":0,\"ticks\":\"\"}},\"type\":\"scattercarpet\"}],\"scattergeo\":[{\"marker\":{\"colorbar\":{\"outlinewidth\":0,\"ticks\":\"\"}},\"type\":\"scattergeo\"}],\"scattergl\":[{\"marker\":{\"colorbar\":{\"outlinewidth\":0,\"ticks\":\"\"}},\"type\":\"scattergl\"}],\"scattermapbox\":[{\"marker\":{\"colorbar\":{\"outlinewidth\":0,\"ticks\":\"\"}},\"type\":\"scattermapbox\"}],\"scatterpolar\":[{\"marker\":{\"colorbar\":{\"outlinewidth\":0,\"ticks\":\"\"}},\"type\":\"scatterpolar\"}],\"scatterpolargl\":[{\"marker\":{\"colorbar\":{\"outlinewidth\":0,\"ticks\":\"\"}},\"type\":\"scatterpolargl\"}],\"scatterternary\":[{\"marker\":{\"colorbar\":{\"outlinewidth\":0,\"ticks\":\"\"}},\"type\":\"scatterternary\"}],\"surface\":[{\"colorbar\":{\"outlinewidth\":0,\"ticks\":\"\"},\"colorscale\":[[0.0,\"#0d0887\"],[0.1111111111111111,\"#46039f\"],[0.2222222222222222,\"#7201a8\"],[0.3333333333333333,\"#9c179e\"],[0.4444444444444444,\"#bd3786\"],[0.5555555555555556,\"#d8576b\"],[0.6666666666666666,\"#ed7953\"],[0.7777777777777778,\"#fb9f3a\"],[0.8888888888888888,\"#fdca26\"],[1.0,\"#f0f921\"]],\"type\":\"surface\"}],\"table\":[{\"cells\":{\"fill\":{\"color\":\"#EBF0F8\"},\"line\":{\"color\":\"white\"}},\"header\":{\"fill\":{\"color\":\"#C8D4E3\"},\"line\":{\"color\":\"white\"}},\"type\":\"table\"}]},\"layout\":{\"annotationdefaults\":{\"arrowcolor\":\"#2a3f5f\",\"arrowhead\":0,\"arrowwidth\":1},\"autotypenumbers\":\"strict\",\"coloraxis\":{\"colorbar\":{\"outlinewidth\":0,\"ticks\":\"\"}},\"colorscale\":{\"diverging\":[[0,\"#8e0152\"],[0.1,\"#c51b7d\"],[0.2,\"#de77ae\"],[0.3,\"#f1b6da\"],[0.4,\"#fde0ef\"],[0.5,\"#f7f7f7\"],[0.6,\"#e6f5d0\"],[0.7,\"#b8e186\"],[0.8,\"#7fbc41\"],[0.9,\"#4d9221\"],[1,\"#276419\"]],\"sequential\":[[0.0,\"#0d0887\"],[0.1111111111111111,\"#46039f\"],[0.2222222222222222,\"#7201a8\"],[0.3333333333333333,\"#9c179e\"],[0.4444444444444444,\"#bd3786\"],[0.5555555555555556,\"#d8576b\"],[0.6666666666666666,\"#ed7953\"],[0.7777777777777778,\"#fb9f3a\"],[0.8888888888888888,\"#fdca26\"],[1.0,\"#f0f921\"]],\"sequentialminus\":[[0.0,\"#0d0887\"],[0.1111111111111111,\"#46039f\"],[0.2222222222222222,\"#7201a8\"],[0.3333333333333333,\"#9c179e\"],[0.4444444444444444,\"#bd3786\"],[0.5555555555555556,\"#d8576b\"],[0.6666666666666666,\"#ed7953\"],[0.7777777777777778,\"#fb9f3a\"],[0.8888888888888888,\"#fdca26\"],[1.0,\"#f0f921\"]]},\"colorway\":[\"#636efa\",\"#EF553B\",\"#00cc96\",\"#ab63fa\",\"#FFA15A\",\"#19d3f3\",\"#FF6692\",\"#B6E880\",\"#FF97FF\",\"#FECB52\"],\"font\":{\"color\":\"#2a3f5f\"},\"geo\":{\"bgcolor\":\"white\",\"lakecolor\":\"white\",\"landcolor\":\"#E5ECF6\",\"showlakes\":true,\"showland\":true,\"subunitcolor\":\"white\"},\"hoverlabel\":{\"align\":\"left\"},\"hovermode\":\"closest\",\"mapbox\":{\"style\":\"light\"},\"paper_bgcolor\":\"white\",\"plot_bgcolor\":\"#E5ECF6\",\"polar\":{\"angularaxis\":{\"gridcolor\":\"white\",\"linecolor\":\"white\",\"ticks\":\"\"},\"bgcolor\":\"#E5ECF6\",\"radialaxis\":{\"gridcolor\":\"white\",\"linecolor\":\"white\",\"ticks\":\"\"}},\"scene\":{\"xaxis\":{\"backgroundcolor\":\"#E5ECF6\",\"gridcolor\":\"white\",\"gridwidth\":2,\"linecolor\":\"white\",\"showbackground\":true,\"ticks\":\"\",\"zerolinecolor\":\"white\"},\"yaxis\":{\"backgroundcolor\":\"#E5ECF6\",\"gridcolor\":\"white\",\"gridwidth\":2,\"linecolor\":\"white\",\"showbackground\":true,\"ticks\":\"\",\"zerolinecolor\":\"white\"},\"zaxis\":{\"backgroundcolor\":\"#E5ECF6\",\"gridcolor\":\"white\",\"gridwidth\":2,\"linecolor\":\"white\",\"showbackground\":true,\"ticks\":\"\",\"zerolinecolor\":\"white\"}},\"shapedefaults\":{\"line\":{\"color\":\"#2a3f5f\"}},\"ternary\":{\"aaxis\":{\"gridcolor\":\"white\",\"linecolor\":\"white\",\"ticks\":\"\"},\"baxis\":{\"gridcolor\":\"white\",\"linecolor\":\"white\",\"ticks\":\"\"},\"bgcolor\":\"#E5ECF6\",\"caxis\":{\"gridcolor\":\"white\",\"linecolor\":\"white\",\"ticks\":\"\"}},\"title\":{\"x\":0.05},\"xaxis\":{\"automargin\":true,\"gridcolor\":\"white\",\"linecolor\":\"white\",\"ticks\":\"\",\"title\":{\"standoff\":15},\"zerolinecolor\":\"white\",\"zerolinewidth\":2},\"yaxis\":{\"automargin\":true,\"gridcolor\":\"white\",\"linecolor\":\"white\",\"ticks\":\"\",\"title\":{\"standoff\":15},\"zerolinecolor\":\"white\",\"zerolinewidth\":2}}},\"title\":{\"text\":\"Consumption by Age and gender\"},\"xaxis\":{\"anchor\":\"y\",\"domain\":[0.0,1.0],\"title\":{\"text\":\"Age Range\"}},\"yaxis\":{\"anchor\":\"x\",\"domain\":[0.0,1.0],\"title\":{\"text\":\"Count\"}}},                        {\"responsive\": true}                    ).then(function(){\n",
       "                            \n",
       "var gd = document.getElementById('ed28b642-b690-473c-9748-41be0ff73464');\n",
       "var x = new MutationObserver(function (mutations, observer) {{\n",
       "        var display = window.getComputedStyle(gd).display;\n",
       "        if (!display || display === 'none') {{\n",
       "            console.log([gd, 'removed!']);\n",
       "            Plotly.purge(gd);\n",
       "            observer.disconnect();\n",
       "        }}\n",
       "}});\n",
       "\n",
       "// Listen for the removal of the full notebook cells\n",
       "var notebookContainer = gd.closest('#notebook-container');\n",
       "if (notebookContainer) {{\n",
       "    x.observe(notebookContainer, {childList: true});\n",
       "}}\n",
       "\n",
       "// Listen for the clearing of the current output cell\n",
       "var outputEl = gd.closest('.output');\n",
       "if (outputEl) {{\n",
       "    x.observe(outputEl, {childList: true});\n",
       "}}\n",
       "\n",
       "                        })                };                });            </script>        </div>"
      ]
     },
     "metadata": {},
     "output_type": "display_data"
    }
   ],
   "source": [
    "#How old are most of Starbucks customers with respect to gender?\n",
    "#As you can notice that at age below 80, more cosumption of starbucks is done by Male but \n",
    "#after age 80 on average, female are consuming more. Majority of consumption is done by 40-70 years old.\n",
    "coustmer ate older than male .\n",
    "fig = px.bar(grp, x=\"age_range\", y=\"count\",title=\"Consumption by Age and gender\",\n",
    "             color='sex', barmode='group', labels={\"sex\":\"Gender\", \"count\":\"Count\",\"age_range\":\"Age Range\"})\n",
    "fig.show()\n",
    "fig.write_html(\"barAgeSex.html\") "
   ]
  },
  {
   "cell_type": "code",
   "execution_count": 24,
   "id": "be00eded-ac01-440f-b725-358fe79579ab",
   "metadata": {},
   "outputs": [
    {
     "data": {
      "text/html": [
       "<div>\n",
       "<style scoped>\n",
       "    .dataframe tbody tr th:only-of-type {\n",
       "        vertical-align: middle;\n",
       "    }\n",
       "\n",
       "    .dataframe tbody tr th {\n",
       "        vertical-align: top;\n",
       "    }\n",
       "\n",
       "    .dataframe thead th {\n",
       "        text-align: right;\n",
       "    }\n",
       "</style>\n",
       "<table border=\"1\" class=\"dataframe\">\n",
       "  <thead>\n",
       "    <tr style=\"text-align: right;\">\n",
       "      <th></th>\n",
       "      <th>gender</th>\n",
       "      <th>age</th>\n",
       "      <th>income</th>\n",
       "      <th>sex</th>\n",
       "      <th>age_range</th>\n",
       "      <th>income_range</th>\n",
       "    </tr>\n",
       "  </thead>\n",
       "  <tbody>\n",
       "    <tr>\n",
       "      <th>1</th>\n",
       "      <td>F</td>\n",
       "      <td>55</td>\n",
       "      <td>112000.0</td>\n",
       "      <td>Female</td>\n",
       "      <td>50-59</td>\n",
       "      <td>120000+</td>\n",
       "    </tr>\n",
       "    <tr>\n",
       "      <th>3</th>\n",
       "      <td>F</td>\n",
       "      <td>75</td>\n",
       "      <td>100000.0</td>\n",
       "      <td>Female</td>\n",
       "      <td>70-79</td>\n",
       "      <td>90000-104999</td>\n",
       "    </tr>\n",
       "    <tr>\n",
       "      <th>5</th>\n",
       "      <td>M</td>\n",
       "      <td>68</td>\n",
       "      <td>70000.0</td>\n",
       "      <td>Male</td>\n",
       "      <td>60-69</td>\n",
       "      <td>60000-74999</td>\n",
       "    </tr>\n",
       "    <tr>\n",
       "      <th>8</th>\n",
       "      <td>M</td>\n",
       "      <td>65</td>\n",
       "      <td>53000.0</td>\n",
       "      <td>Male</td>\n",
       "      <td>60-69</td>\n",
       "      <td>45000-59999</td>\n",
       "    </tr>\n",
       "    <tr>\n",
       "      <th>12</th>\n",
       "      <td>M</td>\n",
       "      <td>58</td>\n",
       "      <td>51000.0</td>\n",
       "      <td>Male</td>\n",
       "      <td>50-59</td>\n",
       "      <td>45000-59999</td>\n",
       "    </tr>\n",
       "  </tbody>\n",
       "</table>\n",
       "</div>"
      ],
      "text/plain": [
       "   gender  age    income     sex age_range  income_range\n",
       "1       F   55  112000.0  Female     50-59       120000+\n",
       "3       F   75  100000.0  Female     70-79  90000-104999\n",
       "5       M   68   70000.0    Male     60-69   60000-74999\n",
       "8       M   65   53000.0    Male     60-69   45000-59999\n",
       "12      M   58   51000.0    Male     50-59   45000-59999"
      ]
     },
     "execution_count": 24,
     "metadata": {},
     "output_type": "execute_result"
    }
   ],
   "source": [
    "result.head()"
   ]
  },
  {
   "cell_type": "code",
   "execution_count": 58,
   "id": "fcdbe6fd-1153-4dac-bf59-a1f208a9b511",
   "metadata": {},
   "outputs": [
    {
     "data": {
      "application/vnd.plotly.v1+json": {
       "config": {
        "plotlyServerURL": "https://plot.ly"
       },
       "data": [
        {
         "alignmentgroup": "True",
         "hovertemplate": "Gender=Female<br>Income Range=%{x}<br>Count=%{y}<extra></extra>",
         "legendgroup": "Female",
         "marker": {
          "color": "#636efa",
          "pattern": {
           "shape": ""
          }
         },
         "name": "Female",
         "offsetgroup": "Female",
         "orientation": "v",
         "showlegend": true,
         "textposition": "auto",
         "type": "bar",
         "x": [
          "30000-44999",
          "45000-59999",
          "60000-74999",
          "75000-89999",
          "90000-104999",
          "120000+"
         ],
         "xaxis": "x",
         "y": [
          881,
          1242,
          1500,
          1178,
          828,
          500
         ],
         "yaxis": "y"
        },
        {
         "alignmentgroup": "True",
         "hovertemplate": "Gender=Male<br>Income Range=%{x}<br>Count=%{y}<extra></extra>",
         "legendgroup": "Male",
         "marker": {
          "color": "#EF553B",
          "pattern": {
           "shape": ""
          }
         },
         "name": "Male",
         "offsetgroup": "Male",
         "orientation": "v",
         "showlegend": true,
         "textposition": "auto",
         "type": "bar",
         "x": [
          "30000-44999",
          "45000-59999",
          "60000-74999",
          "75000-89999",
          "90000-104999",
          "120000+"
         ],
         "xaxis": "x",
         "y": [
          2143,
          2324,
          2232,
          936,
          611,
          238
         ],
         "yaxis": "y"
        },
        {
         "alignmentgroup": "True",
         "hovertemplate": "Gender=Unknown<br>Income Range=%{x}<br>Count=%{y}<extra></extra>",
         "legendgroup": "Unknown",
         "marker": {
          "color": "#00cc96",
          "pattern": {
           "shape": ""
          }
         },
         "name": "Unknown",
         "offsetgroup": "Unknown",
         "orientation": "v",
         "showlegend": true,
         "textposition": "auto",
         "type": "bar",
         "x": [
          "30000-44999",
          "45000-59999",
          "60000-74999",
          "75000-89999",
          "90000-104999",
          "120000+"
         ],
         "xaxis": "x",
         "y": [
          41,
          62,
          45,
          47,
          17,
          0
         ],
         "yaxis": "y"
        }
       ],
       "layout": {
        "autosize": true,
        "barmode": "group",
        "legend": {
         "title": {
          "text": "Gender"
         },
         "tracegroupgap": 0
        },
        "template": {
         "data": {
          "bar": [
           {
            "error_x": {
             "color": "#2a3f5f"
            },
            "error_y": {
             "color": "#2a3f5f"
            },
            "marker": {
             "line": {
              "color": "#E5ECF6",
              "width": 0.5
             },
             "pattern": {
              "fillmode": "overlay",
              "size": 10,
              "solidity": 0.2
             }
            },
            "type": "bar"
           }
          ],
          "barpolar": [
           {
            "marker": {
             "line": {
              "color": "#E5ECF6",
              "width": 0.5
             },
             "pattern": {
              "fillmode": "overlay",
              "size": 10,
              "solidity": 0.2
             }
            },
            "type": "barpolar"
           }
          ],
          "carpet": [
           {
            "aaxis": {
             "endlinecolor": "#2a3f5f",
             "gridcolor": "white",
             "linecolor": "white",
             "minorgridcolor": "white",
             "startlinecolor": "#2a3f5f"
            },
            "baxis": {
             "endlinecolor": "#2a3f5f",
             "gridcolor": "white",
             "linecolor": "white",
             "minorgridcolor": "white",
             "startlinecolor": "#2a3f5f"
            },
            "type": "carpet"
           }
          ],
          "choropleth": [
           {
            "colorbar": {
             "outlinewidth": 0,
             "ticks": ""
            },
            "type": "choropleth"
           }
          ],
          "contour": [
           {
            "colorbar": {
             "outlinewidth": 0,
             "ticks": ""
            },
            "colorscale": [
             [
              0,
              "#0d0887"
             ],
             [
              0.1111111111111111,
              "#46039f"
             ],
             [
              0.2222222222222222,
              "#7201a8"
             ],
             [
              0.3333333333333333,
              "#9c179e"
             ],
             [
              0.4444444444444444,
              "#bd3786"
             ],
             [
              0.5555555555555556,
              "#d8576b"
             ],
             [
              0.6666666666666666,
              "#ed7953"
             ],
             [
              0.7777777777777778,
              "#fb9f3a"
             ],
             [
              0.8888888888888888,
              "#fdca26"
             ],
             [
              1,
              "#f0f921"
             ]
            ],
            "type": "contour"
           }
          ],
          "contourcarpet": [
           {
            "colorbar": {
             "outlinewidth": 0,
             "ticks": ""
            },
            "type": "contourcarpet"
           }
          ],
          "heatmap": [
           {
            "colorbar": {
             "outlinewidth": 0,
             "ticks": ""
            },
            "colorscale": [
             [
              0,
              "#0d0887"
             ],
             [
              0.1111111111111111,
              "#46039f"
             ],
             [
              0.2222222222222222,
              "#7201a8"
             ],
             [
              0.3333333333333333,
              "#9c179e"
             ],
             [
              0.4444444444444444,
              "#bd3786"
             ],
             [
              0.5555555555555556,
              "#d8576b"
             ],
             [
              0.6666666666666666,
              "#ed7953"
             ],
             [
              0.7777777777777778,
              "#fb9f3a"
             ],
             [
              0.8888888888888888,
              "#fdca26"
             ],
             [
              1,
              "#f0f921"
             ]
            ],
            "type": "heatmap"
           }
          ],
          "heatmapgl": [
           {
            "colorbar": {
             "outlinewidth": 0,
             "ticks": ""
            },
            "colorscale": [
             [
              0,
              "#0d0887"
             ],
             [
              0.1111111111111111,
              "#46039f"
             ],
             [
              0.2222222222222222,
              "#7201a8"
             ],
             [
              0.3333333333333333,
              "#9c179e"
             ],
             [
              0.4444444444444444,
              "#bd3786"
             ],
             [
              0.5555555555555556,
              "#d8576b"
             ],
             [
              0.6666666666666666,
              "#ed7953"
             ],
             [
              0.7777777777777778,
              "#fb9f3a"
             ],
             [
              0.8888888888888888,
              "#fdca26"
             ],
             [
              1,
              "#f0f921"
             ]
            ],
            "type": "heatmapgl"
           }
          ],
          "histogram": [
           {
            "marker": {
             "pattern": {
              "fillmode": "overlay",
              "size": 10,
              "solidity": 0.2
             }
            },
            "type": "histogram"
           }
          ],
          "histogram2d": [
           {
            "colorbar": {
             "outlinewidth": 0,
             "ticks": ""
            },
            "colorscale": [
             [
              0,
              "#0d0887"
             ],
             [
              0.1111111111111111,
              "#46039f"
             ],
             [
              0.2222222222222222,
              "#7201a8"
             ],
             [
              0.3333333333333333,
              "#9c179e"
             ],
             [
              0.4444444444444444,
              "#bd3786"
             ],
             [
              0.5555555555555556,
              "#d8576b"
             ],
             [
              0.6666666666666666,
              "#ed7953"
             ],
             [
              0.7777777777777778,
              "#fb9f3a"
             ],
             [
              0.8888888888888888,
              "#fdca26"
             ],
             [
              1,
              "#f0f921"
             ]
            ],
            "type": "histogram2d"
           }
          ],
          "histogram2dcontour": [
           {
            "colorbar": {
             "outlinewidth": 0,
             "ticks": ""
            },
            "colorscale": [
             [
              0,
              "#0d0887"
             ],
             [
              0.1111111111111111,
              "#46039f"
             ],
             [
              0.2222222222222222,
              "#7201a8"
             ],
             [
              0.3333333333333333,
              "#9c179e"
             ],
             [
              0.4444444444444444,
              "#bd3786"
             ],
             [
              0.5555555555555556,
              "#d8576b"
             ],
             [
              0.6666666666666666,
              "#ed7953"
             ],
             [
              0.7777777777777778,
              "#fb9f3a"
             ],
             [
              0.8888888888888888,
              "#fdca26"
             ],
             [
              1,
              "#f0f921"
             ]
            ],
            "type": "histogram2dcontour"
           }
          ],
          "mesh3d": [
           {
            "colorbar": {
             "outlinewidth": 0,
             "ticks": ""
            },
            "type": "mesh3d"
           }
          ],
          "parcoords": [
           {
            "line": {
             "colorbar": {
              "outlinewidth": 0,
              "ticks": ""
             }
            },
            "type": "parcoords"
           }
          ],
          "pie": [
           {
            "automargin": true,
            "type": "pie"
           }
          ],
          "scatter": [
           {
            "marker": {
             "colorbar": {
              "outlinewidth": 0,
              "ticks": ""
             }
            },
            "type": "scatter"
           }
          ],
          "scatter3d": [
           {
            "line": {
             "colorbar": {
              "outlinewidth": 0,
              "ticks": ""
             }
            },
            "marker": {
             "colorbar": {
              "outlinewidth": 0,
              "ticks": ""
             }
            },
            "type": "scatter3d"
           }
          ],
          "scattercarpet": [
           {
            "marker": {
             "colorbar": {
              "outlinewidth": 0,
              "ticks": ""
             }
            },
            "type": "scattercarpet"
           }
          ],
          "scattergeo": [
           {
            "marker": {
             "colorbar": {
              "outlinewidth": 0,
              "ticks": ""
             }
            },
            "type": "scattergeo"
           }
          ],
          "scattergl": [
           {
            "marker": {
             "colorbar": {
              "outlinewidth": 0,
              "ticks": ""
             }
            },
            "type": "scattergl"
           }
          ],
          "scattermapbox": [
           {
            "marker": {
             "colorbar": {
              "outlinewidth": 0,
              "ticks": ""
             }
            },
            "type": "scattermapbox"
           }
          ],
          "scatterpolar": [
           {
            "marker": {
             "colorbar": {
              "outlinewidth": 0,
              "ticks": ""
             }
            },
            "type": "scatterpolar"
           }
          ],
          "scatterpolargl": [
           {
            "marker": {
             "colorbar": {
              "outlinewidth": 0,
              "ticks": ""
             }
            },
            "type": "scatterpolargl"
           }
          ],
          "scatterternary": [
           {
            "marker": {
             "colorbar": {
              "outlinewidth": 0,
              "ticks": ""
             }
            },
            "type": "scatterternary"
           }
          ],
          "surface": [
           {
            "colorbar": {
             "outlinewidth": 0,
             "ticks": ""
            },
            "colorscale": [
             [
              0,
              "#0d0887"
             ],
             [
              0.1111111111111111,
              "#46039f"
             ],
             [
              0.2222222222222222,
              "#7201a8"
             ],
             [
              0.3333333333333333,
              "#9c179e"
             ],
             [
              0.4444444444444444,
              "#bd3786"
             ],
             [
              0.5555555555555556,
              "#d8576b"
             ],
             [
              0.6666666666666666,
              "#ed7953"
             ],
             [
              0.7777777777777778,
              "#fb9f3a"
             ],
             [
              0.8888888888888888,
              "#fdca26"
             ],
             [
              1,
              "#f0f921"
             ]
            ],
            "type": "surface"
           }
          ],
          "table": [
           {
            "cells": {
             "fill": {
              "color": "#EBF0F8"
             },
             "line": {
              "color": "white"
             }
            },
            "header": {
             "fill": {
              "color": "#C8D4E3"
             },
             "line": {
              "color": "white"
             }
            },
            "type": "table"
           }
          ]
         },
         "layout": {
          "annotationdefaults": {
           "arrowcolor": "#2a3f5f",
           "arrowhead": 0,
           "arrowwidth": 1
          },
          "autotypenumbers": "strict",
          "coloraxis": {
           "colorbar": {
            "outlinewidth": 0,
            "ticks": ""
           }
          },
          "colorscale": {
           "diverging": [
            [
             0,
             "#8e0152"
            ],
            [
             0.1,
             "#c51b7d"
            ],
            [
             0.2,
             "#de77ae"
            ],
            [
             0.3,
             "#f1b6da"
            ],
            [
             0.4,
             "#fde0ef"
            ],
            [
             0.5,
             "#f7f7f7"
            ],
            [
             0.6,
             "#e6f5d0"
            ],
            [
             0.7,
             "#b8e186"
            ],
            [
             0.8,
             "#7fbc41"
            ],
            [
             0.9,
             "#4d9221"
            ],
            [
             1,
             "#276419"
            ]
           ],
           "sequential": [
            [
             0,
             "#0d0887"
            ],
            [
             0.1111111111111111,
             "#46039f"
            ],
            [
             0.2222222222222222,
             "#7201a8"
            ],
            [
             0.3333333333333333,
             "#9c179e"
            ],
            [
             0.4444444444444444,
             "#bd3786"
            ],
            [
             0.5555555555555556,
             "#d8576b"
            ],
            [
             0.6666666666666666,
             "#ed7953"
            ],
            [
             0.7777777777777778,
             "#fb9f3a"
            ],
            [
             0.8888888888888888,
             "#fdca26"
            ],
            [
             1,
             "#f0f921"
            ]
           ],
           "sequentialminus": [
            [
             0,
             "#0d0887"
            ],
            [
             0.1111111111111111,
             "#46039f"
            ],
            [
             0.2222222222222222,
             "#7201a8"
            ],
            [
             0.3333333333333333,
             "#9c179e"
            ],
            [
             0.4444444444444444,
             "#bd3786"
            ],
            [
             0.5555555555555556,
             "#d8576b"
            ],
            [
             0.6666666666666666,
             "#ed7953"
            ],
            [
             0.7777777777777778,
             "#fb9f3a"
            ],
            [
             0.8888888888888888,
             "#fdca26"
            ],
            [
             1,
             "#f0f921"
            ]
           ]
          },
          "colorway": [
           "#636efa",
           "#EF553B",
           "#00cc96",
           "#ab63fa",
           "#FFA15A",
           "#19d3f3",
           "#FF6692",
           "#B6E880",
           "#FF97FF",
           "#FECB52"
          ],
          "font": {
           "color": "#2a3f5f"
          },
          "geo": {
           "bgcolor": "white",
           "lakecolor": "white",
           "landcolor": "#E5ECF6",
           "showlakes": true,
           "showland": true,
           "subunitcolor": "white"
          },
          "hoverlabel": {
           "align": "left"
          },
          "hovermode": "closest",
          "mapbox": {
           "style": "light"
          },
          "paper_bgcolor": "white",
          "plot_bgcolor": "#E5ECF6",
          "polar": {
           "angularaxis": {
            "gridcolor": "white",
            "linecolor": "white",
            "ticks": ""
           },
           "bgcolor": "#E5ECF6",
           "radialaxis": {
            "gridcolor": "white",
            "linecolor": "white",
            "ticks": ""
           }
          },
          "scene": {
           "xaxis": {
            "backgroundcolor": "#E5ECF6",
            "gridcolor": "white",
            "gridwidth": 2,
            "linecolor": "white",
            "showbackground": true,
            "ticks": "",
            "zerolinecolor": "white"
           },
           "yaxis": {
            "backgroundcolor": "#E5ECF6",
            "gridcolor": "white",
            "gridwidth": 2,
            "linecolor": "white",
            "showbackground": true,
            "ticks": "",
            "zerolinecolor": "white"
           },
           "zaxis": {
            "backgroundcolor": "#E5ECF6",
            "gridcolor": "white",
            "gridwidth": 2,
            "linecolor": "white",
            "showbackground": true,
            "ticks": "",
            "zerolinecolor": "white"
           }
          },
          "shapedefaults": {
           "line": {
            "color": "#2a3f5f"
           }
          },
          "ternary": {
           "aaxis": {
            "gridcolor": "white",
            "linecolor": "white",
            "ticks": ""
           },
           "baxis": {
            "gridcolor": "white",
            "linecolor": "white",
            "ticks": ""
           },
           "bgcolor": "#E5ECF6",
           "caxis": {
            "gridcolor": "white",
            "linecolor": "white",
            "ticks": ""
           }
          },
          "title": {
           "x": 0.05
          },
          "xaxis": {
           "automargin": true,
           "gridcolor": "white",
           "linecolor": "white",
           "ticks": "",
           "title": {
            "standoff": 15
           },
           "zerolinecolor": "white",
           "zerolinewidth": 2
          },
          "yaxis": {
           "automargin": true,
           "gridcolor": "white",
           "linecolor": "white",
           "ticks": "",
           "title": {
            "standoff": 15
           },
           "zerolinecolor": "white",
           "zerolinewidth": 2
          }
         }
        },
        "title": {
         "text": "Customer income on basis of gender"
        },
        "xaxis": {
         "anchor": "y",
         "autorange": true,
         "domain": [
          0,
          1
         ],
         "range": [
          -0.5,
          5.5
         ],
         "title": {
          "text": "Income Range"
         },
         "type": "category"
        },
        "yaxis": {
         "anchor": "x",
         "autorange": true,
         "domain": [
          0,
          1
         ],
         "range": [
          0,
          2446.315789473684
         ],
         "title": {
          "text": "Count"
         },
         "type": "linear"
        }
       }
      },
      "image/png": "[encoded data removed]",
      "text/html": [
       "<div>                            <div id=\"10250e53-8ee9-4f0d-b305-5f36ee75a5c3\" class=\"plotly-graph-div\" style=\"height:525px; width:100%;\"></div>            <script type=\"text/javascript\">                require([\"plotly\"], function(Plotly) {                    window.PLOTLYENV=window.PLOTLYENV || {};                                    if (document.getElementById(\"10250e53-8ee9-4f0d-b305-5f36ee75a5c3\")) {                    Plotly.newPlot(                        \"10250e53-8ee9-4f0d-b305-5f36ee75a5c3\",                        [{\"alignmentgroup\":\"True\",\"hovertemplate\":\"Gender=Female<br>Income Range=%{x}<br>Count=%{y}<extra></extra>\",\"legendgroup\":\"Female\",\"marker\":{\"color\":\"#636efa\",\"pattern\":{\"shape\":\"\"}},\"name\":\"Female\",\"offsetgroup\":\"Female\",\"orientation\":\"v\",\"showlegend\":true,\"textposition\":\"auto\",\"type\":\"bar\",\"x\":[\"30000-44999\",\"45000-59999\",\"60000-74999\",\"75000-89999\",\"90000-104999\",\"120000+\"],\"xaxis\":\"x\",\"y\":[881,1242,1500,1178,828,500],\"yaxis\":\"y\"},{\"alignmentgroup\":\"True\",\"hovertemplate\":\"Gender=Male<br>Income Range=%{x}<br>Count=%{y}<extra></extra>\",\"legendgroup\":\"Male\",\"marker\":{\"color\":\"#EF553B\",\"pattern\":{\"shape\":\"\"}},\"name\":\"Male\",\"offsetgroup\":\"Male\",\"orientation\":\"v\",\"showlegend\":true,\"textposition\":\"auto\",\"type\":\"bar\",\"x\":[\"30000-44999\",\"45000-59999\",\"60000-74999\",\"75000-89999\",\"90000-104999\",\"120000+\"],\"xaxis\":\"x\",\"y\":[2143,2324,2232,936,611,238],\"yaxis\":\"y\"},{\"alignmentgroup\":\"True\",\"hovertemplate\":\"Gender=Unknown<br>Income Range=%{x}<br>Count=%{y}<extra></extra>\",\"legendgroup\":\"Unknown\",\"marker\":{\"color\":\"#00cc96\",\"pattern\":{\"shape\":\"\"}},\"name\":\"Unknown\",\"offsetgroup\":\"Unknown\",\"orientation\":\"v\",\"showlegend\":true,\"textposition\":\"auto\",\"type\":\"bar\",\"x\":[\"30000-44999\",\"45000-59999\",\"60000-74999\",\"75000-89999\",\"90000-104999\",\"120000+\"],\"xaxis\":\"x\",\"y\":[41,62,45,47,17,0],\"yaxis\":\"y\"}],                        {\"barmode\":\"group\",\"legend\":{\"title\":{\"text\":\"Gender\"},\"tracegroupgap\":0},\"template\":{\"data\":{\"bar\":[{\"error_x\":{\"color\":\"#2a3f5f\"},\"error_y\":{\"color\":\"#2a3f5f\"},\"marker\":{\"line\":{\"color\":\"#E5ECF6\",\"width\":0.5},\"pattern\":{\"fillmode\":\"overlay\",\"size\":10,\"solidity\":0.2}},\"type\":\"bar\"}],\"barpolar\":[{\"marker\":{\"line\":{\"color\":\"#E5ECF6\",\"width\":0.5},\"pattern\":{\"fillmode\":\"overlay\",\"size\":10,\"solidity\":0.2}},\"type\":\"barpolar\"}],\"carpet\":[{\"aaxis\":{\"endlinecolor\":\"#2a3f5f\",\"gridcolor\":\"white\",\"linecolor\":\"white\",\"minorgridcolor\":\"white\",\"startlinecolor\":\"#2a3f5f\"},\"baxis\":{\"endlinecolor\":\"#2a3f5f\",\"gridcolor\":\"white\",\"linecolor\":\"white\",\"minorgridcolor\":\"white\",\"startlinecolor\":\"#2a3f5f\"},\"type\":\"carpet\"}],\"choropleth\":[{\"colorbar\":{\"outlinewidth\":0,\"ticks\":\"\"},\"type\":\"choropleth\"}],\"contour\":[{\"colorbar\":{\"outlinewidth\":0,\"ticks\":\"\"},\"colorscale\":[[0.0,\"#0d0887\"],[0.1111111111111111,\"#46039f\"],[0.2222222222222222,\"#7201a8\"],[0.3333333333333333,\"#9c179e\"],[0.4444444444444444,\"#bd3786\"],[0.5555555555555556,\"#d8576b\"],[0.6666666666666666,\"#ed7953\"],[0.7777777777777778,\"#fb9f3a\"],[0.8888888888888888,\"#fdca26\"],[1.0,\"#f0f921\"]],\"type\":\"contour\"}],\"contourcarpet\":[{\"colorbar\":{\"outlinewidth\":0,\"ticks\":\"\"},\"type\":\"contourcarpet\"}],\"heatmap\":[{\"colorbar\":{\"outlinewidth\":0,\"ticks\":\"\"},\"colorscale\":[[0.0,\"#0d0887\"],[0.1111111111111111,\"#46039f\"],[0.2222222222222222,\"#7201a8\"],[0.3333333333333333,\"#9c179e\"],[0.4444444444444444,\"#bd3786\"],[0.5555555555555556,\"#d8576b\"],[0.6666666666666666,\"#ed7953\"],[0.7777777777777778,\"#fb9f3a\"],[0.8888888888888888,\"#fdca26\"],[1.0,\"#f0f921\"]],\"type\":\"heatmap\"}],\"heatmapgl\":[{\"colorbar\":{\"outlinewidth\":0,\"ticks\":\"\"},\"colorscale\":[[0.0,\"#0d0887\"],[0.1111111111111111,\"#46039f\"],[0.2222222222222222,\"#7201a8\"],[0.3333333333333333,\"#9c179e\"],[0.4444444444444444,\"#bd3786\"],[0.5555555555555556,\"#d8576b\"],[0.6666666666666666,\"#ed7953\"],[0.7777777777777778,\"#fb9f3a\"],[0.8888888888888888,\"#fdca26\"],[1.0,\"#f0f921\"]],\"type\":\"heatmapgl\"}],\"histogram\":[{\"marker\":{\"pattern\":{\"fillmode\":\"overlay\",\"size\":10,\"solidity\":0.2}},\"type\":\"histogram\"}],\"histogram2d\":[{\"colorbar\":{\"outlinewidth\":0,\"ticks\":\"\"},\"colorscale\":[[0.0,\"#0d0887\"],[0.1111111111111111,\"#46039f\"],[0.2222222222222222,\"#7201a8\"],[0.3333333333333333,\"#9c179e\"],[0.4444444444444444,\"#bd3786\"],[0.5555555555555556,\"#d8576b\"],[0.6666666666666666,\"#ed7953\"],[0.7777777777777778,\"#fb9f3a\"],[0.8888888888888888,\"#fdca26\"],[1.0,\"#f0f921\"]],\"type\":\"histogram2d\"}],\"histogram2dcontour\":[{\"colorbar\":{\"outlinewidth\":0,\"ticks\":\"\"},\"colorscale\":[[0.0,\"#0d0887\"],[0.1111111111111111,\"#46039f\"],[0.2222222222222222,\"#7201a8\"],[0.3333333333333333,\"#9c179e\"],[0.4444444444444444,\"#bd3786\"],[0.5555555555555556,\"#d8576b\"],[0.6666666666666666,\"#ed7953\"],[0.7777777777777778,\"#fb9f3a\"],[0.8888888888888888,\"#fdca26\"],[1.0,\"#f0f921\"]],\"type\":\"histogram2dcontour\"}],\"mesh3d\":[{\"colorbar\":{\"outlinewidth\":0,\"ticks\":\"\"},\"type\":\"mesh3d\"}],\"parcoords\":[{\"line\":{\"colorbar\":{\"outlinewidth\":0,\"ticks\":\"\"}},\"type\":\"parcoords\"}],\"pie\":[{\"automargin\":true,\"type\":\"pie\"}],\"scatter\":[{\"marker\":{\"colorbar\":{\"outlinewidth\":0,\"ticks\":\"\"}},\"type\":\"scatter\"}],\"scatter3d\":[{\"line\":{\"colorbar\":{\"outlinewidth\":0,\"ticks\":\"\"}},\"marker\":{\"colorbar\":{\"outlinewidth\":0,\"ticks\":\"\"}},\"type\":\"scatter3d\"}],\"scattercarpet\":[{\"marker\":{\"colorbar\":{\"outlinewidth\":0,\"ticks\":\"\"}},\"type\":\"scattercarpet\"}],\"scattergeo\":[{\"marker\":{\"colorbar\":{\"outlinewidth\":0,\"ticks\":\"\"}},\"type\":\"scattergeo\"}],\"scattergl\":[{\"marker\":{\"colorbar\":{\"outlinewidth\":0,\"ticks\":\"\"}},\"type\":\"scattergl\"}],\"scattermapbox\":[{\"marker\":{\"colorbar\":{\"outlinewidth\":0,\"ticks\":\"\"}},\"type\":\"scattermapbox\"}],\"scatterpolar\":[{\"marker\":{\"colorbar\":{\"outlinewidth\":0,\"ticks\":\"\"}},\"type\":\"scatterpolar\"}],\"scatterpolargl\":[{\"marker\":{\"colorbar\":{\"outlinewidth\":0,\"ticks\":\"\"}},\"type\":\"scatterpolargl\"}],\"scatterternary\":[{\"marker\":{\"colorbar\":{\"outlinewidth\":0,\"ticks\":\"\"}},\"type\":\"scatterternary\"}],\"surface\":[{\"colorbar\":{\"outlinewidth\":0,\"ticks\":\"\"},\"colorscale\":[[0.0,\"#0d0887\"],[0.1111111111111111,\"#46039f\"],[0.2222222222222222,\"#7201a8\"],[0.3333333333333333,\"#9c179e\"],[0.4444444444444444,\"#bd3786\"],[0.5555555555555556,\"#d8576b\"],[0.6666666666666666,\"#ed7953\"],[0.7777777777777778,\"#fb9f3a\"],[0.8888888888888888,\"#fdca26\"],[1.0,\"#f0f921\"]],\"type\":\"surface\"}],\"table\":[{\"cells\":{\"fill\":{\"color\":\"#EBF0F8\"},\"line\":{\"color\":\"white\"}},\"header\":{\"fill\":{\"color\":\"#C8D4E3\"},\"line\":{\"color\":\"white\"}},\"type\":\"table\"}]},\"layout\":{\"annotationdefaults\":{\"arrowcolor\":\"#2a3f5f\",\"arrowhead\":0,\"arrowwidth\":1},\"autotypenumbers\":\"strict\",\"coloraxis\":{\"colorbar\":{\"outlinewidth\":0,\"ticks\":\"\"}},\"colorscale\":{\"diverging\":[[0,\"#8e0152\"],[0.1,\"#c51b7d\"],[0.2,\"#de77ae\"],[0.3,\"#f1b6da\"],[0.4,\"#fde0ef\"],[0.5,\"#f7f7f7\"],[0.6,\"#e6f5d0\"],[0.7,\"#b8e186\"],[0.8,\"#7fbc41\"],[0.9,\"#4d9221\"],[1,\"#276419\"]],\"sequential\":[[0.0,\"#0d0887\"],[0.1111111111111111,\"#46039f\"],[0.2222222222222222,\"#7201a8\"],[0.3333333333333333,\"#9c179e\"],[0.4444444444444444,\"#bd3786\"],[0.5555555555555556,\"#d8576b\"],[0.6666666666666666,\"#ed7953\"],[0.7777777777777778,\"#fb9f3a\"],[0.8888888888888888,\"#fdca26\"],[1.0,\"#f0f921\"]],\"sequentialminus\":[[0.0,\"#0d0887\"],[0.1111111111111111,\"#46039f\"],[0.2222222222222222,\"#7201a8\"],[0.3333333333333333,\"#9c179e\"],[0.4444444444444444,\"#bd3786\"],[0.5555555555555556,\"#d8576b\"],[0.6666666666666666,\"#ed7953\"],[0.7777777777777778,\"#fb9f3a\"],[0.8888888888888888,\"#fdca26\"],[1.0,\"#f0f921\"]]},\"colorway\":[\"#636efa\",\"#EF553B\",\"#00cc96\",\"#ab63fa\",\"#FFA15A\",\"#19d3f3\",\"#FF6692\",\"#B6E880\",\"#FF97FF\",\"#FECB52\"],\"font\":{\"color\":\"#2a3f5f\"},\"geo\":{\"bgcolor\":\"white\",\"lakecolor\":\"white\",\"landcolor\":\"#E5ECF6\",\"showlakes\":true,\"showland\":true,\"subunitcolor\":\"white\"},\"hoverlabel\":{\"align\":\"left\"},\"hovermode\":\"closest\",\"mapbox\":{\"style\":\"light\"},\"paper_bgcolor\":\"white\",\"plot_bgcolor\":\"#E5ECF6\",\"polar\":{\"angularaxis\":{\"gridcolor\":\"white\",\"linecolor\":\"white\",\"ticks\":\"\"},\"bgcolor\":\"#E5ECF6\",\"radialaxis\":{\"gridcolor\":\"white\",\"linecolor\":\"white\",\"ticks\":\"\"}},\"scene\":{\"xaxis\":{\"backgroundcolor\":\"#E5ECF6\",\"gridcolor\":\"white\",\"gridwidth\":2,\"linecolor\":\"white\",\"showbackground\":true,\"ticks\":\"\",\"zerolinecolor\":\"white\"},\"yaxis\":{\"backgroundcolor\":\"#E5ECF6\",\"gridcolor\":\"white\",\"gridwidth\":2,\"linecolor\":\"white\",\"showbackground\":true,\"ticks\":\"\",\"zerolinecolor\":\"white\"},\"zaxis\":{\"backgroundcolor\":\"#E5ECF6\",\"gridcolor\":\"white\",\"gridwidth\":2,\"linecolor\":\"white\",\"showbackground\":true,\"ticks\":\"\",\"zerolinecolor\":\"white\"}},\"shapedefaults\":{\"line\":{\"color\":\"#2a3f5f\"}},\"ternary\":{\"aaxis\":{\"gridcolor\":\"white\",\"linecolor\":\"white\",\"ticks\":\"\"},\"baxis\":{\"gridcolor\":\"white\",\"linecolor\":\"white\",\"ticks\":\"\"},\"bgcolor\":\"#E5ECF6\",\"caxis\":{\"gridcolor\":\"white\",\"linecolor\":\"white\",\"ticks\":\"\"}},\"title\":{\"x\":0.05},\"xaxis\":{\"automargin\":true,\"gridcolor\":\"white\",\"linecolor\":\"white\",\"ticks\":\"\",\"title\":{\"standoff\":15},\"zerolinecolor\":\"white\",\"zerolinewidth\":2},\"yaxis\":{\"automargin\":true,\"gridcolor\":\"white\",\"linecolor\":\"white\",\"ticks\":\"\",\"title\":{\"standoff\":15},\"zerolinecolor\":\"white\",\"zerolinewidth\":2}}},\"title\":{\"text\":\"Customer income on basis of gender\"},\"xaxis\":{\"anchor\":\"y\",\"domain\":[0.0,1.0],\"title\":{\"text\":\"Income Range\"}},\"yaxis\":{\"anchor\":\"x\",\"domain\":[0.0,1.0],\"title\":{\"text\":\"Count\"}}},                        {\"responsive\": true}                    ).then(function(){\n",
       "                            \n",
       "var gd = document.getElementById('10250e53-8ee9-4f0d-b305-5f36ee75a5c3');\n",
       "var x = new MutationObserver(function (mutations, observer) {{\n",
       "        var display = window.getComputedStyle(gd).display;\n",
       "        if (!display || display === 'none') {{\n",
       "            console.log([gd, 'removed!']);\n",
       "            Plotly.purge(gd);\n",
       "            observer.disconnect();\n",
       "        }}\n",
       "}});\n",
       "\n",
       "// Listen for the removal of the full notebook cells\n",
       "var notebookContainer = gd.closest('#notebook-container');\n",
       "if (notebookContainer) {{\n",
       "    x.observe(notebookContainer, {childList: true});\n",
       "}}\n",
       "\n",
       "// Listen for the clearing of the current output cell\n",
       "var outputEl = gd.closest('.output');\n",
       "if (outputEl) {{\n",
       "    x.observe(outputEl, {childList: true});\n",
       "}}\n",
       "\n",
       "                        })                };                });            </script>        </div>"
      ]
     },
     "metadata": {},
     "output_type": "display_data"
    }
   ],
   "source": [
    "#get count on basis of age_range and sex;\n",
    "group = result.groupby(['income_range', 'sex'])\n",
    "  \n",
    "# size of group to count observations\n",
    "group = group.size()\n",
    "  \n",
    "# make a column name \n",
    "grp_income=group.reset_index(name='count')\n",
    "grp_income\n",
    "\n",
    "fig = px.bar(grp_income, x=\"income_range\", y=\"count\",\n",
    "             color='sex', barmode='group',title='Customer Income on basis of gender',\n",
    "             labels={'sex':'Gender','count':'Count ',\"income_range\":\"Income Range\"})\n",
    "fig.show()\n",
    "fig.write_html(\"barIncomeAGe.html\")"
   ]
  },
  {
   "cell_type": "code",
   "execution_count": 59,
   "id": "6233de04-af95-4216-8cf0-776db18a434c",
   "metadata": {},
   "outputs": [
    {
     "ename": "ValueError",
     "evalue": "Value of 'names' is not the name of a column in 'data_frame'. Expected one of ['income_range', 'sex', 'count'] but received: income",
     "output_type": "error",
     "traceback": [
      "\u001b[1;31m---------------------------------------------------------------------------\u001b[0m",
      "\u001b[1;31mValueError\u001b[0m                                Traceback (most recent call last)",
      "\u001b[1;32m<ipython-input-59-697dfe963dc9>\u001b[0m in \u001b[0;36m<module>\u001b[1;34m\u001b[0m\n\u001b[1;32m----> 1\u001b[1;33m \u001b[0mfig\u001b[0m \u001b[1;33m=\u001b[0m \u001b[0mpx\u001b[0m\u001b[1;33m.\u001b[0m\u001b[0mpie\u001b[0m\u001b[1;33m(\u001b[0m\u001b[0mgrp_income\u001b[0m\u001b[1;33m,\u001b[0m \u001b[0mvalues\u001b[0m\u001b[1;33m=\u001b[0m\u001b[1;34m'count'\u001b[0m\u001b[1;33m,\u001b[0m \u001b[0mnames\u001b[0m\u001b[1;33m=\u001b[0m\u001b[1;34m'income'\u001b[0m\u001b[1;33m,\u001b[0m \u001b[0mtitle\u001b[0m\u001b[1;33m=\u001b[0m\u001b[1;34m'Customer Income Count'\u001b[0m\u001b[1;33m)\u001b[0m\u001b[1;33m\u001b[0m\u001b[1;33m\u001b[0m\u001b[0m\n\u001b[0m\u001b[0;32m      2\u001b[0m \u001b[0mfig\u001b[0m\u001b[1;33m.\u001b[0m\u001b[0mshow\u001b[0m\u001b[1;33m(\u001b[0m\u001b[1;33m)\u001b[0m\u001b[1;33m\u001b[0m\u001b[1;33m\u001b[0m\u001b[0m\n",
      "\u001b[1;32m~\\anaconda3\\lib\\site-packages\\plotly\\express\\_chart_types.py\u001b[0m in \u001b[0;36mpie\u001b[1;34m(data_frame, names, values, color, color_discrete_sequence, color_discrete_map, hover_name, hover_data, custom_data, labels, title, template, width, height, opacity, hole)\u001b[0m\n\u001b[0;32m   1456\u001b[0m     \u001b[1;32melse\u001b[0m\u001b[1;33m:\u001b[0m\u001b[1;33m\u001b[0m\u001b[1;33m\u001b[0m\u001b[0m\n\u001b[0;32m   1457\u001b[0m         \u001b[0mlayout_patch\u001b[0m \u001b[1;33m=\u001b[0m \u001b[1;33m{\u001b[0m\u001b[1;33m}\u001b[0m\u001b[1;33m\u001b[0m\u001b[1;33m\u001b[0m\u001b[0m\n\u001b[1;32m-> 1458\u001b[1;33m     return make_figure(\n\u001b[0m\u001b[0;32m   1459\u001b[0m         \u001b[0margs\u001b[0m\u001b[1;33m=\u001b[0m\u001b[0mlocals\u001b[0m\u001b[1;33m(\u001b[0m\u001b[1;33m)\u001b[0m\u001b[1;33m,\u001b[0m\u001b[1;33m\u001b[0m\u001b[1;33m\u001b[0m\u001b[0m\n\u001b[0;32m   1460\u001b[0m         \u001b[0mconstructor\u001b[0m\u001b[1;33m=\u001b[0m\u001b[0mgo\u001b[0m\u001b[1;33m.\u001b[0m\u001b[0mPie\u001b[0m\u001b[1;33m,\u001b[0m\u001b[1;33m\u001b[0m\u001b[1;33m\u001b[0m\u001b[0m\n",
      "\u001b[1;32m~\\anaconda3\\lib\\site-packages\\plotly\\express\\_core.py\u001b[0m in \u001b[0;36mmake_figure\u001b[1;34m(args, constructor, trace_patch, layout_patch)\u001b[0m\n\u001b[0;32m   1931\u001b[0m     \u001b[0mapply_default_cascade\u001b[0m\u001b[1;33m(\u001b[0m\u001b[0margs\u001b[0m\u001b[1;33m)\u001b[0m\u001b[1;33m\u001b[0m\u001b[1;33m\u001b[0m\u001b[0m\n\u001b[0;32m   1932\u001b[0m \u001b[1;33m\u001b[0m\u001b[0m\n\u001b[1;32m-> 1933\u001b[1;33m     \u001b[0margs\u001b[0m \u001b[1;33m=\u001b[0m \u001b[0mbuild_dataframe\u001b[0m\u001b[1;33m(\u001b[0m\u001b[0margs\u001b[0m\u001b[1;33m,\u001b[0m \u001b[0mconstructor\u001b[0m\u001b[1;33m)\u001b[0m\u001b[1;33m\u001b[0m\u001b[1;33m\u001b[0m\u001b[0m\n\u001b[0m\u001b[0;32m   1934\u001b[0m     \u001b[1;32mif\u001b[0m \u001b[0mconstructor\u001b[0m \u001b[1;32min\u001b[0m \u001b[1;33m[\u001b[0m\u001b[0mgo\u001b[0m\u001b[1;33m.\u001b[0m\u001b[0mTreemap\u001b[0m\u001b[1;33m,\u001b[0m \u001b[0mgo\u001b[0m\u001b[1;33m.\u001b[0m\u001b[0mSunburst\u001b[0m\u001b[1;33m,\u001b[0m \u001b[0mgo\u001b[0m\u001b[1;33m.\u001b[0m\u001b[0mIcicle\u001b[0m\u001b[1;33m]\u001b[0m \u001b[1;32mand\u001b[0m \u001b[0margs\u001b[0m\u001b[1;33m[\u001b[0m\u001b[1;34m\"path\"\u001b[0m\u001b[1;33m]\u001b[0m \u001b[1;32mis\u001b[0m \u001b[1;32mnot\u001b[0m \u001b[1;32mNone\u001b[0m\u001b[1;33m:\u001b[0m\u001b[1;33m\u001b[0m\u001b[1;33m\u001b[0m\u001b[0m\n\u001b[0;32m   1935\u001b[0m         \u001b[0margs\u001b[0m \u001b[1;33m=\u001b[0m \u001b[0mprocess_dataframe_hierarchy\u001b[0m\u001b[1;33m(\u001b[0m\u001b[0margs\u001b[0m\u001b[1;33m)\u001b[0m\u001b[1;33m\u001b[0m\u001b[1;33m\u001b[0m\u001b[0m\n",
      "\u001b[1;32m~\\anaconda3\\lib\\site-packages\\plotly\\express\\_core.py\u001b[0m in \u001b[0;36mbuild_dataframe\u001b[1;34m(args, constructor)\u001b[0m\n\u001b[0;32m   1403\u001b[0m     \u001b[1;31m# now that things have been prepped, we do the systematic rewriting of `args`\u001b[0m\u001b[1;33m\u001b[0m\u001b[1;33m\u001b[0m\u001b[1;33m\u001b[0m\u001b[0m\n\u001b[0;32m   1404\u001b[0m \u001b[1;33m\u001b[0m\u001b[0m\n\u001b[1;32m-> 1405\u001b[1;33m     df_output, wide_id_vars = process_args_into_dataframe(\n\u001b[0m\u001b[0;32m   1406\u001b[0m         \u001b[0margs\u001b[0m\u001b[1;33m,\u001b[0m \u001b[0mwide_mode\u001b[0m\u001b[1;33m,\u001b[0m \u001b[0mvar_name\u001b[0m\u001b[1;33m,\u001b[0m \u001b[0mvalue_name\u001b[0m\u001b[1;33m\u001b[0m\u001b[1;33m\u001b[0m\u001b[0m\n\u001b[0;32m   1407\u001b[0m     )\n",
      "\u001b[1;32m~\\anaconda3\\lib\\site-packages\\plotly\\express\\_core.py\u001b[0m in \u001b[0;36mprocess_args_into_dataframe\u001b[1;34m(args, wide_mode, var_name, value_name)\u001b[0m\n\u001b[0;32m   1205\u001b[0m                         \u001b[1;32mif\u001b[0m \u001b[0margument\u001b[0m \u001b[1;33m==\u001b[0m \u001b[1;34m\"index\"\u001b[0m\u001b[1;33m:\u001b[0m\u001b[1;33m\u001b[0m\u001b[1;33m\u001b[0m\u001b[0m\n\u001b[0;32m   1206\u001b[0m                             \u001b[0merr_msg\u001b[0m \u001b[1;33m+=\u001b[0m \u001b[1;34m\"\\n To use the index, pass it in directly as `df.index`.\"\u001b[0m\u001b[1;33m\u001b[0m\u001b[1;33m\u001b[0m\u001b[0m\n\u001b[1;32m-> 1207\u001b[1;33m                         \u001b[1;32mraise\u001b[0m \u001b[0mValueError\u001b[0m\u001b[1;33m(\u001b[0m\u001b[0merr_msg\u001b[0m\u001b[1;33m)\u001b[0m\u001b[1;33m\u001b[0m\u001b[1;33m\u001b[0m\u001b[0m\n\u001b[0m\u001b[0;32m   1208\u001b[0m                 \u001b[1;32melif\u001b[0m \u001b[0mlength\u001b[0m \u001b[1;32mand\u001b[0m \u001b[0mlen\u001b[0m\u001b[1;33m(\u001b[0m\u001b[0mdf_input\u001b[0m\u001b[1;33m[\u001b[0m\u001b[0margument\u001b[0m\u001b[1;33m]\u001b[0m\u001b[1;33m)\u001b[0m \u001b[1;33m!=\u001b[0m \u001b[0mlength\u001b[0m\u001b[1;33m:\u001b[0m\u001b[1;33m\u001b[0m\u001b[1;33m\u001b[0m\u001b[0m\n\u001b[0;32m   1209\u001b[0m                     raise ValueError(\n",
      "\u001b[1;31mValueError\u001b[0m: Value of 'names' is not the name of a column in 'data_frame'. Expected one of ['income_range', 'sex', 'count'] but received: income"
     ]
    }
   ],
   "source": [
    "fig = px.pie(grp_income, values='count', names='income', title='Customer Income Count')\n",
    "fig.show()\n"
   ]
  },
  {
   "cell_type": "code",
   "execution_count": 60,
   "id": "75ba1b33-77de-489c-9aeb-0b7193c8479e",
   "metadata": {},
   "outputs": [
    {
     "data": {
      "application/vnd.plotly.v1+json": {
       "config": {
        "plotlyServerURL": "https://plot.ly"
       },
       "data": [
        {
         "domain": {
          "x": [
           0,
           1
          ],
          "y": [
           0,
           1
          ]
         },
         "hole": 0.5,
         "hovertemplate": "age_range=%{label}<br>Count=%{value}<extra></extra>",
         "labels": [
          "18-29",
          "18-29",
          "18-29",
          "30-39",
          "30-39",
          "30-39",
          "40-49",
          "40-49",
          "40-49",
          "50-59",
          "50-59",
          "50-59",
          "60-69",
          "60-69",
          "60-69",
          "70-79",
          "70-79",
          "70-79",
          "80-90",
          "80-90",
          "80-90",
          "90+",
          "90+",
          "90+"
         ],
         "legendgroup": "",
         "name": "",
         "showlegend": true,
         "type": "pie",
         "values": [
          478,
          1209,
          18,
          522,
          1049,
          26,
          898,
          1457,
          36,
          1574,
          1953,
          63,
          1327,
          1549,
          34,
          771,
          852,
          23,
          423,
          334,
          10,
          136,
          81,
          2
         ]
        }
       ],
       "layout": {
        "autosize": true,
        "legend": {
         "tracegroupgap": 0
        },
        "template": {
         "data": {
          "bar": [
           {
            "error_x": {
             "color": "#2a3f5f"
            },
            "error_y": {
             "color": "#2a3f5f"
            },
            "marker": {
             "line": {
              "color": "#E5ECF6",
              "width": 0.5
             },
             "pattern": {
              "fillmode": "overlay",
              "size": 10,
              "solidity": 0.2
             }
            },
            "type": "bar"
           }
          ],
          "barpolar": [
           {
            "marker": {
             "line": {
              "color": "#E5ECF6",
              "width": 0.5
             },
             "pattern": {
              "fillmode": "overlay",
              "size": 10,
              "solidity": 0.2
             }
            },
            "type": "barpolar"
           }
          ],
          "carpet": [
           {
            "aaxis": {
             "endlinecolor": "#2a3f5f",
             "gridcolor": "white",
             "linecolor": "white",
             "minorgridcolor": "white",
             "startlinecolor": "#2a3f5f"
            },
            "baxis": {
             "endlinecolor": "#2a3f5f",
             "gridcolor": "white",
             "linecolor": "white",
             "minorgridcolor": "white",
             "startlinecolor": "#2a3f5f"
            },
            "type": "carpet"
           }
          ],
          "choropleth": [
           {
            "colorbar": {
             "outlinewidth": 0,
             "ticks": ""
            },
            "type": "choropleth"
           }
          ],
          "contour": [
           {
            "colorbar": {
             "outlinewidth": 0,
             "ticks": ""
            },
            "colorscale": [
             [
              0,
              "#0d0887"
             ],
             [
              0.1111111111111111,
              "#46039f"
             ],
             [
              0.2222222222222222,
              "#7201a8"
             ],
             [
              0.3333333333333333,
              "#9c179e"
             ],
             [
              0.4444444444444444,
              "#bd3786"
             ],
             [
              0.5555555555555556,
              "#d8576b"
             ],
             [
              0.6666666666666666,
              "#ed7953"
             ],
             [
              0.7777777777777778,
              "#fb9f3a"
             ],
             [
              0.8888888888888888,
              "#fdca26"
             ],
             [
              1,
              "#f0f921"
             ]
            ],
            "type": "contour"
           }
          ],
          "contourcarpet": [
           {
            "colorbar": {
             "outlinewidth": 0,
             "ticks": ""
            },
            "type": "contourcarpet"
           }
          ],
          "heatmap": [
           {
            "colorbar": {
             "outlinewidth": 0,
             "ticks": ""
            },
            "colorscale": [
             [
              0,
              "#0d0887"
             ],
             [
              0.1111111111111111,
              "#46039f"
             ],
             [
              0.2222222222222222,
              "#7201a8"
             ],
             [
              0.3333333333333333,
              "#9c179e"
             ],
             [
              0.4444444444444444,
              "#bd3786"
             ],
             [
              0.5555555555555556,
              "#d8576b"
             ],
             [
              0.6666666666666666,
              "#ed7953"
             ],
             [
              0.7777777777777778,
              "#fb9f3a"
             ],
             [
              0.8888888888888888,
              "#fdca26"
             ],
             [
              1,
              "#f0f921"
             ]
            ],
            "type": "heatmap"
           }
          ],
          "heatmapgl": [
           {
            "colorbar": {
             "outlinewidth": 0,
             "ticks": ""
            },
            "colorscale": [
             [
              0,
              "#0d0887"
             ],
             [
              0.1111111111111111,
              "#46039f"
             ],
             [
              0.2222222222222222,
              "#7201a8"
             ],
             [
              0.3333333333333333,
              "#9c179e"
             ],
             [
              0.4444444444444444,
              "#bd3786"
             ],
             [
              0.5555555555555556,
              "#d8576b"
             ],
             [
              0.6666666666666666,
              "#ed7953"
             ],
             [
              0.7777777777777778,
              "#fb9f3a"
             ],
             [
              0.8888888888888888,
              "#fdca26"
             ],
             [
              1,
              "#f0f921"
             ]
            ],
            "type": "heatmapgl"
           }
          ],
          "histogram": [
           {
            "marker": {
             "pattern": {
              "fillmode": "overlay",
              "size": 10,
              "solidity": 0.2
             }
            },
            "type": "histogram"
           }
          ],
          "histogram2d": [
           {
            "colorbar": {
             "outlinewidth": 0,
             "ticks": ""
            },
            "colorscale": [
             [
              0,
              "#0d0887"
             ],
             [
              0.1111111111111111,
              "#46039f"
             ],
             [
              0.2222222222222222,
              "#7201a8"
             ],
             [
              0.3333333333333333,
              "#9c179e"
             ],
             [
              0.4444444444444444,
              "#bd3786"
             ],
             [
              0.5555555555555556,
              "#d8576b"
             ],
             [
              0.6666666666666666,
              "#ed7953"
             ],
             [
              0.7777777777777778,
              "#fb9f3a"
             ],
             [
              0.8888888888888888,
              "#fdca26"
             ],
             [
              1,
              "#f0f921"
             ]
            ],
            "type": "histogram2d"
           }
          ],
          "histogram2dcontour": [
           {
            "colorbar": {
             "outlinewidth": 0,
             "ticks": ""
            },
            "colorscale": [
             [
              0,
              "#0d0887"
             ],
             [
              0.1111111111111111,
              "#46039f"
             ],
             [
              0.2222222222222222,
              "#7201a8"
             ],
             [
              0.3333333333333333,
              "#9c179e"
             ],
             [
              0.4444444444444444,
              "#bd3786"
             ],
             [
              0.5555555555555556,
              "#d8576b"
             ],
             [
              0.6666666666666666,
              "#ed7953"
             ],
             [
              0.7777777777777778,
              "#fb9f3a"
             ],
             [
              0.8888888888888888,
              "#fdca26"
             ],
             [
              1,
              "#f0f921"
             ]
            ],
            "type": "histogram2dcontour"
           }
          ],
          "mesh3d": [
           {
            "colorbar": {
             "outlinewidth": 0,
             "ticks": ""
            },
            "type": "mesh3d"
           }
          ],
          "parcoords": [
           {
            "line": {
             "colorbar": {
              "outlinewidth": 0,
              "ticks": ""
             }
            },
            "type": "parcoords"
           }
          ],
          "pie": [
           {
            "automargin": true,
            "type": "pie"
           }
          ],
          "scatter": [
           {
            "marker": {
             "colorbar": {
              "outlinewidth": 0,
              "ticks": ""
             }
            },
            "type": "scatter"
           }
          ],
          "scatter3d": [
           {
            "line": {
             "colorbar": {
              "outlinewidth": 0,
              "ticks": ""
             }
            },
            "marker": {
             "colorbar": {
              "outlinewidth": 0,
              "ticks": ""
             }
            },
            "type": "scatter3d"
           }
          ],
          "scattercarpet": [
           {
            "marker": {
             "colorbar": {
              "outlinewidth": 0,
              "ticks": ""
             }
            },
            "type": "scattercarpet"
           }
          ],
          "scattergeo": [
           {
            "marker": {
             "colorbar": {
              "outlinewidth": 0,
              "ticks": ""
             }
            },
            "type": "scattergeo"
           }
          ],
          "scattergl": [
           {
            "marker": {
             "colorbar": {
              "outlinewidth": 0,
              "ticks": ""
             }
            },
            "type": "scattergl"
           }
          ],
          "scattermapbox": [
           {
            "marker": {
             "colorbar": {
              "outlinewidth": 0,
              "ticks": ""
             }
            },
            "type": "scattermapbox"
           }
          ],
          "scatterpolar": [
           {
            "marker": {
             "colorbar": {
              "outlinewidth": 0,
              "ticks": ""
             }
            },
            "type": "scatterpolar"
           }
          ],
          "scatterpolargl": [
           {
            "marker": {
             "colorbar": {
              "outlinewidth": 0,
              "ticks": ""
             }
            },
            "type": "scatterpolargl"
           }
          ],
          "scatterternary": [
           {
            "marker": {
             "colorbar": {
              "outlinewidth": 0,
              "ticks": ""
             }
            },
            "type": "scatterternary"
           }
          ],
          "surface": [
           {
            "colorbar": {
             "outlinewidth": 0,
             "ticks": ""
            },
            "colorscale": [
             [
              0,
              "#0d0887"
             ],
             [
              0.1111111111111111,
              "#46039f"
             ],
             [
              0.2222222222222222,
              "#7201a8"
             ],
             [
              0.3333333333333333,
              "#9c179e"
             ],
             [
              0.4444444444444444,
              "#bd3786"
             ],
             [
              0.5555555555555556,
              "#d8576b"
             ],
             [
              0.6666666666666666,
              "#ed7953"
             ],
             [
              0.7777777777777778,
              "#fb9f3a"
             ],
             [
              0.8888888888888888,
              "#fdca26"
             ],
             [
              1,
              "#f0f921"
             ]
            ],
            "type": "surface"
           }
          ],
          "table": [
           {
            "cells": {
             "fill": {
              "color": "#EBF0F8"
             },
             "line": {
              "color": "white"
             }
            },
            "header": {
             "fill": {
              "color": "#C8D4E3"
             },
             "line": {
              "color": "white"
             }
            },
            "type": "table"
           }
          ]
         },
         "layout": {
          "annotationdefaults": {
           "arrowcolor": "#2a3f5f",
           "arrowhead": 0,
           "arrowwidth": 1
          },
          "autotypenumbers": "strict",
          "coloraxis": {
           "colorbar": {
            "outlinewidth": 0,
            "ticks": ""
           }
          },
          "colorscale": {
           "diverging": [
            [
             0,
             "#8e0152"
            ],
            [
             0.1,
             "#c51b7d"
            ],
            [
             0.2,
             "#de77ae"
            ],
            [
             0.3,
             "#f1b6da"
            ],
            [
             0.4,
             "#fde0ef"
            ],
            [
             0.5,
             "#f7f7f7"
            ],
            [
             0.6,
             "#e6f5d0"
            ],
            [
             0.7,
             "#b8e186"
            ],
            [
             0.8,
             "#7fbc41"
            ],
            [
             0.9,
             "#4d9221"
            ],
            [
             1,
             "#276419"
            ]
           ],
           "sequential": [
            [
             0,
             "#0d0887"
            ],
            [
             0.1111111111111111,
             "#46039f"
            ],
            [
             0.2222222222222222,
             "#7201a8"
            ],
            [
             0.3333333333333333,
             "#9c179e"
            ],
            [
             0.4444444444444444,
             "#bd3786"
            ],
            [
             0.5555555555555556,
             "#d8576b"
            ],
            [
             0.6666666666666666,
             "#ed7953"
            ],
            [
             0.7777777777777778,
             "#fb9f3a"
            ],
            [
             0.8888888888888888,
             "#fdca26"
            ],
            [
             1,
             "#f0f921"
            ]
           ],
           "sequentialminus": [
            [
             0,
             "#0d0887"
            ],
            [
             0.1111111111111111,
             "#46039f"
            ],
            [
             0.2222222222222222,
             "#7201a8"
            ],
            [
             0.3333333333333333,
             "#9c179e"
            ],
            [
             0.4444444444444444,
             "#bd3786"
            ],
            [
             0.5555555555555556,
             "#d8576b"
            ],
            [
             0.6666666666666666,
             "#ed7953"
            ],
            [
             0.7777777777777778,
             "#fb9f3a"
            ],
            [
             0.8888888888888888,
             "#fdca26"
            ],
            [
             1,
             "#f0f921"
            ]
           ]
          },
          "colorway": [
           "#636efa",
           "#EF553B",
           "#00cc96",
           "#ab63fa",
           "#FFA15A",
           "#19d3f3",
           "#FF6692",
           "#B6E880",
           "#FF97FF",
           "#FECB52"
          ],
          "font": {
           "color": "#2a3f5f"
          },
          "geo": {
           "bgcolor": "white",
           "lakecolor": "white",
           "landcolor": "#E5ECF6",
           "showlakes": true,
           "showland": true,
           "subunitcolor": "white"
          },
          "hoverlabel": {
           "align": "left"
          },
          "hovermode": "closest",
          "mapbox": {
           "style": "light"
          },
          "paper_bgcolor": "white",
          "plot_bgcolor": "#E5ECF6",
          "polar": {
           "angularaxis": {
            "gridcolor": "white",
            "linecolor": "white",
            "ticks": ""
           },
           "bgcolor": "#E5ECF6",
           "radialaxis": {
            "gridcolor": "white",
            "linecolor": "white",
            "ticks": ""
           }
          },
          "scene": {
           "xaxis": {
            "backgroundcolor": "#E5ECF6",
            "gridcolor": "white",
            "gridwidth": 2,
            "linecolor": "white",
            "showbackground": true,
            "ticks": "",
            "zerolinecolor": "white"
           },
           "yaxis": {
            "backgroundcolor": "#E5ECF6",
            "gridcolor": "white",
            "gridwidth": 2,
            "linecolor": "white",
            "showbackground": true,
            "ticks": "",
            "zerolinecolor": "white"
           },
           "zaxis": {
            "backgroundcolor": "#E5ECF6",
            "gridcolor": "white",
            "gridwidth": 2,
            "linecolor": "white",
            "showbackground": true,
            "ticks": "",
            "zerolinecolor": "white"
           }
          },
          "shapedefaults": {
           "line": {
            "color": "#2a3f5f"
           }
          },
          "ternary": {
           "aaxis": {
            "gridcolor": "white",
            "linecolor": "white",
            "ticks": ""
           },
           "baxis": {
            "gridcolor": "white",
            "linecolor": "white",
            "ticks": ""
           },
           "bgcolor": "#E5ECF6",
           "caxis": {
            "gridcolor": "white",
            "linecolor": "white",
            "ticks": ""
           }
          },
          "title": {
           "x": 0.05
          },
          "xaxis": {
           "automargin": true,
           "gridcolor": "white",
           "linecolor": "white",
           "ticks": "",
           "title": {
            "standoff": 15
           },
           "zerolinecolor": "white",
           "zerolinewidth": 2
          },
          "yaxis": {
           "automargin": true,
           "gridcolor": "white",
           "linecolor": "white",
           "ticks": "",
           "title": {
            "standoff": 15
           },
           "zerolinecolor": "white",
           "zerolinewidth": 2
          }
         }
        },
        "title": {
         "text": "Customer Age Range Count"
        }
       }
      },
      "image/png": "[encoded data removed]",
      "text/html": [
       "<div>                            <div id=\"6647997b-75ea-40ea-9cc9-85f6e9de191a\" class=\"plotly-graph-div\" style=\"height:525px; width:100%;\"></div>            <script type=\"text/javascript\">                require([\"plotly\"], function(Plotly) {                    window.PLOTLYENV=window.PLOTLYENV || {};                                    if (document.getElementById(\"6647997b-75ea-40ea-9cc9-85f6e9de191a\")) {                    Plotly.newPlot(                        \"6647997b-75ea-40ea-9cc9-85f6e9de191a\",                        [{\"domain\":{\"x\":[0.0,1.0],\"y\":[0.0,1.0]},\"hole\":0.5,\"hovertemplate\":\"age_range=%{label}<br>Count=%{value}<extra></extra>\",\"labels\":[\"18-29\",\"18-29\",\"18-29\",\"30-39\",\"30-39\",\"30-39\",\"40-49\",\"40-49\",\"40-49\",\"50-59\",\"50-59\",\"50-59\",\"60-69\",\"60-69\",\"60-69\",\"70-79\",\"70-79\",\"70-79\",\"80-90\",\"80-90\",\"80-90\",\"90+\",\"90+\",\"90+\"],\"legendgroup\":\"\",\"name\":\"\",\"showlegend\":true,\"type\":\"pie\",\"values\":[478,1209,18,522,1049,26,898,1457,36,1574,1953,63,1327,1549,34,771,852,23,423,334,10,136,81,2]}],                        {\"legend\":{\"tracegroupgap\":0},\"template\":{\"data\":{\"bar\":[{\"error_x\":{\"color\":\"#2a3f5f\"},\"error_y\":{\"color\":\"#2a3f5f\"},\"marker\":{\"line\":{\"color\":\"#E5ECF6\",\"width\":0.5},\"pattern\":{\"fillmode\":\"overlay\",\"size\":10,\"solidity\":0.2}},\"type\":\"bar\"}],\"barpolar\":[{\"marker\":{\"line\":{\"color\":\"#E5ECF6\",\"width\":0.5},\"pattern\":{\"fillmode\":\"overlay\",\"size\":10,\"solidity\":0.2}},\"type\":\"barpolar\"}],\"carpet\":[{\"aaxis\":{\"endlinecolor\":\"#2a3f5f\",\"gridcolor\":\"white\",\"linecolor\":\"white\",\"minorgridcolor\":\"white\",\"startlinecolor\":\"#2a3f5f\"},\"baxis\":{\"endlinecolor\":\"#2a3f5f\",\"gridcolor\":\"white\",\"linecolor\":\"white\",\"minorgridcolor\":\"white\",\"startlinecolor\":\"#2a3f5f\"},\"type\":\"carpet\"}],\"choropleth\":[{\"colorbar\":{\"outlinewidth\":0,\"ticks\":\"\"},\"type\":\"choropleth\"}],\"contour\":[{\"colorbar\":{\"outlinewidth\":0,\"ticks\":\"\"},\"colorscale\":[[0.0,\"#0d0887\"],[0.1111111111111111,\"#46039f\"],[0.2222222222222222,\"#7201a8\"],[0.3333333333333333,\"#9c179e\"],[0.4444444444444444,\"#bd3786\"],[0.5555555555555556,\"#d8576b\"],[0.6666666666666666,\"#ed7953\"],[0.7777777777777778,\"#fb9f3a\"],[0.8888888888888888,\"#fdca26\"],[1.0,\"#f0f921\"]],\"type\":\"contour\"}],\"contourcarpet\":[{\"colorbar\":{\"outlinewidth\":0,\"ticks\":\"\"},\"type\":\"contourcarpet\"}],\"heatmap\":[{\"colorbar\":{\"outlinewidth\":0,\"ticks\":\"\"},\"colorscale\":[[0.0,\"#0d0887\"],[0.1111111111111111,\"#46039f\"],[0.2222222222222222,\"#7201a8\"],[0.3333333333333333,\"#9c179e\"],[0.4444444444444444,\"#bd3786\"],[0.5555555555555556,\"#d8576b\"],[0.6666666666666666,\"#ed7953\"],[0.7777777777777778,\"#fb9f3a\"],[0.8888888888888888,\"#fdca26\"],[1.0,\"#f0f921\"]],\"type\":\"heatmap\"}],\"heatmapgl\":[{\"colorbar\":{\"outlinewidth\":0,\"ticks\":\"\"},\"colorscale\":[[0.0,\"#0d0887\"],[0.1111111111111111,\"#46039f\"],[0.2222222222222222,\"#7201a8\"],[0.3333333333333333,\"#9c179e\"],[0.4444444444444444,\"#bd3786\"],[0.5555555555555556,\"#d8576b\"],[0.6666666666666666,\"#ed7953\"],[0.7777777777777778,\"#fb9f3a\"],[0.8888888888888888,\"#fdca26\"],[1.0,\"#f0f921\"]],\"type\":\"heatmapgl\"}],\"histogram\":[{\"marker\":{\"pattern\":{\"fillmode\":\"overlay\",\"size\":10,\"solidity\":0.2}},\"type\":\"histogram\"}],\"histogram2d\":[{\"colorbar\":{\"outlinewidth\":0,\"ticks\":\"\"},\"colorscale\":[[0.0,\"#0d0887\"],[0.1111111111111111,\"#46039f\"],[0.2222222222222222,\"#7201a8\"],[0.3333333333333333,\"#9c179e\"],[0.4444444444444444,\"#bd3786\"],[0.5555555555555556,\"#d8576b\"],[0.6666666666666666,\"#ed7953\"],[0.7777777777777778,\"#fb9f3a\"],[0.8888888888888888,\"#fdca26\"],[1.0,\"#f0f921\"]],\"type\":\"histogram2d\"}],\"histogram2dcontour\":[{\"colorbar\":{\"outlinewidth\":0,\"ticks\":\"\"},\"colorscale\":[[0.0,\"#0d0887\"],[0.1111111111111111,\"#46039f\"],[0.2222222222222222,\"#7201a8\"],[0.3333333333333333,\"#9c179e\"],[0.4444444444444444,\"#bd3786\"],[0.5555555555555556,\"#d8576b\"],[0.6666666666666666,\"#ed7953\"],[0.7777777777777778,\"#fb9f3a\"],[0.8888888888888888,\"#fdca26\"],[1.0,\"#f0f921\"]],\"type\":\"histogram2dcontour\"}],\"mesh3d\":[{\"colorbar\":{\"outlinewidth\":0,\"ticks\":\"\"},\"type\":\"mesh3d\"}],\"parcoords\":[{\"line\":{\"colorbar\":{\"outlinewidth\":0,\"ticks\":\"\"}},\"type\":\"parcoords\"}],\"pie\":[{\"automargin\":true,\"type\":\"pie\"}],\"scatter\":[{\"marker\":{\"colorbar\":{\"outlinewidth\":0,\"ticks\":\"\"}},\"type\":\"scatter\"}],\"scatter3d\":[{\"line\":{\"colorbar\":{\"outlinewidth\":0,\"ticks\":\"\"}},\"marker\":{\"colorbar\":{\"outlinewidth\":0,\"ticks\":\"\"}},\"type\":\"scatter3d\"}],\"scattercarpet\":[{\"marker\":{\"colorbar\":{\"outlinewidth\":0,\"ticks\":\"\"}},\"type\":\"scattercarpet\"}],\"scattergeo\":[{\"marker\":{\"colorbar\":{\"outlinewidth\":0,\"ticks\":\"\"}},\"type\":\"scattergeo\"}],\"scattergl\":[{\"marker\":{\"colorbar\":{\"outlinewidth\":0,\"ticks\":\"\"}},\"type\":\"scattergl\"}],\"scattermapbox\":[{\"marker\":{\"colorbar\":{\"outlinewidth\":0,\"ticks\":\"\"}},\"type\":\"scattermapbox\"}],\"scatterpolar\":[{\"marker\":{\"colorbar\":{\"outlinewidth\":0,\"ticks\":\"\"}},\"type\":\"scatterpolar\"}],\"scatterpolargl\":[{\"marker\":{\"colorbar\":{\"outlinewidth\":0,\"ticks\":\"\"}},\"type\":\"scatterpolargl\"}],\"scatterternary\":[{\"marker\":{\"colorbar\":{\"outlinewidth\":0,\"ticks\":\"\"}},\"type\":\"scatterternary\"}],\"surface\":[{\"colorbar\":{\"outlinewidth\":0,\"ticks\":\"\"},\"colorscale\":[[0.0,\"#0d0887\"],[0.1111111111111111,\"#46039f\"],[0.2222222222222222,\"#7201a8\"],[0.3333333333333333,\"#9c179e\"],[0.4444444444444444,\"#bd3786\"],[0.5555555555555556,\"#d8576b\"],[0.6666666666666666,\"#ed7953\"],[0.7777777777777778,\"#fb9f3a\"],[0.8888888888888888,\"#fdca26\"],[1.0,\"#f0f921\"]],\"type\":\"surface\"}],\"table\":[{\"cells\":{\"fill\":{\"color\":\"#EBF0F8\"},\"line\":{\"color\":\"white\"}},\"header\":{\"fill\":{\"color\":\"#C8D4E3\"},\"line\":{\"color\":\"white\"}},\"type\":\"table\"}]},\"layout\":{\"annotationdefaults\":{\"arrowcolor\":\"#2a3f5f\",\"arrowhead\":0,\"arrowwidth\":1},\"autotypenumbers\":\"strict\",\"coloraxis\":{\"colorbar\":{\"outlinewidth\":0,\"ticks\":\"\"}},\"colorscale\":{\"diverging\":[[0,\"#8e0152\"],[0.1,\"#c51b7d\"],[0.2,\"#de77ae\"],[0.3,\"#f1b6da\"],[0.4,\"#fde0ef\"],[0.5,\"#f7f7f7\"],[0.6,\"#e6f5d0\"],[0.7,\"#b8e186\"],[0.8,\"#7fbc41\"],[0.9,\"#4d9221\"],[1,\"#276419\"]],\"sequential\":[[0.0,\"#0d0887\"],[0.1111111111111111,\"#46039f\"],[0.2222222222222222,\"#7201a8\"],[0.3333333333333333,\"#9c179e\"],[0.4444444444444444,\"#bd3786\"],[0.5555555555555556,\"#d8576b\"],[0.6666666666666666,\"#ed7953\"],[0.7777777777777778,\"#fb9f3a\"],[0.8888888888888888,\"#fdca26\"],[1.0,\"#f0f921\"]],\"sequentialminus\":[[0.0,\"#0d0887\"],[0.1111111111111111,\"#46039f\"],[0.2222222222222222,\"#7201a8\"],[0.3333333333333333,\"#9c179e\"],[0.4444444444444444,\"#bd3786\"],[0.5555555555555556,\"#d8576b\"],[0.6666666666666666,\"#ed7953\"],[0.7777777777777778,\"#fb9f3a\"],[0.8888888888888888,\"#fdca26\"],[1.0,\"#f0f921\"]]},\"colorway\":[\"#636efa\",\"#EF553B\",\"#00cc96\",\"#ab63fa\",\"#FFA15A\",\"#19d3f3\",\"#FF6692\",\"#B6E880\",\"#FF97FF\",\"#FECB52\"],\"font\":{\"color\":\"#2a3f5f\"},\"geo\":{\"bgcolor\":\"white\",\"lakecolor\":\"white\",\"landcolor\":\"#E5ECF6\",\"showlakes\":true,\"showland\":true,\"subunitcolor\":\"white\"},\"hoverlabel\":{\"align\":\"left\"},\"hovermode\":\"closest\",\"mapbox\":{\"style\":\"light\"},\"paper_bgcolor\":\"white\",\"plot_bgcolor\":\"#E5ECF6\",\"polar\":{\"angularaxis\":{\"gridcolor\":\"white\",\"linecolor\":\"white\",\"ticks\":\"\"},\"bgcolor\":\"#E5ECF6\",\"radialaxis\":{\"gridcolor\":\"white\",\"linecolor\":\"white\",\"ticks\":\"\"}},\"scene\":{\"xaxis\":{\"backgroundcolor\":\"#E5ECF6\",\"gridcolor\":\"white\",\"gridwidth\":2,\"linecolor\":\"white\",\"showbackground\":true,\"ticks\":\"\",\"zerolinecolor\":\"white\"},\"yaxis\":{\"backgroundcolor\":\"#E5ECF6\",\"gridcolor\":\"white\",\"gridwidth\":2,\"linecolor\":\"white\",\"showbackground\":true,\"ticks\":\"\",\"zerolinecolor\":\"white\"},\"zaxis\":{\"backgroundcolor\":\"#E5ECF6\",\"gridcolor\":\"white\",\"gridwidth\":2,\"linecolor\":\"white\",\"showbackground\":true,\"ticks\":\"\",\"zerolinecolor\":\"white\"}},\"shapedefaults\":{\"line\":{\"color\":\"#2a3f5f\"}},\"ternary\":{\"aaxis\":{\"gridcolor\":\"white\",\"linecolor\":\"white\",\"ticks\":\"\"},\"baxis\":{\"gridcolor\":\"white\",\"linecolor\":\"white\",\"ticks\":\"\"},\"bgcolor\":\"#E5ECF6\",\"caxis\":{\"gridcolor\":\"white\",\"linecolor\":\"white\",\"ticks\":\"\"}},\"title\":{\"x\":0.05},\"xaxis\":{\"automargin\":true,\"gridcolor\":\"white\",\"linecolor\":\"white\",\"ticks\":\"\",\"title\":{\"standoff\":15},\"zerolinecolor\":\"white\",\"zerolinewidth\":2},\"yaxis\":{\"automargin\":true,\"gridcolor\":\"white\",\"linecolor\":\"white\",\"ticks\":\"\",\"title\":{\"standoff\":15},\"zerolinecolor\":\"white\",\"zerolinewidth\":2}}},\"title\":{\"text\":\"Customer Age Range Count\"}},                        {\"responsive\": true}                    ).then(function(){\n",
       "                            \n",
       "var gd = document.getElementById('6647997b-75ea-40ea-9cc9-85f6e9de191a');\n",
       "var x = new MutationObserver(function (mutations, observer) {{\n",
       "        var display = window.getComputedStyle(gd).display;\n",
       "        if (!display || display === 'none') {{\n",
       "            console.log([gd, 'removed!']);\n",
       "            Plotly.purge(gd);\n",
       "            observer.disconnect();\n",
       "        }}\n",
       "}});\n",
       "\n",
       "// Listen for the removal of the full notebook cells\n",
       "var notebookContainer = gd.closest('#notebook-container');\n",
       "if (notebookContainer) {{\n",
       "    x.observe(notebookContainer, {childList: true});\n",
       "}}\n",
       "\n",
       "// Listen for the clearing of the current output cell\n",
       "var outputEl = gd.closest('.output');\n",
       "if (outputEl) {{\n",
       "    x.observe(outputEl, {childList: true});\n",
       "}}\n",
       "\n",
       "                        })                };                });            </script>        </div>"
      ]
     },
     "metadata": {},
     "output_type": "display_data"
    }
   ],
   "source": [
    "fig = px.pie(grp, values='count', names='age_range', title='Customer Age Range Count',hole=0.5, labels={'count':'Count',\"income_range\":\"Income Range\"})\n",
    "fig.show()\n",
    "fig.write_html(\"pieage.html\")\n"
   ]
  },
  {
   "cell_type": "code",
   "execution_count": null,
   "id": "2495ea71-1c25-497f-81df-88c62ab7bcf2",
   "metadata": {},
   "outputs": [],
   "source": [
    "2. Who usually spend more at Starbucks, female or male?\n",
    "3. For the customers who spend more; Who makes more income per year?\n",
    "4. How old are most of Starbucks customers with respect to gender?\n",
    "\n",
    "2. Who usually spend more at Starbucks, female or male?\n",
    "3. For the customers who spend more; Who makes more income per year?\n",
    "4. How old are most of Starbucks customers with respect to gender?"
   ]
  },
  {
   "cell_type": "code",
   "execution_count": null,
   "id": "925cd7c7-5dd1-4c2d-905b-51edca068663",
   "metadata": {},
   "outputs": [],
   "source": [
    "We can see that, on average, male customers earn less than female customers do in a year.\n",
    "In fact, female customers earn more than the average income per year for all gender types.\n",
    "While female customers make, on average, around 71k a year, male customers make, on average, around 61k."
   ]
  },
  {
   "cell_type": "code",
   "execution_count": null,
   "id": "74e2f785-ec30-42cf-a204-592410aa2582",
   "metadata": {},
   "outputs": [],
   "source": [
    "avg_i=result.groupby(['sex'], as_index=False)['income'].mean()\n",
    "fig = px.pie(avg_i, values='income' ,color='sex',title='Average Income of customer per gender',\n",
    "             labels={\"sex\":\"Gender\", \"income\":\"Average Income\"},hole=0.5)\n",
    "fig.show()\n",
    "fig.write_html(\"avgagesex.html\")"
   ]
  },
  {
   "cell_type": "code",
   "execution_count": null,
   "id": "cbe10068-33e9-4f4d-8b15-f44adbee0e5e",
   "metadata": {},
   "outputs": [],
   "source": [
    "fig = px.pie(grp_income, values='count', names='', title='Customer Income Count')\n",
    "fig.show()\n"
   ]
  },
  {
   "cell_type": "code",
   "execution_count": null,
   "id": "484fe3ac-56e3-442c-994f-74795907c467",
   "metadata": {},
   "outputs": [],
   "source": [
    "avg_t=result.groupby(['sex'], as_index=False)['age'].mean()\n",
    "fig = px.pie(avg_t, values='age' ,color='sex',title='Average Age of customer per gender',\n",
    "             labels={\"sex\":\"Gender\", \"age\":\"Average Age\"},hole=0.5)\n",
    "fig.show()\n",
    "fig.write_html(\"avgagesex.html\")"
   ]
  },
  {
   "cell_type": "code",
   "execution_count": null,
   "id": "d97e3fe5-79bc-497d-95fb-585ee7dae3eb",
   "metadata": {},
   "outputs": [],
   "source": []
  }
 ],
 "metadata": {
  "kernelspec": {
   "display_name": "Python 3",
   "language": "python",
   "name": "python3"
  },
  "language_info": {
   "codemirror_mode": {
    "name": "ipython",
    "version": 3
   },
   "file_extension": ".py",
   "mimetype": "text/x-python",
   "name": "python",
   "nbconvert_exporter": "python",
   "pygments_lexer": "ipython3",
   "version": "3.8.8"
  }
 },
 "nbformat": 4,
 "nbformat_minor": 5
}
